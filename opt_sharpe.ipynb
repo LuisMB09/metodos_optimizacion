{
 "cells": [
  {
   "cell_type": "markdown",
   "metadata": {},
   "source": [
    "# Optimización del portafolio tipo sharpe con multiplicadores de Lagrange"
   ]
  },
  {
   "cell_type": "markdown",
   "metadata": {},
   "source": [
    "## Definición del problema\n",
    "\n",
    "Se busca optimizar el sharpe ratio de un portafolio mediante el uso de multiplicadores de lagrange. Para ello definimos lo siguiente:\n",
    "\n",
    "- $w = [w_1,w_2,...,w_n]$ : vector de pesos de los activos del portafolio\n",
    "- $\\mu = [\\mu_1,\\mu_2,...,\\mu_3]$ : vector del valor esperado de cada uno de los activos\n",
    "- $\\Sigma$: la matriz de covarianza de los rendimientos de los activos\n",
    "- $rf$: la tasa libre de riesgo\n",
    "\n",
    "El sharpe ratio se define de la siguiente manera:\n",
    "$$ S = \\frac{R_p-r_f}{\\sigma_p} $$\n",
    "\n",
    "esto adaptado a nuestro problema se define como:\n",
    "$$ S = \\frac{w^T\\mu - rf}{\\sqrt{w^T\\Sigma w}} $$\n",
    "\n",
    "donde:\n",
    "- $w^T\\mu$ es la rentabilidad del portafolio\n",
    "- $w^T \\Sigma w$ es la varianza del portafolio\n"
   ]
  },
  {
   "cell_type": "markdown",
   "metadata": {},
   "source": [
    "## Formulación del problema\n",
    "\n",
    "Lo que buscamos es\n",
    "$$ max\\; S = \\frac{w^T\\mu - rf}{\\sqrt{w^T\\Sigma w}} $$\n",
    "\n",
    "Este problema es complicado de maximizar directamente porque es una fracción con una raíz cuadrada en el denominador. Sin embargo, con una reformulación, podemos plantear el problema como una maximización del rendimiento ajustado por riesgo bajo la restricción de varianza constante.\n",
    "\n",
    "Por lo tanto planteamos el problema de la siguiente manera:\n",
    "$$ \\max\\; w^T\\mu - r_f $$\n",
    "$$ s.t.\\; w^T \\Sigma w = \\sigma^2 $$\n",
    "\n",
    "Ahora planteamos el problema utilizando multiplicadores de Lagrange:\n",
    "\n",
    "$$\\mathcal{L}(w,\\lambda) = w^T\\mu - r_f + \\lambda(\\sigma^2 - w^T \\Sigma w)$$\n",
    "\n",
    "Obtenemos las derivadas parciales e igualamos a 0 para la optimización:\n",
    "\n",
    "$\\frac{\\partial \\mathcal{L}}{\\partial w} = 0 \\Rightarrow \\mu - 2\\lambda \\Sigma w = 0$\n",
    "\n",
    "$\\frac{\\partial \\mathcal{L}}{\\partial \\lambda} = 0 \\Rightarrow \\sigma^2 - w^T \\Sigma w = 0$\n",
    "\n",
    "Despejando obtenemos lo siguiente:\n",
    "\n",
    "- 1: $w = \\frac{\\Sigma^{-1} \\mu}{2 \\lambda}$\n",
    "- 2: $\\sigma^2 = w^T \\Sigma w$\n",
    "\n",
    "Ahora debemos darle solución al sistema de ecuaciones obtenido, para conocer el valor del vectr $w$.\n",
    "\n",
    "Sustituyendo $w$ en la segunda ecuación tenemos:\n",
    "\n",
    "$\\sigma^2 = (\\frac{1}{2\\lambda} \\Sigma^{-1} \\mu)^T \\Sigma (\\frac{1}{2\\lambda} \\Sigma^{-1} \\mu)$\n",
    "\n",
    "$\\sigma^2 = \\frac{1}{2\\lambda} \\mu^T \\Sigma^{-1^T}\\Sigma \\frac{1}{2\\lambda} \\Sigma^{-1} \\mu$\n",
    "\n",
    "$\\sigma^2 = \\frac{1}{4\\lambda^2} \\mu^T \\Sigma^{-1^T}\\Sigma \\Sigma^{-1} \\mu$\n",
    "\n",
    "\n",
    "Como $ \\Sigma^{-1^T}\\Sigma = I $ tenemos que:\n",
    "\n",
    "$\\sigma^2 = \\frac{1}{4\\lambda^2} \\mu^T \\Sigma^{-1} \\mu$\n",
    "\n",
    "$\\lambda^2 = \\frac{1}{4\\sigma^2} \\mu^T \\Sigma^{-1} \\mu$\n",
    "\n",
    "$\\lambda = \\frac{\\sqrt{\\mu^T\\Sigma^{-1}\\mu}}{2\\sigma}$\n",
    "\n",
    "Ya habiendo despejado $\\lambda$, lo podemos sustituir en la primer ecuacion:\n",
    "\n",
    "$w = \\frac{\\Sigma^{-1} \\mu}{2(\\frac{\\sqrt{\\mu^T \\Sigma^{-1} \\mu}}{2\\sigma})}$\n",
    "\n",
    "$w = \\frac{\\Sigma^{-1} \\mu}{\\frac{\\sqrt{\\mu^T \\Sigma^{-1} \\mu}}{\\sigma}}$\n",
    "\n",
    "$w = \\frac{\\sigma \\Sigma^{-1} \\mu}{\\sqrt{\\mu^T \\Sigma^{-1} \\mu}}$"
   ]
  },
  {
   "cell_type": "markdown",
   "metadata": {},
   "source": [
    "## Consideración de la tasa libre de riesgo\n",
    "\n",
    "La fórmula obtenida para $w$, debido al método de multiplicadores de Lagrange no incluye a $r_f$, pues al ser una constante, está se hace 0 en el proceso de derivación, por lo tanto para calcular $w$ considerando la tasa libre de riesgo la fórmula queda de la siguiente manera:\n",
    "$$ w = \\frac{\\sigma \\Sigma^{-1} (\\mu-r_f)}{\\sqrt{(\\mu-r_f)^T \\Sigma^{-1} (\\mu-r_f)}}  $$"
   ]
  },
  {
   "cell_type": "markdown",
   "metadata": {},
   "source": [
    "## Normalización del vector $w$\n",
    "\n",
    "Para que la fórmula funcione correctamente necesitamos normalizar el vector $w$ y con ello obtener $w^*$\n",
    "\n",
    "Entonces:\n",
    "\n",
    "$$w^* = \\frac{w}{\\sum_{i=1}^{n} w_i}$$\n",
    "\n",
    "donde:\n",
    "- $w_i$: valor en la i-ésima posición del vector $w$\n",
    "- $n$: número total de elementos en $w$"
   ]
  },
  {
   "cell_type": "markdown",
   "metadata": {},
   "source": [
    "## Fórmula original\n",
    "\n",
    "La fórmula convencionalmente utilizada para maximizar el ratio de sharpe es:\n",
    "$$\n",
    "w = \\frac{\\Sigma^{-1} (\\mu - r_f)}{1^T \\Sigma^{-1} (\\mu - r_f)}\n",
    "$$\n",
    "\n",
    "Como podemos notar es distinta a la fórmula obtenida anteriromente utilizando multiplicadores de lagrange, por lo que hay que demostrar que son equivalentes."
   ]
  },
  {
   "cell_type": "markdown",
   "metadata": {},
   "source": [
    "## Demostración\n",
    "\n",
    "- ```Formula 1:```\n",
    "$$\n",
    "w = \\frac{\\sigma \\Sigma^{-1} (\\mu-r_f)}{\\sqrt{(\\mu-r_f)^T \\Sigma^{-1} (\\mu-r_f)}}  \n",
    "$$\n",
    "\n",
    "- ```Fórmula 2:```\n",
    "$$\n",
    "w = \\frac{\\Sigma^{-1} (\\mu - r_f)}{1^T \\Sigma^{-1} (\\mu - r_f)}\n",
    "$$\n",
    "\n",
    "La ```fórmula 1``` se puede reescribir como:\n",
    "$$\n",
    "w = \\frac{\\sigma}{\\sqrt{(\\mu-r_f)^T \\Sigma^{-1} (\\mu-r_f)}} (\\Sigma^{-1} (\\mu-r_f))  \n",
    "$$\n",
    "\n",
    "La ```fórmula 2``` se puede reescribir como:\n",
    "$$\n",
    "w = \\frac{1}{1^T \\Sigma^{-1} (\\mu - r_f)} (\\Sigma^{-1} (\\mu - r_f))\n",
    "$$\n",
    "\n",
    "Como podemos notar ambas expresiones tienen en el numerador el vector $\\Sigma^{-1} (\\mu - r_f)$, por lo que se tiene que analizar la otra parte de la expresión. Para la ```fórmula 1```tenemos que $\\frac{\\sigma}{\\sqrt{(\\mu-r_f)^T \\Sigma^{-1} (\\mu-r_f)}}$ es un valor escalar y para la ```fórmula 2```tenemos que $\\frac{1}{1^T \\Sigma^{-1} (\\mu - r_f)}$ también es un valor escalar, entonces en ambas fórmulas la dirección del vector no se ve afectada, sino su magnitud.\n",
    "\n",
    "Como para ambas fórmulas se tiene el mismo vector $\\Sigma^{-1} (\\mu - r_f)$ multiplicado por un escalar distinto, significa que son iguales pero con una magnitud diferente, y el vector $w$ de la primer fórmula al ser normalizado, dividiéndolo entre $\\sum_{i=1}^{n} w_i$, termina siendo igual al vector $w$ obtenido con la fórmula convencional."
   ]
  },
  {
   "cell_type": "markdown",
   "metadata": {},
   "source": [
    "## Conclusiones\n",
    "\n",
    "Ya con esto podemos calcular retorno, el riesgo, y el sharpe del portafolio óptimo con las siguientes fórmulas:\n",
    "\n",
    "- $R_p = w^{*^T}\\mu$\n",
    "- $\\sigma = \\sqrt{ w^{*T} \\Sigma w^* }$\n",
    "- $S = \\frac{R_p}{\\sigma}$\n",
    "\n",
    "Como en el cálculo de $w$ a $\\mu$ ya se le resto $r_f$, para obtener el sharpe ratio no es necesario restar $r_f$ al retorno del portafolio.\n",
    "\n",
    "Los valores obtenidos para $w$ pueden ser mayores a 1 o menores a 0. Si un valor es mayor que 1, indica que se ha utilizado apalancamiento en esa posición; mientras que si es menor que 0, significa que se ha tomado una posición corta en dicho activo.\n",
    "\n",
    "Además si se desea modificar el retorno y riesgo esperado del portafolio, este se puede ajustar al multiplicar el vector $w^*$ por un valor de $\\alpha$. A continuación se muestra el código para realizar los cálculos necesarios para obtener el portafolio con el valor del sharpe ratio más alto.\n"
   ]
  },
  {
   "cell_type": "markdown",
   "metadata": {},
   "source": [
    "## Fórmula que optimiza el sharpe ratio\n",
    "$$\n",
    "w = \\frac{\\Sigma^{-1} (\\mu - r_f)}{1^T \\Sigma^{-1} (\\mu - r_f)}\n",
    "$$\n"
   ]
  },
  {
   "cell_type": "markdown",
   "metadata": {},
   "source": [
    "## Código"
   ]
  },
  {
   "cell_type": "markdown",
   "metadata": {},
   "source": [
    "### Librerías a utilizar"
   ]
  },
  {
   "cell_type": "code",
   "execution_count": 1,
   "metadata": {},
   "outputs": [],
   "source": [
    "import numpy as np\n",
    "import pandas as pd\n",
    "import yfinance as yf\n",
    "import matplotlib.pyplot as plt\n",
    "from scipy.optimize import minimize\n",
    "from IPython.display import display, Markdown\n",
    "from ipywidgets import interact, FloatSlider"
   ]
  },
  {
   "cell_type": "markdown",
   "metadata": {},
   "source": [
    "### Descarga de datos"
   ]
  },
  {
   "cell_type": "code",
   "execution_count": 2,
   "metadata": {},
   "outputs": [
    {
     "name": "stderr",
     "output_type": "stream",
     "text": [
      "[*********************100%***********************]  10 of 10 completed\n"
     ]
    }
   ],
   "source": [
    "tickers=['CRM','GLD','GOOGL','JPM','MCD','META','F','V','COST','XOM']\n",
    "\n",
    "f_inicial='2020-01-01'\n",
    "f_final='2024-11-10'\n",
    "\n",
    "datos1=yf.download(tickers,f_inicial,f_final)['Adj Close']\n",
    "\n",
    "rt = datos1.pct_change().dropna()\n"
   ]
  },
  {
   "cell_type": "markdown",
   "metadata": {},
   "source": [
    "### Obtención de matrices y vectores importantes"
   ]
  },
  {
   "cell_type": "code",
   "execution_count": 3,
   "metadata": {},
   "outputs": [],
   "source": [
    "mu = (rt.mean() * 252).values  # Rendimientos esperados\n",
    "rf = 0.05  # Tasa libre de riesgo\n",
    "sigma = rt.cov().values  # Matriz de covarianzas\n",
    "sigma_inv = np.linalg.inv(sigma)  # Matriz de varianza-covarianza inversa\n",
    "mu_rf = mu - rf # Rendimientos esperados en exceso\n",
    "unos = np.ones(len(mu)) # Vector de unos\n"
   ]
  },
  {
   "cell_type": "markdown",
   "metadata": {},
   "source": [
    "### Ejecución de la fórmula obtenida"
   ]
  },
  {
   "cell_type": "code",
   "execution_count": 4,
   "metadata": {},
   "outputs": [
    {
     "name": "stdout",
     "output_type": "stream",
     "text": [
      "Return: 0.215492\n",
      "Risk: 0.183942\n",
      "Sharpe ratio: 1.171518\n"
     ]
    },
    {
     "data": {
      "text/markdown": [
       "Valores del vector $w$:"
      ],
      "text/plain": [
       "<IPython.core.display.Markdown object>"
      ]
     },
     "metadata": {},
     "output_type": "display_data"
    },
    {
     "data": {
      "text/html": [
       "<div>\n",
       "<style scoped>\n",
       "    .dataframe tbody tr th:only-of-type {\n",
       "        vertical-align: middle;\n",
       "    }\n",
       "\n",
       "    .dataframe tbody tr th {\n",
       "        vertical-align: top;\n",
       "    }\n",
       "\n",
       "    .dataframe thead th {\n",
       "        text-align: right;\n",
       "    }\n",
       "</style>\n",
       "<table border=\"1\" class=\"dataframe\">\n",
       "  <thead>\n",
       "    <tr style=\"text-align: right;\">\n",
       "      <th></th>\n",
       "      <th>CRM</th>\n",
       "      <th>GLD</th>\n",
       "      <th>GOOGL</th>\n",
       "      <th>JPM</th>\n",
       "      <th>MCD</th>\n",
       "      <th>META</th>\n",
       "      <th>F</th>\n",
       "      <th>V</th>\n",
       "      <th>COST</th>\n",
       "      <th>XOM</th>\n",
       "    </tr>\n",
       "  </thead>\n",
       "  <tbody>\n",
       "    <tr>\n",
       "      <th>w</th>\n",
       "      <td>0.617614</td>\n",
       "      <td>-0.054362</td>\n",
       "      <td>-0.056995</td>\n",
       "      <td>0.343673</td>\n",
       "      <td>0.070098</td>\n",
       "      <td>0.100141</td>\n",
       "      <td>-0.072621</td>\n",
       "      <td>0.098653</td>\n",
       "      <td>-0.23824</td>\n",
       "      <td>0.19204</td>\n",
       "    </tr>\n",
       "  </tbody>\n",
       "</table>\n",
       "</div>"
      ],
      "text/plain": [
       "        CRM       GLD     GOOGL       JPM       MCD      META         F  \\\n",
       "w  0.617614 -0.054362 -0.056995  0.343673  0.070098  0.100141 -0.072621   \n",
       "\n",
       "          V     COST      XOM  \n",
       "w  0.098653 -0.23824  0.19204  "
      ]
     },
     "metadata": {},
     "output_type": "display_data"
    }
   ],
   "source": [
    "\n",
    "w = np.dot(sigma_inv,mu_rf)/ np.dot(unos.T,np.dot(sigma_inv,mu_rf))\n",
    "ret = np.dot(w, mu_rf)\n",
    "risk = np.sqrt(np.dot(w.T, np.dot(sigma, w))) * np.sqrt(252)\n",
    "\n",
    "sharpe = ret / risk\n",
    "\n",
    "w_chat = pd.DataFrame(w, index=tickers, columns=['w'])\n",
    "\n",
    "print(f'Return: {ret:.6f}')\n",
    "print(f'Risk: {risk:.6f}')\n",
    "print(f'Sharpe ratio: {sharpe:.6f}')\n",
    "\n",
    "display(Markdown(f'Valores del vector $w$:'))\n",
    "\n",
    "display(w_chat.T)"
   ]
  },
  {
   "cell_type": "code",
   "execution_count": 5,
   "metadata": {},
   "outputs": [
    {
     "name": "stdout",
     "output_type": "stream",
     "text": [
      "Return: 0.215492\n",
      "Risk: 0.183942\n",
      "Sharpe ratio: 1.171518\n",
      "\n",
      "Adjusted Weights:\n",
      "CRM: 0.617614\n",
      "GLD: -0.054362\n",
      "GOOGL: -0.056995\n",
      "JPM: 0.343673\n",
      "MCD: 0.070098\n",
      "META: 0.100141\n",
      "F: -0.072621\n",
      "V: 0.098653\n",
      "COST: -0.238240\n",
      "XOM: 0.192040\n"
     ]
    },
    {
     "data": {
      "image/png": "[encoded data removed]",
      "text/plain": [
       "<Figure size 1000x600 with 1 Axes>"
      ]
     },
     "metadata": {},
     "output_type": "display_data"
    }
   ],
   "source": [
    "plt.figure(figsize=(10, 6))\n",
    "plt.bar(tickers, w, color='navy')\n",
    "plt.axhline(0, color='red', linestyle=':')\n",
    "plt.xlabel('Tickers')\n",
    "plt.ylabel('Optimal Weights')\n",
    "plt.title('Optimal Weights Allocation')\n",
    "print(f'Return: {ret:.6f}')\n",
    "print(f'Risk: {risk:.6f}')\n",
    "print(f'Sharpe ratio: {sharpe:.6f}')\n",
    "print()\n",
    "print(\"Adjusted Weights:\")\n",
    "for ticker, weight in zip(tickers, w):\n",
    "    print(f\"{ticker}: {weight:.6f}\")"
   ]
  },
  {
   "cell_type": "markdown",
   "metadata": {},
   "source": [
    "### Cambios en los pesos de $w^*$ moviendo $\\alpha$"
   ]
  },
  {
   "cell_type": "markdown",
   "metadata": {},
   "source": [
    "Se decide multiplicar el vector $w^*$ por un valor escalar $\\alpha$, para ver como cambian los pesos del portafolio y sus métricas."
   ]
  },
  {
   "cell_type": "code",
   "execution_count": 6,
   "metadata": {},
   "outputs": [
    {
     "data": {
      "application/vnd.jupyter.widget-view+json": {
       "model_id": "fe558ec1a8794ca2af9baade89d7c0b9",
       "version_major": 2,
       "version_minor": 0
      },
      "text/plain": [
       "interactive(children=(FloatSlider(value=1.0, description='alpha', max=2.0, step=0.05), Output()), _dom_classes…"
      ]
     },
     "metadata": {},
     "output_type": "display_data"
    },
    {
     "data": {
      "text/plain": [
       "<function __main__.update_plot(alpha)>"
      ]
     },
     "execution_count": 6,
     "metadata": {},
     "output_type": "execute_result"
    }
   ],
   "source": [
    "def update_plot(alpha):\n",
    "    adjusted_weights = w * alpha\n",
    "    plt.figure(figsize=(10, 6))\n",
    "    plt.bar(tickers, adjusted_weights, color='navy')\n",
    "    plt.axhline(0, color='red', linestyle=':')\n",
    "    plt.xlabel('Tickers')\n",
    "    plt.ylabel('Optimal Weights')\n",
    "    plt.title('Optimal Weights Allocation')\n",
    "    ret = np.dot(adjusted_weights, mu_rf)\n",
    "    risk = np.sqrt(np.dot(adjusted_weights.T, np.dot(sigma, adjusted_weights))) * np.sqrt(252)\n",
    "\n",
    "    sharpe = ret / risk\n",
    "    print(f'Return: {ret:.6f}')\n",
    "    print(f'Risk: {risk:.6f}')\n",
    "    print(f'Sharpe ratio: {sharpe:.6f}')\n",
    "    print()\n",
    "    print(\"Adjusted Weights:\")\n",
    "    for ticker, weight in zip(tickers, adjusted_weights):\n",
    "        print(f\"{ticker}: {weight:.6f}\")\n",
    "    plt.show()\n",
    "\n",
    "interact(update_plot, alpha=FloatSlider(value=1, min=0, max=2, step=0.05))\n",
    "\n"
   ]
  }
 ],
 "metadata": {
  "kernelspec": {
   "display_name": "base",
   "language": "python",
   "name": "python3"
  },
  "language_info": {
   "codemirror_mode": {
    "name": "ipython",
    "version": 3
   },
   "file_extension": ".py",
   "mimetype": "text/x-python",
   "name": "python",
   "nbconvert_exporter": "python",
   "pygments_lexer": "ipython3",
   "version": "3.12.3"
  }
 },
 "nbformat": 4,
 "nbformat_minor": 2
}
