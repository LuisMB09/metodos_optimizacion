{
 "cells": [
  {
   "cell_type": "markdown",
   "metadata": {},
   "source": [
    "# Optimización del portafolio tipo sharpe con multiplicadores de Lagrange"
   ]
  },
  {
   "cell_type": "markdown",
   "metadata": {},
   "source": [
    "## Definición del problema\n",
    "\n",
    "Se busca optimizar el sharpe ratio de un portafolio mediante el uso de multiplicadores de lagrange. Para ello definimos lo siguiente:\n",
    "\n",
    "- $w = [w_1,w_2,...,w_n]$ : vector de pesos de los activos del portafolio\n",
    "- $\\mu = [\\mu_1,\\mu_2,...,\\mu_3]$ : vector del valor esperado de cada uno de los activos\n",
    "- $\\Sigma$: la matriz de covarianza de los rendimientos de los activos\n",
    "- $r_f$: la tasa libre de riesgo\n",
    "- $1$: vector de unos\n",
    "\n",
    "El sharpe ratio se define de la siguiente manera:\n",
    "$$ S = \\frac{\\mu_p-r_f}{\\sigma_p} $$\n",
    "\n",
    "Suponiendo que tenemos un activo libre de riesgo dentro del portafolio, expresamos el retorno del portafolio de la siguiente manera:\n",
    "$$ \n",
    "\\mu_p = (w1^T)\\mu + (1-w1^T)r_f = w^T\\mu + rf - w^Tr_f\n",
    "$$\n",
    "\n",
    "sustituyendo el nuevo valor esperado del portafolio y adaptándolo a nuestro problema se define como:\n",
    "$$ S = \\frac{w^T(\\mu - r_f1)}{\\sqrt{w^T\\Sigma w}} $$\n",
    "\n",
    "donde:\n",
    "- $w^T(\\mu - r_f1)$ es la rentabilidad del portafolio\n",
    "- $w^T \\Sigma w$ es la varianza del portafolio\n"
   ]
  },
  {
   "cell_type": "markdown",
   "metadata": {},
   "source": [
    "## Formulación del problema\n",
    "\n",
    "Lo que buscamos es\n",
    "$$ max\\; S = \\frac{w^T(\\mu - r_f1)}{\\sqrt{w^T\\Sigma w}} $$\n",
    "$$ s.t. \\quad 1^Tw = 1$$\n",
    "\n",
    "Este problema es complicado de maximizar directamente porque es una fracción con una raíz cuadrada en el denominador. Sin embargo, con una reformulación, podemos simplificar el problema como una maximización del rendimiento regularizando por el factor de la varianza y restándolo.\n",
    "\n",
    "Por lo tanto planteamos el problema de la siguiente manera:\n",
    "$$ \\max\\; w^T(\\mu - r_f1) - \\lambda(w^T \\Sigma w)$$\n",
    "$$ s.t.\\; 1^Tw = 1 $$\n",
    "\n",
    "Ahora planteamos el problema como una función de Lagrange:\n",
    "\n",
    "$$\\mathcal{L}(w,\\lambda) = w^T(\\mu - r_f1) - \\lambda(w^T \\Sigma w)$$\n",
    "\n",
    "Obtenemos la derivada parcial con respecto a $w$, igualamos a 0 y resolvemos para $w$:\n",
    "\n",
    "$\\frac{\\partial \\mathcal{L}}{\\partial w} = 0 \\Rightarrow \\mu - r_f1 - 2\\lambda \\Sigma w = 0$\n",
    "\n",
    "Despejando obtenemos lo siguiente:\n",
    "\n",
    "- $w = \\frac{1}{2 \\lambda} \\Sigma^{-1} (\\mu - r_f1)$\n",
    "\n",
    "Utilizando la restricción de igualdad $w1T = 1$, se puede encontrar el valor de $\\lambda$:\n",
    "\n",
    "$$ (\\frac{1}{2 \\lambda} \\Sigma^{-1} (\\mu - r_f1))1^T = 1$$\n",
    "$$ 1^T \\Sigma^{-1} (\\mu - r_f 1) = 2\\lambda $$\n",
    "$$ \\lambda = \\frac{1^T \\Sigma^{-1} (\\mu - r_f 1)}{2} $$\n",
    "\n",
    "Posteriormente sustituimos $\\lambda$ para encontrar el valor óptimo de $w$:\n",
    "\n",
    "$$ w = \\frac{1}{2 \\lambda} \\Sigma (\\mu - r_f1) $$\n",
    "\n",
    "$$ w = \\frac{\\Sigma^{-1} (\\mu - r_f1)}{2\\frac{1^T \\Sigma^{-1} (\\mu - r_f)}{2}} $$\n",
    "\n",
    "$$ w = \\frac{\\Sigma^{-1} (\\mu - r_f1)}{1^T \\Sigma^{-1} (\\mu - r_f1)} $$"
   ]
  },
  {
   "cell_type": "markdown",
   "metadata": {},
   "source": [
    "## Conclusiones\n",
    "\n",
    "Ya con esto podemos calcular retorno, el riesgo, y el sharpe del portafolio óptimo con las siguientes fórmulas:\n",
    "\n",
    "- $R_p = w^{^T}\\mu$\n",
    "- $\\sigma_p = \\sqrt{ w^{T} \\Sigma w}$\n",
    "- $S = \\frac{R_p}{\\sigma_p}$\n",
    "\n",
    "Como en el cálculo de $w$ a $\\mu$ ya se le resto $r_f$, para obtener el sharpe ratio no es necesario restar $r_f$ al retorno del portafolio.\n",
    "\n",
    "Los valores obtenidos para $w$ pueden ser mayores a 1 o menores a 0. Si un valor es mayor que 1, indica que se ha utilizado apalancamiento en esa posición; mientras que si es menor que 0, significa que se ha tomado una posición corta en dicho activo.\n",
    "\n",
    "Además si se desea modificar el retorno y riesgo esperado del portafolio, este se puede ajustar al multiplicar el vector $w$ por un valor de $\\alpha$. A continuación se muestra el código para realizar los cálculos necesarios para obtener el portafolio con el valor del sharpe ratio más alto.\n"
   ]
  },
  {
   "cell_type": "markdown",
   "metadata": {},
   "source": [
    "## Fórmula que optimiza el sharpe ratio\n",
    "$$\n",
    "w = \\frac{\\Sigma^{-1} (\\mu - r_f 1)}{1^T \\Sigma^{-1} (\\mu - r_f 1)}\n",
    "$$"
   ]
  },
  {
   "cell_type": "markdown",
   "metadata": {},
   "source": [
    "## Código"
   ]
  },
  {
   "cell_type": "markdown",
   "metadata": {},
   "source": [
    "### Librerías a utilizar"
   ]
  },
  {
   "cell_type": "code",
   "execution_count": 1,
   "metadata": {},
   "outputs": [],
   "source": [
    "import numpy as np\n",
    "import pandas as pd\n",
    "import yfinance as yf\n",
    "import matplotlib.pyplot as plt\n",
    "from scipy.optimize import minimize\n",
    "from IPython.display import display, Markdown\n",
    "from ipywidgets import interact, FloatSlider"
   ]
  },
  {
   "cell_type": "markdown",
   "metadata": {},
   "source": [
    "### Descarga de datos"
   ]
  },
  {
   "cell_type": "code",
   "execution_count": 2,
   "metadata": {},
   "outputs": [
    {
     "name": "stderr",
     "output_type": "stream",
     "text": [
      "[*********************100%***********************]  5 of 5 completed\n"
     ]
    }
   ],
   "source": [
    "tickers=['AMZN','WMT','GOOGL','AAPL','JPM']\n",
    "\n",
    "f_inicial='2020-01-01'\n",
    "f_final='2024-11-10'\n",
    "\n",
    "datos1=yf.download(tickers,f_inicial,f_final)['Adj Close']\n",
    "\n",
    "rt = datos1.pct_change().dropna()\n"
   ]
  },
  {
   "cell_type": "markdown",
   "metadata": {},
   "source": [
    "### Obtención de matrices y vectores importantes"
   ]
  },
  {
   "cell_type": "code",
   "execution_count": 3,
   "metadata": {},
   "outputs": [],
   "source": [
    "mu = (rt.mean() * 252).values  # Rendimientos esperados\n",
    "unos = np.ones(len(mu)) # Vector de unos\n",
    "rf = 0.04413  # Tasa libre de riesgo\n",
    "sigma = rt.cov().values  # Matriz de covarianzas\n",
    "sigma_inv = np.linalg.inv(sigma)  # Matriz de varianza-covarianza inversa\n",
    "mu_rf = mu - np.dot(rf,unos) # Rendimientos esperados en exceso"
   ]
  },
  {
   "cell_type": "markdown",
   "metadata": {},
   "source": [
    "### Ejecución de la fórmula obtenida"
   ]
  },
  {
   "cell_type": "code",
   "execution_count": 4,
   "metadata": {},
   "outputs": [
    {
     "name": "stdout",
     "output_type": "stream",
     "text": [
      "Return: 0.234595\n",
      "Risk: 0.214992\n",
      "Sharpe ratio: 0.885918\n"
     ]
    },
    {
     "data": {
      "text/markdown": [
       "Valores del vector $w$:"
      ],
      "text/plain": [
       "<IPython.core.display.Markdown object>"
      ]
     },
     "metadata": {},
     "output_type": "display_data"
    },
    {
     "data": {
      "text/html": [
       "<div>\n",
       "<style scoped>\n",
       "    .dataframe tbody tr th:only-of-type {\n",
       "        vertical-align: middle;\n",
       "    }\n",
       "\n",
       "    .dataframe tbody tr th {\n",
       "        vertical-align: top;\n",
       "    }\n",
       "\n",
       "    .dataframe thead th {\n",
       "        text-align: right;\n",
       "    }\n",
       "</style>\n",
       "<table border=\"1\" class=\"dataframe\">\n",
       "  <thead>\n",
       "    <tr style=\"text-align: right;\">\n",
       "      <th></th>\n",
       "      <th>AMZN</th>\n",
       "      <th>WMT</th>\n",
       "      <th>GOOGL</th>\n",
       "      <th>AAPL</th>\n",
       "      <th>JPM</th>\n",
       "    </tr>\n",
       "  </thead>\n",
       "  <tbody>\n",
       "    <tr>\n",
       "      <th>w</th>\n",
       "      <td>0.342612</td>\n",
       "      <td>-0.031618</td>\n",
       "      <td>0.153063</td>\n",
       "      <td>0.059</td>\n",
       "      <td>0.476943</td>\n",
       "    </tr>\n",
       "  </tbody>\n",
       "</table>\n",
       "</div>"
      ],
      "text/plain": [
       "       AMZN       WMT     GOOGL   AAPL       JPM\n",
       "w  0.342612 -0.031618  0.153063  0.059  0.476943"
      ]
     },
     "metadata": {},
     "output_type": "display_data"
    }
   ],
   "source": [
    "w = np.dot(sigma_inv,mu_rf)/ np.dot(unos.T,np.dot(sigma_inv,mu_rf))\n",
    "ret = np.dot(w.T, mu)\n",
    "risk = np.sqrt(np.dot(w.T, np.dot(sigma, w))) * np.sqrt(252)\n",
    "\n",
    "sharpe = (ret - rf) / risk\n",
    "\n",
    "w_chat = pd.DataFrame(w, index=tickers, columns=['w'])\n",
    "\n",
    "print(f'Return: {ret:.6f}')\n",
    "print(f'Risk: {risk:.6f}')\n",
    "print(f'Sharpe ratio: {sharpe:.6f}')\n",
    "\n",
    "display(Markdown(f'Valores del vector $w$:'))\n",
    "\n",
    "display(w_chat.T)"
   ]
  },
  {
   "cell_type": "code",
   "execution_count": 5,
   "metadata": {},
   "outputs": [
    {
     "name": "stdout",
     "output_type": "stream",
     "text": [
      "Return: 0.234595\n",
      "Risk: 0.214992\n",
      "Sharpe ratio: 0.885918\n",
      "\n",
      "Weights:\n",
      "AMZN: 0.342612\n",
      "WMT: -0.031618\n",
      "GOOGL: 0.153063\n",
      "AAPL: 0.059000\n",
      "JPM: 0.476943\n"
     ]
    },
    {
     "data": {
      "image/png": "[encoded data removed]",
      "text/plain": [
       "<Figure size 1000x600 with 1 Axes>"
      ]
     },
     "metadata": {},
     "output_type": "display_data"
    }
   ],
   "source": [
    "plt.figure(figsize=(10, 6))\n",
    "plt.bar(tickers, w, color='skyblue')\n",
    "plt.axhline(0, color='red', linestyle=':')\n",
    "plt.xlabel('Tickers')\n",
    "plt.ylabel('Optimal Weights')\n",
    "plt.title('Optimal Weights Allocation')\n",
    "print(f'Return: {ret:.6f}')\n",
    "print(f'Risk: {risk:.6f}')\n",
    "print(f'Sharpe ratio: {sharpe:.6f}')\n",
    "print()\n",
    "print(\"Weights:\")\n",
    "for ticker, weight in zip(tickers, w):\n",
    "    print(f\"{ticker}: {weight:.6f}\")"
   ]
  },
  {
   "cell_type": "markdown",
   "metadata": {},
   "source": [
    "### Cambios en los pesos de $w^*$ moviendo $\\alpha$"
   ]
  },
  {
   "cell_type": "markdown",
   "metadata": {},
   "source": [
    "Se decide multiplicar el vector $w^*$ por un valor escalar $\\alpha$, para ver como cambian los pesos del portafolio y sus métricas."
   ]
  },
  {
   "cell_type": "code",
   "execution_count": 6,
   "metadata": {},
   "outputs": [
    {
     "data": {
      "application/vnd.jupyter.widget-view+json": {
       "model_id": "70be4cf3725e40a290c4588e9919f4f7",
       "version_major": 2,
       "version_minor": 0
      },
      "text/plain": [
       "interactive(children=(FloatSlider(value=1.0, description='alpha', max=2.0, step=0.05), Output()), _dom_classes…"
      ]
     },
     "metadata": {},
     "output_type": "display_data"
    },
    {
     "data": {
      "text/plain": [
       "<function __main__.update_plot(alpha)>"
      ]
     },
     "execution_count": 6,
     "metadata": {},
     "output_type": "execute_result"
    }
   ],
   "source": [
    "def update_plot(alpha):\n",
    "    adjusted_weights = w * alpha\n",
    "    plt.figure(figsize=(10, 6))\n",
    "    plt.bar(tickers, adjusted_weights, color='skyblue')\n",
    "    plt.axhline(0, color='red', linestyle=':')\n",
    "    plt.xlabel('Tickers')\n",
    "    plt.ylabel('Optimal Weights')\n",
    "    plt.title('Optimal Weights Allocation')\n",
    "    ret = np.dot(adjusted_weights.T, mu_rf)\n",
    "    risk = np.sqrt(np.dot(adjusted_weights.T, np.dot(sigma, adjusted_weights))) * np.sqrt(252)\n",
    "\n",
    "    sharpe = ret / risk\n",
    "    print(f'Return: {ret:.6f}')\n",
    "    print(f'Risk: {risk:.6f}')\n",
    "    print(f'Sharpe ratio: {sharpe:.6f}')\n",
    "    print()\n",
    "    print(\"Adjusted Weights:\")\n",
    "    for ticker, weight in zip(tickers, adjusted_weights):\n",
    "        print(f\"{ticker}: {weight:.6f}\")\n",
    "    plt.show()\n",
    "\n",
    "interact(update_plot, alpha=FloatSlider(value=1, min=0, max=2, step=0.05))\n",
    "\n"
   ]
  }
 ],
 "metadata": {
  "kernelspec": {
   "display_name": "base",
   "language": "python",
   "name": "python3"
  },
  "language_info": {
   "codemirror_mode": {
    "name": "ipython",
    "version": 3
   },
   "file_extension": ".py",
   "mimetype": "text/x-python",
   "name": "python",
   "nbconvert_exporter": "python",
   "pygments_lexer": "ipython3",
   "version": "3.12.3"
  }
 },
 "nbformat": 4,
 "nbformat_minor": 2
}
