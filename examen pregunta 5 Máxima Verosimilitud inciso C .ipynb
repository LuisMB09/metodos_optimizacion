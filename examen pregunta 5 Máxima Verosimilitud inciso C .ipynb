{
 "cells": [
  {
   "cell_type": "code",
   "execution_count": 30,
   "id": "49c4a2fd",
   "metadata": {},
   "outputs": [],
   "source": [
    "import pandas as pd\n",
    "import numpy as np\n",
    "import matplotlib.pyplot as plt\n",
    "import statsmodels.api as sm\n",
    "import statsmodels.formula.api as smf\n",
    "from scipy.optimize import minimize\n"
   ]
  },
  {
   "cell_type": "markdown",
   "id": "efb4ea51",
   "metadata": {},
   "source": [
    "## EJERCICIO EXAMEN "
   ]
  },
  {
   "cell_type": "code",
   "execution_count": 31,
   "id": "197492a3",
   "metadata": {},
   "outputs": [],
   "source": [
    "import numpy as np\n",
    "import pandas as pd\n",
    "\n",
    "# Matriz X\n",
    "X = np.array([\n",
    "    [1, 1.500, 3, 20],\n",
    "    [1, 1.800, 4, 15],\n",
    "    [1, 2.400, 4, 10],\n",
    "    [1, 3.000, 5, 5],\n",
    "    [1, 1.300, 2, 25],\n",
    "    [1, 2.000, 3, 18],\n",
    "    [1, 2.200, 4, 12],\n",
    "    [1, 1.600, 3, 22],\n",
    "    [1, 2.800, 5, 8],\n",
    "    [1, 1.900, 4, 16]\n",
    "])\n",
    "X=pd.DataFrame(X)"
   ]
  },
  {
   "cell_type": "code",
   "execution_count": 32,
   "id": "961fc91b",
   "metadata": {},
   "outputs": [],
   "source": [
    "# Vector Y\n",
    "import numpy as np\n",
    "\n",
    "Y = np.array([\n",
    "    [300.000],\n",
    "    [350.000],\n",
    "    [500.000],\n",
    "    [600.000],\n",
    "    [250.000],\n",
    "    [400.000],\n",
    "    [450.000],\n",
    "    [320.000],\n",
    "    [580.000],\n",
    "    [420.000]\n",
    "])\n"
   ]
  },
  {
   "cell_type": "code",
   "execution_count": 33,
   "id": "50e8e46f",
   "metadata": {},
   "outputs": [
    {
     "data": {
      "text/plain": [
       "array([[-85.15078083],\n",
       "       [202.46701669],\n",
       "       [ 16.79052235],\n",
       "       [  1.65354066]])"
      ]
     },
     "execution_count": 33,
     "metadata": {},
     "output_type": "execute_result"
    }
   ],
   "source": [
    "matriz_transpuesta=X.T\n",
    "XTX= np.dot(matriz_transpuesta,X)\n",
    "XTY= np.dot(matriz_transpuesta,Y)\n",
    "XTXMENOS1= np.linalg.inv(XTX)\n",
    "B=  np.dot(XTXMENOS1,XTY)\n",
    "B"
   ]
  },
  {
   "cell_type": "code",
   "execution_count": 34,
   "id": "9eed11cc",
   "metadata": {},
   "outputs": [
    {
     "name": "stdout",
     "output_type": "stream",
     "text": [
      "Predicciones:\n",
      "[[403.22563274]\n",
      " [504.71425687]]\n"
     ]
    }
   ],
   "source": [
    "import numpy as np\n",
    "\n",
    "# Matriz de características para la predicción (nuevas observaciones)\n",
    "X_prediccion = np.array([\n",
    "    [1, 2.000, 3, 20],  # Ejemplo 1\n",
    "    [1, 2.500, 4, 10]   # Ejemplo 2\n",
    "])\n",
    "\n",
    "# Calcula las predicciones\n",
    "Y_prediccion = np.dot(X_prediccion, B)\n",
    "\n",
    "print(\"Predicciones:\")\n",
    "print(Y_prediccion)\n"
   ]
  },
  {
   "cell_type": "code",
   "execution_count": 35,
   "id": "84975be7",
   "metadata": {},
   "outputs": [
    {
     "name": "stdout",
     "output_type": "stream",
     "text": [
      "Varianza: [[167.51783791]]\n"
     ]
    }
   ],
   "source": [
    "Y_pred = np.dot(X, B)\n",
    "\n",
    "# Calcular el residuo: (Y - X B)\n",
    "residuo = Y - Y_pred\n",
    "\n",
    "# Calcular la varianza: 1/N * (residuo^T @ residuo)\n",
    "N = Y.shape[0]  # Número de observaciones\n",
    "varianza = (1 / N) * np.dot(residuo.T, residuo)\n",
    "\n",
    "print(\"Varianza:\", varianza)"
   ]
  },
  {
   "cell_type": "code",
   "execution_count": 36,
   "id": "d6b3f00e",
   "metadata": {},
   "outputs": [
    {
     "name": "stdout",
     "output_type": "stream",
     "text": [
      "verosimilitud: [[5.2158243e-18]]\n"
     ]
    }
   ],
   "source": [
    "import numpy as np\n",
    "\n",
    "# Constantes\n",
    "pi = 3.14159265359\n",
    "\n",
    "\n",
    "coeficiente = 1 / ((2 * pi * varianza) ** (N / 2))\n",
    "\n",
    "\n",
    "exponente = -1 / (2 * varianza) * np.dot(residuo.T, residuo)\n",
    "exponencial = np.exp(exponente)\n",
    "\n",
    "# Límite final\n",
    "L = coeficiente * exponencial\n",
    "\n",
    "print(\"verosimilitud:\", L)\n"
   ]
  },
  {
   "cell_type": "code",
   "execution_count": 37,
   "id": "d2bdfbce",
   "metadata": {},
   "outputs": [
    {
     "name": "stdout",
     "output_type": "stream",
     "text": [
      "Resultado de P: 0.0\n"
     ]
    }
   ],
   "source": [
    "import numpy as np\n",
    "\n",
    "# Valores proporcionados\n",
    "betas = np.array([\n",
    "    [1.64335541e+08],\n",
    "    [-4.30189661e+04],\n",
    "    [-3.63751660e+06],\n",
    "    [-4.12389730e+06]\n",
    "])\n",
    "\n",
    "# Definir lambda\n",
    "_lambda = 1  # Puedes ajustar este valor\n",
    "\n",
    "# Número de betas\n",
    "n = betas.shape[0]\n",
    "\n",
    "# Calcular la sumatoria de los cuadrados de las betas\n",
    "sumatoria_betas_cuadrado = np.sum(betas**2)\n",
    "\n",
    "# Término de la fracción: (\\lambda^n) / (\\sqrt{2\\pi}^n)\n",
    "coeficiente = (_lambda**n) / ((np.sqrt(2 * pi))**n)\n",
    "\n",
    "# Término exponencial: exp(-1 / (2 * lambda^2) * sumatoria_betas_cuadrado)\n",
    "exponente = -1 / (2 * (_lambda**2)) * sumatoria_betas_cuadrado\n",
    "exponencial = np.exp(exponente)\n",
    "\n",
    "# Resultado final\n",
    "P = coeficiente * exponencial\n",
    "\n",
    "print(\"Resultado de P:\", P)\n"
   ]
  },
  {
   "cell_type": "code",
   "execution_count": 38,
   "id": "9abdac96",
   "metadata": {},
   "outputs": [
    {
     "data": {
      "text/plain": [
       "array([[  15.  ,   20.5 ,   37.  ,  151.  ],\n",
       "       [  20.5 ,   49.79,   80.1 ,  278.9 ],\n",
       "       [  37.  ,   80.1 ,  150.  ,  507.  ],\n",
       "       [ 151.  ,  278.9 ,  507.  , 2652.  ]])"
      ]
     },
     "execution_count": 38,
     "metadata": {},
     "output_type": "execute_result"
    }
   ],
   "source": [
    "def add_lambda_to_diagonal(matrix, lambda_value):\n",
    "    # Sumar lambda a la diagonal de la matriz\n",
    "    return matrix + np.eye(matrix.shape[0]) * lambda_value\n",
    "\n",
    "# Ejemplo de uso\n",
    "lambda_value = 5\n",
    "XTX_lambda = add_lambda_to_diagonal(XTX, lambda_value)\n",
    "XTX_lambda"
   ]
  },
  {
   "cell_type": "code",
   "execution_count": 39,
   "id": "f0475fa3",
   "metadata": {},
   "outputs": [
    {
     "data": {
      "text/html": [
       "<div>\n",
       "<style scoped>\n",
       "    .dataframe tbody tr th:only-of-type {\n",
       "        vertical-align: middle;\n",
       "    }\n",
       "\n",
       "    .dataframe tbody tr th {\n",
       "        vertical-align: top;\n",
       "    }\n",
       "\n",
       "    .dataframe thead th {\n",
       "        text-align: right;\n",
       "    }\n",
       "</style>\n",
       "<table border=\"1\" class=\"dataframe\">\n",
       "  <thead>\n",
       "    <tr style=\"text-align: right;\">\n",
       "      <th></th>\n",
       "      <th>0</th>\n",
       "      <th>1</th>\n",
       "      <th>2</th>\n",
       "      <th>3</th>\n",
       "    </tr>\n",
       "  </thead>\n",
       "  <tbody>\n",
       "    <tr>\n",
       "      <th>0</th>\n",
       "      <td>0.1954</td>\n",
       "      <td>-0.0145</td>\n",
       "      <td>-0.0226</td>\n",
       "      <td>-0.0053</td>\n",
       "    </tr>\n",
       "    <tr>\n",
       "      <th>1</th>\n",
       "      <td>-0.0145</td>\n",
       "      <td>0.1451</td>\n",
       "      <td>-0.0710</td>\n",
       "      <td>-0.0009</td>\n",
       "    </tr>\n",
       "    <tr>\n",
       "      <th>2</th>\n",
       "      <td>-0.0226</td>\n",
       "      <td>-0.0710</td>\n",
       "      <td>0.0581</td>\n",
       "      <td>-0.0024</td>\n",
       "    </tr>\n",
       "    <tr>\n",
       "      <th>3</th>\n",
       "      <td>-0.0053</td>\n",
       "      <td>-0.0009</td>\n",
       "      <td>-0.0024</td>\n",
       "      <td>0.0012</td>\n",
       "    </tr>\n",
       "  </tbody>\n",
       "</table>\n",
       "</div>"
      ],
      "text/plain": [
       "        0       1       2       3\n",
       "0  0.1954 -0.0145 -0.0226 -0.0053\n",
       "1 -0.0145  0.1451 -0.0710 -0.0009\n",
       "2 -0.0226 -0.0710  0.0581 -0.0024\n",
       "3 -0.0053 -0.0009 -0.0024  0.0012"
      ]
     },
     "execution_count": 39,
     "metadata": {},
     "output_type": "execute_result"
    }
   ],
   "source": [
    "XTXMENOS1_lambda= np.linalg.inv(XTX_lambda)\n",
    "pd.DataFrame(np.round(XTXMENOS1_lambda,4))"
   ]
  },
  {
   "cell_type": "code",
   "execution_count": 40,
   "id": "e327ebb5",
   "metadata": {},
   "outputs": [
    {
     "data": {
      "text/plain": [
       "array([[14.68671752],\n",
       "       [55.40229959],\n",
       "       [74.14938139],\n",
       "       [ 0.46639062]])"
      ]
     },
     "execution_count": 40,
     "metadata": {},
     "output_type": "execute_result"
    }
   ],
   "source": [
    "B_lambda=  np.dot(XTXMENOS1_lambda,XTY)\n",
    "B_lambda"
   ]
  },
  {
   "cell_type": "code",
   "execution_count": 41,
   "id": "87b7b868",
   "metadata": {},
   "outputs": [
    {
     "name": "stdout",
     "output_type": "stream",
     "text": [
      "Predicciones:\n",
      "[[357.26727335]\n",
      " [454.45389829]]\n"
     ]
    }
   ],
   "source": [
    "X_prediccion = np.array([\n",
    "    [1, 2.000, 3, 20],  # Ejemplo 1\n",
    "    [1, 2.500, 4, 10]   # Ejemplo 2\n",
    "])\n",
    "\n",
    "# Calcula las predicciones\n",
    "Y_prediccion1 = np.dot(X_prediccion, B_lambda)\n",
    "\n",
    "print(\"Predicciones:\")\n",
    "print(Y_prediccion1)"
   ]
  },
  {
   "cell_type": "code",
   "execution_count": 42,
   "id": "1222d2a8",
   "metadata": {},
   "outputs": [
    {
     "name": "stdout",
     "output_type": "stream",
     "text": [
      "Varianza: [[1381.95190839]]\n"
     ]
    }
   ],
   "source": [
    "Y_pred1 = np.dot(X, B_lambda)\n",
    "\n",
    "# Calcular el residuo: (Y - X B)\n",
    "residuo1 = Y - Y_pred1\n",
    "\n",
    "\n",
    "\n",
    "# Calcular la varianza: 1/N * (residuo^T @ residuo)\n",
    "N = Y.shape[0]  # Número de observaciones\n",
    "varianza1 = (1 / N) * np.dot(residuo1.T, residuo1)\n",
    "\n",
    "print(\"Varianza:\", varianza1)"
   ]
  },
  {
   "cell_type": "code",
   "execution_count": 43,
   "id": "1a617110",
   "metadata": {},
   "outputs": [
    {
     "name": "stdout",
     "output_type": "stream",
     "text": [
      "verosimilitud: [[1.36509727e-22]]\n"
     ]
    }
   ],
   "source": [
    "import numpy as np\n",
    "\n",
    "# Constantes\n",
    "pi = 3.14159265359\n",
    "\n",
    "\n",
    "coeficiente1 = 1 / ((2 * pi * varianza1) ** (N / 2))\n",
    "\n",
    "\n",
    "exponente1 = -1 / (2 * varianza1) * np.dot(residuo1.T, residuo1)\n",
    "exponencial1 = np.exp(exponente1)\n",
    "\n",
    "# Límite final\n",
    "L1 = coeficiente1 * exponencial1\n",
    "\n",
    "print(\"verosimilitud:\", L1)"
   ]
  }
 ],
 "metadata": {
  "kernelspec": {
   "display_name": "base",
   "language": "python",
   "name": "python3"
  },
  "language_info": {
   "codemirror_mode": {
    "name": "ipython",
    "version": 3
   },
   "file_extension": ".py",
   "mimetype": "text/x-python",
   "name": "python",
   "nbconvert_exporter": "python",
   "pygments_lexer": "ipython3",
   "version": "3.12.3"
  }
 },
 "nbformat": 4,
 "nbformat_minor": 5
}
