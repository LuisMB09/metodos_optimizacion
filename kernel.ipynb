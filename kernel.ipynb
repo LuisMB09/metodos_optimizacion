{
 "cells": [
  {
   "cell_type": "code",
   "execution_count": 1,
   "metadata": {},
   "outputs": [],
   "source": [
    "import numpy as np\n",
    "import pandas as pd"
   ]
  },
  {
   "cell_type": "markdown",
   "metadata": {},
   "source": [
    "## Datos"
   ]
  },
  {
   "cell_type": "code",
   "execution_count": 2,
   "metadata": {},
   "outputs": [],
   "source": [
    "X = np.array([\n",
    "    [2, 5, 2, 4],\n",
    "    [3.20, 6, 3, 4],\n",
    "    [1.50, 3, 2, 2],\n",
    "    [0.80, 2, 0, 1],\n",
    "    [4, 3, 3, 4],\n",
    "])\n",
    "\n",
    "y = np.array([\n",
    "    3.5,\n",
    "    4.7,\n",
    "    2.4,\n",
    "    1.5,\n",
    "    6.0,\n",
    "    0  # Valor agregado para que coincida con el tamaño de K_df\n",
    "])"
   ]
  },
  {
   "cell_type": "markdown",
   "metadata": {},
   "source": [
    "## Matriz Kernel"
   ]
  },
  {
   "cell_type": "markdown",
   "metadata": {},
   "source": [
    "\\begin{bmatrix}\n",
    "K + \\frac{1}{gamma}I & 1 \\\\\n",
    "1^T & 0 \\\\\n",
    "\\end{bmatrix}\n",
    "\n",
    "Esto multiplicado por \n",
    "\n",
    "\\begin{bmatrix}\n",
    "\\alpha \\\\\n",
    "b \\\\\n",
    "\\end{bmatrix}\n",
    "\n",
    "Es igual a \n",
    "\\begin{bmatrix}\n",
    "Y \\\\\n",
    "0 \\\\\n",
    "\\end{bmatrix}"
   ]
  },
  {
   "cell_type": "markdown",
   "metadata": {},
   "source": [
    "Se multiplica casa por casa, analiza cuanto se parecen, mientras más alto más se parecen las casas."
   ]
  },
  {
   "cell_type": "code",
   "execution_count": 3,
   "metadata": {},
   "outputs": [
    {
     "data": {
      "text/html": [
       "<div>\n",
       "<style scoped>\n",
       "    .dataframe tbody tr th:only-of-type {\n",
       "        vertical-align: middle;\n",
       "    }\n",
       "\n",
       "    .dataframe tbody tr th {\n",
       "        vertical-align: top;\n",
       "    }\n",
       "\n",
       "    .dataframe thead th {\n",
       "        text-align: right;\n",
       "    }\n",
       "</style>\n",
       "<table border=\"1\" class=\"dataframe\">\n",
       "  <thead>\n",
       "    <tr style=\"text-align: right;\">\n",
       "      <th></th>\n",
       "      <th>0</th>\n",
       "      <th>1</th>\n",
       "      <th>2</th>\n",
       "      <th>3</th>\n",
       "      <th>4</th>\n",
       "      <th>ones</th>\n",
       "    </tr>\n",
       "  </thead>\n",
       "  <tbody>\n",
       "    <tr>\n",
       "      <th>0</th>\n",
       "      <td>50.0</td>\n",
       "      <td>58.40</td>\n",
       "      <td>30.00</td>\n",
       "      <td>15.60</td>\n",
       "      <td>45.0</td>\n",
       "      <td>1</td>\n",
       "    </tr>\n",
       "    <tr>\n",
       "      <th>1</th>\n",
       "      <td>58.4</td>\n",
       "      <td>72.24</td>\n",
       "      <td>36.80</td>\n",
       "      <td>18.56</td>\n",
       "      <td>55.8</td>\n",
       "      <td>1</td>\n",
       "    </tr>\n",
       "    <tr>\n",
       "      <th>2</th>\n",
       "      <td>30.0</td>\n",
       "      <td>36.80</td>\n",
       "      <td>20.25</td>\n",
       "      <td>9.20</td>\n",
       "      <td>29.0</td>\n",
       "      <td>1</td>\n",
       "    </tr>\n",
       "    <tr>\n",
       "      <th>3</th>\n",
       "      <td>15.6</td>\n",
       "      <td>18.56</td>\n",
       "      <td>9.20</td>\n",
       "      <td>6.64</td>\n",
       "      <td>13.2</td>\n",
       "      <td>1</td>\n",
       "    </tr>\n",
       "    <tr>\n",
       "      <th>4</th>\n",
       "      <td>45.0</td>\n",
       "      <td>55.80</td>\n",
       "      <td>29.00</td>\n",
       "      <td>13.20</td>\n",
       "      <td>51.0</td>\n",
       "      <td>1</td>\n",
       "    </tr>\n",
       "    <tr>\n",
       "      <th>5</th>\n",
       "      <td>1.0</td>\n",
       "      <td>1.00</td>\n",
       "      <td>1.00</td>\n",
       "      <td>1.00</td>\n",
       "      <td>1.0</td>\n",
       "      <td>0</td>\n",
       "    </tr>\n",
       "  </tbody>\n",
       "</table>\n",
       "</div>"
      ],
      "text/plain": [
       "      0      1      2      3     4  ones\n",
       "0  50.0  58.40  30.00  15.60  45.0     1\n",
       "1  58.4  72.24  36.80  18.56  55.8     1\n",
       "2  30.0  36.80  20.25   9.20  29.0     1\n",
       "3  15.6  18.56   9.20   6.64  13.2     1\n",
       "4  45.0  55.80  29.00  13.20  51.0     1\n",
       "5   1.0   1.00   1.00   1.00   1.0     0"
      ]
     },
     "execution_count": 3,
     "metadata": {},
     "output_type": "execute_result"
    }
   ],
   "source": [
    "# Calcular K y modificar la diagonal\n",
    "gamma = 1\n",
    "K = np.dot(X, X.T)\n",
    "np.fill_diagonal(K, K.diagonal() + (1/gamma))\n",
    "\n",
    "# Convertir K en DataFrame y agregar fila y columna de unos\n",
    "K_df = pd.DataFrame(K)\n",
    "K_df['ones'] = 1\n",
    "K_df.loc[len(K_df)] = [1] * (K_df.shape[1])\n",
    "K_df.at[5, 'ones'] = 0  # Ajuste en la posición correcta\n",
    "K_df"
   ]
  },
  {
   "cell_type": "code",
   "execution_count": 4,
   "metadata": {},
   "outputs": [
    {
     "data": {
      "text/plain": [
       "array([-0.12978214,  0.06053108, -0.30878595,  0.06768309,  0.31035393,\n",
       "        0.69588783])"
      ]
     },
     "execution_count": 4,
     "metadata": {},
     "output_type": "execute_result"
    }
   ],
   "source": [
    "sol = np.linalg.solve(K_df, y)\n",
    "sol"
   ]
  },
  {
   "cell_type": "code",
   "execution_count": 5,
   "metadata": {},
   "outputs": [
    {
     "data": {
      "text/plain": [
       "(array([-0.12978214,  0.06053108, -0.30878595,  0.06768309,  0.31035393]),\n",
       " 0.6958878293317244)"
      ]
     },
     "execution_count": 5,
     "metadata": {},
     "output_type": "execute_result"
    }
   ],
   "source": [
    "alphas = sol[:-1]\n",
    "b = sol[-1]\n",
    "alphas, b"
   ]
  },
  {
   "cell_type": "code",
   "execution_count": 6,
   "metadata": {},
   "outputs": [],
   "source": [
    "# Nueva casa\n",
    "x_new = np.array([2.50, 5, 3, 3])"
   ]
  },
  {
   "cell_type": "markdown",
   "metadata": {},
   "source": [
    "$\\hat y = w^T X + b$"
   ]
  },
  {
   "cell_type": "code",
   "execution_count": 7,
   "metadata": {},
   "outputs": [
    {
     "data": {
      "text/plain": [
       "3.8340375409897844"
      ]
     },
     "execution_count": 7,
     "metadata": {},
     "output_type": "execute_result"
    }
   ],
   "source": [
    "# vector w para el modelo\n",
    "w = np.dot(alphas, X)\n",
    "\n",
    "# calculo del precio de la nueva casa (predicción)\n",
    "y_hat = np.dot(w, x_new) + b\n",
    "\n",
    "y_hat"
   ]
  },
  {
   "cell_type": "markdown",
   "metadata": {},
   "source": [
    "## Kernel polinomial"
   ]
  },
  {
   "cell_type": "code",
   "execution_count": 8,
   "metadata": {},
   "outputs": [
    {
     "data": {
      "text/html": [
       "<div>\n",
       "<style scoped>\n",
       "    .dataframe tbody tr th:only-of-type {\n",
       "        vertical-align: middle;\n",
       "    }\n",
       "\n",
       "    .dataframe tbody tr th {\n",
       "        vertical-align: top;\n",
       "    }\n",
       "\n",
       "    .dataframe thead th {\n",
       "        text-align: right;\n",
       "    }\n",
       "</style>\n",
       "<table border=\"1\" class=\"dataframe\">\n",
       "  <thead>\n",
       "    <tr style=\"text-align: right;\">\n",
       "      <th></th>\n",
       "      <th>0</th>\n",
       "      <th>1</th>\n",
       "      <th>2</th>\n",
       "      <th>3</th>\n",
       "      <th>4</th>\n",
       "    </tr>\n",
       "  </thead>\n",
       "  <tbody>\n",
       "    <tr>\n",
       "      <th>0</th>\n",
       "      <td>2500.00</td>\n",
       "      <td>3528.3600</td>\n",
       "      <td>961.0000</td>\n",
       "      <td>275.5600</td>\n",
       "      <td>2116.00</td>\n",
       "    </tr>\n",
       "    <tr>\n",
       "      <th>1</th>\n",
       "      <td>3528.36</td>\n",
       "      <td>5218.6176</td>\n",
       "      <td>1428.8400</td>\n",
       "      <td>382.5936</td>\n",
       "      <td>3226.24</td>\n",
       "    </tr>\n",
       "    <tr>\n",
       "      <th>2</th>\n",
       "      <td>961.00</td>\n",
       "      <td>1428.8400</td>\n",
       "      <td>410.0625</td>\n",
       "      <td>104.0400</td>\n",
       "      <td>900.00</td>\n",
       "    </tr>\n",
       "    <tr>\n",
       "      <th>3</th>\n",
       "      <td>275.56</td>\n",
       "      <td>382.5936</td>\n",
       "      <td>104.0400</td>\n",
       "      <td>44.0896</td>\n",
       "      <td>201.64</td>\n",
       "    </tr>\n",
       "    <tr>\n",
       "      <th>4</th>\n",
       "      <td>2116.00</td>\n",
       "      <td>3226.2400</td>\n",
       "      <td>900.0000</td>\n",
       "      <td>201.6400</td>\n",
       "      <td>2601.00</td>\n",
       "    </tr>\n",
       "  </tbody>\n",
       "</table>\n",
       "</div>"
      ],
      "text/plain": [
       "         0          1          2         3        4\n",
       "0  2500.00  3528.3600   961.0000  275.5600  2116.00\n",
       "1  3528.36  5218.6176  1428.8400  382.5936  3226.24\n",
       "2   961.00  1428.8400   410.0625  104.0400   900.00\n",
       "3   275.56   382.5936   104.0400   44.0896   201.64\n",
       "4  2116.00  3226.2400   900.0000  201.6400  2601.00"
      ]
     },
     "execution_count": 8,
     "metadata": {},
     "output_type": "execute_result"
    }
   ],
   "source": [
    "## Kernel polinomial\n",
    "K = np.dot(X, X.T)\n",
    "K_df_lineal = pd.DataFrame(K)\n",
    "K_df_lineal\n",
    "\n",
    "K_pol = K_df_lineal + 1\n",
    "K_pol = K_pol ** 2\n",
    "K_pol"
   ]
  },
  {
   "cell_type": "code",
   "execution_count": 9,
   "metadata": {},
   "outputs": [
    {
     "data": {
      "text/html": [
       "<div>\n",
       "<style scoped>\n",
       "    .dataframe tbody tr th:only-of-type {\n",
       "        vertical-align: middle;\n",
       "    }\n",
       "\n",
       "    .dataframe tbody tr th {\n",
       "        vertical-align: top;\n",
       "    }\n",
       "\n",
       "    .dataframe thead th {\n",
       "        text-align: right;\n",
       "    }\n",
       "</style>\n",
       "<table border=\"1\" class=\"dataframe\">\n",
       "  <thead>\n",
       "    <tr style=\"text-align: right;\">\n",
       "      <th></th>\n",
       "      <th>0</th>\n",
       "      <th>1</th>\n",
       "      <th>2</th>\n",
       "      <th>3</th>\n",
       "      <th>4</th>\n",
       "      <th>ones</th>\n",
       "    </tr>\n",
       "  </thead>\n",
       "  <tbody>\n",
       "    <tr>\n",
       "      <th>0</th>\n",
       "      <td>2501.00</td>\n",
       "      <td>3528.3600</td>\n",
       "      <td>961.0000</td>\n",
       "      <td>275.5600</td>\n",
       "      <td>2116.00</td>\n",
       "      <td>1</td>\n",
       "    </tr>\n",
       "    <tr>\n",
       "      <th>1</th>\n",
       "      <td>3528.36</td>\n",
       "      <td>5219.6176</td>\n",
       "      <td>1428.8400</td>\n",
       "      <td>382.5936</td>\n",
       "      <td>3226.24</td>\n",
       "      <td>1</td>\n",
       "    </tr>\n",
       "    <tr>\n",
       "      <th>2</th>\n",
       "      <td>961.00</td>\n",
       "      <td>1428.8400</td>\n",
       "      <td>411.0625</td>\n",
       "      <td>104.0400</td>\n",
       "      <td>900.00</td>\n",
       "      <td>1</td>\n",
       "    </tr>\n",
       "    <tr>\n",
       "      <th>3</th>\n",
       "      <td>275.56</td>\n",
       "      <td>382.5936</td>\n",
       "      <td>104.0400</td>\n",
       "      <td>45.0896</td>\n",
       "      <td>201.64</td>\n",
       "      <td>1</td>\n",
       "    </tr>\n",
       "    <tr>\n",
       "      <th>4</th>\n",
       "      <td>2116.00</td>\n",
       "      <td>3226.2400</td>\n",
       "      <td>900.0000</td>\n",
       "      <td>201.6400</td>\n",
       "      <td>2602.00</td>\n",
       "      <td>1</td>\n",
       "    </tr>\n",
       "    <tr>\n",
       "      <th>5</th>\n",
       "      <td>1.00</td>\n",
       "      <td>1.0000</td>\n",
       "      <td>1.0000</td>\n",
       "      <td>1.0000</td>\n",
       "      <td>1.00</td>\n",
       "      <td>0</td>\n",
       "    </tr>\n",
       "  </tbody>\n",
       "</table>\n",
       "</div>"
      ],
      "text/plain": [
       "         0          1          2         3        4  ones\n",
       "0  2501.00  3528.3600   961.0000  275.5600  2116.00     1\n",
       "1  3528.36  5219.6176  1428.8400  382.5936  3226.24     1\n",
       "2   961.00  1428.8400   411.0625  104.0400   900.00     1\n",
       "3   275.56   382.5936   104.0400   45.0896   201.64     1\n",
       "4  2116.00  3226.2400   900.0000  201.6400  2602.00     1\n",
       "5     1.00     1.0000     1.0000    1.0000     1.00     0"
      ]
     },
     "execution_count": 9,
     "metadata": {},
     "output_type": "execute_result"
    }
   ],
   "source": [
    "K_pol = np.array(K_pol)\n",
    "np.fill_diagonal(K_pol, K_pol.diagonal() + (1/gamma))\n",
    "\n",
    "K_pol = pd.DataFrame(K_pol)\n",
    "# Convertir K en DataFrame y agregar fila y columna de unos\n",
    "K_pol['ones'] = 1\n",
    "K_pol.loc[len(K_pol)] = [1] * (K_pol.shape[1])\n",
    "K_pol.at[5, 'ones'] = 0  # Ajuste en la posición correcta\n",
    "K_pol"
   ]
  },
  {
   "cell_type": "code",
   "execution_count": 10,
   "metadata": {},
   "outputs": [
    {
     "data": {
      "text/plain": [
       "array([ 1.59632399e-03, -2.89066848e-03,  3.65021182e-04, -3.23594646e-03,\n",
       "        4.16526977e-03,  1.43411395e+00])"
      ]
     },
     "execution_count": 10,
     "metadata": {},
     "output_type": "execute_result"
    }
   ],
   "source": [
    "sol_pol = np.linalg.solve(K_pol, y)\n",
    "sol_pol"
   ]
  },
  {
   "cell_type": "code",
   "execution_count": 11,
   "metadata": {},
   "outputs": [
    {
     "data": {
      "text/plain": [
       "(array([ 0.00159632, -0.00289067,  0.00036502, -0.00323595,  0.00416527]),\n",
       " 1.4341139522388606)"
      ]
     },
     "execution_count": 11,
     "metadata": {},
     "output_type": "execute_result"
    }
   ],
   "source": [
    "alphas_pol = sol_pol[:-1]\n",
    "b_pol = sol_pol[-1]\n",
    "alphas_pol, b_pol"
   ]
  },
  {
   "cell_type": "code",
   "execution_count": 12,
   "metadata": {},
   "outputs": [],
   "source": [
    "# Nueva casa\n",
    "x_new = np.array([2.50, 5, 3, 3])"
   ]
  },
  {
   "cell_type": "code",
   "execution_count": 13,
   "metadata": {},
   "outputs": [
    {
     "data": {
      "text/plain": [
       "3.601124121460885"
      ]
     },
     "execution_count": 13,
     "metadata": {},
     "output_type": "execute_result"
    }
   ],
   "source": [
    "w_values = []\n",
    "\n",
    "for i in range (len(X)):\n",
    "    valor = (np.dot(X[i], x_new) + 1) ** 2 * (alphas_pol[i])\n",
    "    w_values.append(valor)\n",
    "\n",
    "np.sum(w_values) + b_pol"
   ]
  }
 ],
 "metadata": {
  "kernelspec": {
   "display_name": "base",
   "language": "python",
   "name": "python3"
  },
  "language_info": {
   "codemirror_mode": {
    "name": "ipython",
    "version": 3
   },
   "file_extension": ".py",
   "mimetype": "text/x-python",
   "name": "python",
   "nbconvert_exporter": "python",
   "pygments_lexer": "ipython3",
   "version": "3.12.3"
  }
 },
 "nbformat": 4,
 "nbformat_minor": 2
}
