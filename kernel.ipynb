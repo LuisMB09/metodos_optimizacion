{
 "cells": [
  {
   "cell_type": "code",
   "execution_count": 1,
   "metadata": {},
   "outputs": [],
   "source": [
    "import numpy as np"
   ]
  },
  {
   "cell_type": "markdown",
   "metadata": {},
   "source": [
    "## Datos"
   ]
  },
  {
   "cell_type": "code",
   "execution_count": 4,
   "metadata": {},
   "outputs": [],
   "source": [
    "X = np.array([\n",
    "    [200, 5, 2, 4],\n",
    "    [320, 6, 3, 4],\n",
    "    [150, 3, 2, 2],\n",
    "    [80, 2, 0, 1],\n",
    "    [400, 3, 3, 4],\n",
    "])\n",
    "\n",
    "y = np.array([\n",
    "    3.5,\n",
    "    4.7,\n",
    "    2.4,\n",
    "    1,5,\n",
    "    6\n",
    "])"
   ]
  },
  {
   "cell_type": "markdown",
   "metadata": {},
   "source": [
    "## Matriz Kernel"
   ]
  },
  {
   "cell_type": "code",
   "execution_count": 10,
   "metadata": {},
   "outputs": [
    {
     "data": {
      "text/plain": [
       "array([[ 40045,  64052,  30027,  16014,  80037],\n",
       "       [ 64052, 102461,  48032,  25616, 128043],\n",
       "       [ 30027,  48032,  22517,  12008,  60023],\n",
       "       [ 16014,  25616,  12008,   6405,  32010],\n",
       "       [ 80037, 128043,  60023,  32010, 160034]])"
      ]
     },
     "execution_count": 10,
     "metadata": {},
     "output_type": "execute_result"
    }
   ],
   "source": [
    "K = np.dot(X,X.T)\n",
    "K"
   ]
  }
 ],
 "metadata": {
  "kernelspec": {
   "display_name": "base",
   "language": "python",
   "name": "python3"
  },
  "language_info": {
   "codemirror_mode": {
    "name": "ipython",
    "version": 3
   },
   "file_extension": ".py",
   "mimetype": "text/x-python",
   "name": "python",
   "nbconvert_exporter": "python",
   "pygments_lexer": "ipython3",
   "version": "3.12.3"
  }
 },
 "nbformat": 4,
 "nbformat_minor": 2
}
