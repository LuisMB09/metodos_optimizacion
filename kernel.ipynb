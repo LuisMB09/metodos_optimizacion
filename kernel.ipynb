{
 "cells": [
  {
   "cell_type": "code",
   "execution_count": 1,
   "metadata": {},
   "outputs": [],
   "source": [
    "import numpy as np\n",
    "import pandas as pd"
   ]
  },
  {
   "cell_type": "markdown",
   "metadata": {},
   "source": [
    "## Datos"
   ]
  },
  {
   "cell_type": "code",
   "execution_count": 2,
   "metadata": {},
   "outputs": [],
   "source": [
    "X = np.array([\n",
    "    [200, 5, 2, 4],\n",
    "    [320, 6, 3, 4],\n",
    "    [150, 3, 2, 2],\n",
    "    [80, 2, 0, 1],\n",
    "    [400, 3, 3, 4],\n",
    "])\n",
    "\n",
    "y = np.array([\n",
    "    3.5,\n",
    "    4.7,\n",
    "    2.4,\n",
    "    1.5,\n",
    "    6.0,\n",
    "    0  # Valor agregado para que coincida con el tamaño de K_df\n",
    "])"
   ]
  },
  {
   "cell_type": "markdown",
   "metadata": {},
   "source": [
    "## Matriz Kernel"
   ]
  },
  {
   "cell_type": "markdown",
   "metadata": {},
   "source": [
    "\\begin{bmatrix}\n",
    "K + \\frac{1}{gamma}I & 1 \\\\\n",
    "1^T & 0 \\\\\n",
    "\\end{bmatrix}\n",
    "\n",
    "Esto multiplicado por \n",
    "\n",
    "\\begin{bmatrix}\n",
    "\\alpha \\\\\n",
    "b \\\\\n",
    "\\end{bmatrix}\n",
    "\n",
    "Es igual a \n",
    "\\begin{bmatrix}\n",
    "Y \\\\\n",
    "0 \\\\\n",
    "\\end{bmatrix}"
   ]
  },
  {
   "cell_type": "markdown",
   "metadata": {},
   "source": [
    "Se multiplica casa por casa, analiza cuanto se parecen, mientras más alto más se parecen las casas."
   ]
  },
  {
   "cell_type": "code",
   "execution_count": 3,
   "metadata": {},
   "outputs": [
    {
     "data": {
      "text/html": [
       "<div>\n",
       "<style scoped>\n",
       "    .dataframe tbody tr th:only-of-type {\n",
       "        vertical-align: middle;\n",
       "    }\n",
       "\n",
       "    .dataframe tbody tr th {\n",
       "        vertical-align: top;\n",
       "    }\n",
       "\n",
       "    .dataframe thead th {\n",
       "        text-align: right;\n",
       "    }\n",
       "</style>\n",
       "<table border=\"1\" class=\"dataframe\">\n",
       "  <thead>\n",
       "    <tr style=\"text-align: right;\">\n",
       "      <th></th>\n",
       "      <th>0</th>\n",
       "      <th>1</th>\n",
       "      <th>2</th>\n",
       "      <th>3</th>\n",
       "      <th>4</th>\n",
       "      <th>ones</th>\n",
       "    </tr>\n",
       "  </thead>\n",
       "  <tbody>\n",
       "    <tr>\n",
       "      <th>0</th>\n",
       "      <td>40046</td>\n",
       "      <td>64052</td>\n",
       "      <td>30027</td>\n",
       "      <td>16014</td>\n",
       "      <td>80037</td>\n",
       "      <td>1</td>\n",
       "    </tr>\n",
       "    <tr>\n",
       "      <th>1</th>\n",
       "      <td>64052</td>\n",
       "      <td>102462</td>\n",
       "      <td>48032</td>\n",
       "      <td>25616</td>\n",
       "      <td>128043</td>\n",
       "      <td>1</td>\n",
       "    </tr>\n",
       "    <tr>\n",
       "      <th>2</th>\n",
       "      <td>30027</td>\n",
       "      <td>48032</td>\n",
       "      <td>22518</td>\n",
       "      <td>12008</td>\n",
       "      <td>60023</td>\n",
       "      <td>1</td>\n",
       "    </tr>\n",
       "    <tr>\n",
       "      <th>3</th>\n",
       "      <td>16014</td>\n",
       "      <td>25616</td>\n",
       "      <td>12008</td>\n",
       "      <td>6406</td>\n",
       "      <td>32010</td>\n",
       "      <td>1</td>\n",
       "    </tr>\n",
       "    <tr>\n",
       "      <th>4</th>\n",
       "      <td>80037</td>\n",
       "      <td>128043</td>\n",
       "      <td>60023</td>\n",
       "      <td>32010</td>\n",
       "      <td>160035</td>\n",
       "      <td>1</td>\n",
       "    </tr>\n",
       "    <tr>\n",
       "      <th>5</th>\n",
       "      <td>1</td>\n",
       "      <td>1</td>\n",
       "      <td>1</td>\n",
       "      <td>1</td>\n",
       "      <td>1</td>\n",
       "      <td>0</td>\n",
       "    </tr>\n",
       "  </tbody>\n",
       "</table>\n",
       "</div>"
      ],
      "text/plain": [
       "       0       1      2      3       4  ones\n",
       "0  40046   64052  30027  16014   80037     1\n",
       "1  64052  102462  48032  25616  128043     1\n",
       "2  30027   48032  22518  12008   60023     1\n",
       "3  16014   25616  12008   6406   32010     1\n",
       "4  80037  128043  60023  32010  160035     1\n",
       "5      1       1      1      1       1     0"
      ]
     },
     "execution_count": 3,
     "metadata": {},
     "output_type": "execute_result"
    }
   ],
   "source": [
    "# Calcular K y modificar la diagonal\n",
    "gamma = 1\n",
    "K = np.dot(X, X.T)\n",
    "np.fill_diagonal(K, K.diagonal() + (1/gamma))\n",
    "\n",
    "# Convertir K en DataFrame y agregar fila y columna de unos\n",
    "K_df = pd.DataFrame(K)\n",
    "K_df['ones'] = 1\n",
    "K_df.loc[len(K_df)] = [1] * (K_df.shape[1])\n",
    "K_df.at[5, 'ones'] = 0  # Ajuste en la posición correcta\n",
    "K_df"
   ]
  },
  {
   "cell_type": "code",
   "execution_count": 4,
   "metadata": {},
   "outputs": [
    {
     "data": {
      "text/plain": [
       "array([ 0.14508433, -0.11460348, -0.06005986, -0.01514511,  0.04472413,\n",
       "        0.40140098])"
      ]
     },
     "execution_count": 4,
     "metadata": {},
     "output_type": "execute_result"
    }
   ],
   "source": [
    "sol = np.linalg.solve(K_df, y)\n",
    "sol"
   ]
  },
  {
   "cell_type": "code",
   "execution_count": 5,
   "metadata": {},
   "outputs": [
    {
     "data": {
      "text/plain": [
       "(array([ 0.14508433, -0.11460348, -0.06005986, -0.01514511,  0.04472413]),\n",
       " 0.40140097559367055)"
      ]
     },
     "execution_count": 5,
     "metadata": {},
     "output_type": "execute_result"
    }
   ],
   "source": [
    "alphas = sol[:-1]\n",
    "b = sol[-1]\n",
    "alphas, b"
   ]
  },
  {
   "cell_type": "code",
   "execution_count": 6,
   "metadata": {},
   "outputs": [],
   "source": [
    "# Nueva casa\n",
    "x_new = np.array([250, 5, 3, 3])"
   ]
  },
  {
   "cell_type": "markdown",
   "metadata": {},
   "source": [
    "$\\hat y = w^T X + b$"
   ]
  },
  {
   "cell_type": "code",
   "execution_count": 7,
   "metadata": {},
   "outputs": [
    {
     "data": {
      "text/plain": [
       "3.7905104763035973"
      ]
     },
     "execution_count": 7,
     "metadata": {},
     "output_type": "execute_result"
    }
   ],
   "source": [
    "# vector w para el modelo\n",
    "w = np.dot(alphas, X)\n",
    "\n",
    "# calculo del precio de la nueva casa (predicción)\n",
    "y_hat = np.dot(w, x_new) + b\n",
    "\n",
    "y_hat"
   ]
  },
  {
   "cell_type": "code",
   "execution_count": 15,
   "metadata": {},
   "outputs": [
    {
     "data": {
      "text/html": [
       "<div>\n",
       "<style scoped>\n",
       "    .dataframe tbody tr th:only-of-type {\n",
       "        vertical-align: middle;\n",
       "    }\n",
       "\n",
       "    .dataframe tbody tr th {\n",
       "        vertical-align: top;\n",
       "    }\n",
       "\n",
       "    .dataframe thead th {\n",
       "        text-align: right;\n",
       "    }\n",
       "</style>\n",
       "<table border=\"1\" class=\"dataframe\">\n",
       "  <thead>\n",
       "    <tr style=\"text-align: right;\">\n",
       "      <th></th>\n",
       "      <th>0</th>\n",
       "      <th>1</th>\n",
       "      <th>2</th>\n",
       "      <th>3</th>\n",
       "      <th>4</th>\n",
       "    </tr>\n",
       "  </thead>\n",
       "  <tbody>\n",
       "    <tr>\n",
       "      <th>0</th>\n",
       "      <td>1603682116</td>\n",
       "      <td>4102786809</td>\n",
       "      <td>901680784</td>\n",
       "      <td>256480225</td>\n",
       "      <td>6406081444</td>\n",
       "    </tr>\n",
       "    <tr>\n",
       "      <th>1</th>\n",
       "      <td>4102786809</td>\n",
       "      <td>10498461444</td>\n",
       "      <td>2307169089</td>\n",
       "      <td>656230689</td>\n",
       "      <td>16395265936</td>\n",
       "    </tr>\n",
       "    <tr>\n",
       "      <th>2</th>\n",
       "      <td>901680784</td>\n",
       "      <td>2307169089</td>\n",
       "      <td>507060324</td>\n",
       "      <td>144216081</td>\n",
       "      <td>3602880576</td>\n",
       "    </tr>\n",
       "    <tr>\n",
       "      <th>3</th>\n",
       "      <td>256480225</td>\n",
       "      <td>656230689</td>\n",
       "      <td>144216081</td>\n",
       "      <td>41036836</td>\n",
       "      <td>1024704121</td>\n",
       "    </tr>\n",
       "    <tr>\n",
       "      <th>4</th>\n",
       "      <td>6406081444</td>\n",
       "      <td>16395265936</td>\n",
       "      <td>3602880576</td>\n",
       "      <td>1024704121</td>\n",
       "      <td>25611201225</td>\n",
       "    </tr>\n",
       "  </tbody>\n",
       "</table>\n",
       "</div>"
      ],
      "text/plain": [
       "            0            1           2           3            4\n",
       "0  1603682116   4102786809   901680784   256480225   6406081444\n",
       "1  4102786809  10498461444  2307169089   656230689  16395265936\n",
       "2   901680784   2307169089   507060324   144216081   3602880576\n",
       "3   256480225    656230689   144216081    41036836   1024704121\n",
       "4  6406081444  16395265936  3602880576  1024704121  25611201225"
      ]
     },
     "execution_count": 15,
     "metadata": {},
     "output_type": "execute_result"
    }
   ],
   "source": [
    "## Kernel polinomial\n",
    "\n",
    "K = np.dot(X, X.T)\n",
    "K_df_lineal = pd.DataFrame(K)\n",
    "K_df_lineal\n",
    "\n",
    "K_df_pol = K_df_lineal + 1\n",
    "K_df_pol = K_df_pol ** 2\n",
    "K_df_pol"
   ]
  }
 ],
 "metadata": {
  "kernelspec": {
   "display_name": "base",
   "language": "python",
   "name": "python3"
  },
  "language_info": {
   "codemirror_mode": {
    "name": "ipython",
    "version": 3
   },
   "file_extension": ".py",
   "mimetype": "text/x-python",
   "name": "python",
   "nbconvert_exporter": "python",
   "pygments_lexer": "ipython3",
   "version": "3.12.3"
  }
 },
 "nbformat": 4,
 "nbformat_minor": 2
}
