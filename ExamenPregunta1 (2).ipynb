{
 "cells": [
  {
   "cell_type": "code",
   "execution_count": 1,
   "metadata": {
    "id": "BLB4VLWUqf4T"
   },
   "outputs": [],
   "source": [
    "import pandas as pd\n",
    "import numpy as np\n",
    "import matplotlib.pyplot as plt\n",
    "import seaborn as sns\n",
    "import warnings\n",
    "warnings.filterwarnings('ignore')\n",
    "\n",
    "# librerías enfocadas en Machine-Learning\n",
    "import sklearn\n",
    "from sklearn.metrics.pairwise import polynomial_kernel"
   ]
  },
  {
   "cell_type": "markdown",
   "metadata": {
    "id": "WfqLiwxRgV1x"
   },
   "source": [
    "# Lineal"
   ]
  },
  {
   "cell_type": "code",
   "execution_count": 2,
   "metadata": {
    "id": "toHLKrW1IYlx"
   },
   "outputs": [],
   "source": [
    "import numpy as np\n",
    "\n",
    "# Matriz X\n",
    "x = np.array([\n",
    "    [1, 2, 3, 4, 5],\n",
    "    [2, 4, 6, 8, 10],\n",
    "    [3, 6, 9, 12, 15],\n",
    "    [4, 8, 12, 16, 20]\n",
    "])\n",
    "\n",
    "# Vector Y\n",
    "y = np.array([10, 20, 30, 40])\n"
   ]
  },
  {
   "cell_type": "markdown",
   "metadata": {
    "id": "B0GGlrWhmM-3"
   },
   "source": [
    "## Generación de kernel"
   ]
  },
  {
   "cell_type": "code",
   "execution_count": 3,
   "metadata": {
    "id": "24PeHWMQq0S_"
   },
   "outputs": [],
   "source": [
    "k_pol = sklearn.metrics.pairwise.polynomial_kernel(x, Y=None, degree=1, gamma=1, coef0=0)\n"
   ]
  },
  {
   "cell_type": "code",
   "execution_count": 4,
   "metadata": {
    "colab": {
     "base_uri": "https://localhost:8080/",
     "height": 0
    },
    "id": "igA13mAJw1Dy",
    "outputId": "1024e815-3a10-46fc-b110-76b33d961167"
   },
   "outputs": [
    {
     "data": {
      "text/plain": [
       "array([[ 55., 110., 165., 220.],\n",
       "       [110., 220., 330., 440.],\n",
       "       [165., 330., 495., 660.],\n",
       "       [220., 440., 660., 880.]])"
      ]
     },
     "execution_count": 4,
     "metadata": {},
     "output_type": "execute_result"
    }
   ],
   "source": [
    "k_pol"
   ]
  },
  {
   "cell_type": "code",
   "execution_count": 5,
   "metadata": {
    "id": "RlKV5deWrvSI"
   },
   "outputs": [],
   "source": [
    "gamma_r = 0.5"
   ]
  },
  {
   "cell_type": "code",
   "execution_count": 6,
   "metadata": {
    "colab": {
     "base_uri": "https://localhost:8080/",
     "height": 206
    },
    "id": "nLPHk4Hlq4sX",
    "outputId": "12932f95-86fb-4493-8ce9-5952b00fca8e"
   },
   "outputs": [
    {
     "data": {
      "text/html": [
       "<div>\n",
       "<style scoped>\n",
       "    .dataframe tbody tr th:only-of-type {\n",
       "        vertical-align: middle;\n",
       "    }\n",
       "\n",
       "    .dataframe tbody tr th {\n",
       "        vertical-align: top;\n",
       "    }\n",
       "\n",
       "    .dataframe thead th {\n",
       "        text-align: right;\n",
       "    }\n",
       "</style>\n",
       "<table border=\"1\" class=\"dataframe\">\n",
       "  <thead>\n",
       "    <tr style=\"text-align: right;\">\n",
       "      <th></th>\n",
       "      <th>0</th>\n",
       "      <th>1</th>\n",
       "      <th>2</th>\n",
       "      <th>3</th>\n",
       "      <th>1v</th>\n",
       "    </tr>\n",
       "  </thead>\n",
       "  <tbody>\n",
       "    <tr>\n",
       "      <th>0</th>\n",
       "      <td>57.0</td>\n",
       "      <td>110.0</td>\n",
       "      <td>165.0</td>\n",
       "      <td>220.0</td>\n",
       "      <td>1</td>\n",
       "    </tr>\n",
       "    <tr>\n",
       "      <th>1</th>\n",
       "      <td>110.0</td>\n",
       "      <td>222.0</td>\n",
       "      <td>330.0</td>\n",
       "      <td>440.0</td>\n",
       "      <td>1</td>\n",
       "    </tr>\n",
       "    <tr>\n",
       "      <th>2</th>\n",
       "      <td>165.0</td>\n",
       "      <td>330.0</td>\n",
       "      <td>497.0</td>\n",
       "      <td>660.0</td>\n",
       "      <td>1</td>\n",
       "    </tr>\n",
       "    <tr>\n",
       "      <th>3</th>\n",
       "      <td>220.0</td>\n",
       "      <td>440.0</td>\n",
       "      <td>660.0</td>\n",
       "      <td>882.0</td>\n",
       "      <td>1</td>\n",
       "    </tr>\n",
       "    <tr>\n",
       "      <th>4</th>\n",
       "      <td>1.0</td>\n",
       "      <td>1.0</td>\n",
       "      <td>1.0</td>\n",
       "      <td>1.0</td>\n",
       "      <td>0</td>\n",
       "    </tr>\n",
       "  </tbody>\n",
       "</table>\n",
       "</div>"
      ],
      "text/plain": [
       "       0      1      2      3  1v\n",
       "0   57.0  110.0  165.0  220.0   1\n",
       "1  110.0  222.0  330.0  440.0   1\n",
       "2  165.0  330.0  497.0  660.0   1\n",
       "3  220.0  440.0  660.0  882.0   1\n",
       "4    1.0    1.0    1.0    1.0   0"
      ]
     },
     "execution_count": 6,
     "metadata": {},
     "output_type": "execute_result"
    }
   ],
   "source": [
    "np.fill_diagonal(k_pol, k_pol.diagonal() + (1/gamma_r))\n",
    "\n",
    "kernel = pd.DataFrame(k_pol)\n",
    "kernel['1v'] = 1\n",
    "kernel.loc[len(kernel)] = [1] * (kernel.shape[1])\n",
    "kernel.at[4, '1v'] = 0\n",
    "kernel"
   ]
  },
  {
   "cell_type": "code",
   "execution_count": 7,
   "metadata": {
    "colab": {
     "base_uri": "https://localhost:8080/",
     "height": 0
    },
    "id": "eVvKVCmqq7i7",
    "outputId": "c490efc3-880c-4d88-fa11-dfd67f18a451"
   },
   "outputs": [
    {
     "data": {
      "text/plain": [
       "array([[10],\n",
       "       [20],\n",
       "       [30],\n",
       "       [40],\n",
       "       [ 0]])"
      ]
     },
     "execution_count": 7,
     "metadata": {},
     "output_type": "execute_result"
    }
   ],
   "source": [
    "finalY = np.hstack([y, np.array([0])])\n",
    "y_col = finalY.reshape(-1, 1)\n",
    "y_col"
   ]
  },
  {
   "cell_type": "code",
   "execution_count": 8,
   "metadata": {
    "colab": {
     "base_uri": "https://localhost:8080/",
     "height": 0
    },
    "id": "xhICw08thlET",
    "outputId": "8efcc0f4-29d9-472e-a866-465d275bcdbd"
   },
   "outputs": [
    {
     "data": {
      "text/plain": [
       "array([[10],\n",
       "       [20],\n",
       "       [30],\n",
       "       [40],\n",
       "       [ 0]])"
      ]
     },
     "execution_count": 8,
     "metadata": {},
     "output_type": "execute_result"
    }
   ],
   "source": [
    "y_col"
   ]
  },
  {
   "cell_type": "markdown",
   "metadata": {
    "id": "XsvwuZHMmWhr"
   },
   "source": [
    "## Sistema de ecuaciones"
   ]
  },
  {
   "cell_type": "code",
   "execution_count": 9,
   "metadata": {
    "colab": {
     "base_uri": "https://localhost:8080/",
     "height": 0
    },
    "id": "-otoBlvorCwH",
    "outputId": "4587e179-efe9-4388-e64b-46185338b073"
   },
   "outputs": [
    {
     "data": {
      "text/plain": [
       "array([[-0.05415162],\n",
       "       [-0.01805054],\n",
       "       [ 0.01805054],\n",
       "       [ 0.05415162],\n",
       "       [ 0.18050542]])"
      ]
     },
     "execution_count": 9,
     "metadata": {},
     "output_type": "execute_result"
    }
   ],
   "source": [
    "sol = np.linalg.solve(kernel, y_col)\n",
    "sol"
   ]
  },
  {
   "cell_type": "markdown",
   "metadata": {
    "id": "Y9DcTXJVmZZv"
   },
   "source": [
    "## Cálculo de $\\alpha$  y $b$"
   ]
  },
  {
   "cell_type": "code",
   "execution_count": 10,
   "metadata": {
    "colab": {
     "base_uri": "https://localhost:8080/",
     "height": 0
    },
    "id": "CzOAC715riNU",
    "outputId": "ed73811f-4f4a-4318-ea77-9fe3cec7e8c1"
   },
   "outputs": [
    {
     "data": {
      "text/plain": [
       "(array([[-0.05415162],\n",
       "        [-0.01805054],\n",
       "        [ 0.01805054],\n",
       "        [ 0.05415162]]),\n",
       " array([0.18050542]))"
      ]
     },
     "execution_count": 10,
     "metadata": {},
     "output_type": "execute_result"
    }
   ],
   "source": [
    "alphas = sol[:-1]\n",
    "b = sol[-1]\n",
    "alphas, b"
   ]
  },
  {
   "cell_type": "markdown",
   "metadata": {
    "id": "3WWbS2AbmjYa"
   },
   "source": [
    "## Predicción"
   ]
  },
  {
   "cell_type": "code",
   "execution_count": 11,
   "metadata": {
    "id": "qQue1jTftedR"
   },
   "outputs": [],
   "source": [
    "nuevo = np.array([5, 10, 15, 20 ,25])"
   ]
  },
  {
   "cell_type": "code",
   "execution_count": 12,
   "metadata": {
    "id": "uWuCajPzyfMZ"
   },
   "outputs": [],
   "source": [
    "nuevo_r = nuevo.reshape(1, -1)"
   ]
  },
  {
   "cell_type": "code",
   "execution_count": 13,
   "metadata": {
    "id": "QPHTNlMXteri"
   },
   "outputs": [],
   "source": [
    "nuevo_pred = sklearn.metrics.pairwise.polynomial_kernel(x, Y=nuevo_r, degree=1, gamma=1, coef0=0)\n"
   ]
  },
  {
   "cell_type": "code",
   "execution_count": 14,
   "metadata": {
    "colab": {
     "base_uri": "https://localhost:8080/",
     "height": 0
    },
    "id": "ZqrUvgkuuQkN",
    "outputId": "ab0fac61-80c9-437d-b610-45132526d3b1"
   },
   "outputs": [
    {
     "data": {
      "text/plain": [
       "array([[49.81949458]])"
      ]
     },
     "execution_count": 14,
     "metadata": {},
     "output_type": "execute_result"
    }
   ],
   "source": [
    "nuevo_res = np.dot(alphas.T, nuevo_pred) + b\n",
    "nuevo_res"
   ]
  },
  {
   "cell_type": "markdown",
   "metadata": {
    "id": "ePZ78aObhP-y"
   },
   "source": [
    "# Polinomial"
   ]
  },
  {
   "cell_type": "markdown",
   "metadata": {
    "id": "RrevTlUBm2br"
   },
   "source": [
    "## Generación de kernel"
   ]
  },
  {
   "cell_type": "code",
   "execution_count": 15,
   "metadata": {
    "id": "cja-HMeZiGEx"
   },
   "outputs": [],
   "source": [
    "k_pol = sklearn.metrics.pairwise.polynomial_kernel(x, Y=None, degree=5, gamma=1, coef0=1)\n"
   ]
  },
  {
   "cell_type": "code",
   "execution_count": 16,
   "metadata": {
    "colab": {
     "base_uri": "https://localhost:8080/",
     "height": 0
    },
    "id": "X5vVfkIE7VvB",
    "outputId": "83ab7e53-3a14-4e01-81af-72ececab3822"
   },
   "outputs": [
    {
     "data": {
      "text/plain": [
       "array([[5.50731776e+08, 1.68505816e+10, 1.26049301e+11, 5.27182965e+11],\n",
       "       [1.68505816e+10, 5.27182965e+11, 3.97319581e+12, 1.66798810e+13],\n",
       "       [1.26049301e+11, 3.97319581e+12, 3.00198406e+13, 1.26184874e+14],\n",
       "       [5.27182965e+11, 1.66798810e+13, 1.26184874e+14, 5.30737216e+14]])"
      ]
     },
     "execution_count": 16,
     "metadata": {},
     "output_type": "execute_result"
    }
   ],
   "source": [
    "k_pol"
   ]
  },
  {
   "cell_type": "code",
   "execution_count": 17,
   "metadata": {
    "id": "BULIPy9uiGEx"
   },
   "outputs": [],
   "source": [
    "gamma_r = 7"
   ]
  },
  {
   "cell_type": "code",
   "execution_count": 18,
   "metadata": {
    "colab": {
     "base_uri": "https://localhost:8080/",
     "height": 206
    },
    "id": "7rFqIO9miGEx",
    "outputId": "b8827d72-d144-4051-c4ac-6129612b7c6a"
   },
   "outputs": [
    {
     "data": {
      "text/html": [
       "<div>\n",
       "<style scoped>\n",
       "    .dataframe tbody tr th:only-of-type {\n",
       "        vertical-align: middle;\n",
       "    }\n",
       "\n",
       "    .dataframe tbody tr th {\n",
       "        vertical-align: top;\n",
       "    }\n",
       "\n",
       "    .dataframe thead th {\n",
       "        text-align: right;\n",
       "    }\n",
       "</style>\n",
       "<table border=\"1\" class=\"dataframe\">\n",
       "  <thead>\n",
       "    <tr style=\"text-align: right;\">\n",
       "      <th></th>\n",
       "      <th>0</th>\n",
       "      <th>1</th>\n",
       "      <th>2</th>\n",
       "      <th>3</th>\n",
       "      <th>1v</th>\n",
       "    </tr>\n",
       "  </thead>\n",
       "  <tbody>\n",
       "    <tr>\n",
       "      <th>0</th>\n",
       "      <td>5.507318e+08</td>\n",
       "      <td>1.685058e+10</td>\n",
       "      <td>1.260493e+11</td>\n",
       "      <td>5.271830e+11</td>\n",
       "      <td>1</td>\n",
       "    </tr>\n",
       "    <tr>\n",
       "      <th>1</th>\n",
       "      <td>1.685058e+10</td>\n",
       "      <td>5.271830e+11</td>\n",
       "      <td>3.973196e+12</td>\n",
       "      <td>1.667988e+13</td>\n",
       "      <td>1</td>\n",
       "    </tr>\n",
       "    <tr>\n",
       "      <th>2</th>\n",
       "      <td>1.260493e+11</td>\n",
       "      <td>3.973196e+12</td>\n",
       "      <td>3.001984e+13</td>\n",
       "      <td>1.261849e+14</td>\n",
       "      <td>1</td>\n",
       "    </tr>\n",
       "    <tr>\n",
       "      <th>3</th>\n",
       "      <td>5.271830e+11</td>\n",
       "      <td>1.667988e+13</td>\n",
       "      <td>1.261849e+14</td>\n",
       "      <td>5.307372e+14</td>\n",
       "      <td>1</td>\n",
       "    </tr>\n",
       "    <tr>\n",
       "      <th>4</th>\n",
       "      <td>1.000000e+00</td>\n",
       "      <td>1.000000e+00</td>\n",
       "      <td>1.000000e+00</td>\n",
       "      <td>1.000000e+00</td>\n",
       "      <td>0</td>\n",
       "    </tr>\n",
       "  </tbody>\n",
       "</table>\n",
       "</div>"
      ],
      "text/plain": [
       "              0             1             2             3  1v\n",
       "0  5.507318e+08  1.685058e+10  1.260493e+11  5.271830e+11   1\n",
       "1  1.685058e+10  5.271830e+11  3.973196e+12  1.667988e+13   1\n",
       "2  1.260493e+11  3.973196e+12  3.001984e+13  1.261849e+14   1\n",
       "3  5.271830e+11  1.667988e+13  1.261849e+14  5.307372e+14   1\n",
       "4  1.000000e+00  1.000000e+00  1.000000e+00  1.000000e+00   0"
      ]
     },
     "execution_count": 18,
     "metadata": {},
     "output_type": "execute_result"
    }
   ],
   "source": [
    "np.fill_diagonal(k_pol, k_pol.diagonal() + (1/gamma_r))\n",
    "\n",
    "kernel = pd.DataFrame(k_pol)\n",
    "kernel['1v'] = 1\n",
    "kernel.loc[len(kernel)] = [1] * (kernel.shape[1])\n",
    "kernel.at[4, '1v'] = 0\n",
    "kernel"
   ]
  },
  {
   "cell_type": "code",
   "execution_count": 19,
   "metadata": {
    "colab": {
     "base_uri": "https://localhost:8080/",
     "height": 0
    },
    "id": "DPASDdVdiGEy",
    "outputId": "8a473d95-ad7d-44e1-894b-6462b1ed183f"
   },
   "outputs": [
    {
     "data": {
      "text/plain": [
       "array([[10],\n",
       "       [20],\n",
       "       [30],\n",
       "       [40],\n",
       "       [ 0]])"
      ]
     },
     "execution_count": 19,
     "metadata": {},
     "output_type": "execute_result"
    }
   ],
   "source": [
    "finalY = np.hstack([y, np.array([0])])\n",
    "y_col = finalY.reshape(-1, 1)\n",
    "y_col"
   ]
  },
  {
   "cell_type": "markdown",
   "metadata": {
    "id": "d_8RBguWm5rO"
   },
   "source": [
    "## Ecuación lineal"
   ]
  },
  {
   "cell_type": "code",
   "execution_count": 20,
   "metadata": {
    "colab": {
     "base_uri": "https://localhost:8080/",
     "height": 0
    },
    "id": "ZPS1ebleiPG5",
    "outputId": "4204f0eb-3b2c-4e08-857d-d7a1d5a1bd6b"
   },
   "outputs": [
    {
     "data": {
      "text/plain": [
       "array([[-1.81043688e-06],\n",
       "       [ 2.63545268e-06],\n",
       "       [-9.76046802e-07],\n",
       "       [ 1.51030995e-07],\n",
       "       [ 7.20388265e+00]])"
      ]
     },
     "execution_count": 20,
     "metadata": {},
     "output_type": "execute_result"
    }
   ],
   "source": [
    "sol = np.linalg.solve(kernel, y_col)\n",
    "sol"
   ]
  },
  {
   "cell_type": "markdown",
   "metadata": {
    "id": "utdwzz7WnAin"
   },
   "source": [
    "## Cálculo de $\\alpha$ y $b$"
   ]
  },
  {
   "cell_type": "code",
   "execution_count": 21,
   "metadata": {
    "colab": {
     "base_uri": "https://localhost:8080/",
     "height": 0
    },
    "id": "kpWw3SpSiPG6",
    "outputId": "a86cd921-ffd5-43f1-da1b-3d59f5c08a1c"
   },
   "outputs": [
    {
     "data": {
      "text/plain": [
       "(array([[-1.81043688e-06],\n",
       "        [ 2.63545268e-06],\n",
       "        [-9.76046802e-07],\n",
       "        [ 1.51030995e-07]]),\n",
       " array([7.20388265]))"
      ]
     },
     "execution_count": 21,
     "metadata": {},
     "output_type": "execute_result"
    }
   ],
   "source": [
    "alphas = sol[:-1]\n",
    "b = sol[-1]\n",
    "alphas, b"
   ]
  },
  {
   "cell_type": "markdown",
   "metadata": {
    "id": "Pl1KG5CMnizc"
   },
   "source": [
    "## Predicción"
   ]
  },
  {
   "cell_type": "code",
   "execution_count": 22,
   "metadata": {
    "id": "AjbOrwbMiPG7"
   },
   "outputs": [],
   "source": [
    "nuevo = np.array([5, 10, 15, 20 ,25])"
   ]
  },
  {
   "cell_type": "code",
   "execution_count": 23,
   "metadata": {
    "id": "KWfU5GwdiPG8"
   },
   "outputs": [],
   "source": [
    "nuevo_r = nuevo.reshape(1, -1)"
   ]
  },
  {
   "cell_type": "code",
   "execution_count": 24,
   "metadata": {
    "id": "kbxer6EiiPG8"
   },
   "outputs": [],
   "source": [
    "nuevo_pred = sklearn.metrics.pairwise.polynomial_kernel(x, Y=nuevo_r, degree=5, gamma=1, coef0=1)\n"
   ]
  },
  {
   "cell_type": "code",
   "execution_count": 25,
   "metadata": {
    "colab": {
     "base_uri": "https://localhost:8080/",
     "height": 0
    },
    "id": "1-fe-w4CiPHL",
    "outputId": "21408c90-d8a4-40d9-ec04-9a94f7a260ae"
   },
   "outputs": [
    {
     "data": {
      "text/plain": [
       "array([[82.2458712]])"
      ]
     },
     "execution_count": 25,
     "metadata": {},
     "output_type": "execute_result"
    }
   ],
   "source": [
    "nuevo_res = np.dot(alphas.T, nuevo_pred) + b\n",
    "nuevo_res"
   ]
  },
  {
   "cell_type": "markdown",
   "metadata": {
    "id": "o_SJslDwihh3"
   },
   "source": [
    "# Gaussiano"
   ]
  },
  {
   "cell_type": "markdown",
   "metadata": {
    "id": "2dkEjpX9nmOH"
   },
   "source": [
    "## Generación de kernel"
   ]
  },
  {
   "cell_type": "code",
   "execution_count": 26,
   "metadata": {
    "id": "yUbQ65lw6372"
   },
   "outputs": [],
   "source": [
    "k_rbf = sklearn.metrics.pairwise.rbf_kernel(x, Y=None, gamma=0.01)"
   ]
  },
  {
   "cell_type": "code",
   "execution_count": 27,
   "metadata": {
    "colab": {
     "base_uri": "https://localhost:8080/",
     "height": 0
    },
    "id": "LCt4s2nh96lf",
    "outputId": "fd63ea35-195b-4f62-8595-50122c4c1f67"
   },
   "outputs": [
    {
     "data": {
      "text/plain": [
       "array([[1.        , 0.57694981, 0.11080316, 0.00708341],\n",
       "       [0.57694981, 1.        , 0.57694981, 0.11080316],\n",
       "       [0.11080316, 0.57694981, 1.        , 0.57694981],\n",
       "       [0.00708341, 0.11080316, 0.57694981, 1.        ]])"
      ]
     },
     "execution_count": 27,
     "metadata": {},
     "output_type": "execute_result"
    }
   ],
   "source": [
    "k_rbf"
   ]
  },
  {
   "cell_type": "code",
   "execution_count": 28,
   "metadata": {
    "id": "3adr5z_48WJy"
   },
   "outputs": [],
   "source": [
    "gamma_r = 1"
   ]
  },
  {
   "cell_type": "code",
   "execution_count": 29,
   "metadata": {
    "colab": {
     "base_uri": "https://localhost:8080/",
     "height": 206
    },
    "id": "BAVqQJ2R8Wd8",
    "outputId": "dda78971-3e88-4d8e-d1d9-2f4cf202b513"
   },
   "outputs": [
    {
     "data": {
      "text/html": [
       "<div>\n",
       "<style scoped>\n",
       "    .dataframe tbody tr th:only-of-type {\n",
       "        vertical-align: middle;\n",
       "    }\n",
       "\n",
       "    .dataframe tbody tr th {\n",
       "        vertical-align: top;\n",
       "    }\n",
       "\n",
       "    .dataframe thead th {\n",
       "        text-align: right;\n",
       "    }\n",
       "</style>\n",
       "<table border=\"1\" class=\"dataframe\">\n",
       "  <thead>\n",
       "    <tr style=\"text-align: right;\">\n",
       "      <th></th>\n",
       "      <th>0</th>\n",
       "      <th>1</th>\n",
       "      <th>2</th>\n",
       "      <th>3</th>\n",
       "      <th>1v</th>\n",
       "    </tr>\n",
       "  </thead>\n",
       "  <tbody>\n",
       "    <tr>\n",
       "      <th>0</th>\n",
       "      <td>2.000000</td>\n",
       "      <td>0.576950</td>\n",
       "      <td>0.110803</td>\n",
       "      <td>0.007083</td>\n",
       "      <td>1</td>\n",
       "    </tr>\n",
       "    <tr>\n",
       "      <th>1</th>\n",
       "      <td>0.576950</td>\n",
       "      <td>2.000000</td>\n",
       "      <td>0.576950</td>\n",
       "      <td>0.110803</td>\n",
       "      <td>1</td>\n",
       "    </tr>\n",
       "    <tr>\n",
       "      <th>2</th>\n",
       "      <td>0.110803</td>\n",
       "      <td>0.576950</td>\n",
       "      <td>2.000000</td>\n",
       "      <td>0.576950</td>\n",
       "      <td>1</td>\n",
       "    </tr>\n",
       "    <tr>\n",
       "      <th>3</th>\n",
       "      <td>0.007083</td>\n",
       "      <td>0.110803</td>\n",
       "      <td>0.576950</td>\n",
       "      <td>2.000000</td>\n",
       "      <td>1</td>\n",
       "    </tr>\n",
       "    <tr>\n",
       "      <th>4</th>\n",
       "      <td>1.000000</td>\n",
       "      <td>1.000000</td>\n",
       "      <td>1.000000</td>\n",
       "      <td>1.000000</td>\n",
       "      <td>0</td>\n",
       "    </tr>\n",
       "  </tbody>\n",
       "</table>\n",
       "</div>"
      ],
      "text/plain": [
       "          0         1         2         3  1v\n",
       "0  2.000000  0.576950  0.110803  0.007083   1\n",
       "1  0.576950  2.000000  0.576950  0.110803   1\n",
       "2  0.110803  0.576950  2.000000  0.576950   1\n",
       "3  0.007083  0.110803  0.576950  2.000000   1\n",
       "4  1.000000  1.000000  1.000000  1.000000   0"
      ]
     },
     "execution_count": 29,
     "metadata": {},
     "output_type": "execute_result"
    }
   ],
   "source": [
    "np.fill_diagonal(k_rbf, k_rbf.diagonal() + (1/gamma_r))\n",
    "\n",
    "kernel_rbf = pd.DataFrame(k_rbf)\n",
    "kernel_rbf['1v'] = 1\n",
    "kernel_rbf.loc[len(kernel_rbf)] = [1] * (kernel_rbf.shape[1])\n",
    "kernel_rbf.at[4, '1v'] = 0\n",
    "kernel_rbf"
   ]
  },
  {
   "cell_type": "markdown",
   "metadata": {
    "id": "w_oDwvqInz9D"
   },
   "source": [
    "## Ecuación lineal"
   ]
  },
  {
   "cell_type": "code",
   "execution_count": 30,
   "metadata": {
    "colab": {
     "base_uri": "https://localhost:8080/",
     "height": 0
    },
    "id": "EHzXZsaA-Iio",
    "outputId": "f91d5273-1b8b-4a3c-ec46-f2a348a80a2e"
   },
   "outputs": [
    {
     "data": {
      "text/plain": [
       "array([[-7.26116735],\n",
       "       [-1.13504862],\n",
       "       [ 1.13504862],\n",
       "       [ 7.26116735],\n",
       "       [25.        ]])"
      ]
     },
     "execution_count": 30,
     "metadata": {},
     "output_type": "execute_result"
    }
   ],
   "source": [
    "sol = np.linalg.solve(kernel_rbf, y_col)\n",
    "sol"
   ]
  },
  {
   "cell_type": "markdown",
   "metadata": {
    "id": "hANscW9pn3_g"
   },
   "source": [
    "## Cálculo de $\\alpha$ y $b$"
   ]
  },
  {
   "cell_type": "code",
   "execution_count": 31,
   "metadata": {
    "colab": {
     "base_uri": "https://localhost:8080/",
     "height": 0
    },
    "id": "tgG_BuXH-Whj",
    "outputId": "d22a8a26-86fa-4bc7-9255-b82818242187"
   },
   "outputs": [
    {
     "data": {
      "text/plain": [
       "(array([[-7.26116735],\n",
       "        [-1.13504862],\n",
       "        [ 1.13504862],\n",
       "        [ 7.26116735]]),\n",
       " array([25.]))"
      ]
     },
     "execution_count": 31,
     "metadata": {},
     "output_type": "execute_result"
    }
   ],
   "source": [
    "alphas_rbf = sol[:-1]\n",
    "b_rbf = sol[-1]\n",
    "alphas_rbf, b_rbf"
   ]
  },
  {
   "cell_type": "markdown",
   "metadata": {
    "id": "hZ-pexCBnenY"
   },
   "source": [
    "## Predicción"
   ]
  },
  {
   "cell_type": "code",
   "execution_count": 32,
   "metadata": {
    "id": "g2C8f0Df-q4h"
   },
   "outputs": [],
   "source": [
    "nuevo_pred_rbf = sklearn.metrics.pairwise.rbf_kernel(x, Y=nuevo_r, gamma=0.01)"
   ]
  },
  {
   "cell_type": "code",
   "execution_count": 33,
   "metadata": {
    "colab": {
     "base_uri": "https://localhost:8080/",
     "height": 0
    },
    "id": "Bgf2wqHK-4pM",
    "outputId": "9cb3f7c9-d7ba-44ed-c415-c792bd7458f9"
   },
   "outputs": [
    {
     "data": {
      "text/plain": [
       "array([[29.30596159]])"
      ]
     },
     "execution_count": 33,
     "metadata": {},
     "output_type": "execute_result"
    }
   ],
   "source": [
    "nuevo_res_rbf = np.dot(alphas_rbf.T, nuevo_pred_rbf) + b_rbf\n",
    "nuevo_res_rbf"
   ]
  },
  {
   "cell_type": "code",
   "execution_count": null,
   "metadata": {
    "id": "cXa4cA0Rj0pv"
   },
   "outputs": [],
   "source": []
  }
 ],
 "metadata": {
  "colab": {
   "provenance": []
  },
  "kernelspec": {
   "display_name": "base",
   "language": "python",
   "name": "python3"
  },
  "language_info": {
   "codemirror_mode": {
    "name": "ipython",
    "version": 3
   },
   "file_extension": ".py",
   "mimetype": "text/x-python",
   "name": "python",
   "nbconvert_exporter": "python",
   "pygments_lexer": "ipython3",
   "version": "3.12.3"
  }
 },
 "nbformat": 4,
 "nbformat_minor": 0
}
