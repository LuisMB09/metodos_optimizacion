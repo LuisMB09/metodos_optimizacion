{
 "cells": [
  {
   "cell_type": "markdown",
   "metadata": {},
   "source": [
    "## Primer inciso que pide elegir activos"
   ]
  },
  {
   "cell_type": "code",
   "execution_count": 43,
   "metadata": {},
   "outputs": [],
   "source": [
    "import numpy as np\n",
    "import pandas as pd\n",
    "from sklearn.metrics.pairwise import rbf_kernel\n",
    "import matplotlib.pyplot as plt\n",
    "import yfinance as yf\n",
    "from IPython.display import display, Markdown\n",
    "%matplotlib inline"
   ]
  },
  {
   "cell_type": "code",
   "execution_count": 44,
   "metadata": {},
   "outputs": [
    {
     "name": "stderr",
     "output_type": "stream",
     "text": [
      "[*********************100%***********************]  5 of 5 completed\n"
     ]
    }
   ],
   "source": [
    "tickers=['AMZN','WMT','TSLA','AAPL','MSFT']\n",
    "\n",
    "f_inicial='2020-01-01'\n",
    "f_final='2024-01-01'\n",
    "\n",
    "closes=yf.download(tickers,f_inicial,f_final)['Adj Close']"
   ]
  },
  {
   "cell_type": "code",
   "execution_count": 45,
   "metadata": {},
   "outputs": [
    {
     "data": {
      "text/html": [
       "<div>\n",
       "<style scoped>\n",
       "    .dataframe tbody tr th:only-of-type {\n",
       "        vertical-align: middle;\n",
       "    }\n",
       "\n",
       "    .dataframe tbody tr th {\n",
       "        vertical-align: top;\n",
       "    }\n",
       "\n",
       "    .dataframe thead th {\n",
       "        text-align: right;\n",
       "    }\n",
       "</style>\n",
       "<table border=\"1\" class=\"dataframe\">\n",
       "  <thead>\n",
       "    <tr style=\"text-align: right;\">\n",
       "      <th>Ticker</th>\n",
       "      <th>AAPL</th>\n",
       "      <th>AMZN</th>\n",
       "      <th>MSFT</th>\n",
       "      <th>TSLA</th>\n",
       "      <th>WMT</th>\n",
       "    </tr>\n",
       "    <tr>\n",
       "      <th>Date</th>\n",
       "      <th></th>\n",
       "      <th></th>\n",
       "      <th></th>\n",
       "      <th></th>\n",
       "      <th></th>\n",
       "    </tr>\n",
       "  </thead>\n",
       "  <tbody>\n",
       "    <tr>\n",
       "      <th>2020-01-02 00:00:00+00:00</th>\n",
       "      <td>72.796013</td>\n",
       "      <td>94.900497</td>\n",
       "      <td>153.630676</td>\n",
       "      <td>28.684000</td>\n",
       "      <td>36.864079</td>\n",
       "    </tr>\n",
       "    <tr>\n",
       "      <th>2020-01-03 00:00:00+00:00</th>\n",
       "      <td>72.088303</td>\n",
       "      <td>93.748497</td>\n",
       "      <td>151.717712</td>\n",
       "      <td>29.534000</td>\n",
       "      <td>36.538631</td>\n",
       "    </tr>\n",
       "    <tr>\n",
       "      <th>2020-01-06 00:00:00+00:00</th>\n",
       "      <td>72.662720</td>\n",
       "      <td>95.143997</td>\n",
       "      <td>152.109894</td>\n",
       "      <td>30.102667</td>\n",
       "      <td>36.464256</td>\n",
       "    </tr>\n",
       "    <tr>\n",
       "      <th>2020-01-07 00:00:00+00:00</th>\n",
       "      <td>72.320984</td>\n",
       "      <td>95.343002</td>\n",
       "      <td>150.722977</td>\n",
       "      <td>31.270666</td>\n",
       "      <td>36.126419</td>\n",
       "    </tr>\n",
       "    <tr>\n",
       "      <th>2020-01-08 00:00:00+00:00</th>\n",
       "      <td>73.484352</td>\n",
       "      <td>94.598503</td>\n",
       "      <td>153.123734</td>\n",
       "      <td>32.809334</td>\n",
       "      <td>36.002449</td>\n",
       "    </tr>\n",
       "    <tr>\n",
       "      <th>...</th>\n",
       "      <td>...</td>\n",
       "      <td>...</td>\n",
       "      <td>...</td>\n",
       "      <td>...</td>\n",
       "      <td>...</td>\n",
       "    </tr>\n",
       "    <tr>\n",
       "      <th>2023-12-22 00:00:00+00:00</th>\n",
       "      <td>192.656174</td>\n",
       "      <td>153.419998</td>\n",
       "      <td>371.799713</td>\n",
       "      <td>252.539993</td>\n",
       "      <td>51.712521</td>\n",
       "    </tr>\n",
       "    <tr>\n",
       "      <th>2023-12-26 00:00:00+00:00</th>\n",
       "      <td>192.108841</td>\n",
       "      <td>153.410004</td>\n",
       "      <td>371.879150</td>\n",
       "      <td>256.609985</td>\n",
       "      <td>51.633293</td>\n",
       "    </tr>\n",
       "    <tr>\n",
       "      <th>2023-12-27 00:00:00+00:00</th>\n",
       "      <td>192.208374</td>\n",
       "      <td>153.339996</td>\n",
       "      <td>371.293518</td>\n",
       "      <td>261.440002</td>\n",
       "      <td>52.118561</td>\n",
       "    </tr>\n",
       "    <tr>\n",
       "      <th>2023-12-28 00:00:00+00:00</th>\n",
       "      <td>192.636276</td>\n",
       "      <td>153.380005</td>\n",
       "      <td>372.494507</td>\n",
       "      <td>253.179993</td>\n",
       "      <td>52.016232</td>\n",
       "    </tr>\n",
       "    <tr>\n",
       "      <th>2023-12-29 00:00:00+00:00</th>\n",
       "      <td>191.591385</td>\n",
       "      <td>151.940002</td>\n",
       "      <td>373.248871</td>\n",
       "      <td>248.479996</td>\n",
       "      <td>52.042637</td>\n",
       "    </tr>\n",
       "  </tbody>\n",
       "</table>\n",
       "<p>1006 rows × 5 columns</p>\n",
       "</div>"
      ],
      "text/plain": [
       "Ticker                           AAPL        AMZN        MSFT        TSLA  \\\n",
       "Date                                                                        \n",
       "2020-01-02 00:00:00+00:00   72.796013   94.900497  153.630676   28.684000   \n",
       "2020-01-03 00:00:00+00:00   72.088303   93.748497  151.717712   29.534000   \n",
       "2020-01-06 00:00:00+00:00   72.662720   95.143997  152.109894   30.102667   \n",
       "2020-01-07 00:00:00+00:00   72.320984   95.343002  150.722977   31.270666   \n",
       "2020-01-08 00:00:00+00:00   73.484352   94.598503  153.123734   32.809334   \n",
       "...                               ...         ...         ...         ...   \n",
       "2023-12-22 00:00:00+00:00  192.656174  153.419998  371.799713  252.539993   \n",
       "2023-12-26 00:00:00+00:00  192.108841  153.410004  371.879150  256.609985   \n",
       "2023-12-27 00:00:00+00:00  192.208374  153.339996  371.293518  261.440002   \n",
       "2023-12-28 00:00:00+00:00  192.636276  153.380005  372.494507  253.179993   \n",
       "2023-12-29 00:00:00+00:00  191.591385  151.940002  373.248871  248.479996   \n",
       "\n",
       "Ticker                           WMT  \n",
       "Date                                  \n",
       "2020-01-02 00:00:00+00:00  36.864079  \n",
       "2020-01-03 00:00:00+00:00  36.538631  \n",
       "2020-01-06 00:00:00+00:00  36.464256  \n",
       "2020-01-07 00:00:00+00:00  36.126419  \n",
       "2020-01-08 00:00:00+00:00  36.002449  \n",
       "...                              ...  \n",
       "2023-12-22 00:00:00+00:00  51.712521  \n",
       "2023-12-26 00:00:00+00:00  51.633293  \n",
       "2023-12-27 00:00:00+00:00  52.118561  \n",
       "2023-12-28 00:00:00+00:00  52.016232  \n",
       "2023-12-29 00:00:00+00:00  52.042637  \n",
       "\n",
       "[1006 rows x 5 columns]"
      ]
     },
     "execution_count": 45,
     "metadata": {},
     "output_type": "execute_result"
    }
   ],
   "source": [
    "closes"
   ]
  },
  {
   "cell_type": "code",
   "execution_count": 46,
   "metadata": {},
   "outputs": [
    {
     "data": {
      "text/plain": [
       "Ticker\n",
       "AAPL    0.001187\n",
       "AMZN    0.000750\n",
       "MSFT    0.001095\n",
       "TSLA    0.003070\n",
       "WMT     0.000454\n",
       "dtype: float64"
      ]
     },
     "execution_count": 46,
     "metadata": {},
     "output_type": "execute_result"
    }
   ],
   "source": [
    "ret = closes.pct_change().dropna()\n",
    "mu = ret.mean()\n",
    "mu # vector mu"
   ]
  },
  {
   "cell_type": "code",
   "execution_count": 47,
   "metadata": {},
   "outputs": [
    {
     "data": {
      "text/html": [
       "<div>\n",
       "<style scoped>\n",
       "    .dataframe tbody tr th:only-of-type {\n",
       "        vertical-align: middle;\n",
       "    }\n",
       "\n",
       "    .dataframe tbody tr th {\n",
       "        vertical-align: top;\n",
       "    }\n",
       "\n",
       "    .dataframe thead th {\n",
       "        text-align: right;\n",
       "    }\n",
       "</style>\n",
       "<table border=\"1\" class=\"dataframe\">\n",
       "  <thead>\n",
       "    <tr style=\"text-align: right;\">\n",
       "      <th>Ticker</th>\n",
       "      <th>AAPL</th>\n",
       "      <th>AMZN</th>\n",
       "      <th>MSFT</th>\n",
       "      <th>TSLA</th>\n",
       "      <th>WMT</th>\n",
       "    </tr>\n",
       "    <tr>\n",
       "      <th>Ticker</th>\n",
       "      <th></th>\n",
       "      <th></th>\n",
       "      <th></th>\n",
       "      <th></th>\n",
       "      <th></th>\n",
       "    </tr>\n",
       "  </thead>\n",
       "  <tbody>\n",
       "    <tr>\n",
       "      <th>AAPL</th>\n",
       "      <td>0.000447</td>\n",
       "      <td>0.000313</td>\n",
       "      <td>0.000338</td>\n",
       "      <td>0.000463</td>\n",
       "      <td>0.000126</td>\n",
       "    </tr>\n",
       "    <tr>\n",
       "      <th>AMZN</th>\n",
       "      <td>0.000313</td>\n",
       "      <td>0.000564</td>\n",
       "      <td>0.000331</td>\n",
       "      <td>0.000463</td>\n",
       "      <td>0.000109</td>\n",
       "    </tr>\n",
       "    <tr>\n",
       "      <th>MSFT</th>\n",
       "      <td>0.000338</td>\n",
       "      <td>0.000331</td>\n",
       "      <td>0.000422</td>\n",
       "      <td>0.000416</td>\n",
       "      <td>0.000124</td>\n",
       "    </tr>\n",
       "    <tr>\n",
       "      <th>TSLA</th>\n",
       "      <td>0.000463</td>\n",
       "      <td>0.000463</td>\n",
       "      <td>0.000416</td>\n",
       "      <td>0.001841</td>\n",
       "      <td>0.000102</td>\n",
       "    </tr>\n",
       "    <tr>\n",
       "      <th>WMT</th>\n",
       "      <td>0.000126</td>\n",
       "      <td>0.000109</td>\n",
       "      <td>0.000124</td>\n",
       "      <td>0.000102</td>\n",
       "      <td>0.000221</td>\n",
       "    </tr>\n",
       "  </tbody>\n",
       "</table>\n",
       "</div>"
      ],
      "text/plain": [
       "Ticker      AAPL      AMZN      MSFT      TSLA       WMT\n",
       "Ticker                                                  \n",
       "AAPL    0.000447  0.000313  0.000338  0.000463  0.000126\n",
       "AMZN    0.000313  0.000564  0.000331  0.000463  0.000109\n",
       "MSFT    0.000338  0.000331  0.000422  0.000416  0.000124\n",
       "TSLA    0.000463  0.000463  0.000416  0.001841  0.000102\n",
       "WMT     0.000126  0.000109  0.000124  0.000102  0.000221"
      ]
     },
     "execution_count": 47,
     "metadata": {},
     "output_type": "execute_result"
    }
   ],
   "source": [
    "sigma = ret.cov()\n",
    "sigma # matriz de covarianza"
   ]
  },
  {
   "cell_type": "code",
   "execution_count": 48,
   "metadata": {},
   "outputs": [
    {
     "data": {
      "text/html": [
       "<div>\n",
       "<style scoped>\n",
       "    .dataframe tbody tr th:only-of-type {\n",
       "        vertical-align: middle;\n",
       "    }\n",
       "\n",
       "    .dataframe tbody tr th {\n",
       "        vertical-align: top;\n",
       "    }\n",
       "\n",
       "    .dataframe thead th {\n",
       "        text-align: right;\n",
       "    }\n",
       "</style>\n",
       "<table border=\"1\" class=\"dataframe\">\n",
       "  <thead>\n",
       "    <tr style=\"text-align: right;\">\n",
       "      <th></th>\n",
       "      <th>0</th>\n",
       "      <th>1</th>\n",
       "      <th>2</th>\n",
       "      <th>3</th>\n",
       "      <th>4</th>\n",
       "    </tr>\n",
       "  </thead>\n",
       "  <tbody>\n",
       "    <tr>\n",
       "      <th>0</th>\n",
       "      <td>6383.39</td>\n",
       "      <td>-746.06</td>\n",
       "      <td>-3720.76</td>\n",
       "      <td>-525.38</td>\n",
       "      <td>-957.11</td>\n",
       "    </tr>\n",
       "    <tr>\n",
       "      <th>1</th>\n",
       "      <td>-746.06</td>\n",
       "      <td>3538.67</td>\n",
       "      <td>-1870.33</td>\n",
       "      <td>-270.52</td>\n",
       "      <td>-147.24</td>\n",
       "    </tr>\n",
       "    <tr>\n",
       "      <th>2</th>\n",
       "      <td>-3720.76</td>\n",
       "      <td>-1870.33</td>\n",
       "      <td>7267.47</td>\n",
       "      <td>-184.84</td>\n",
       "      <td>-931.58</td>\n",
       "    </tr>\n",
       "    <tr>\n",
       "      <th>3</th>\n",
       "      <td>-525.38</td>\n",
       "      <td>-270.52</td>\n",
       "      <td>-184.84</td>\n",
       "      <td>775.42</td>\n",
       "      <td>180.00</td>\n",
       "    </tr>\n",
       "    <tr>\n",
       "      <th>4</th>\n",
       "      <td>-957.11</td>\n",
       "      <td>-147.24</td>\n",
       "      <td>-931.58</td>\n",
       "      <td>180.00</td>\n",
       "      <td>5576.78</td>\n",
       "    </tr>\n",
       "  </tbody>\n",
       "</table>\n",
       "</div>"
      ],
      "text/plain": [
       "         0        1        2       3        4\n",
       "0  6383.39  -746.06 -3720.76 -525.38  -957.11\n",
       "1  -746.06  3538.67 -1870.33 -270.52  -147.24\n",
       "2 -3720.76 -1870.33  7267.47 -184.84  -931.58\n",
       "3  -525.38  -270.52  -184.84  775.42   180.00\n",
       "4  -957.11  -147.24  -931.58  180.00  5576.78"
      ]
     },
     "execution_count": 48,
     "metadata": {},
     "output_type": "execute_result"
    }
   ],
   "source": [
    "sigma_inv = np.linalg.inv(sigma)\n",
    "np.round(pd.DataFrame(sigma_inv),2) # matriz de covarianza inversa"
   ]
  },
  {
   "cell_type": "code",
   "execution_count": 49,
   "metadata": {},
   "outputs": [
    {
     "data": {
      "text/plain": [
       "array([1., 1., 1., 1., 1.])"
      ]
     },
     "execution_count": 49,
     "metadata": {},
     "output_type": "execute_result"
    }
   ],
   "source": [
    "ones = np.ones(len(mu))\n",
    "ones # vector de unos"
   ]
  },
  {
   "cell_type": "code",
   "execution_count": 50,
   "metadata": {},
   "outputs": [
    {
     "data": {
      "text/plain": [
       "array([ 0.08357244,  0.0971338 ,  0.10780546, -0.00487524,  0.71636353])"
      ]
     },
     "execution_count": 50,
     "metadata": {},
     "output_type": "execute_result"
    }
   ],
   "source": [
    "w = (sigma_inv.dot(ones))/(ones.T.dot(sigma_inv).dot(ones))\n",
    "w # vector de pesos para portafolio de mínima varianza"
   ]
  },
  {
   "cell_type": "code",
   "execution_count": 51,
   "metadata": {},
   "outputs": [
    {
     "data": {
      "text/html": [
       "<div>\n",
       "<style scoped>\n",
       "    .dataframe tbody tr th:only-of-type {\n",
       "        vertical-align: middle;\n",
       "    }\n",
       "\n",
       "    .dataframe tbody tr th {\n",
       "        vertical-align: top;\n",
       "    }\n",
       "\n",
       "    .dataframe thead th {\n",
       "        text-align: right;\n",
       "    }\n",
       "</style>\n",
       "<table border=\"1\" class=\"dataframe\">\n",
       "  <thead>\n",
       "    <tr style=\"text-align: right;\">\n",
       "      <th>Ticker</th>\n",
       "      <th>AAPL</th>\n",
       "      <th>AMZN</th>\n",
       "      <th>MSFT</th>\n",
       "      <th>TSLA</th>\n",
       "      <th>WMT</th>\n",
       "    </tr>\n",
       "  </thead>\n",
       "  <tbody>\n",
       "    <tr>\n",
       "      <th>w</th>\n",
       "      <td>0.083572</td>\n",
       "      <td>0.097134</td>\n",
       "      <td>0.107805</td>\n",
       "      <td>-0.004875</td>\n",
       "      <td>0.716364</td>\n",
       "    </tr>\n",
       "  </tbody>\n",
       "</table>\n",
       "</div>"
      ],
      "text/plain": [
       "Ticker      AAPL      AMZN      MSFT      TSLA       WMT\n",
       "w       0.083572  0.097134  0.107805 -0.004875  0.716364"
      ]
     },
     "execution_count": 51,
     "metadata": {},
     "output_type": "execute_result"
    }
   ],
   "source": [
    "w_df = pd.DataFrame(w, index=closes.columns, columns=['w'])\n",
    "w_df.T # pesos en DataFrame"
   ]
  },
  {
   "cell_type": "code",
   "execution_count": 52,
   "metadata": {},
   "outputs": [
    {
     "data": {
      "text/plain": [
       "0.0006001983508463384"
      ]
     },
     "execution_count": 52,
     "metadata": {},
     "output_type": "execute_result"
    }
   ],
   "source": [
    "rp = w.T.dot(mu)\n",
    "rp # rendimiento esperado del portafolio de mínima varianza diario"
   ]
  },
  {
   "cell_type": "code",
   "execution_count": 53,
   "metadata": {},
   "outputs": [
    {
     "data": {
      "text/plain": [
       "Ticker\n",
       "AAPL    0.001187\n",
       "AMZN    0.000750\n",
       "MSFT    0.001095\n",
       "TSLA    0.003070\n",
       "WMT     0.000454\n",
       "dtype: float64"
      ]
     },
     "execution_count": 53,
     "metadata": {},
     "output_type": "execute_result"
    }
   ],
   "source": [
    "mu"
   ]
  },
  {
   "cell_type": "markdown",
   "metadata": {},
   "source": [
    "## Segundo inciso que pide elegir activos"
   ]
  },
  {
   "cell_type": "code",
   "execution_count": 54,
   "metadata": {},
   "outputs": [
    {
     "data": {
      "text/plain": [
       "array([[1.18656757e-03, 1.00000000e+00],\n",
       "       [7.49814311e-04, 1.00000000e+00],\n",
       "       [1.09462736e-03, 1.00000000e+00],\n",
       "       [3.06974350e-03, 1.00000000e+00],\n",
       "       [4.53904469e-04, 1.00000000e+00]])"
      ]
     },
     "execution_count": 54,
     "metadata": {},
     "output_type": "execute_result"
    }
   ],
   "source": [
    "U = np.array([mu, ones]).T\n",
    "U"
   ]
  },
  {
   "cell_type": "code",
   "execution_count": 55,
   "metadata": {},
   "outputs": [
    {
     "data": {
      "text/html": [
       "<div>\n",
       "<style scoped>\n",
       "    .dataframe tbody tr th:only-of-type {\n",
       "        vertical-align: middle;\n",
       "    }\n",
       "\n",
       "    .dataframe tbody tr th {\n",
       "        vertical-align: top;\n",
       "    }\n",
       "\n",
       "    .dataframe thead th {\n",
       "        text-align: right;\n",
       "    }\n",
       "</style>\n",
       "<table border=\"1\" class=\"dataframe\">\n",
       "  <thead>\n",
       "    <tr style=\"text-align: right;\">\n",
       "      <th></th>\n",
       "      <th>0</th>\n",
       "      <th>1</th>\n",
       "    </tr>\n",
       "  </thead>\n",
       "  <tbody>\n",
       "    <tr>\n",
       "      <th>0</th>\n",
       "      <td>0.006208</td>\n",
       "      <td>3.117476</td>\n",
       "    </tr>\n",
       "    <tr>\n",
       "      <th>1</th>\n",
       "      <td>3.117476</td>\n",
       "      <td>5194.076071</td>\n",
       "    </tr>\n",
       "  </tbody>\n",
       "</table>\n",
       "</div>"
      ],
      "text/plain": [
       "          0            1\n",
       "0  0.006208     3.117476\n",
       "1  3.117476  5194.076071"
      ]
     },
     "execution_count": 55,
     "metadata": {},
     "output_type": "execute_result"
    }
   ],
   "source": [
    "M = U.T.dot(sigma_inv).dot(U)\n",
    "pd.DataFrame(M)"
   ]
  },
  {
   "cell_type": "code",
   "execution_count": 56,
   "metadata": {},
   "outputs": [
    {
     "data": {
      "text/html": [
       "<div>\n",
       "<style scoped>\n",
       "    .dataframe tbody tr th:only-of-type {\n",
       "        vertical-align: middle;\n",
       "    }\n",
       "\n",
       "    .dataframe tbody tr th {\n",
       "        vertical-align: top;\n",
       "    }\n",
       "\n",
       "    .dataframe thead th {\n",
       "        text-align: right;\n",
       "    }\n",
       "</style>\n",
       "<table border=\"1\" class=\"dataframe\">\n",
       "  <thead>\n",
       "    <tr style=\"text-align: right;\">\n",
       "      <th></th>\n",
       "      <th>0</th>\n",
       "      <th>1</th>\n",
       "    </tr>\n",
       "  </thead>\n",
       "  <tbody>\n",
       "    <tr>\n",
       "      <th>0</th>\n",
       "      <td>230.604353</td>\n",
       "      <td>-0.138408</td>\n",
       "    </tr>\n",
       "    <tr>\n",
       "      <th>1</th>\n",
       "      <td>-0.138408</td>\n",
       "      <td>0.000276</td>\n",
       "    </tr>\n",
       "  </tbody>\n",
       "</table>\n",
       "</div>"
      ],
      "text/plain": [
       "            0         1\n",
       "0  230.604353 -0.138408\n",
       "1   -0.138408  0.000276"
      ]
     },
     "execution_count": 56,
     "metadata": {},
     "output_type": "execute_result"
    }
   ],
   "source": [
    "M_inv = np.linalg.inv(M)\n",
    "pd.DataFrame(M_inv)"
   ]
  },
  {
   "cell_type": "code",
   "execution_count": 57,
   "metadata": {},
   "outputs": [
    {
     "data": {
      "text/plain": [
       "array([[6.00198351e-04],\n",
       "       [1.00000000e+00]])"
      ]
     },
     "execution_count": 57,
     "metadata": {},
     "output_type": "execute_result"
    }
   ],
   "source": [
    "u = np.array([[rp],\n",
    "              [1]])\n",
    "u"
   ]
  },
  {
   "cell_type": "code",
   "execution_count": 58,
   "metadata": {},
   "outputs": [
    {
     "data": {
      "text/plain": [
       "array([[ 0.08357244],\n",
       "       [ 0.0971338 ],\n",
       "       [ 0.10780546],\n",
       "       [-0.00487524],\n",
       "       [ 0.71636353]])"
      ]
     },
     "execution_count": 58,
     "metadata": {},
     "output_type": "execute_result"
    }
   ],
   "source": [
    "w2 = sigma_inv.dot(U).dot(M_inv).dot(u)\n",
    "w2"
   ]
  },
  {
   "cell_type": "code",
   "execution_count": 59,
   "metadata": {},
   "outputs": [
    {
     "data": {
      "text/html": [
       "<div>\n",
       "<style scoped>\n",
       "    .dataframe tbody tr th:only-of-type {\n",
       "        vertical-align: middle;\n",
       "    }\n",
       "\n",
       "    .dataframe tbody tr th {\n",
       "        vertical-align: top;\n",
       "    }\n",
       "\n",
       "    .dataframe thead th {\n",
       "        text-align: right;\n",
       "    }\n",
       "</style>\n",
       "<table border=\"1\" class=\"dataframe\">\n",
       "  <thead>\n",
       "    <tr style=\"text-align: right;\">\n",
       "      <th>Ticker</th>\n",
       "      <th>AAPL</th>\n",
       "      <th>AMZN</th>\n",
       "      <th>MSFT</th>\n",
       "      <th>TSLA</th>\n",
       "      <th>WMT</th>\n",
       "    </tr>\n",
       "  </thead>\n",
       "  <tbody>\n",
       "    <tr>\n",
       "      <th>w</th>\n",
       "      <td>0.083572</td>\n",
       "      <td>0.097134</td>\n",
       "      <td>0.107805</td>\n",
       "      <td>-0.004875</td>\n",
       "      <td>0.716364</td>\n",
       "    </tr>\n",
       "  </tbody>\n",
       "</table>\n",
       "</div>"
      ],
      "text/plain": [
       "Ticker      AAPL      AMZN      MSFT      TSLA       WMT\n",
       "w       0.083572  0.097134  0.107805 -0.004875  0.716364"
      ]
     },
     "execution_count": 59,
     "metadata": {},
     "output_type": "execute_result"
    }
   ],
   "source": [
    "w2_df = pd.DataFrame(w2, index=closes.columns, columns=['w'])\n",
    "w2_df.T # pesos en DataFrame"
   ]
  }
 ],
 "metadata": {
  "kernelspec": {
   "display_name": "base",
   "language": "python",
   "name": "python3"
  },
  "language_info": {
   "codemirror_mode": {
    "name": "ipython",
    "version": 3
   },
   "file_extension": ".py",
   "mimetype": "text/x-python",
   "name": "python",
   "nbconvert_exporter": "python",
   "pygments_lexer": "ipython3",
   "version": "3.12.3"
  }
 },
 "nbformat": 4,
 "nbformat_minor": 2
}
