{
 "cells": [
  {
   "cell_type": "markdown",
   "metadata": {},
   "source": [
    "## Primer inciso que pide elegir activos"
   ]
  },
  {
   "cell_type": "code",
   "execution_count": 27,
   "metadata": {},
   "outputs": [],
   "source": [
    "import numpy as np\n",
    "import pandas as pd\n",
    "from sklearn.metrics.pairwise import rbf_kernel\n",
    "import matplotlib.pyplot as plt\n",
    "import yfinance as yf\n",
    "from IPython.display import display, Markdown\n",
    "%matplotlib inline"
   ]
  },
  {
   "cell_type": "code",
   "execution_count": 28,
   "metadata": {},
   "outputs": [
    {
     "name": "stderr",
     "output_type": "stream",
     "text": [
      "[*********************100%***********************]  5 of 5 completed\n"
     ]
    }
   ],
   "source": [
    "tickers=['GOOGL','META','AAPL','NFLX','NVDA']\n",
    "\n",
    "f_inicial='2023-01-01'\n",
    "f_final='2023-12-30'\n",
    "\n",
    "closes=yf.download(tickers,f_inicial,f_final)['Adj Close']"
   ]
  },
  {
   "cell_type": "code",
   "execution_count": 29,
   "metadata": {},
   "outputs": [
    {
     "data": {
      "text/html": [
       "<div>\n",
       "<style scoped>\n",
       "    .dataframe tbody tr th:only-of-type {\n",
       "        vertical-align: middle;\n",
       "    }\n",
       "\n",
       "    .dataframe tbody tr th {\n",
       "        vertical-align: top;\n",
       "    }\n",
       "\n",
       "    .dataframe thead th {\n",
       "        text-align: right;\n",
       "    }\n",
       "</style>\n",
       "<table border=\"1\" class=\"dataframe\">\n",
       "  <thead>\n",
       "    <tr style=\"text-align: right;\">\n",
       "      <th>Ticker</th>\n",
       "      <th>AAPL</th>\n",
       "      <th>GOOGL</th>\n",
       "      <th>META</th>\n",
       "      <th>NFLX</th>\n",
       "      <th>NVDA</th>\n",
       "    </tr>\n",
       "    <tr>\n",
       "      <th>Date</th>\n",
       "      <th></th>\n",
       "      <th></th>\n",
       "      <th></th>\n",
       "      <th></th>\n",
       "      <th></th>\n",
       "    </tr>\n",
       "  </thead>\n",
       "  <tbody>\n",
       "    <tr>\n",
       "      <th>2023-01-03 00:00:00+00:00</th>\n",
       "      <td>123.768463</td>\n",
       "      <td>88.899872</td>\n",
       "      <td>124.365547</td>\n",
       "      <td>294.950012</td>\n",
       "      <td>14.305580</td>\n",
       "    </tr>\n",
       "    <tr>\n",
       "      <th>2023-01-04 00:00:00+00:00</th>\n",
       "      <td>125.045036</td>\n",
       "      <td>87.862442</td>\n",
       "      <td>126.987663</td>\n",
       "      <td>309.410004</td>\n",
       "      <td>14.739294</td>\n",
       "    </tr>\n",
       "    <tr>\n",
       "      <th>2023-01-05 00:00:00+00:00</th>\n",
       "      <td>123.718987</td>\n",
       "      <td>85.987076</td>\n",
       "      <td>126.558952</td>\n",
       "      <td>309.700012</td>\n",
       "      <td>14.255614</td>\n",
       "    </tr>\n",
       "    <tr>\n",
       "      <th>2023-01-06 00:00:00+00:00</th>\n",
       "      <td>128.271118</td>\n",
       "      <td>87.124260</td>\n",
       "      <td>129.629700</td>\n",
       "      <td>315.549988</td>\n",
       "      <td>14.849224</td>\n",
       "    </tr>\n",
       "    <tr>\n",
       "      <th>2023-01-09 00:00:00+00:00</th>\n",
       "      <td>128.795593</td>\n",
       "      <td>87.802582</td>\n",
       "      <td>129.081345</td>\n",
       "      <td>315.170013</td>\n",
       "      <td>15.617718</td>\n",
       "    </tr>\n",
       "    <tr>\n",
       "      <th>...</th>\n",
       "      <td>...</td>\n",
       "      <td>...</td>\n",
       "      <td>...</td>\n",
       "      <td>...</td>\n",
       "      <td>...</td>\n",
       "    </tr>\n",
       "    <tr>\n",
       "      <th>2023-12-22 00:00:00+00:00</th>\n",
       "      <td>192.656174</td>\n",
       "      <td>141.140518</td>\n",
       "      <td>352.329163</td>\n",
       "      <td>486.760010</td>\n",
       "      <td>48.819527</td>\n",
       "    </tr>\n",
       "    <tr>\n",
       "      <th>2023-12-26 00:00:00+00:00</th>\n",
       "      <td>192.108856</td>\n",
       "      <td>141.170441</td>\n",
       "      <td>353.764832</td>\n",
       "      <td>491.190002</td>\n",
       "      <td>49.268425</td>\n",
       "    </tr>\n",
       "    <tr>\n",
       "      <th>2023-12-27 00:00:00+00:00</th>\n",
       "      <td>192.208374</td>\n",
       "      <td>140.023270</td>\n",
       "      <td>356.755859</td>\n",
       "      <td>491.790009</td>\n",
       "      <td>49.406395</td>\n",
       "    </tr>\n",
       "    <tr>\n",
       "      <th>2023-12-28 00:00:00+00:00</th>\n",
       "      <td>192.636276</td>\n",
       "      <td>139.883621</td>\n",
       "      <td>357.244385</td>\n",
       "      <td>490.510010</td>\n",
       "      <td>49.511375</td>\n",
       "    </tr>\n",
       "    <tr>\n",
       "      <th>2023-12-29 00:00:00+00:00</th>\n",
       "      <td>191.591370</td>\n",
       "      <td>139.344955</td>\n",
       "      <td>352.897491</td>\n",
       "      <td>486.880005</td>\n",
       "      <td>49.511375</td>\n",
       "    </tr>\n",
       "  </tbody>\n",
       "</table>\n",
       "<p>250 rows × 5 columns</p>\n",
       "</div>"
      ],
      "text/plain": [
       "Ticker                           AAPL       GOOGL        META        NFLX  \\\n",
       "Date                                                                        \n",
       "2023-01-03 00:00:00+00:00  123.768463   88.899872  124.365547  294.950012   \n",
       "2023-01-04 00:00:00+00:00  125.045036   87.862442  126.987663  309.410004   \n",
       "2023-01-05 00:00:00+00:00  123.718987   85.987076  126.558952  309.700012   \n",
       "2023-01-06 00:00:00+00:00  128.271118   87.124260  129.629700  315.549988   \n",
       "2023-01-09 00:00:00+00:00  128.795593   87.802582  129.081345  315.170013   \n",
       "...                               ...         ...         ...         ...   \n",
       "2023-12-22 00:00:00+00:00  192.656174  141.140518  352.329163  486.760010   \n",
       "2023-12-26 00:00:00+00:00  192.108856  141.170441  353.764832  491.190002   \n",
       "2023-12-27 00:00:00+00:00  192.208374  140.023270  356.755859  491.790009   \n",
       "2023-12-28 00:00:00+00:00  192.636276  139.883621  357.244385  490.510010   \n",
       "2023-12-29 00:00:00+00:00  191.591370  139.344955  352.897491  486.880005   \n",
       "\n",
       "Ticker                          NVDA  \n",
       "Date                                  \n",
       "2023-01-03 00:00:00+00:00  14.305580  \n",
       "2023-01-04 00:00:00+00:00  14.739294  \n",
       "2023-01-05 00:00:00+00:00  14.255614  \n",
       "2023-01-06 00:00:00+00:00  14.849224  \n",
       "2023-01-09 00:00:00+00:00  15.617718  \n",
       "...                              ...  \n",
       "2023-12-22 00:00:00+00:00  48.819527  \n",
       "2023-12-26 00:00:00+00:00  49.268425  \n",
       "2023-12-27 00:00:00+00:00  49.406395  \n",
       "2023-12-28 00:00:00+00:00  49.511375  \n",
       "2023-12-29 00:00:00+00:00  49.511375  \n",
       "\n",
       "[250 rows x 5 columns]"
      ]
     },
     "execution_count": 29,
     "metadata": {},
     "output_type": "execute_result"
    }
   ],
   "source": [
    "closes"
   ]
  },
  {
   "cell_type": "code",
   "execution_count": 30,
   "metadata": {},
   "outputs": [
    {
     "data": {
      "text/plain": [
       "Ticker\n",
       "AAPL     0.001835\n",
       "GOOGL    0.001990\n",
       "META     0.004493\n",
       "NFLX     0.002288\n",
       "NVDA     0.005442\n",
       "dtype: float64"
      ]
     },
     "execution_count": 30,
     "metadata": {},
     "output_type": "execute_result"
    }
   ],
   "source": [
    "ret = closes.pct_change().dropna()\n",
    "mu = ret.mean()\n",
    "mu # vector mu"
   ]
  },
  {
   "cell_type": "code",
   "execution_count": 31,
   "metadata": {},
   "outputs": [
    {
     "data": {
      "text/html": [
       "<div>\n",
       "<style scoped>\n",
       "    .dataframe tbody tr th:only-of-type {\n",
       "        vertical-align: middle;\n",
       "    }\n",
       "\n",
       "    .dataframe tbody tr th {\n",
       "        vertical-align: top;\n",
       "    }\n",
       "\n",
       "    .dataframe thead th {\n",
       "        text-align: right;\n",
       "    }\n",
       "</style>\n",
       "<table border=\"1\" class=\"dataframe\">\n",
       "  <thead>\n",
       "    <tr style=\"text-align: right;\">\n",
       "      <th>Ticker</th>\n",
       "      <th>AAPL</th>\n",
       "      <th>GOOGL</th>\n",
       "      <th>META</th>\n",
       "      <th>NFLX</th>\n",
       "      <th>NVDA</th>\n",
       "    </tr>\n",
       "    <tr>\n",
       "      <th>Ticker</th>\n",
       "      <th></th>\n",
       "      <th></th>\n",
       "      <th></th>\n",
       "      <th></th>\n",
       "      <th></th>\n",
       "    </tr>\n",
       "  </thead>\n",
       "  <tbody>\n",
       "    <tr>\n",
       "      <th>AAPL</th>\n",
       "      <td>0.000158</td>\n",
       "      <td>0.000127</td>\n",
       "      <td>0.000170</td>\n",
       "      <td>0.000125</td>\n",
       "      <td>0.000171</td>\n",
       "    </tr>\n",
       "    <tr>\n",
       "      <th>GOOGL</th>\n",
       "      <td>0.000127</td>\n",
       "      <td>0.000367</td>\n",
       "      <td>0.000292</td>\n",
       "      <td>0.000146</td>\n",
       "      <td>0.000237</td>\n",
       "    </tr>\n",
       "    <tr>\n",
       "      <th>META</th>\n",
       "      <td>0.000170</td>\n",
       "      <td>0.000292</td>\n",
       "      <td>0.000630</td>\n",
       "      <td>0.000192</td>\n",
       "      <td>0.000315</td>\n",
       "    </tr>\n",
       "    <tr>\n",
       "      <th>NFLX</th>\n",
       "      <td>0.000125</td>\n",
       "      <td>0.000146</td>\n",
       "      <td>0.000192</td>\n",
       "      <td>0.000561</td>\n",
       "      <td>0.000221</td>\n",
       "    </tr>\n",
       "    <tr>\n",
       "      <th>NVDA</th>\n",
       "      <td>0.000171</td>\n",
       "      <td>0.000237</td>\n",
       "      <td>0.000315</td>\n",
       "      <td>0.000221</td>\n",
       "      <td>0.000932</td>\n",
       "    </tr>\n",
       "  </tbody>\n",
       "</table>\n",
       "</div>"
      ],
      "text/plain": [
       "Ticker      AAPL     GOOGL      META      NFLX      NVDA\n",
       "Ticker                                                  \n",
       "AAPL    0.000158  0.000127  0.000170  0.000125  0.000171\n",
       "GOOGL   0.000127  0.000367  0.000292  0.000146  0.000237\n",
       "META    0.000170  0.000292  0.000630  0.000192  0.000315\n",
       "NFLX    0.000125  0.000146  0.000192  0.000561  0.000221\n",
       "NVDA    0.000171  0.000237  0.000315  0.000221  0.000932"
      ]
     },
     "execution_count": 31,
     "metadata": {},
     "output_type": "execute_result"
    }
   ],
   "source": [
    "sigma = ret.cov()\n",
    "sigma # matriz de covarianza"
   ]
  },
  {
   "cell_type": "code",
   "execution_count": 32,
   "metadata": {},
   "outputs": [
    {
     "data": {
      "text/html": [
       "<div>\n",
       "<style scoped>\n",
       "    .dataframe tbody tr th:only-of-type {\n",
       "        vertical-align: middle;\n",
       "    }\n",
       "\n",
       "    .dataframe tbody tr th {\n",
       "        vertical-align: top;\n",
       "    }\n",
       "\n",
       "    .dataframe thead th {\n",
       "        text-align: right;\n",
       "    }\n",
       "</style>\n",
       "<table border=\"1\" class=\"dataframe\">\n",
       "  <thead>\n",
       "    <tr style=\"text-align: right;\">\n",
       "      <th></th>\n",
       "      <th>0</th>\n",
       "      <th>1</th>\n",
       "      <th>2</th>\n",
       "      <th>3</th>\n",
       "      <th>4</th>\n",
       "    </tr>\n",
       "  </thead>\n",
       "  <tbody>\n",
       "    <tr>\n",
       "      <th>0</th>\n",
       "      <td>11096.793412</td>\n",
       "      <td>-1679.977768</td>\n",
       "      <td>-1437.331941</td>\n",
       "      <td>-1222.965668</td>\n",
       "      <td>-829.962567</td>\n",
       "    </tr>\n",
       "    <tr>\n",
       "      <th>1</th>\n",
       "      <td>-1679.977768</td>\n",
       "      <td>4870.326007</td>\n",
       "      <td>-1563.880516</td>\n",
       "      <td>-215.587248</td>\n",
       "      <td>-353.372718</td>\n",
       "    </tr>\n",
       "    <tr>\n",
       "      <th>2</th>\n",
       "      <td>-1437.331941</td>\n",
       "      <td>-1563.880516</td>\n",
       "      <td>2888.693761</td>\n",
       "      <td>-151.443079</td>\n",
       "      <td>-277.813424</td>\n",
       "    </tr>\n",
       "    <tr>\n",
       "      <th>3</th>\n",
       "      <td>-1222.965668</td>\n",
       "      <td>-215.587248</td>\n",
       "      <td>-151.443079</td>\n",
       "      <td>2244.205987</td>\n",
       "      <td>-201.881635</td>\n",
       "    </tr>\n",
       "    <tr>\n",
       "      <th>4</th>\n",
       "      <td>-829.962567</td>\n",
       "      <td>-353.372718</td>\n",
       "      <td>-277.813424</td>\n",
       "      <td>-201.881635</td>\n",
       "      <td>1456.918917</td>\n",
       "    </tr>\n",
       "  </tbody>\n",
       "</table>\n",
       "</div>"
      ],
      "text/plain": [
       "              0            1            2            3            4\n",
       "0  11096.793412 -1679.977768 -1437.331941 -1222.965668  -829.962567\n",
       "1  -1679.977768  4870.326007 -1563.880516  -215.587248  -353.372718\n",
       "2  -1437.331941 -1563.880516  2888.693761  -151.443079  -277.813424\n",
       "3  -1222.965668  -215.587248  -151.443079  2244.205987  -201.881635\n",
       "4   -829.962567  -353.372718  -277.813424  -201.881635  1456.918917"
      ]
     },
     "execution_count": 32,
     "metadata": {},
     "output_type": "execute_result"
    }
   ],
   "source": [
    "sigma_inv = np.linalg.inv(sigma)\n",
    "pd.DataFrame(sigma_inv) # matriz de covarianza inversa"
   ]
  },
  {
   "cell_type": "code",
   "execution_count": 33,
   "metadata": {},
   "outputs": [
    {
     "data": {
      "text/plain": [
       "array([1., 1., 1., 1., 1.])"
      ]
     },
     "execution_count": 33,
     "metadata": {},
     "output_type": "execute_result"
    }
   ],
   "source": [
    "ones = np.ones(len(mu))\n",
    "ones # vector de unos"
   ]
  },
  {
   "cell_type": "code",
   "execution_count": 34,
   "metadata": {},
   "outputs": [
    {
     "data": {
      "text/plain": [
       "array([ 0.88608075,  0.15810824, -0.08100094,  0.06762772, -0.03081577])"
      ]
     },
     "execution_count": 34,
     "metadata": {},
     "output_type": "execute_result"
    }
   ],
   "source": [
    "w = (sigma_inv.dot(ones))/(ones.T.dot(sigma_inv).dot(ones))\n",
    "w # vector de pesos para portafolio de mínima varianza"
   ]
  },
  {
   "cell_type": "code",
   "execution_count": 35,
   "metadata": {},
   "outputs": [
    {
     "data": {
      "text/html": [
       "<div>\n",
       "<style scoped>\n",
       "    .dataframe tbody tr th:only-of-type {\n",
       "        vertical-align: middle;\n",
       "    }\n",
       "\n",
       "    .dataframe tbody tr th {\n",
       "        vertical-align: top;\n",
       "    }\n",
       "\n",
       "    .dataframe thead th {\n",
       "        text-align: right;\n",
       "    }\n",
       "</style>\n",
       "<table border=\"1\" class=\"dataframe\">\n",
       "  <thead>\n",
       "    <tr style=\"text-align: right;\">\n",
       "      <th>Ticker</th>\n",
       "      <th>AAPL</th>\n",
       "      <th>GOOGL</th>\n",
       "      <th>META</th>\n",
       "      <th>NFLX</th>\n",
       "      <th>NVDA</th>\n",
       "    </tr>\n",
       "  </thead>\n",
       "  <tbody>\n",
       "    <tr>\n",
       "      <th>w</th>\n",
       "      <td>0.886081</td>\n",
       "      <td>0.158108</td>\n",
       "      <td>-0.081001</td>\n",
       "      <td>0.067628</td>\n",
       "      <td>-0.030816</td>\n",
       "    </tr>\n",
       "  </tbody>\n",
       "</table>\n",
       "</div>"
      ],
      "text/plain": [
       "Ticker      AAPL     GOOGL      META      NFLX      NVDA\n",
       "w       0.886081  0.158108 -0.081001  0.067628 -0.030816"
      ]
     },
     "execution_count": 35,
     "metadata": {},
     "output_type": "execute_result"
    }
   ],
   "source": [
    "w_df = pd.DataFrame(w, index=closes.columns, columns=['w'])\n",
    "w_df.T # pesos en DataFrame"
   ]
  },
  {
   "cell_type": "code",
   "execution_count": 36,
   "metadata": {},
   "outputs": [
    {
     "data": {
      "text/plain": [
       "0.0015635380336027878"
      ]
     },
     "execution_count": 36,
     "metadata": {},
     "output_type": "execute_result"
    }
   ],
   "source": [
    "rp = w.T.dot(mu)\n",
    "rp # rendimiento esperado del portafolio de mínima varianza diario"
   ]
  },
  {
   "cell_type": "code",
   "execution_count": 37,
   "metadata": {},
   "outputs": [
    {
     "data": {
      "text/plain": [
       "Ticker\n",
       "AAPL     0.001835\n",
       "GOOGL    0.001990\n",
       "META     0.004493\n",
       "NFLX     0.002288\n",
       "NVDA     0.005442\n",
       "dtype: float64"
      ]
     },
     "execution_count": 37,
     "metadata": {},
     "output_type": "execute_result"
    }
   ],
   "source": [
    "mu"
   ]
  },
  {
   "cell_type": "markdown",
   "metadata": {},
   "source": [
    "## Segundo inciso que pide elegir activos"
   ]
  },
  {
   "cell_type": "code",
   "execution_count": 38,
   "metadata": {},
   "outputs": [
    {
     "data": {
      "text/plain": [
       "array([[0.00183493, 1.        ],\n",
       "       [0.00198971, 1.        ],\n",
       "       [0.00449317, 1.        ],\n",
       "       [0.00228751, 1.        ],\n",
       "       [0.0054418 , 1.        ]])"
      ]
     },
     "execution_count": 38,
     "metadata": {},
     "output_type": "execute_result"
    }
   ],
   "source": [
    "U = np.array([mu, ones]).T\n",
    "U"
   ]
  },
  {
   "cell_type": "code",
   "execution_count": 39,
   "metadata": {},
   "outputs": [
    {
     "data": {
      "text/html": [
       "<div>\n",
       "<style scoped>\n",
       "    .dataframe tbody tr th:only-of-type {\n",
       "        vertical-align: middle;\n",
       "    }\n",
       "\n",
       "    .dataframe tbody tr th {\n",
       "        vertical-align: top;\n",
       "    }\n",
       "\n",
       "    .dataframe thead th {\n",
       "        text-align: right;\n",
       "    }\n",
       "</style>\n",
       "<table border=\"1\" class=\"dataframe\">\n",
       "  <thead>\n",
       "    <tr style=\"text-align: right;\">\n",
       "      <th></th>\n",
       "      <th>0</th>\n",
       "      <th>1</th>\n",
       "    </tr>\n",
       "  </thead>\n",
       "  <tbody>\n",
       "    <tr>\n",
       "      <th>0</th>\n",
       "      <td>0.047738</td>\n",
       "      <td>10.457732</td>\n",
       "    </tr>\n",
       "    <tr>\n",
       "      <th>1</th>\n",
       "      <td>10.457732</td>\n",
       "      <td>6688.504957</td>\n",
       "    </tr>\n",
       "  </tbody>\n",
       "</table>\n",
       "</div>"
      ],
      "text/plain": [
       "           0            1\n",
       "0   0.047738    10.457732\n",
       "1  10.457732  6688.504957"
      ]
     },
     "execution_count": 39,
     "metadata": {},
     "output_type": "execute_result"
    }
   ],
   "source": [
    "M = U.T.dot(sigma_inv).dot(U)\n",
    "pd.DataFrame(M)"
   ]
  },
  {
   "cell_type": "code",
   "execution_count": 40,
   "metadata": {},
   "outputs": [
    {
     "data": {
      "text/html": [
       "<div>\n",
       "<style scoped>\n",
       "    .dataframe tbody tr th:only-of-type {\n",
       "        vertical-align: middle;\n",
       "    }\n",
       "\n",
       "    .dataframe tbody tr th {\n",
       "        vertical-align: top;\n",
       "    }\n",
       "\n",
       "    .dataframe thead th {\n",
       "        text-align: right;\n",
       "    }\n",
       "</style>\n",
       "<table border=\"1\" class=\"dataframe\">\n",
       "  <thead>\n",
       "    <tr style=\"text-align: right;\">\n",
       "      <th></th>\n",
       "      <th>0</th>\n",
       "      <th>1</th>\n",
       "    </tr>\n",
       "  </thead>\n",
       "  <tbody>\n",
       "    <tr>\n",
       "      <th>0</th>\n",
       "      <td>31.860066</td>\n",
       "      <td>-0.049814</td>\n",
       "    </tr>\n",
       "    <tr>\n",
       "      <th>1</th>\n",
       "      <td>-0.049814</td>\n",
       "      <td>0.000227</td>\n",
       "    </tr>\n",
       "  </tbody>\n",
       "</table>\n",
       "</div>"
      ],
      "text/plain": [
       "           0         1\n",
       "0  31.860066 -0.049814\n",
       "1  -0.049814  0.000227"
      ]
     },
     "execution_count": 40,
     "metadata": {},
     "output_type": "execute_result"
    }
   ],
   "source": [
    "M_inv = np.linalg.inv(M)\n",
    "pd.DataFrame(M_inv)"
   ]
  },
  {
   "cell_type": "code",
   "execution_count": 41,
   "metadata": {},
   "outputs": [
    {
     "data": {
      "text/plain": [
       "array([[0.00156354],\n",
       "       [1.        ]])"
      ]
     },
     "execution_count": 41,
     "metadata": {},
     "output_type": "execute_result"
    }
   ],
   "source": [
    "u = np.array([[rp],\n",
    "              [1]])\n",
    "u"
   ]
  },
  {
   "cell_type": "code",
   "execution_count": 42,
   "metadata": {},
   "outputs": [
    {
     "data": {
      "text/plain": [
       "array([[ 0.88608075],\n",
       "       [ 0.15810824],\n",
       "       [-0.08100094],\n",
       "       [ 0.06762772],\n",
       "       [-0.03081577]])"
      ]
     },
     "execution_count": 42,
     "metadata": {},
     "output_type": "execute_result"
    }
   ],
   "source": [
    "w2 = sigma_inv.dot(U).dot(M_inv).dot(u)\n",
    "w2"
   ]
  },
  {
   "cell_type": "code",
   "execution_count": 43,
   "metadata": {},
   "outputs": [
    {
     "data": {
      "text/html": [
       "<div>\n",
       "<style scoped>\n",
       "    .dataframe tbody tr th:only-of-type {\n",
       "        vertical-align: middle;\n",
       "    }\n",
       "\n",
       "    .dataframe tbody tr th {\n",
       "        vertical-align: top;\n",
       "    }\n",
       "\n",
       "    .dataframe thead th {\n",
       "        text-align: right;\n",
       "    }\n",
       "</style>\n",
       "<table border=\"1\" class=\"dataframe\">\n",
       "  <thead>\n",
       "    <tr style=\"text-align: right;\">\n",
       "      <th>Ticker</th>\n",
       "      <th>AAPL</th>\n",
       "      <th>GOOGL</th>\n",
       "      <th>META</th>\n",
       "      <th>NFLX</th>\n",
       "      <th>NVDA</th>\n",
       "    </tr>\n",
       "  </thead>\n",
       "  <tbody>\n",
       "    <tr>\n",
       "      <th>w</th>\n",
       "      <td>0.886081</td>\n",
       "      <td>0.158108</td>\n",
       "      <td>-0.081001</td>\n",
       "      <td>0.067628</td>\n",
       "      <td>-0.030816</td>\n",
       "    </tr>\n",
       "  </tbody>\n",
       "</table>\n",
       "</div>"
      ],
      "text/plain": [
       "Ticker      AAPL     GOOGL      META      NFLX      NVDA\n",
       "w       0.886081  0.158108 -0.081001  0.067628 -0.030816"
      ]
     },
     "execution_count": 43,
     "metadata": {},
     "output_type": "execute_result"
    }
   ],
   "source": [
    "w2_df = pd.DataFrame(w2, index=closes.columns, columns=['w'])\n",
    "w2_df.T # pesos en DataFrame"
   ]
  }
 ],
 "metadata": {
  "kernelspec": {
   "display_name": "base",
   "language": "python",
   "name": "python3"
  },
  "language_info": {
   "codemirror_mode": {
    "name": "ipython",
    "version": 3
   },
   "file_extension": ".py",
   "mimetype": "text/x-python",
   "name": "python",
   "nbconvert_exporter": "python",
   "pygments_lexer": "ipython3",
   "version": "3.12.3"
  }
 },
 "nbformat": 4,
 "nbformat_minor": 2
}
