{
 "cells": [
  {
   "cell_type": "markdown",
   "metadata": {},
   "source": [
    "## Primer inciso que pide elegir activos"
   ]
  },
  {
   "cell_type": "code",
   "execution_count": 44,
   "metadata": {},
   "outputs": [],
   "source": [
    "import numpy as np\n",
    "import pandas as pd\n",
    "from sklearn.metrics.pairwise import rbf_kernel\n",
    "import matplotlib.pyplot as plt\n",
    "import yfinance as yf\n",
    "from IPython.display import display, Markdown\n",
    "%matplotlib inline"
   ]
  },
  {
   "cell_type": "code",
   "execution_count": 45,
   "metadata": {},
   "outputs": [
    {
     "name": "stderr",
     "output_type": "stream",
     "text": [
      "[*********************100%***********************]  5 of 5 completed\n"
     ]
    }
   ],
   "source": [
    "tickers=['GOOGL','META','AAPL','NFLX','NVDA']\n",
    "\n",
    "f_inicial='2020-01-01'\n",
    "f_final='2024-11-24'\n",
    "\n",
    "closes=yf.download(tickers,f_inicial,f_final)['Adj Close']"
   ]
  },
  {
   "cell_type": "code",
   "execution_count": 46,
   "metadata": {},
   "outputs": [
    {
     "data": {
      "text/html": [
       "<div>\n",
       "<style scoped>\n",
       "    .dataframe tbody tr th:only-of-type {\n",
       "        vertical-align: middle;\n",
       "    }\n",
       "\n",
       "    .dataframe tbody tr th {\n",
       "        vertical-align: top;\n",
       "    }\n",
       "\n",
       "    .dataframe thead th {\n",
       "        text-align: right;\n",
       "    }\n",
       "</style>\n",
       "<table border=\"1\" class=\"dataframe\">\n",
       "  <thead>\n",
       "    <tr style=\"text-align: right;\">\n",
       "      <th>Ticker</th>\n",
       "      <th>AAPL</th>\n",
       "      <th>GOOGL</th>\n",
       "      <th>META</th>\n",
       "      <th>NFLX</th>\n",
       "      <th>NVDA</th>\n",
       "    </tr>\n",
       "    <tr>\n",
       "      <th>Date</th>\n",
       "      <th></th>\n",
       "      <th></th>\n",
       "      <th></th>\n",
       "      <th></th>\n",
       "      <th></th>\n",
       "    </tr>\n",
       "  </thead>\n",
       "  <tbody>\n",
       "    <tr>\n",
       "      <th>2020-01-02 00:00:00+00:00</th>\n",
       "      <td>72.796028</td>\n",
       "      <td>68.264961</td>\n",
       "      <td>209.150269</td>\n",
       "      <td>329.809998</td>\n",
       "      <td>5.973123</td>\n",
       "    </tr>\n",
       "    <tr>\n",
       "      <th>2020-01-03 00:00:00+00:00</th>\n",
       "      <td>72.088295</td>\n",
       "      <td>67.907845</td>\n",
       "      <td>208.043594</td>\n",
       "      <td>325.899994</td>\n",
       "      <td>5.877516</td>\n",
       "    </tr>\n",
       "    <tr>\n",
       "      <th>2020-01-06 00:00:00+00:00</th>\n",
       "      <td>72.662720</td>\n",
       "      <td>69.717865</td>\n",
       "      <td>211.961823</td>\n",
       "      <td>335.829987</td>\n",
       "      <td>5.902164</td>\n",
       "    </tr>\n",
       "    <tr>\n",
       "      <th>2020-01-07 00:00:00+00:00</th>\n",
       "      <td>72.320992</td>\n",
       "      <td>69.583206</td>\n",
       "      <td>212.420425</td>\n",
       "      <td>330.750000</td>\n",
       "      <td>5.973621</td>\n",
       "    </tr>\n",
       "    <tr>\n",
       "      <th>2020-01-08 00:00:00+00:00</th>\n",
       "      <td>73.484344</td>\n",
       "      <td>70.078476</td>\n",
       "      <td>214.573944</td>\n",
       "      <td>339.260010</td>\n",
       "      <td>5.984825</td>\n",
       "    </tr>\n",
       "    <tr>\n",
       "      <th>...</th>\n",
       "      <td>...</td>\n",
       "      <td>...</td>\n",
       "      <td>...</td>\n",
       "      <td>...</td>\n",
       "      <td>...</td>\n",
       "    </tr>\n",
       "    <tr>\n",
       "      <th>2024-11-18 00:00:00+00:00</th>\n",
       "      <td>228.020004</td>\n",
       "      <td>175.300003</td>\n",
       "      <td>554.400024</td>\n",
       "      <td>847.049988</td>\n",
       "      <td>140.149994</td>\n",
       "    </tr>\n",
       "    <tr>\n",
       "      <th>2024-11-19 00:00:00+00:00</th>\n",
       "      <td>228.279999</td>\n",
       "      <td>178.119995</td>\n",
       "      <td>561.090027</td>\n",
       "      <td>871.320007</td>\n",
       "      <td>147.009995</td>\n",
       "    </tr>\n",
       "    <tr>\n",
       "      <th>2024-11-20 00:00:00+00:00</th>\n",
       "      <td>229.000000</td>\n",
       "      <td>175.979996</td>\n",
       "      <td>565.520020</td>\n",
       "      <td>883.849976</td>\n",
       "      <td>145.889999</td>\n",
       "    </tr>\n",
       "    <tr>\n",
       "      <th>2024-11-21 00:00:00+00:00</th>\n",
       "      <td>228.520004</td>\n",
       "      <td>167.630005</td>\n",
       "      <td>563.090027</td>\n",
       "      <td>897.479980</td>\n",
       "      <td>146.669998</td>\n",
       "    </tr>\n",
       "    <tr>\n",
       "      <th>2024-11-22 00:00:00+00:00</th>\n",
       "      <td>229.869995</td>\n",
       "      <td>164.759995</td>\n",
       "      <td>559.140015</td>\n",
       "      <td>897.789978</td>\n",
       "      <td>141.949997</td>\n",
       "    </tr>\n",
       "  </tbody>\n",
       "</table>\n",
       "<p>1233 rows × 5 columns</p>\n",
       "</div>"
      ],
      "text/plain": [
       "Ticker                           AAPL       GOOGL        META        NFLX  \\\n",
       "Date                                                                        \n",
       "2020-01-02 00:00:00+00:00   72.796028   68.264961  209.150269  329.809998   \n",
       "2020-01-03 00:00:00+00:00   72.088295   67.907845  208.043594  325.899994   \n",
       "2020-01-06 00:00:00+00:00   72.662720   69.717865  211.961823  335.829987   \n",
       "2020-01-07 00:00:00+00:00   72.320992   69.583206  212.420425  330.750000   \n",
       "2020-01-08 00:00:00+00:00   73.484344   70.078476  214.573944  339.260010   \n",
       "...                               ...         ...         ...         ...   \n",
       "2024-11-18 00:00:00+00:00  228.020004  175.300003  554.400024  847.049988   \n",
       "2024-11-19 00:00:00+00:00  228.279999  178.119995  561.090027  871.320007   \n",
       "2024-11-20 00:00:00+00:00  229.000000  175.979996  565.520020  883.849976   \n",
       "2024-11-21 00:00:00+00:00  228.520004  167.630005  563.090027  897.479980   \n",
       "2024-11-22 00:00:00+00:00  229.869995  164.759995  559.140015  897.789978   \n",
       "\n",
       "Ticker                           NVDA  \n",
       "Date                                   \n",
       "2020-01-02 00:00:00+00:00    5.973123  \n",
       "2020-01-03 00:00:00+00:00    5.877516  \n",
       "2020-01-06 00:00:00+00:00    5.902164  \n",
       "2020-01-07 00:00:00+00:00    5.973621  \n",
       "2020-01-08 00:00:00+00:00    5.984825  \n",
       "...                               ...  \n",
       "2024-11-18 00:00:00+00:00  140.149994  \n",
       "2024-11-19 00:00:00+00:00  147.009995  \n",
       "2024-11-20 00:00:00+00:00  145.889999  \n",
       "2024-11-21 00:00:00+00:00  146.669998  \n",
       "2024-11-22 00:00:00+00:00  141.949997  \n",
       "\n",
       "[1233 rows x 5 columns]"
      ]
     },
     "execution_count": 46,
     "metadata": {},
     "output_type": "execute_result"
    }
   ],
   "source": [
    "closes"
   ]
  },
  {
   "cell_type": "code",
   "execution_count": 47,
   "metadata": {},
   "outputs": [
    {
     "data": {
      "text/plain": [
       "Ticker\n",
       "AAPL     0.001136\n",
       "GOOGL    0.000925\n",
       "META     0.001209\n",
       "NFLX     0.001245\n",
       "NVDA     0.003152\n",
       "dtype: float64"
      ]
     },
     "execution_count": 47,
     "metadata": {},
     "output_type": "execute_result"
    }
   ],
   "source": [
    "ret = closes.pct_change().dropna()\n",
    "mu = ret.mean()\n",
    "mu # vector mu"
   ]
  },
  {
   "cell_type": "code",
   "execution_count": 48,
   "metadata": {},
   "outputs": [
    {
     "data": {
      "text/html": [
       "<div>\n",
       "<style scoped>\n",
       "    .dataframe tbody tr th:only-of-type {\n",
       "        vertical-align: middle;\n",
       "    }\n",
       "\n",
       "    .dataframe tbody tr th {\n",
       "        vertical-align: top;\n",
       "    }\n",
       "\n",
       "    .dataframe thead th {\n",
       "        text-align: right;\n",
       "    }\n",
       "</style>\n",
       "<table border=\"1\" class=\"dataframe\">\n",
       "  <thead>\n",
       "    <tr style=\"text-align: right;\">\n",
       "      <th>Ticker</th>\n",
       "      <th>AAPL</th>\n",
       "      <th>GOOGL</th>\n",
       "      <th>META</th>\n",
       "      <th>NFLX</th>\n",
       "      <th>NVDA</th>\n",
       "    </tr>\n",
       "    <tr>\n",
       "      <th>Ticker</th>\n",
       "      <th></th>\n",
       "      <th></th>\n",
       "      <th></th>\n",
       "      <th></th>\n",
       "      <th></th>\n",
       "    </tr>\n",
       "  </thead>\n",
       "  <tbody>\n",
       "    <tr>\n",
       "      <th>AAPL</th>\n",
       "      <td>0.000404</td>\n",
       "      <td>0.000269</td>\n",
       "      <td>0.000323</td>\n",
       "      <td>0.000267</td>\n",
       "      <td>0.000419</td>\n",
       "    </tr>\n",
       "    <tr>\n",
       "      <th>GOOGL</th>\n",
       "      <td>0.000269</td>\n",
       "      <td>0.000419</td>\n",
       "      <td>0.000375</td>\n",
       "      <td>0.000265</td>\n",
       "      <td>0.000420</td>\n",
       "    </tr>\n",
       "    <tr>\n",
       "      <th>META</th>\n",
       "      <td>0.000323</td>\n",
       "      <td>0.000375</td>\n",
       "      <td>0.000810</td>\n",
       "      <td>0.000405</td>\n",
       "      <td>0.000522</td>\n",
       "    </tr>\n",
       "    <tr>\n",
       "      <th>NFLX</th>\n",
       "      <td>0.000267</td>\n",
       "      <td>0.000265</td>\n",
       "      <td>0.000405</td>\n",
       "      <td>0.000834</td>\n",
       "      <td>0.000466</td>\n",
       "    </tr>\n",
       "    <tr>\n",
       "      <th>NVDA</th>\n",
       "      <td>0.000419</td>\n",
       "      <td>0.000420</td>\n",
       "      <td>0.000522</td>\n",
       "      <td>0.000466</td>\n",
       "      <td>0.001166</td>\n",
       "    </tr>\n",
       "  </tbody>\n",
       "</table>\n",
       "</div>"
      ],
      "text/plain": [
       "Ticker      AAPL     GOOGL      META      NFLX      NVDA\n",
       "Ticker                                                  \n",
       "AAPL    0.000404  0.000269  0.000323  0.000267  0.000419\n",
       "GOOGL   0.000269  0.000419  0.000375  0.000265  0.000420\n",
       "META    0.000323  0.000375  0.000810  0.000405  0.000522\n",
       "NFLX    0.000267  0.000265  0.000405  0.000834  0.000466\n",
       "NVDA    0.000419  0.000420  0.000522  0.000466  0.001166"
      ]
     },
     "execution_count": 48,
     "metadata": {},
     "output_type": "execute_result"
    }
   ],
   "source": [
    "sigma = ret.cov()\n",
    "sigma # matriz de covarianza"
   ]
  },
  {
   "cell_type": "code",
   "execution_count": 49,
   "metadata": {},
   "outputs": [
    {
     "data": {
      "text/html": [
       "<div>\n",
       "<style scoped>\n",
       "    .dataframe tbody tr th:only-of-type {\n",
       "        vertical-align: middle;\n",
       "    }\n",
       "\n",
       "    .dataframe tbody tr th {\n",
       "        vertical-align: top;\n",
       "    }\n",
       "\n",
       "    .dataframe thead th {\n",
       "        text-align: right;\n",
       "    }\n",
       "</style>\n",
       "<table border=\"1\" class=\"dataframe\">\n",
       "  <thead>\n",
       "    <tr style=\"text-align: right;\">\n",
       "      <th></th>\n",
       "      <th>0</th>\n",
       "      <th>1</th>\n",
       "      <th>2</th>\n",
       "      <th>3</th>\n",
       "      <th>4</th>\n",
       "    </tr>\n",
       "  </thead>\n",
       "  <tbody>\n",
       "    <tr>\n",
       "      <th>0</th>\n",
       "      <td>5195.388057</td>\n",
       "      <td>-1800.618923</td>\n",
       "      <td>-509.223066</td>\n",
       "      <td>-376.379176</td>\n",
       "      <td>-839.246387</td>\n",
       "    </tr>\n",
       "    <tr>\n",
       "      <th>1</th>\n",
       "      <td>-1800.618923</td>\n",
       "      <td>5501.590348</td>\n",
       "      <td>-1306.137891</td>\n",
       "      <td>-151.047561</td>\n",
       "      <td>-689.194705</td>\n",
       "    </tr>\n",
       "    <tr>\n",
       "      <th>2</th>\n",
       "      <td>-509.223066</td>\n",
       "      <td>-1306.137891</td>\n",
       "      <td>2435.175400</td>\n",
       "      <td>-462.719451</td>\n",
       "      <td>-252.751672</td>\n",
       "    </tr>\n",
       "    <tr>\n",
       "      <th>3</th>\n",
       "      <td>-376.379176</td>\n",
       "      <td>-151.047561</td>\n",
       "      <td>-462.719451</td>\n",
       "      <td>1764.428373</td>\n",
       "      <td>-308.802833</td>\n",
       "    </tr>\n",
       "    <tr>\n",
       "      <th>4</th>\n",
       "      <td>-839.246387</td>\n",
       "      <td>-689.194705</td>\n",
       "      <td>-252.751672</td>\n",
       "      <td>-308.802833</td>\n",
       "      <td>1644.397709</td>\n",
       "    </tr>\n",
       "  </tbody>\n",
       "</table>\n",
       "</div>"
      ],
      "text/plain": [
       "             0            1            2            3            4\n",
       "0  5195.388057 -1800.618923  -509.223066  -376.379176  -839.246387\n",
       "1 -1800.618923  5501.590348 -1306.137891  -151.047561  -689.194705\n",
       "2  -509.223066 -1306.137891  2435.175400  -462.719451  -252.751672\n",
       "3  -376.379176  -151.047561  -462.719451  1764.428373  -308.802833\n",
       "4  -839.246387  -689.194705  -252.751672  -308.802833  1644.397709"
      ]
     },
     "execution_count": 49,
     "metadata": {},
     "output_type": "execute_result"
    }
   ],
   "source": [
    "sigma_inv = np.linalg.inv(sigma)\n",
    "pd.DataFrame(sigma_inv) # matriz de covarianza inversa"
   ]
  },
  {
   "cell_type": "code",
   "execution_count": 50,
   "metadata": {},
   "outputs": [
    {
     "data": {
      "text/plain": [
       "array([1., 1., 1., 1., 1.])"
      ]
     },
     "execution_count": 50,
     "metadata": {},
     "output_type": "execute_result"
    }
   ],
   "source": [
    "ones = np.ones(len(mu))\n",
    "ones # vector de unos"
   ]
  },
  {
   "cell_type": "code",
   "execution_count": 51,
   "metadata": {},
   "outputs": [
    {
     "data": {
      "text/plain": [
       "array([ 0.53034621,  0.49371906, -0.03037938,  0.14783052, -0.14151641])"
      ]
     },
     "execution_count": 51,
     "metadata": {},
     "output_type": "execute_result"
    }
   ],
   "source": [
    "w = (sigma_inv.dot(ones))/(ones.T.dot(sigma_inv).dot(ones))\n",
    "w # vector de pesos para portafolio de mínima varianza"
   ]
  },
  {
   "cell_type": "code",
   "execution_count": 52,
   "metadata": {},
   "outputs": [
    {
     "data": {
      "text/html": [
       "<div>\n",
       "<style scoped>\n",
       "    .dataframe tbody tr th:only-of-type {\n",
       "        vertical-align: middle;\n",
       "    }\n",
       "\n",
       "    .dataframe tbody tr th {\n",
       "        vertical-align: top;\n",
       "    }\n",
       "\n",
       "    .dataframe thead th {\n",
       "        text-align: right;\n",
       "    }\n",
       "</style>\n",
       "<table border=\"1\" class=\"dataframe\">\n",
       "  <thead>\n",
       "    <tr style=\"text-align: right;\">\n",
       "      <th>Ticker</th>\n",
       "      <th>AAPL</th>\n",
       "      <th>GOOGL</th>\n",
       "      <th>META</th>\n",
       "      <th>NFLX</th>\n",
       "      <th>NVDA</th>\n",
       "    </tr>\n",
       "  </thead>\n",
       "  <tbody>\n",
       "    <tr>\n",
       "      <th>w</th>\n",
       "      <td>0.530346</td>\n",
       "      <td>0.493719</td>\n",
       "      <td>-0.030379</td>\n",
       "      <td>0.147831</td>\n",
       "      <td>-0.141516</td>\n",
       "    </tr>\n",
       "  </tbody>\n",
       "</table>\n",
       "</div>"
      ],
      "text/plain": [
       "Ticker      AAPL     GOOGL      META      NFLX      NVDA\n",
       "w       0.530346  0.493719 -0.030379  0.147831 -0.141516"
      ]
     },
     "execution_count": 52,
     "metadata": {},
     "output_type": "execute_result"
    }
   ],
   "source": [
    "w_df = pd.DataFrame(w, index=closes.columns, columns=['w'])\n",
    "w_df.T # pesos en DataFrame"
   ]
  },
  {
   "cell_type": "code",
   "execution_count": 53,
   "metadata": {},
   "outputs": [
    {
     "data": {
      "text/plain": [
       "0.0007601298755218444"
      ]
     },
     "execution_count": 53,
     "metadata": {},
     "output_type": "execute_result"
    }
   ],
   "source": [
    "rp = w.T.dot(mu)\n",
    "rp # rendimiento esperado del portafolio de mínima varianza diario"
   ]
  },
  {
   "cell_type": "code",
   "execution_count": 54,
   "metadata": {},
   "outputs": [
    {
     "data": {
      "text/plain": [
       "Ticker\n",
       "AAPL     0.001136\n",
       "GOOGL    0.000925\n",
       "META     0.001209\n",
       "NFLX     0.001245\n",
       "NVDA     0.003152\n",
       "dtype: float64"
      ]
     },
     "execution_count": 54,
     "metadata": {},
     "output_type": "execute_result"
    }
   ],
   "source": [
    "mu"
   ]
  },
  {
   "cell_type": "markdown",
   "metadata": {},
   "source": [
    "## Segundo inciso que pide elegir activos"
   ]
  },
  {
   "cell_type": "code",
   "execution_count": 55,
   "metadata": {},
   "outputs": [
    {
     "data": {
      "text/plain": [
       "array([[1.13554120e-03, 1.00000000e+00],\n",
       "       [9.24837214e-04, 1.00000000e+00],\n",
       "       [1.20872921e-03, 1.00000000e+00],\n",
       "       [1.24531797e-03, 1.00000000e+00],\n",
       "       [3.15218155e-03, 1.00000000e+00]])"
      ]
     },
     "execution_count": 55,
     "metadata": {},
     "output_type": "execute_result"
    }
   ],
   "source": [
    "U = np.array([mu, ones]).T\n",
    "U"
   ]
  },
  {
   "cell_type": "code",
   "execution_count": 56,
   "metadata": {},
   "outputs": [
    {
     "data": {
      "text/html": [
       "<div>\n",
       "<style scoped>\n",
       "    .dataframe tbody tr th:only-of-type {\n",
       "        vertical-align: middle;\n",
       "    }\n",
       "\n",
       "    .dataframe tbody tr th {\n",
       "        vertical-align: top;\n",
       "    }\n",
       "\n",
       "    .dataframe thead th {\n",
       "        text-align: right;\n",
       "    }\n",
       "</style>\n",
       "<table border=\"1\" class=\"dataframe\">\n",
       "  <thead>\n",
       "    <tr style=\"text-align: right;\">\n",
       "      <th></th>\n",
       "      <th>0</th>\n",
       "      <th>1</th>\n",
       "    </tr>\n",
       "  </thead>\n",
       "  <tbody>\n",
       "    <tr>\n",
       "      <th>0</th>\n",
       "      <td>0.008756</td>\n",
       "      <td>2.393449</td>\n",
       "    </tr>\n",
       "    <tr>\n",
       "      <th>1</th>\n",
       "      <td>2.393449</td>\n",
       "      <td>3148.736559</td>\n",
       "    </tr>\n",
       "  </tbody>\n",
       "</table>\n",
       "</div>"
      ],
      "text/plain": [
       "          0            1\n",
       "0  0.008756     2.393449\n",
       "1  2.393449  3148.736559"
      ]
     },
     "execution_count": 56,
     "metadata": {},
     "output_type": "execute_result"
    }
   ],
   "source": [
    "M = U.T.dot(sigma_inv).dot(U)\n",
    "pd.DataFrame(M)"
   ]
  },
  {
   "cell_type": "code",
   "execution_count": 57,
   "metadata": {},
   "outputs": [
    {
     "data": {
      "text/html": [
       "<div>\n",
       "<style scoped>\n",
       "    .dataframe tbody tr th:only-of-type {\n",
       "        vertical-align: middle;\n",
       "    }\n",
       "\n",
       "    .dataframe tbody tr th {\n",
       "        vertical-align: top;\n",
       "    }\n",
       "\n",
       "    .dataframe thead th {\n",
       "        text-align: right;\n",
       "    }\n",
       "</style>\n",
       "<table border=\"1\" class=\"dataframe\">\n",
       "  <thead>\n",
       "    <tr style=\"text-align: right;\">\n",
       "      <th></th>\n",
       "      <th>0</th>\n",
       "      <th>1</th>\n",
       "    </tr>\n",
       "  </thead>\n",
       "  <tbody>\n",
       "    <tr>\n",
       "      <th>0</th>\n",
       "      <td>144.165099</td>\n",
       "      <td>-0.109584</td>\n",
       "    </tr>\n",
       "    <tr>\n",
       "      <th>1</th>\n",
       "      <td>-0.109584</td>\n",
       "      <td>0.000401</td>\n",
       "    </tr>\n",
       "  </tbody>\n",
       "</table>\n",
       "</div>"
      ],
      "text/plain": [
       "            0         1\n",
       "0  144.165099 -0.109584\n",
       "1   -0.109584  0.000401"
      ]
     },
     "execution_count": 57,
     "metadata": {},
     "output_type": "execute_result"
    }
   ],
   "source": [
    "M_inv = np.linalg.inv(M)\n",
    "pd.DataFrame(M_inv)"
   ]
  },
  {
   "cell_type": "code",
   "execution_count": 58,
   "metadata": {},
   "outputs": [
    {
     "data": {
      "text/plain": [
       "array([[7.60129876e-04],\n",
       "       [1.00000000e+00]])"
      ]
     },
     "execution_count": 58,
     "metadata": {},
     "output_type": "execute_result"
    }
   ],
   "source": [
    "u = np.array([[rp],\n",
    "              [1]])\n",
    "u"
   ]
  },
  {
   "cell_type": "code",
   "execution_count": 59,
   "metadata": {},
   "outputs": [
    {
     "data": {
      "text/plain": [
       "array([[ 0.53034621],\n",
       "       [ 0.49371906],\n",
       "       [-0.03037938],\n",
       "       [ 0.14783052],\n",
       "       [-0.14151641]])"
      ]
     },
     "execution_count": 59,
     "metadata": {},
     "output_type": "execute_result"
    }
   ],
   "source": [
    "w2 = sigma_inv.dot(U).dot(M_inv).dot(u)\n",
    "w2"
   ]
  },
  {
   "cell_type": "code",
   "execution_count": 60,
   "metadata": {},
   "outputs": [
    {
     "data": {
      "text/html": [
       "<div>\n",
       "<style scoped>\n",
       "    .dataframe tbody tr th:only-of-type {\n",
       "        vertical-align: middle;\n",
       "    }\n",
       "\n",
       "    .dataframe tbody tr th {\n",
       "        vertical-align: top;\n",
       "    }\n",
       "\n",
       "    .dataframe thead th {\n",
       "        text-align: right;\n",
       "    }\n",
       "</style>\n",
       "<table border=\"1\" class=\"dataframe\">\n",
       "  <thead>\n",
       "    <tr style=\"text-align: right;\">\n",
       "      <th>Ticker</th>\n",
       "      <th>AAPL</th>\n",
       "      <th>GOOGL</th>\n",
       "      <th>META</th>\n",
       "      <th>NFLX</th>\n",
       "      <th>NVDA</th>\n",
       "    </tr>\n",
       "  </thead>\n",
       "  <tbody>\n",
       "    <tr>\n",
       "      <th>w</th>\n",
       "      <td>0.530346</td>\n",
       "      <td>0.493719</td>\n",
       "      <td>-0.030379</td>\n",
       "      <td>0.147831</td>\n",
       "      <td>-0.141516</td>\n",
       "    </tr>\n",
       "  </tbody>\n",
       "</table>\n",
       "</div>"
      ],
      "text/plain": [
       "Ticker      AAPL     GOOGL      META      NFLX      NVDA\n",
       "w       0.530346  0.493719 -0.030379  0.147831 -0.141516"
      ]
     },
     "execution_count": 60,
     "metadata": {},
     "output_type": "execute_result"
    }
   ],
   "source": [
    "w2_df = pd.DataFrame(w2, index=closes.columns, columns=['w'])\n",
    "w2_df.T # pesos en DataFrame"
   ]
  }
 ],
 "metadata": {
  "kernelspec": {
   "display_name": "base",
   "language": "python",
   "name": "python3"
  },
  "language_info": {
   "codemirror_mode": {
    "name": "ipython",
    "version": 3
   },
   "file_extension": ".py",
   "mimetype": "text/x-python",
   "name": "python",
   "nbconvert_exporter": "python",
   "pygments_lexer": "ipython3",
   "version": "3.12.3"
  }
 },
 "nbformat": 4,
 "nbformat_minor": 2
}
