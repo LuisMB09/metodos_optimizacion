{
 "cells": [
  {
   "cell_type": "code",
   "execution_count": 57,
   "metadata": {},
   "outputs": [],
   "source": [
    "import numpy as np\n",
    "import pandas as pd\n",
    "from sklearn.metrics.pairwise import rbf_kernel\n",
    "import matplotlib.pyplot as plt\n",
    "%matplotlib inline"
   ]
  },
  {
   "cell_type": "code",
   "execution_count": 2,
   "metadata": {},
   "outputs": [],
   "source": [
    "closes = pd.read_csv('closes.csv')\n",
    "closes['Date'] = pd.to_datetime(closes['Date'])\n",
    "closes = closes.set_index('Date')\n",
    "closes = closes[['AAPL', 'GOOGL', 'META', 'NFLX', 'NVDA']]\n",
    "tickers = closes.columns"
   ]
  },
  {
   "cell_type": "code",
   "execution_count": 3,
   "metadata": {},
   "outputs": [
    {
     "data": {
      "text/html": [
       "<div>\n",
       "<style scoped>\n",
       "    .dataframe tbody tr th:only-of-type {\n",
       "        vertical-align: middle;\n",
       "    }\n",
       "\n",
       "    .dataframe tbody tr th {\n",
       "        vertical-align: top;\n",
       "    }\n",
       "\n",
       "    .dataframe thead th {\n",
       "        text-align: right;\n",
       "    }\n",
       "</style>\n",
       "<table border=\"1\" class=\"dataframe\">\n",
       "  <thead>\n",
       "    <tr style=\"text-align: right;\">\n",
       "      <th></th>\n",
       "      <th>AAPL</th>\n",
       "      <th>GOOGL</th>\n",
       "      <th>META</th>\n",
       "      <th>NFLX</th>\n",
       "      <th>NVDA</th>\n",
       "    </tr>\n",
       "    <tr>\n",
       "      <th>Date</th>\n",
       "      <th></th>\n",
       "      <th></th>\n",
       "      <th></th>\n",
       "      <th></th>\n",
       "      <th></th>\n",
       "    </tr>\n",
       "  </thead>\n",
       "  <tbody>\n",
       "    <tr>\n",
       "      <th>2023-01-03</th>\n",
       "      <td>123.768456</td>\n",
       "      <td>88.899872</td>\n",
       "      <td>124.365547</td>\n",
       "      <td>294.950012</td>\n",
       "      <td>14.305582</td>\n",
       "    </tr>\n",
       "    <tr>\n",
       "      <th>2023-01-04</th>\n",
       "      <td>125.045029</td>\n",
       "      <td>87.862434</td>\n",
       "      <td>126.987663</td>\n",
       "      <td>309.410004</td>\n",
       "      <td>14.739296</td>\n",
       "    </tr>\n",
       "    <tr>\n",
       "      <th>2023-01-05</th>\n",
       "      <td>123.718987</td>\n",
       "      <td>85.987083</td>\n",
       "      <td>126.558952</td>\n",
       "      <td>309.700012</td>\n",
       "      <td>14.255614</td>\n",
       "    </tr>\n",
       "    <tr>\n",
       "      <th>2023-01-06</th>\n",
       "      <td>128.271118</td>\n",
       "      <td>87.124260</td>\n",
       "      <td>129.629700</td>\n",
       "      <td>315.549988</td>\n",
       "      <td>14.849224</td>\n",
       "    </tr>\n",
       "    <tr>\n",
       "      <th>2023-01-09</th>\n",
       "      <td>128.795593</td>\n",
       "      <td>87.802582</td>\n",
       "      <td>129.081345</td>\n",
       "      <td>315.170013</td>\n",
       "      <td>15.617717</td>\n",
       "    </tr>\n",
       "    <tr>\n",
       "      <th>...</th>\n",
       "      <td>...</td>\n",
       "      <td>...</td>\n",
       "      <td>...</td>\n",
       "      <td>...</td>\n",
       "      <td>...</td>\n",
       "    </tr>\n",
       "    <tr>\n",
       "      <th>2023-12-22</th>\n",
       "      <td>192.656174</td>\n",
       "      <td>141.140518</td>\n",
       "      <td>352.329163</td>\n",
       "      <td>486.760010</td>\n",
       "      <td>48.819527</td>\n",
       "    </tr>\n",
       "    <tr>\n",
       "      <th>2023-12-26</th>\n",
       "      <td>192.108856</td>\n",
       "      <td>141.170441</td>\n",
       "      <td>353.764832</td>\n",
       "      <td>491.190002</td>\n",
       "      <td>49.268425</td>\n",
       "    </tr>\n",
       "    <tr>\n",
       "      <th>2023-12-27</th>\n",
       "      <td>192.208359</td>\n",
       "      <td>140.023270</td>\n",
       "      <td>356.755859</td>\n",
       "      <td>491.790009</td>\n",
       "      <td>49.406395</td>\n",
       "    </tr>\n",
       "    <tr>\n",
       "      <th>2023-12-28</th>\n",
       "      <td>192.636261</td>\n",
       "      <td>139.883621</td>\n",
       "      <td>357.244385</td>\n",
       "      <td>490.510010</td>\n",
       "      <td>49.511375</td>\n",
       "    </tr>\n",
       "    <tr>\n",
       "      <th>2023-12-29</th>\n",
       "      <td>191.591385</td>\n",
       "      <td>139.344955</td>\n",
       "      <td>352.897491</td>\n",
       "      <td>486.880005</td>\n",
       "      <td>49.511375</td>\n",
       "    </tr>\n",
       "  </tbody>\n",
       "</table>\n",
       "<p>250 rows × 5 columns</p>\n",
       "</div>"
      ],
      "text/plain": [
       "                  AAPL       GOOGL        META        NFLX       NVDA\n",
       "Date                                                                 \n",
       "2023-01-03  123.768456   88.899872  124.365547  294.950012  14.305582\n",
       "2023-01-04  125.045029   87.862434  126.987663  309.410004  14.739296\n",
       "2023-01-05  123.718987   85.987083  126.558952  309.700012  14.255614\n",
       "2023-01-06  128.271118   87.124260  129.629700  315.549988  14.849224\n",
       "2023-01-09  128.795593   87.802582  129.081345  315.170013  15.617717\n",
       "...                ...         ...         ...         ...        ...\n",
       "2023-12-22  192.656174  141.140518  352.329163  486.760010  48.819527\n",
       "2023-12-26  192.108856  141.170441  353.764832  491.190002  49.268425\n",
       "2023-12-27  192.208359  140.023270  356.755859  491.790009  49.406395\n",
       "2023-12-28  192.636261  139.883621  357.244385  490.510010  49.511375\n",
       "2023-12-29  191.591385  139.344955  352.897491  486.880005  49.511375\n",
       "\n",
       "[250 rows x 5 columns]"
      ]
     },
     "execution_count": 3,
     "metadata": {},
     "output_type": "execute_result"
    }
   ],
   "source": [
    "closes"
   ]
  },
  {
   "cell_type": "code",
   "execution_count": 4,
   "metadata": {},
   "outputs": [
    {
     "data": {
      "text/plain": [
       "AAPL     0.001835\n",
       "GOOGL    0.001990\n",
       "META     0.004493\n",
       "NFLX     0.002288\n",
       "NVDA     0.005442\n",
       "dtype: float64"
      ]
     },
     "execution_count": 4,
     "metadata": {},
     "output_type": "execute_result"
    }
   ],
   "source": [
    "ret = closes.pct_change().dropna()\n",
    "mu = ret.mean()\n",
    "mu"
   ]
  },
  {
   "cell_type": "code",
   "execution_count": 5,
   "metadata": {},
   "outputs": [
    {
     "data": {
      "text/html": [
       "<div>\n",
       "<style scoped>\n",
       "    .dataframe tbody tr th:only-of-type {\n",
       "        vertical-align: middle;\n",
       "    }\n",
       "\n",
       "    .dataframe tbody tr th {\n",
       "        vertical-align: top;\n",
       "    }\n",
       "\n",
       "    .dataframe thead th {\n",
       "        text-align: right;\n",
       "    }\n",
       "</style>\n",
       "<table border=\"1\" class=\"dataframe\">\n",
       "  <thead>\n",
       "    <tr style=\"text-align: right;\">\n",
       "      <th></th>\n",
       "      <th>AAPL</th>\n",
       "      <th>GOOGL</th>\n",
       "      <th>META</th>\n",
       "      <th>NFLX</th>\n",
       "      <th>NVDA</th>\n",
       "    </tr>\n",
       "  </thead>\n",
       "  <tbody>\n",
       "    <tr>\n",
       "      <th>AAPL</th>\n",
       "      <td>0.000158</td>\n",
       "      <td>0.000127</td>\n",
       "      <td>0.000170</td>\n",
       "      <td>0.000125</td>\n",
       "      <td>0.000171</td>\n",
       "    </tr>\n",
       "    <tr>\n",
       "      <th>GOOGL</th>\n",
       "      <td>0.000127</td>\n",
       "      <td>0.000367</td>\n",
       "      <td>0.000292</td>\n",
       "      <td>0.000146</td>\n",
       "      <td>0.000237</td>\n",
       "    </tr>\n",
       "    <tr>\n",
       "      <th>META</th>\n",
       "      <td>0.000170</td>\n",
       "      <td>0.000292</td>\n",
       "      <td>0.000630</td>\n",
       "      <td>0.000192</td>\n",
       "      <td>0.000315</td>\n",
       "    </tr>\n",
       "    <tr>\n",
       "      <th>NFLX</th>\n",
       "      <td>0.000125</td>\n",
       "      <td>0.000146</td>\n",
       "      <td>0.000192</td>\n",
       "      <td>0.000561</td>\n",
       "      <td>0.000221</td>\n",
       "    </tr>\n",
       "    <tr>\n",
       "      <th>NVDA</th>\n",
       "      <td>0.000171</td>\n",
       "      <td>0.000237</td>\n",
       "      <td>0.000315</td>\n",
       "      <td>0.000221</td>\n",
       "      <td>0.000932</td>\n",
       "    </tr>\n",
       "  </tbody>\n",
       "</table>\n",
       "</div>"
      ],
      "text/plain": [
       "           AAPL     GOOGL      META      NFLX      NVDA\n",
       "AAPL   0.000158  0.000127  0.000170  0.000125  0.000171\n",
       "GOOGL  0.000127  0.000367  0.000292  0.000146  0.000237\n",
       "META   0.000170  0.000292  0.000630  0.000192  0.000315\n",
       "NFLX   0.000125  0.000146  0.000192  0.000561  0.000221\n",
       "NVDA   0.000171  0.000237  0.000315  0.000221  0.000932"
      ]
     },
     "execution_count": 5,
     "metadata": {},
     "output_type": "execute_result"
    }
   ],
   "source": [
    "sigma = ret.cov()\n",
    "sigma"
   ]
  },
  {
   "cell_type": "code",
   "execution_count": 6,
   "metadata": {},
   "outputs": [
    {
     "data": {
      "text/html": [
       "<div>\n",
       "<style scoped>\n",
       "    .dataframe tbody tr th:only-of-type {\n",
       "        vertical-align: middle;\n",
       "    }\n",
       "\n",
       "    .dataframe tbody tr th {\n",
       "        vertical-align: top;\n",
       "    }\n",
       "\n",
       "    .dataframe thead th {\n",
       "        text-align: right;\n",
       "    }\n",
       "</style>\n",
       "<table border=\"1\" class=\"dataframe\">\n",
       "  <thead>\n",
       "    <tr style=\"text-align: right;\">\n",
       "      <th></th>\n",
       "      <th>0</th>\n",
       "      <th>1</th>\n",
       "      <th>2</th>\n",
       "      <th>3</th>\n",
       "      <th>4</th>\n",
       "    </tr>\n",
       "  </thead>\n",
       "  <tbody>\n",
       "    <tr>\n",
       "      <th>0</th>\n",
       "      <td>11096.807698</td>\n",
       "      <td>-1679.987062</td>\n",
       "      <td>-1437.333444</td>\n",
       "      <td>-1222.955293</td>\n",
       "      <td>-829.963798</td>\n",
       "    </tr>\n",
       "    <tr>\n",
       "      <th>1</th>\n",
       "      <td>-1679.987062</td>\n",
       "      <td>4870.328808</td>\n",
       "      <td>-1563.879458</td>\n",
       "      <td>-215.587378</td>\n",
       "      <td>-353.372486</td>\n",
       "    </tr>\n",
       "    <tr>\n",
       "      <th>2</th>\n",
       "      <td>-1437.333444</td>\n",
       "      <td>-1563.879458</td>\n",
       "      <td>2888.693856</td>\n",
       "      <td>-151.444650</td>\n",
       "      <td>-277.813020</td>\n",
       "    </tr>\n",
       "    <tr>\n",
       "      <th>3</th>\n",
       "      <td>-1222.955293</td>\n",
       "      <td>-215.587378</td>\n",
       "      <td>-151.444650</td>\n",
       "      <td>2244.203515</td>\n",
       "      <td>-201.882636</td>\n",
       "    </tr>\n",
       "    <tr>\n",
       "      <th>4</th>\n",
       "      <td>-829.963798</td>\n",
       "      <td>-353.372486</td>\n",
       "      <td>-277.813020</td>\n",
       "      <td>-201.882636</td>\n",
       "      <td>1456.919157</td>\n",
       "    </tr>\n",
       "  </tbody>\n",
       "</table>\n",
       "</div>"
      ],
      "text/plain": [
       "              0            1            2            3            4\n",
       "0  11096.807698 -1679.987062 -1437.333444 -1222.955293  -829.963798\n",
       "1  -1679.987062  4870.328808 -1563.879458  -215.587378  -353.372486\n",
       "2  -1437.333444 -1563.879458  2888.693856  -151.444650  -277.813020\n",
       "3  -1222.955293  -215.587378  -151.444650  2244.203515  -201.882636\n",
       "4   -829.963798  -353.372486  -277.813020  -201.882636  1456.919157"
      ]
     },
     "execution_count": 6,
     "metadata": {},
     "output_type": "execute_result"
    }
   ],
   "source": [
    "sigma_inv = np.linalg.inv(sigma)\n",
    "pd.DataFrame(sigma_inv)"
   ]
  },
  {
   "cell_type": "code",
   "execution_count": 7,
   "metadata": {},
   "outputs": [
    {
     "data": {
      "text/plain": [
       "array([1., 1., 1., 1., 1.])"
      ]
     },
     "execution_count": 7,
     "metadata": {},
     "output_type": "execute_result"
    }
   ],
   "source": [
    "ones = np.ones(len(mu))\n",
    "ones"
   ]
  },
  {
   "cell_type": "code",
   "execution_count": 8,
   "metadata": {},
   "outputs": [
    {
     "data": {
      "text/plain": [
       "array([ 0.88608136,  0.15810722, -0.08100105,  0.0676284 , -0.03081593])"
      ]
     },
     "execution_count": 8,
     "metadata": {},
     "output_type": "execute_result"
    }
   ],
   "source": [
    "w = (sigma_inv.dot(ones))/(ones.T.dot(sigma_inv).dot(ones))\n",
    "w"
   ]
  },
  {
   "cell_type": "code",
   "execution_count": 9,
   "metadata": {},
   "outputs": [
    {
     "data": {
      "text/plain": [
       "0.0015635377395979218"
      ]
     },
     "execution_count": 9,
     "metadata": {},
     "output_type": "execute_result"
    }
   ],
   "source": [
    "rp = w.T.dot(mu)\n",
    "rp"
   ]
  },
  {
   "cell_type": "code",
   "execution_count": 10,
   "metadata": {},
   "outputs": [
    {
     "data": {
      "text/plain": [
       "AAPL     0.001835\n",
       "GOOGL    0.001990\n",
       "META     0.004493\n",
       "NFLX     0.002288\n",
       "NVDA     0.005442\n",
       "dtype: float64"
      ]
     },
     "execution_count": 10,
     "metadata": {},
     "output_type": "execute_result"
    }
   ],
   "source": [
    "mu"
   ]
  },
  {
   "cell_type": "code",
   "execution_count": null,
   "metadata": {},
   "outputs": [],
   "source": [
    "\n"
   ]
  },
  {
   "cell_type": "code",
   "execution_count": null,
   "metadata": {},
   "outputs": [],
   "source": []
  },
  {
   "cell_type": "code",
   "execution_count": null,
   "metadata": {},
   "outputs": [],
   "source": []
  },
  {
   "cell_type": "code",
   "execution_count": 11,
   "metadata": {},
   "outputs": [
    {
     "data": {
      "text/plain": [
       "array([[0.00183493, 1.        ],\n",
       "       [0.00198971, 1.        ],\n",
       "       [0.00449317, 1.        ],\n",
       "       [0.00228751, 1.        ],\n",
       "       [0.0054418 , 1.        ]])"
      ]
     },
     "execution_count": 11,
     "metadata": {},
     "output_type": "execute_result"
    }
   ],
   "source": [
    "U = np.array([mu, ones]).T\n",
    "U"
   ]
  },
  {
   "cell_type": "code",
   "execution_count": 12,
   "metadata": {},
   "outputs": [
    {
     "data": {
      "text/html": [
       "<div>\n",
       "<style scoped>\n",
       "    .dataframe tbody tr th:only-of-type {\n",
       "        vertical-align: middle;\n",
       "    }\n",
       "\n",
       "    .dataframe tbody tr th {\n",
       "        vertical-align: top;\n",
       "    }\n",
       "\n",
       "    .dataframe thead th {\n",
       "        text-align: right;\n",
       "    }\n",
       "</style>\n",
       "<table border=\"1\" class=\"dataframe\">\n",
       "  <thead>\n",
       "    <tr style=\"text-align: right;\">\n",
       "      <th></th>\n",
       "      <th>0</th>\n",
       "      <th>1</th>\n",
       "    </tr>\n",
       "  </thead>\n",
       "  <tbody>\n",
       "    <tr>\n",
       "      <th>0</th>\n",
       "      <td>0.047738</td>\n",
       "      <td>10.457745</td>\n",
       "    </tr>\n",
       "    <tr>\n",
       "      <th>1</th>\n",
       "      <td>10.457745</td>\n",
       "      <td>6688.514586</td>\n",
       "    </tr>\n",
       "  </tbody>\n",
       "</table>\n",
       "</div>"
      ],
      "text/plain": [
       "           0            1\n",
       "0   0.047738    10.457745\n",
       "1  10.457745  6688.514586"
      ]
     },
     "execution_count": 12,
     "metadata": {},
     "output_type": "execute_result"
    }
   ],
   "source": [
    "M = U.T.dot(sigma_inv).dot(U)\n",
    "pd.DataFrame(M)"
   ]
  },
  {
   "cell_type": "code",
   "execution_count": 13,
   "metadata": {},
   "outputs": [
    {
     "data": {
      "text/html": [
       "<div>\n",
       "<style scoped>\n",
       "    .dataframe tbody tr th:only-of-type {\n",
       "        vertical-align: middle;\n",
       "    }\n",
       "\n",
       "    .dataframe tbody tr th {\n",
       "        vertical-align: top;\n",
       "    }\n",
       "\n",
       "    .dataframe thead th {\n",
       "        text-align: right;\n",
       "    }\n",
       "</style>\n",
       "<table border=\"1\" class=\"dataframe\">\n",
       "  <thead>\n",
       "    <tr style=\"text-align: right;\">\n",
       "      <th></th>\n",
       "      <th>0</th>\n",
       "      <th>1</th>\n",
       "    </tr>\n",
       "  </thead>\n",
       "  <tbody>\n",
       "    <tr>\n",
       "      <th>0</th>\n",
       "      <td>31.860075</td>\n",
       "      <td>-0.049814</td>\n",
       "    </tr>\n",
       "    <tr>\n",
       "      <th>1</th>\n",
       "      <td>-0.049814</td>\n",
       "      <td>0.000227</td>\n",
       "    </tr>\n",
       "  </tbody>\n",
       "</table>\n",
       "</div>"
      ],
      "text/plain": [
       "           0         1\n",
       "0  31.860075 -0.049814\n",
       "1  -0.049814  0.000227"
      ]
     },
     "execution_count": 13,
     "metadata": {},
     "output_type": "execute_result"
    }
   ],
   "source": [
    "M_inv = np.linalg.inv(M)\n",
    "pd.DataFrame(M_inv)"
   ]
  },
  {
   "cell_type": "code",
   "execution_count": 14,
   "metadata": {},
   "outputs": [
    {
     "data": {
      "text/plain": [
       "array([[0.00156354],\n",
       "       [1.        ]])"
      ]
     },
     "execution_count": 14,
     "metadata": {},
     "output_type": "execute_result"
    }
   ],
   "source": [
    "u = np.array([[rp],\n",
    "              [1]])\n",
    "u"
   ]
  },
  {
   "cell_type": "code",
   "execution_count": 15,
   "metadata": {},
   "outputs": [
    {
     "data": {
      "text/plain": [
       "array([[ 0.88608136],\n",
       "       [ 0.15810722],\n",
       "       [-0.08100105],\n",
       "       [ 0.0676284 ],\n",
       "       [-0.03081593]])"
      ]
     },
     "execution_count": 15,
     "metadata": {},
     "output_type": "execute_result"
    }
   ],
   "source": [
    "w2 = sigma_inv.dot(U).dot(M_inv).dot(u)\n",
    "w2"
   ]
  },
  {
   "cell_type": "code",
   "execution_count": null,
   "metadata": {},
   "outputs": [],
   "source": []
  },
  {
   "cell_type": "code",
   "execution_count": null,
   "metadata": {},
   "outputs": [],
   "source": []
  },
  {
   "cell_type": "markdown",
   "metadata": {},
   "source": []
  }
 ],
 "metadata": {
  "kernelspec": {
   "display_name": "base",
   "language": "python",
   "name": "python3"
  },
  "language_info": {
   "codemirror_mode": {
    "name": "ipython",
    "version": 3
   },
   "file_extension": ".py",
   "mimetype": "text/x-python",
   "name": "python",
   "nbconvert_exporter": "python",
   "pygments_lexer": "ipython3",
   "version": "3.11.7"
  }
 },
 "nbformat": 4,
 "nbformat_minor": 2
}
