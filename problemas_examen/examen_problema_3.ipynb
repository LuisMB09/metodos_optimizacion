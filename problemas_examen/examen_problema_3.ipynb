{
 "cells": [
  {
   "cell_type": "markdown",
   "metadata": {},
   "source": [
    "## Primer inciso que pide elegir activos"
   ]
  },
  {
   "cell_type": "code",
   "execution_count": 1,
   "metadata": {},
   "outputs": [],
   "source": [
    "import numpy as np\n",
    "import pandas as pd\n",
    "from sklearn.metrics.pairwise import rbf_kernel\n",
    "import matplotlib.pyplot as plt\n",
    "import yfinance as yf\n",
    "from IPython.display import display, Markdown\n",
    "%matplotlib inline"
   ]
  },
  {
   "cell_type": "code",
   "execution_count": 2,
   "metadata": {},
   "outputs": [
    {
     "name": "stderr",
     "output_type": "stream",
     "text": [
      "[*********************100%***********************]  5 of 5 completed\n"
     ]
    }
   ],
   "source": [
    "tickers=['AMZN','WMT','GOOGL','AAPL','JPM']\n",
    "\n",
    "f_inicial='2020-01-01'\n",
    "f_final='2024-11-24'\n",
    "\n",
    "closes=yf.download(tickers,f_inicial,f_final)['Adj Close']"
   ]
  },
  {
   "cell_type": "code",
   "execution_count": 3,
   "metadata": {},
   "outputs": [
    {
     "data": {
      "text/html": [
       "<div>\n",
       "<style scoped>\n",
       "    .dataframe tbody tr th:only-of-type {\n",
       "        vertical-align: middle;\n",
       "    }\n",
       "\n",
       "    .dataframe tbody tr th {\n",
       "        vertical-align: top;\n",
       "    }\n",
       "\n",
       "    .dataframe thead th {\n",
       "        text-align: right;\n",
       "    }\n",
       "</style>\n",
       "<table border=\"1\" class=\"dataframe\">\n",
       "  <thead>\n",
       "    <tr style=\"text-align: right;\">\n",
       "      <th>Ticker</th>\n",
       "      <th>AAPL</th>\n",
       "      <th>AMZN</th>\n",
       "      <th>GOOGL</th>\n",
       "      <th>JPM</th>\n",
       "      <th>WMT</th>\n",
       "    </tr>\n",
       "    <tr>\n",
       "      <th>Date</th>\n",
       "      <th></th>\n",
       "      <th></th>\n",
       "      <th></th>\n",
       "      <th></th>\n",
       "      <th></th>\n",
       "    </tr>\n",
       "  </thead>\n",
       "  <tbody>\n",
       "    <tr>\n",
       "      <th>2020-01-02 00:00:00+00:00</th>\n",
       "      <td>72.796028</td>\n",
       "      <td>94.900497</td>\n",
       "      <td>68.264961</td>\n",
       "      <td>122.104614</td>\n",
       "      <td>36.864063</td>\n",
       "    </tr>\n",
       "    <tr>\n",
       "      <th>2020-01-03 00:00:00+00:00</th>\n",
       "      <td>72.088280</td>\n",
       "      <td>93.748497</td>\n",
       "      <td>67.907845</td>\n",
       "      <td>120.493279</td>\n",
       "      <td>36.538635</td>\n",
       "    </tr>\n",
       "    <tr>\n",
       "      <th>2020-01-06 00:00:00+00:00</th>\n",
       "      <td>72.662697</td>\n",
       "      <td>95.143997</td>\n",
       "      <td>69.717865</td>\n",
       "      <td>120.397446</td>\n",
       "      <td>36.464256</td>\n",
       "    </tr>\n",
       "    <tr>\n",
       "      <th>2020-01-07 00:00:00+00:00</th>\n",
       "      <td>72.320976</td>\n",
       "      <td>95.343002</td>\n",
       "      <td>69.583206</td>\n",
       "      <td>118.350639</td>\n",
       "      <td>36.126423</td>\n",
       "    </tr>\n",
       "    <tr>\n",
       "      <th>2020-01-08 00:00:00+00:00</th>\n",
       "      <td>73.484344</td>\n",
       "      <td>94.598503</td>\n",
       "      <td>70.078476</td>\n",
       "      <td>119.273872</td>\n",
       "      <td>36.002445</td>\n",
       "    </tr>\n",
       "    <tr>\n",
       "      <th>...</th>\n",
       "      <td>...</td>\n",
       "      <td>...</td>\n",
       "      <td>...</td>\n",
       "      <td>...</td>\n",
       "      <td>...</td>\n",
       "    </tr>\n",
       "    <tr>\n",
       "      <th>2024-11-18 00:00:00+00:00</th>\n",
       "      <td>228.020004</td>\n",
       "      <td>201.699997</td>\n",
       "      <td>175.300003</td>\n",
       "      <td>245.029999</td>\n",
       "      <td>84.080002</td>\n",
       "    </tr>\n",
       "    <tr>\n",
       "      <th>2024-11-19 00:00:00+00:00</th>\n",
       "      <td>228.279999</td>\n",
       "      <td>204.610001</td>\n",
       "      <td>178.119995</td>\n",
       "      <td>243.089996</td>\n",
       "      <td>86.599998</td>\n",
       "    </tr>\n",
       "    <tr>\n",
       "      <th>2024-11-20 00:00:00+00:00</th>\n",
       "      <td>229.000000</td>\n",
       "      <td>202.880005</td>\n",
       "      <td>175.979996</td>\n",
       "      <td>240.779999</td>\n",
       "      <td>87.180000</td>\n",
       "    </tr>\n",
       "    <tr>\n",
       "      <th>2024-11-21 00:00:00+00:00</th>\n",
       "      <td>228.520004</td>\n",
       "      <td>198.380005</td>\n",
       "      <td>167.630005</td>\n",
       "      <td>244.759995</td>\n",
       "      <td>88.389999</td>\n",
       "    </tr>\n",
       "    <tr>\n",
       "      <th>2024-11-22 00:00:00+00:00</th>\n",
       "      <td>229.869995</td>\n",
       "      <td>197.119995</td>\n",
       "      <td>164.759995</td>\n",
       "      <td>248.550003</td>\n",
       "      <td>90.440002</td>\n",
       "    </tr>\n",
       "  </tbody>\n",
       "</table>\n",
       "<p>1233 rows × 5 columns</p>\n",
       "</div>"
      ],
      "text/plain": [
       "Ticker                           AAPL        AMZN       GOOGL         JPM  \\\n",
       "Date                                                                        \n",
       "2020-01-02 00:00:00+00:00   72.796028   94.900497   68.264961  122.104614   \n",
       "2020-01-03 00:00:00+00:00   72.088280   93.748497   67.907845  120.493279   \n",
       "2020-01-06 00:00:00+00:00   72.662697   95.143997   69.717865  120.397446   \n",
       "2020-01-07 00:00:00+00:00   72.320976   95.343002   69.583206  118.350639   \n",
       "2020-01-08 00:00:00+00:00   73.484344   94.598503   70.078476  119.273872   \n",
       "...                               ...         ...         ...         ...   \n",
       "2024-11-18 00:00:00+00:00  228.020004  201.699997  175.300003  245.029999   \n",
       "2024-11-19 00:00:00+00:00  228.279999  204.610001  178.119995  243.089996   \n",
       "2024-11-20 00:00:00+00:00  229.000000  202.880005  175.979996  240.779999   \n",
       "2024-11-21 00:00:00+00:00  228.520004  198.380005  167.630005  244.759995   \n",
       "2024-11-22 00:00:00+00:00  229.869995  197.119995  164.759995  248.550003   \n",
       "\n",
       "Ticker                           WMT  \n",
       "Date                                  \n",
       "2020-01-02 00:00:00+00:00  36.864063  \n",
       "2020-01-03 00:00:00+00:00  36.538635  \n",
       "2020-01-06 00:00:00+00:00  36.464256  \n",
       "2020-01-07 00:00:00+00:00  36.126423  \n",
       "2020-01-08 00:00:00+00:00  36.002445  \n",
       "...                              ...  \n",
       "2024-11-18 00:00:00+00:00  84.080002  \n",
       "2024-11-19 00:00:00+00:00  86.599998  \n",
       "2024-11-20 00:00:00+00:00  87.180000  \n",
       "2024-11-21 00:00:00+00:00  88.389999  \n",
       "2024-11-22 00:00:00+00:00  90.440002  \n",
       "\n",
       "[1233 rows x 5 columns]"
      ]
     },
     "execution_count": 3,
     "metadata": {},
     "output_type": "execute_result"
    }
   ],
   "source": [
    "closes"
   ]
  },
  {
   "cell_type": "code",
   "execution_count": 4,
   "metadata": {},
   "outputs": [
    {
     "data": {
      "text/plain": [
       "Ticker\n",
       "AAPL     0.001136\n",
       "AMZN     0.000852\n",
       "GOOGL    0.000925\n",
       "JPM      0.000789\n",
       "WMT      0.000830\n",
       "dtype: float64"
      ]
     },
     "execution_count": 4,
     "metadata": {},
     "output_type": "execute_result"
    }
   ],
   "source": [
    "ret = closes.pct_change().dropna()\n",
    "mu = ret.mean()\n",
    "mu # vector mu"
   ]
  },
  {
   "cell_type": "code",
   "execution_count": 5,
   "metadata": {},
   "outputs": [
    {
     "data": {
      "text/html": [
       "<div>\n",
       "<style scoped>\n",
       "    .dataframe tbody tr th:only-of-type {\n",
       "        vertical-align: middle;\n",
       "    }\n",
       "\n",
       "    .dataframe tbody tr th {\n",
       "        vertical-align: top;\n",
       "    }\n",
       "\n",
       "    .dataframe thead th {\n",
       "        text-align: right;\n",
       "    }\n",
       "</style>\n",
       "<table border=\"1\" class=\"dataframe\">\n",
       "  <thead>\n",
       "    <tr style=\"text-align: right;\">\n",
       "      <th>Ticker</th>\n",
       "      <th>AAPL</th>\n",
       "      <th>AMZN</th>\n",
       "      <th>GOOGL</th>\n",
       "      <th>JPM</th>\n",
       "      <th>WMT</th>\n",
       "    </tr>\n",
       "    <tr>\n",
       "      <th>Ticker</th>\n",
       "      <th></th>\n",
       "      <th></th>\n",
       "      <th></th>\n",
       "      <th></th>\n",
       "      <th></th>\n",
       "    </tr>\n",
       "  </thead>\n",
       "  <tbody>\n",
       "    <tr>\n",
       "      <th>AAPL</th>\n",
       "      <td>0.000404</td>\n",
       "      <td>0.000271</td>\n",
       "      <td>0.000269</td>\n",
       "      <td>0.000170</td>\n",
       "      <td>0.000105</td>\n",
       "    </tr>\n",
       "    <tr>\n",
       "      <th>AMZN</th>\n",
       "      <td>0.000271</td>\n",
       "      <td>0.000517</td>\n",
       "      <td>0.000302</td>\n",
       "      <td>0.000124</td>\n",
       "      <td>0.000095</td>\n",
       "    </tr>\n",
       "    <tr>\n",
       "      <th>GOOGL</th>\n",
       "      <td>0.000269</td>\n",
       "      <td>0.000302</td>\n",
       "      <td>0.000419</td>\n",
       "      <td>0.000171</td>\n",
       "      <td>0.000086</td>\n",
       "    </tr>\n",
       "    <tr>\n",
       "      <th>JPM</th>\n",
       "      <td>0.000170</td>\n",
       "      <td>0.000124</td>\n",
       "      <td>0.000171</td>\n",
       "      <td>0.000426</td>\n",
       "      <td>0.000071</td>\n",
       "    </tr>\n",
       "    <tr>\n",
       "      <th>WMT</th>\n",
       "      <td>0.000105</td>\n",
       "      <td>0.000095</td>\n",
       "      <td>0.000086</td>\n",
       "      <td>0.000071</td>\n",
       "      <td>0.000204</td>\n",
       "    </tr>\n",
       "  </tbody>\n",
       "</table>\n",
       "</div>"
      ],
      "text/plain": [
       "Ticker      AAPL      AMZN     GOOGL       JPM       WMT\n",
       "Ticker                                                  \n",
       "AAPL    0.000404  0.000271  0.000269  0.000170  0.000105\n",
       "AMZN    0.000271  0.000517  0.000302  0.000124  0.000095\n",
       "GOOGL   0.000269  0.000302  0.000419  0.000171  0.000086\n",
       "JPM     0.000170  0.000124  0.000171  0.000426  0.000071\n",
       "WMT     0.000105  0.000095  0.000086  0.000071  0.000204"
      ]
     },
     "execution_count": 5,
     "metadata": {},
     "output_type": "execute_result"
    }
   ],
   "source": [
    "sigma = ret.cov()\n",
    "sigma # matriz de covarianza"
   ]
  },
  {
   "cell_type": "code",
   "execution_count": 6,
   "metadata": {},
   "outputs": [
    {
     "data": {
      "text/html": [
       "<div>\n",
       "<style scoped>\n",
       "    .dataframe tbody tr th:only-of-type {\n",
       "        vertical-align: middle;\n",
       "    }\n",
       "\n",
       "    .dataframe tbody tr th {\n",
       "        vertical-align: top;\n",
       "    }\n",
       "\n",
       "    .dataframe thead th {\n",
       "        text-align: right;\n",
       "    }\n",
       "</style>\n",
       "<table border=\"1\" class=\"dataframe\">\n",
       "  <thead>\n",
       "    <tr style=\"text-align: right;\">\n",
       "      <th></th>\n",
       "      <th>0</th>\n",
       "      <th>1</th>\n",
       "      <th>2</th>\n",
       "      <th>3</th>\n",
       "      <th>4</th>\n",
       "    </tr>\n",
       "  </thead>\n",
       "  <tbody>\n",
       "    <tr>\n",
       "      <th>0</th>\n",
       "      <td>5134.21</td>\n",
       "      <td>-1211.03</td>\n",
       "      <td>-1905.45</td>\n",
       "      <td>-769.54</td>\n",
       "      <td>-997.35</td>\n",
       "    </tr>\n",
       "    <tr>\n",
       "      <th>1</th>\n",
       "      <td>-1211.03</td>\n",
       "      <td>3688.34</td>\n",
       "      <td>-1898.19</td>\n",
       "      <td>237.85</td>\n",
       "      <td>-386.31</td>\n",
       "    </tr>\n",
       "    <tr>\n",
       "      <th>2</th>\n",
       "      <td>-1905.45</td>\n",
       "      <td>-1898.19</td>\n",
       "      <td>5332.03</td>\n",
       "      <td>-809.29</td>\n",
       "      <td>-100.74</td>\n",
       "    </tr>\n",
       "    <tr>\n",
       "      <th>3</th>\n",
       "      <td>-769.54</td>\n",
       "      <td>237.85</td>\n",
       "      <td>-809.29</td>\n",
       "      <td>2980.78</td>\n",
       "      <td>-416.99</td>\n",
       "    </tr>\n",
       "    <tr>\n",
       "      <th>4</th>\n",
       "      <td>-997.35</td>\n",
       "      <td>-386.31</td>\n",
       "      <td>-100.74</td>\n",
       "      <td>-416.99</td>\n",
       "      <td>5795.57</td>\n",
       "    </tr>\n",
       "  </tbody>\n",
       "</table>\n",
       "</div>"
      ],
      "text/plain": [
       "         0        1        2        3        4\n",
       "0  5134.21 -1211.03 -1905.45  -769.54  -997.35\n",
       "1 -1211.03  3688.34 -1898.19   237.85  -386.31\n",
       "2 -1905.45 -1898.19  5332.03  -809.29  -100.74\n",
       "3  -769.54   237.85  -809.29  2980.78  -416.99\n",
       "4  -997.35  -386.31  -100.74  -416.99  5795.57"
      ]
     },
     "execution_count": 6,
     "metadata": {},
     "output_type": "execute_result"
    }
   ],
   "source": [
    "sigma_inv = np.linalg.inv(sigma)\n",
    "np.round(pd.DataFrame(sigma_inv),2) # matriz de covarianza inversa"
   ]
  },
  {
   "cell_type": "code",
   "execution_count": 7,
   "metadata": {},
   "outputs": [
    {
     "data": {
      "text/plain": [
       "array([1., 1., 1., 1., 1.])"
      ]
     },
     "execution_count": 7,
     "metadata": {},
     "output_type": "execute_result"
    }
   ],
   "source": [
    "ones = np.ones(len(mu))\n",
    "ones # vector de unos"
   ]
  },
  {
   "cell_type": "code",
   "execution_count": 8,
   "metadata": {},
   "outputs": [
    {
     "data": {
      "text/plain": [
       "array([0.03909055, 0.06711463, 0.09636506, 0.19056352, 0.60686624])"
      ]
     },
     "execution_count": 8,
     "metadata": {},
     "output_type": "execute_result"
    }
   ],
   "source": [
    "w = (sigma_inv.dot(ones))/(ones.T.dot(sigma_inv).dot(ones))\n",
    "w # vector de pesos para portafolio de mínima varianza"
   ]
  },
  {
   "cell_type": "code",
   "execution_count": 9,
   "metadata": {},
   "outputs": [
    {
     "data": {
      "text/html": [
       "<div>\n",
       "<style scoped>\n",
       "    .dataframe tbody tr th:only-of-type {\n",
       "        vertical-align: middle;\n",
       "    }\n",
       "\n",
       "    .dataframe tbody tr th {\n",
       "        vertical-align: top;\n",
       "    }\n",
       "\n",
       "    .dataframe thead th {\n",
       "        text-align: right;\n",
       "    }\n",
       "</style>\n",
       "<table border=\"1\" class=\"dataframe\">\n",
       "  <thead>\n",
       "    <tr style=\"text-align: right;\">\n",
       "      <th>Ticker</th>\n",
       "      <th>AAPL</th>\n",
       "      <th>AMZN</th>\n",
       "      <th>GOOGL</th>\n",
       "      <th>JPM</th>\n",
       "      <th>WMT</th>\n",
       "    </tr>\n",
       "  </thead>\n",
       "  <tbody>\n",
       "    <tr>\n",
       "      <th>w</th>\n",
       "      <td>0.039091</td>\n",
       "      <td>0.067115</td>\n",
       "      <td>0.096365</td>\n",
       "      <td>0.190564</td>\n",
       "      <td>0.606866</td>\n",
       "    </tr>\n",
       "  </tbody>\n",
       "</table>\n",
       "</div>"
      ],
      "text/plain": [
       "Ticker      AAPL      AMZN     GOOGL       JPM       WMT\n",
       "w       0.039091  0.067115  0.096365  0.190564  0.606866"
      ]
     },
     "execution_count": 9,
     "metadata": {},
     "output_type": "execute_result"
    }
   ],
   "source": [
    "w_df = pd.DataFrame(w, index=closes.columns, columns=['w'])\n",
    "w_df.T # pesos en DataFrame"
   ]
  },
  {
   "cell_type": "code",
   "execution_count": 19,
   "metadata": {},
   "outputs": [
    {
     "data": {
      "text/plain": [
       "0.0008450051383630455"
      ]
     },
     "execution_count": 19,
     "metadata": {},
     "output_type": "execute_result"
    }
   ],
   "source": [
    "rp = w.T.dot(mu)\n",
    "rp # rendimiento esperado del portafolio de mínima varianza diario"
   ]
  },
  {
   "cell_type": "code",
   "execution_count": 11,
   "metadata": {},
   "outputs": [
    {
     "data": {
      "text/plain": [
       "Ticker\n",
       "AAPL     0.001136\n",
       "AMZN     0.000852\n",
       "GOOGL    0.000925\n",
       "JPM      0.000789\n",
       "WMT      0.000830\n",
       "dtype: float64"
      ]
     },
     "execution_count": 11,
     "metadata": {},
     "output_type": "execute_result"
    }
   ],
   "source": [
    "mu"
   ]
  },
  {
   "cell_type": "markdown",
   "metadata": {},
   "source": [
    "## Segundo inciso que pide elegir activos"
   ]
  },
  {
   "cell_type": "code",
   "execution_count": 12,
   "metadata": {},
   "outputs": [
    {
     "data": {
      "text/plain": [
       "array([[1.13554115e-03, 1.00000000e+00],\n",
       "       [8.51879336e-04, 1.00000000e+00],\n",
       "       [9.24837214e-04, 1.00000000e+00],\n",
       "       [7.89105487e-04, 1.00000000e+00],\n",
       "       [8.30406931e-04, 1.00000000e+00]])"
      ]
     },
     "execution_count": 12,
     "metadata": {},
     "output_type": "execute_result"
    }
   ],
   "source": [
    "U = np.array([mu, ones]).T\n",
    "U"
   ]
  },
  {
   "cell_type": "code",
   "execution_count": 13,
   "metadata": {},
   "outputs": [
    {
     "data": {
      "text/html": [
       "<div>\n",
       "<style scoped>\n",
       "    .dataframe tbody tr th:only-of-type {\n",
       "        vertical-align: middle;\n",
       "    }\n",
       "\n",
       "    .dataframe tbody tr th {\n",
       "        vertical-align: top;\n",
       "    }\n",
       "\n",
       "    .dataframe thead th {\n",
       "        text-align: right;\n",
       "    }\n",
       "</style>\n",
       "<table border=\"1\" class=\"dataframe\">\n",
       "  <thead>\n",
       "    <tr style=\"text-align: right;\">\n",
       "      <th></th>\n",
       "      <th>0</th>\n",
       "      <th>1</th>\n",
       "    </tr>\n",
       "  </thead>\n",
       "  <tbody>\n",
       "    <tr>\n",
       "      <th>0</th>\n",
       "      <td>0.005005</td>\n",
       "      <td>5.422285</td>\n",
       "    </tr>\n",
       "    <tr>\n",
       "      <th>1</th>\n",
       "      <td>5.422285</td>\n",
       "      <td>6416.866046</td>\n",
       "    </tr>\n",
       "  </tbody>\n",
       "</table>\n",
       "</div>"
      ],
      "text/plain": [
       "          0            1\n",
       "0  0.005005     5.422285\n",
       "1  5.422285  6416.866046"
      ]
     },
     "execution_count": 13,
     "metadata": {},
     "output_type": "execute_result"
    }
   ],
   "source": [
    "M = U.T.dot(sigma_inv).dot(U)\n",
    "pd.DataFrame(M)"
   ]
  },
  {
   "cell_type": "code",
   "execution_count": 14,
   "metadata": {},
   "outputs": [
    {
     "data": {
      "text/html": [
       "<div>\n",
       "<style scoped>\n",
       "    .dataframe tbody tr th:only-of-type {\n",
       "        vertical-align: middle;\n",
       "    }\n",
       "\n",
       "    .dataframe tbody tr th {\n",
       "        vertical-align: top;\n",
       "    }\n",
       "\n",
       "    .dataframe thead th {\n",
       "        text-align: right;\n",
       "    }\n",
       "</style>\n",
       "<table border=\"1\" class=\"dataframe\">\n",
       "  <thead>\n",
       "    <tr style=\"text-align: right;\">\n",
       "      <th></th>\n",
       "      <th>0</th>\n",
       "      <th>1</th>\n",
       "    </tr>\n",
       "  </thead>\n",
       "  <tbody>\n",
       "    <tr>\n",
       "      <th>0</th>\n",
       "      <td>2364.584371</td>\n",
       "      <td>-1.998086</td>\n",
       "    </tr>\n",
       "    <tr>\n",
       "      <th>1</th>\n",
       "      <td>-1.998086</td>\n",
       "      <td>0.001844</td>\n",
       "    </tr>\n",
       "  </tbody>\n",
       "</table>\n",
       "</div>"
      ],
      "text/plain": [
       "             0         1\n",
       "0  2364.584371 -1.998086\n",
       "1    -1.998086  0.001844"
      ]
     },
     "execution_count": 14,
     "metadata": {},
     "output_type": "execute_result"
    }
   ],
   "source": [
    "M_inv = np.linalg.inv(M)\n",
    "pd.DataFrame(M_inv)"
   ]
  },
  {
   "cell_type": "code",
   "execution_count": 15,
   "metadata": {},
   "outputs": [
    {
     "data": {
      "text/plain": [
       "array([[8.45005138e-04],\n",
       "       [1.00000000e+00]])"
      ]
     },
     "execution_count": 15,
     "metadata": {},
     "output_type": "execute_result"
    }
   ],
   "source": [
    "u = np.array([[rp],\n",
    "              [1]])\n",
    "u"
   ]
  },
  {
   "cell_type": "code",
   "execution_count": 16,
   "metadata": {},
   "outputs": [
    {
     "data": {
      "text/plain": [
       "array([[0.03909055],\n",
       "       [0.06711463],\n",
       "       [0.09636506],\n",
       "       [0.19056352],\n",
       "       [0.60686624]])"
      ]
     },
     "execution_count": 16,
     "metadata": {},
     "output_type": "execute_result"
    }
   ],
   "source": [
    "w2 = sigma_inv.dot(U).dot(M_inv).dot(u)\n",
    "w2"
   ]
  },
  {
   "cell_type": "code",
   "execution_count": 17,
   "metadata": {},
   "outputs": [
    {
     "data": {
      "text/html": [
       "<div>\n",
       "<style scoped>\n",
       "    .dataframe tbody tr th:only-of-type {\n",
       "        vertical-align: middle;\n",
       "    }\n",
       "\n",
       "    .dataframe tbody tr th {\n",
       "        vertical-align: top;\n",
       "    }\n",
       "\n",
       "    .dataframe thead th {\n",
       "        text-align: right;\n",
       "    }\n",
       "</style>\n",
       "<table border=\"1\" class=\"dataframe\">\n",
       "  <thead>\n",
       "    <tr style=\"text-align: right;\">\n",
       "      <th>Ticker</th>\n",
       "      <th>AAPL</th>\n",
       "      <th>AMZN</th>\n",
       "      <th>GOOGL</th>\n",
       "      <th>JPM</th>\n",
       "      <th>WMT</th>\n",
       "    </tr>\n",
       "  </thead>\n",
       "  <tbody>\n",
       "    <tr>\n",
       "      <th>w</th>\n",
       "      <td>0.039091</td>\n",
       "      <td>0.067115</td>\n",
       "      <td>0.096365</td>\n",
       "      <td>0.190564</td>\n",
       "      <td>0.606866</td>\n",
       "    </tr>\n",
       "  </tbody>\n",
       "</table>\n",
       "</div>"
      ],
      "text/plain": [
       "Ticker      AAPL      AMZN     GOOGL       JPM       WMT\n",
       "w       0.039091  0.067115  0.096365  0.190564  0.606866"
      ]
     },
     "execution_count": 17,
     "metadata": {},
     "output_type": "execute_result"
    }
   ],
   "source": [
    "w2_df = pd.DataFrame(w2, index=closes.columns, columns=['w'])\n",
    "w2_df.T # pesos en DataFrame"
   ]
  }
 ],
 "metadata": {
  "kernelspec": {
   "display_name": "base",
   "language": "python",
   "name": "python3"
  },
  "language_info": {
   "codemirror_mode": {
    "name": "ipython",
    "version": 3
   },
   "file_extension": ".py",
   "mimetype": "text/x-python",
   "name": "python",
   "nbconvert_exporter": "python",
   "pygments_lexer": "ipython3",
   "version": "3.12.3"
  }
 },
 "nbformat": 4,
 "nbformat_minor": 2
}
