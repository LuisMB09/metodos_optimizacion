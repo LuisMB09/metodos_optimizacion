{
 "cells": [
  {
   "cell_type": "code",
   "execution_count": 16,
   "id": "6406eb60-f496-4b14-a4cb-77b19d4f9752",
   "metadata": {},
   "outputs": [],
   "source": [
    "import numpy as np\n",
    "import pandas as pd\n",
    "import matplotlib.pyplot as plt\n",
    "import random\n",
    "from IPython.display import display, Markdown"
   ]
  },
  {
   "cell_type": "markdown",
   "id": "40b47618-2a63-4fca-b819-0184bffd8134",
   "metadata": {},
   "source": [
    "## Preparación y lectura de datos"
   ]
  },
  {
   "cell_type": "code",
   "execution_count": 17,
   "id": "d50bdf73-9a21-4ccb-b12e-1914da89f1b6",
   "metadata": {},
   "outputs": [
    {
     "data": {
      "text/html": [
       "<div>\n",
       "<style scoped>\n",
       "    .dataframe tbody tr th:only-of-type {\n",
       "        vertical-align: middle;\n",
       "    }\n",
       "\n",
       "    .dataframe tbody tr th {\n",
       "        vertical-align: top;\n",
       "    }\n",
       "\n",
       "    .dataframe thead th {\n",
       "        text-align: right;\n",
       "    }\n",
       "</style>\n",
       "<table border=\"1\" class=\"dataframe\">\n",
       "  <thead>\n",
       "    <tr style=\"text-align: right;\">\n",
       "      <th></th>\n",
       "      <th>Estatura</th>\n",
       "      <th>Peso</th>\n",
       "      <th>B0</th>\n",
       "      <th>est+e</th>\n",
       "      <th>x^2</th>\n",
       "      <th>x^3</th>\n",
       "      <th>x^4</th>\n",
       "      <th>x^5</th>\n",
       "      <th>x^6</th>\n",
       "      <th>x^7</th>\n",
       "      <th>...</th>\n",
       "      <th>x^13</th>\n",
       "      <th>x^14</th>\n",
       "      <th>x^15</th>\n",
       "      <th>x^16</th>\n",
       "      <th>x^17</th>\n",
       "      <th>x^18</th>\n",
       "      <th>x^19</th>\n",
       "      <th>x^20</th>\n",
       "      <th>C</th>\n",
       "      <th>Peso_log</th>\n",
       "    </tr>\n",
       "  </thead>\n",
       "  <tbody>\n",
       "    <tr>\n",
       "      <th>0</th>\n",
       "      <td>1.62</td>\n",
       "      <td>63</td>\n",
       "      <td>1</td>\n",
       "      <td>1.627628</td>\n",
       "      <td>2.6244</td>\n",
       "      <td>4.251528</td>\n",
       "      <td>6.887475</td>\n",
       "      <td>11.157710</td>\n",
       "      <td>18.075490</td>\n",
       "      <td>29.282294</td>\n",
       "      <td>...</td>\n",
       "      <td>529.291828</td>\n",
       "      <td>857.452762</td>\n",
       "      <td>1389.073474</td>\n",
       "      <td>2250.299028</td>\n",
       "      <td>3645.484426</td>\n",
       "      <td>5905.684770</td>\n",
       "      <td>9567.209328</td>\n",
       "      <td>15498.879111</td>\n",
       "      <td>4</td>\n",
       "      <td>4.143135</td>\n",
       "    </tr>\n",
       "    <tr>\n",
       "      <th>1</th>\n",
       "      <td>1.83</td>\n",
       "      <td>71</td>\n",
       "      <td>1</td>\n",
       "      <td>1.833762</td>\n",
       "      <td>3.3489</td>\n",
       "      <td>6.128487</td>\n",
       "      <td>11.215131</td>\n",
       "      <td>20.523690</td>\n",
       "      <td>37.558353</td>\n",
       "      <td>68.731786</td>\n",
       "      <td>...</td>\n",
       "      <td>2581.452668</td>\n",
       "      <td>4724.058383</td>\n",
       "      <td>8645.026840</td>\n",
       "      <td>15820.399117</td>\n",
       "      <td>28951.330385</td>\n",
       "      <td>52980.934604</td>\n",
       "      <td>96955.110325</td>\n",
       "      <td>177427.851894</td>\n",
       "      <td>4</td>\n",
       "      <td>4.262680</td>\n",
       "    </tr>\n",
       "    <tr>\n",
       "      <th>2</th>\n",
       "      <td>1.72</td>\n",
       "      <td>64</td>\n",
       "      <td>1</td>\n",
       "      <td>1.711332</td>\n",
       "      <td>2.9584</td>\n",
       "      <td>5.088448</td>\n",
       "      <td>8.752131</td>\n",
       "      <td>15.053665</td>\n",
       "      <td>25.892303</td>\n",
       "      <td>44.534761</td>\n",
       "      <td>...</td>\n",
       "      <td>1153.107534</td>\n",
       "      <td>1983.344959</td>\n",
       "      <td>3411.353330</td>\n",
       "      <td>5867.527727</td>\n",
       "      <td>10092.147690</td>\n",
       "      <td>17358.494027</td>\n",
       "      <td>29856.609726</td>\n",
       "      <td>51353.368730</td>\n",
       "      <td>4</td>\n",
       "      <td>4.158883</td>\n",
       "    </tr>\n",
       "    <tr>\n",
       "      <th>3</th>\n",
       "      <td>1.71</td>\n",
       "      <td>67</td>\n",
       "      <td>1</td>\n",
       "      <td>1.730474</td>\n",
       "      <td>2.9241</td>\n",
       "      <td>5.000211</td>\n",
       "      <td>8.550361</td>\n",
       "      <td>14.621117</td>\n",
       "      <td>25.002110</td>\n",
       "      <td>42.753608</td>\n",
       "      <td>...</td>\n",
       "      <td>1068.930416</td>\n",
       "      <td>1827.871012</td>\n",
       "      <td>3125.659431</td>\n",
       "      <td>5344.877626</td>\n",
       "      <td>9139.740741</td>\n",
       "      <td>15628.956667</td>\n",
       "      <td>26725.515901</td>\n",
       "      <td>45700.632191</td>\n",
       "      <td>4</td>\n",
       "      <td>4.204693</td>\n",
       "    </tr>\n",
       "    <tr>\n",
       "      <th>4</th>\n",
       "      <td>1.84</td>\n",
       "      <td>85</td>\n",
       "      <td>1</td>\n",
       "      <td>1.833913</td>\n",
       "      <td>3.3856</td>\n",
       "      <td>6.229504</td>\n",
       "      <td>11.462287</td>\n",
       "      <td>21.090609</td>\n",
       "      <td>38.806720</td>\n",
       "      <td>71.404365</td>\n",
       "      <td>...</td>\n",
       "      <td>2770.969204</td>\n",
       "      <td>5098.583335</td>\n",
       "      <td>9381.393337</td>\n",
       "      <td>17261.763739</td>\n",
       "      <td>31761.645280</td>\n",
       "      <td>58441.427316</td>\n",
       "      <td>107532.226261</td>\n",
       "      <td>197859.296320</td>\n",
       "      <td>4</td>\n",
       "      <td>4.442651</td>\n",
       "    </tr>\n",
       "  </tbody>\n",
       "</table>\n",
       "<p>5 rows × 25 columns</p>\n",
       "</div>"
      ],
      "text/plain": [
       "   Estatura  Peso  B0     est+e     x^2       x^3        x^4        x^5  \\\n",
       "0      1.62    63   1  1.627628  2.6244  4.251528   6.887475  11.157710   \n",
       "1      1.83    71   1  1.833762  3.3489  6.128487  11.215131  20.523690   \n",
       "2      1.72    64   1  1.711332  2.9584  5.088448   8.752131  15.053665   \n",
       "3      1.71    67   1  1.730474  2.9241  5.000211   8.550361  14.621117   \n",
       "4      1.84    85   1  1.833913  3.3856  6.229504  11.462287  21.090609   \n",
       "\n",
       "         x^6        x^7  ...         x^13         x^14         x^15  \\\n",
       "0  18.075490  29.282294  ...   529.291828   857.452762  1389.073474   \n",
       "1  37.558353  68.731786  ...  2581.452668  4724.058383  8645.026840   \n",
       "2  25.892303  44.534761  ...  1153.107534  1983.344959  3411.353330   \n",
       "3  25.002110  42.753608  ...  1068.930416  1827.871012  3125.659431   \n",
       "4  38.806720  71.404365  ...  2770.969204  5098.583335  9381.393337   \n",
       "\n",
       "           x^16          x^17          x^18           x^19           x^20  C  \\\n",
       "0   2250.299028   3645.484426   5905.684770    9567.209328   15498.879111  4   \n",
       "1  15820.399117  28951.330385  52980.934604   96955.110325  177427.851894  4   \n",
       "2   5867.527727  10092.147690  17358.494027   29856.609726   51353.368730  4   \n",
       "3   5344.877626   9139.740741  15628.956667   26725.515901   45700.632191  4   \n",
       "4  17261.763739  31761.645280  58441.427316  107532.226261  197859.296320  4   \n",
       "\n",
       "   Peso_log  \n",
       "0  4.143135  \n",
       "1  4.262680  \n",
       "2  4.158883  \n",
       "3  4.204693  \n",
       "4  4.442651  \n",
       "\n",
       "[5 rows x 25 columns]"
      ]
     },
     "execution_count": 17,
     "metadata": {},
     "output_type": "execute_result"
    }
   ],
   "source": [
    "df = pd.read_excel('Regresión Lineal.xlsx', sheet_name = 1)\n",
    "df['B0'] = 1\n",
    "df['est+e'] = df['Estatura'] + np.random.normal(0,0.01,size = len(df['Estatura']))\n",
    "for i in range(2, 21):\n",
    "    df[f'x^{i}'] = df['Estatura'] ** i\n",
    "df['C'] = 4\n",
    "df['Peso_log'] = np.log(df['Peso'])\n",
    "df.head()"
   ]
  },
  {
   "cell_type": "markdown",
   "id": "78ebec98-dd35-4762-aa86-80ca0cbbcda3",
   "metadata": {
    "jp-MarkdownHeadingCollapsed": true
   },
   "source": [
    "## Explicación de matrices"
   ]
  },
  {
   "cell_type": "markdown",
   "id": "4f1b4e4b-9e49-4437-a916-a5d4ec935165",
   "metadata": {},
   "source": [
    "- $ \\beta = (X^TX)^{-1}X^TY $\n",
    "- $ c = X^TX $\n",
    "- $ d = X^TY $\n",
    "- $ c_{inv} = (X^TX)^{-1} $\n",
    "- $ beta = c_{inv}d $\n",
    "\n",
    "Para que esto funcione $X^TX$ tiene que ser invertible.\n",
    "\n",
    "Si c ($X^TT$) tiene un valor propio que es 0, no se puede invertir y su determinante no puede ser 0."
   ]
  },
  {
   "cell_type": "markdown",
   "id": "f16c174a-0896-484b-9d1b-a617aa996898",
   "metadata": {
    "jp-MarkdownHeadingCollapsed": true
   },
   "source": [
    "## Cálculo de betas"
   ]
  },
  {
   "cell_type": "code",
   "execution_count": 18,
   "id": "9599e10f-f42a-4501-94e7-c599df7b74b5",
   "metadata": {},
   "outputs": [],
   "source": [
    "variables = ['B0', 'Estatura','x^2','x^3']\n",
    "def regresion(df):\n",
    "    x = np.array(df[variables])\n",
    "    y = np.array(df[['Peso']])\n",
    "\n",
    "    c = np.dot(x.T,x) # X^T X\n",
    "    d = np.dot(x.T, y) # X^T y\n",
    "    valores_propios, vectores_propios = np.linalg.eig(c)\n",
    "    det = np.linalg.det(c)\n",
    "    \n",
    "    if det > 0:\n",
    "        c_inv = np.linalg.inv(c) # (X^T X)^-1\n",
    "        beta = np.dot(c_inv, d)\n",
    "        betas = []\n",
    "        for i in range(len(beta)):\n",
    "            betas.append(beta[i][0])\n",
    "        for i, b in enumerate(betas):\n",
    "            print(f\"B{i} = {b}\")\n",
    "    else:\n",
    "        print('X^T T no es invertible')"
   ]
  },
  {
   "cell_type": "code",
   "execution_count": 19,
   "id": "39acc445-f3a8-4c71-8e1d-44ff9ea21ec1",
   "metadata": {},
   "outputs": [
    {
     "name": "stdout",
     "output_type": "stream",
     "text": [
      "B0 = -832.2935676574707\n",
      "B1 = 1652.5787200927734\n",
      "B2 = -1067.9180946350098\n",
      "B3 = 238.76823234558105\n"
     ]
    }
   ],
   "source": [
    "regresion(df)"
   ]
  },
  {
   "cell_type": "markdown",
   "id": "60ac3646-4bd8-4a78-a00a-b5452127ba72",
   "metadata": {
    "jp-MarkdownHeadingCollapsed": true
   },
   "source": [
    "## Análisis de ruido"
   ]
  },
  {
   "cell_type": "code",
   "execution_count": 20,
   "id": "98beeb3a-137e-4dbf-b094-7846836d949f",
   "metadata": {},
   "outputs": [
    {
     "data": {
      "text/markdown": [
       "**Matriz de Covarianza**"
      ],
      "text/plain": [
       "<IPython.core.display.Markdown object>"
      ]
     },
     "metadata": {},
     "output_type": "display_data"
    },
    {
     "data": {
      "text/html": [
       "<div>\n",
       "<style scoped>\n",
       "    .dataframe tbody tr th:only-of-type {\n",
       "        vertical-align: middle;\n",
       "    }\n",
       "\n",
       "    .dataframe tbody tr th {\n",
       "        vertical-align: top;\n",
       "    }\n",
       "\n",
       "    .dataframe thead th {\n",
       "        text-align: right;\n",
       "    }\n",
       "</style>\n",
       "<table border=\"1\" class=\"dataframe\">\n",
       "  <thead>\n",
       "    <tr style=\"text-align: right;\">\n",
       "      <th></th>\n",
       "      <th>Estatura</th>\n",
       "      <th>est+e</th>\n",
       "    </tr>\n",
       "  </thead>\n",
       "  <tbody>\n",
       "    <tr>\n",
       "      <th>Estatura</th>\n",
       "      <td>0.009135</td>\n",
       "      <td>0.009066</td>\n",
       "    </tr>\n",
       "    <tr>\n",
       "      <th>est+e</th>\n",
       "      <td>0.009066</td>\n",
       "      <td>0.009103</td>\n",
       "    </tr>\n",
       "  </tbody>\n",
       "</table>\n",
       "</div>"
      ],
      "text/plain": [
       "          Estatura     est+e\n",
       "Estatura  0.009135  0.009066\n",
       "est+e     0.009066  0.009103"
      ]
     },
     "metadata": {},
     "output_type": "display_data"
    },
    {
     "data": {
      "text/markdown": [
       "**Matriz de Correlación**"
      ],
      "text/plain": [
       "<IPython.core.display.Markdown object>"
      ]
     },
     "metadata": {},
     "output_type": "display_data"
    },
    {
     "data": {
      "text/html": [
       "<div>\n",
       "<style scoped>\n",
       "    .dataframe tbody tr th:only-of-type {\n",
       "        vertical-align: middle;\n",
       "    }\n",
       "\n",
       "    .dataframe tbody tr th {\n",
       "        vertical-align: top;\n",
       "    }\n",
       "\n",
       "    .dataframe thead th {\n",
       "        text-align: right;\n",
       "    }\n",
       "</style>\n",
       "<table border=\"1\" class=\"dataframe\">\n",
       "  <thead>\n",
       "    <tr style=\"text-align: right;\">\n",
       "      <th></th>\n",
       "      <th>Estatura</th>\n",
       "      <th>est+e</th>\n",
       "    </tr>\n",
       "  </thead>\n",
       "  <tbody>\n",
       "    <tr>\n",
       "      <th>Estatura</th>\n",
       "      <td>1.000000</td>\n",
       "      <td>0.994251</td>\n",
       "    </tr>\n",
       "    <tr>\n",
       "      <th>est+e</th>\n",
       "      <td>0.994251</td>\n",
       "      <td>1.000000</td>\n",
       "    </tr>\n",
       "  </tbody>\n",
       "</table>\n",
       "</div>"
      ],
      "text/plain": [
       "          Estatura     est+e\n",
       "Estatura  1.000000  0.994251\n",
       "est+e     0.994251  1.000000"
      ]
     },
     "metadata": {},
     "output_type": "display_data"
    }
   ],
   "source": [
    "x_new = df[['Estatura','est+e']]\n",
    "display(Markdown(\"**Matriz de Covarianza**\"))\n",
    "display(x_new.cov())\n",
    "display(Markdown(\"**Matriz de Correlación**\"))\n",
    "display(x_new.corr())"
   ]
  },
  {
   "cell_type": "code",
   "execution_count": 21,
   "id": "47a980ab-21f9-48dd-86be-4da68f0bb54c",
   "metadata": {},
   "outputs": [
    {
     "data": {
      "text/plain": [
       "9.532956711790822e-07"
      ]
     },
     "execution_count": 21,
     "metadata": {},
     "output_type": "execute_result"
    }
   ],
   "source": [
    "np.linalg.det(x_new.cov())"
   ]
  },
  {
   "cell_type": "markdown",
   "id": "a347a715-10e1-4f84-b60d-980a6f0bc7ff",
   "metadata": {},
   "source": [
    "## Uso de $\\lambda I$"
   ]
  },
  {
   "cell_type": "code",
   "execution_count": 22,
   "id": "c5dec87f-4d88-4d93-b911-e25c013ea35d",
   "metadata": {},
   "outputs": [],
   "source": [
    "variables = ['B0', 'Estatura','x^2','x^3']\n",
    "\n",
    "x = np.array(df[variables])\n",
    "y = np.array(df[['Peso']])\n",
    "\n",
    "c = np.dot(x.T,x) # X^T X\n",
    "d = np.dot(x.T, y) # X^T y\n",
    "#valores_propios, vectores_propios = np.linalg.eig(c)\n",
    "#det = np.linalg.det(c)"
   ]
  },
  {
   "cell_type": "markdown",
   "id": "9d21b11b-b606-4e4b-8861-642c9e17f3a7",
   "metadata": {},
   "source": [
    "### $X^TX$ y valores propios"
   ]
  },
  {
   "cell_type": "code",
   "execution_count": 23,
   "id": "6eaf9576-c3a3-4c0c-bcd9-7599a70c3bb1",
   "metadata": {},
   "outputs": [
    {
     "data": {
      "text/plain": [
       "array([[ 21.        ,  35.83      ,  61.3155    , 105.232597  ],\n",
       "       [ 35.83      ,  61.3155    , 105.232597  , 181.11179127],\n",
       "       [ 61.3155    , 105.232597  , 181.11179127, 312.54970265],\n",
       "       [105.232597  , 181.11179127, 312.54970265, 540.78771115]])"
      ]
     },
     "execution_count": 23,
     "metadata": {},
     "output_type": "execute_result"
    }
   ],
   "source": [
    "c"
   ]
  },
  {
   "cell_type": "code",
   "execution_count": 24,
   "id": "1786630b-d687-4682-9b63-a6474c67301e",
   "metadata": {},
   "outputs": [
    {
     "data": {
      "text/plain": [
       "array([8.03001807e+02, 1.21218433e+00, 1.01072065e-03, 7.99795859e-08])"
      ]
     },
     "execution_count": 24,
     "metadata": {},
     "output_type": "execute_result"
    }
   ],
   "source": [
    "valores_propios, vectores_propios = np.linalg.eig(c)\n",
    "valores_propios"
   ]
  },
  {
   "cell_type": "markdown",
   "id": "0fffe453-d86d-4ab3-b789-54386fbe1d6f",
   "metadata": {},
   "source": [
    "### $X^TX + \\lambda I$ y valores propios"
   ]
  },
  {
   "cell_type": "code",
   "execution_count": 25,
   "id": "3b1faacf-2e62-49ca-99d1-a721a2aaf7f3",
   "metadata": {},
   "outputs": [
    {
     "data": {
      "text/plain": [
       "array([[ 31.        ,  35.83      ,  61.3155    , 105.232597  ],\n",
       "       [ 35.83      ,  71.3155    , 105.232597  , 181.11179127],\n",
       "       [ 61.3155    , 105.232597  , 191.11179127, 312.54970265],\n",
       "       [105.232597  , 181.11179127, 312.54970265, 550.78771115]])"
      ]
     },
     "execution_count": 25,
     "metadata": {},
     "output_type": "execute_result"
    }
   ],
   "source": [
    "lambda_I = 10 * np.identity(4)\n",
    "c_i = c+lambda_I\n",
    "c_i"
   ]
  },
  {
   "cell_type": "code",
   "execution_count": 26,
   "id": "a8172b11-f829-4574-b3ea-7c17afafc7d3",
   "metadata": {},
   "outputs": [
    {
     "data": {
      "text/plain": [
       "array([813.00180729,  11.21218433,  10.00101072,  10.00000008])"
      ]
     },
     "execution_count": 26,
     "metadata": {},
     "output_type": "execute_result"
    }
   ],
   "source": [
    "valores_propios, vectores_propios = np.linalg.eig(c_i)\n",
    "valores_propios"
   ]
  },
  {
   "cell_type": "markdown",
   "id": "30468229-e118-4995-af1f-1ac2bd8bca40",
   "metadata": {},
   "source": [
    "### $\\beta 's$ para la regresión"
   ]
  },
  {
   "cell_type": "code",
   "execution_count": 27,
   "id": "0fcbc215",
   "metadata": {},
   "outputs": [],
   "source": [
    "variables = ['B0', 'Estatura','x^2']  "
   ]
  },
  {
   "cell_type": "markdown",
   "id": "33d829c0",
   "metadata": {},
   "source": [
    "## No regularizado"
   ]
  },
  {
   "cell_type": "code",
   "execution_count": 28,
   "id": "515391be",
   "metadata": {},
   "outputs": [
    {
     "name": "stdout",
     "output_type": "stream",
     "text": [
      "B0 = 295.28054578169537\n",
      "B1 = -368.6941995498352\n",
      "B2 = 136.82383260982417\n"
     ]
    }
   ],
   "source": [
    "x = np.array(df[variables])\n",
    "y = np.array(df[['Peso']])\n",
    "\n",
    "c = np.dot(x.T,x) # X^T X\n",
    "d = np.dot(x.T, y) # X^T y\n",
    "valores_propios, vectores_propios = np.linalg.eig(c)\n",
    "det = np.linalg.det(c)\n",
    "    \n",
    "if det > 0:\n",
    "    c_inv = np.linalg.inv(c) # (X^T X)^-1\n",
    "    beta = np.dot(c_inv, d)\n",
    "    betas = []\n",
    "    for i in range(len(beta)):\n",
    "        betas.append(beta[i][0])\n",
    "    for i, b in enumerate(betas):\n",
    "        print(f\"B{i} = {b}\")\n",
    "else:\n",
    "    print('X^T T no es invertible')"
   ]
  },
  {
   "cell_type": "markdown",
   "id": "6e0900d3",
   "metadata": {},
   "source": [
    "## Regularizado"
   ]
  },
  {
   "cell_type": "code",
   "execution_count": 29,
   "id": "5088de84-823a-4565-9074-b6767d5ec649",
   "metadata": {},
   "outputs": [
    {
     "name": "stdout",
     "output_type": "stream",
     "text": [
      "B0 = 4.5426960863740655\n",
      "B1 = 8.354557499413588\n",
      "B2 = 15.327814763288476\n"
     ]
    }
   ],
   "source": [
    "x = np.array(df[variables])\n",
    "y = np.array(df[['Peso']])\n",
    "\n",
    "c = np.dot(x.T,x) # X^T X\n",
    "d = np.dot(x.T, y) # X^T y\n",
    "\n",
    "lambda_I = 10 * np.identity(3)\n",
    "c_i = c+lambda_I\n",
    "\n",
    "c_inv = np.linalg.inv(c_i) # (X^T X)^-1 + lambda I\n",
    "beta = np.dot(c_inv, d)\n",
    "betas = []\n",
    "\n",
    "for i in range(len(beta)):\n",
    "    betas.append(beta[i][0])\n",
    "for i, b in enumerate(betas):\n",
    "    print(f\"B{i} = {b}\")"
   ]
  },
  {
   "cell_type": "code",
   "execution_count": 30,
   "id": "f4049415",
   "metadata": {},
   "outputs": [
    {
     "data": {
      "image/png": "[encoded data removed]",
      "text/plain": [
       "<Figure size 2000x800 with 1 Axes>"
      ]
     },
     "metadata": {},
     "output_type": "display_data"
    }
   ],
   "source": [
    "def grafica(x, betas):\n",
    "    y = np.zeros_like(x)\n",
    "    for i, b in enumerate(betas):\n",
    "        y += b * x**i\n",
    "    return y\n",
    "\n",
    "# Crear un rango de valores para x\n",
    "x = np.linspace(1.5, 1.85, 400)\n",
    "\n",
    "# Calcular los valores de y\n",
    "y = grafica(x, betas)\n",
    "\n",
    "# Graficar\n",
    "plt.figure(figsize=(20, 8))\n",
    "plt.scatter(df['Estatura'], df['Peso'], color = 'navy', label = 'Datos')\n",
    "#plt.plot(x, y, label=f'{betas[2].round(2)}x² + {betas[1].round(2)}x + {betas[0].round(2)}', c = 'red')\n",
    "\n",
    "equation = \" + \".join([f\"{b:.4f}x^{i}\" for i, b in enumerate(betas)])\n",
    "plt.plot(x, y, label=equation, c='red')\n",
    "\n",
    "plt.xlabel(\"x\")\n",
    "plt.ylabel(\"f(x)\")\n",
    "plt.title(\"Gráfica de la función cuadrática\")\n",
    "plt.legend()\n",
    "plt.grid()\n",
    "plt.show()"
   ]
  }
 ],
 "metadata": {
  "kernelspec": {
   "display_name": "base",
   "language": "python",
   "name": "python3"
  },
  "language_info": {
   "codemirror_mode": {
    "name": "ipython",
    "version": 3
   },
   "file_extension": ".py",
   "mimetype": "text/x-python",
   "name": "python",
   "nbconvert_exporter": "python",
   "pygments_lexer": "ipython3",
   "version": "3.12.3"
  }
 },
 "nbformat": 4,
 "nbformat_minor": 5
}
