{
 "cells": [
  {
   "cell_type": "code",
   "execution_count": 1,
   "id": "c5b7ef39-be0b-4d80-b2d0-d48d408bac6b",
   "metadata": {},
   "outputs": [],
   "source": [
    "from scipy.optimize import minimize\n",
    "import cvxpy as cp\n",
    "import numpy as np\n",
    "import warnings"
   ]
  },
  {
   "cell_type": "markdown",
   "id": "35e9d3e0-e159-4191-93c7-39a9cd2c7132",
   "metadata": {},
   "source": [
    "## Accounting firm problem"
   ]
  },
  {
   "cell_type": "code",
   "execution_count": 3,
   "id": "bdf28834-d015-4af0-b831-614107d722b1",
   "metadata": {},
   "outputs": [
    {
     "name": "stdout",
     "output_type": "stream",
     "text": [
      "===============================================================================\n",
      "                                     CVXPY                                     \n",
      "                                     v1.5.3                                    \n",
      "===============================================================================\n",
      "(CVXPY) Oct 31 03:49:51 PM: Your problem has 2 variables, 1 constraints, and 0 parameters.\n",
      "(CVXPY) Oct 31 03:49:51 PM: It is compliant with the following grammars: DQCP\n",
      "(CVXPY) Oct 31 03:49:51 PM: (If you need to solve this problem multiple times, but with different data, consider using parameters.)\n",
      "(CVXPY) Oct 31 03:49:51 PM: CVXPY will first compile your problem; then, it will invoke a numerical solver to obtain a solution.\n",
      "(CVXPY) Oct 31 03:49:51 PM: Your problem is compiled with the CPP canonicalization backend.\n",
      "(CVXPY) Oct 31 03:49:51 PM: Reducing DQCP problem to a one-parameter family of DCP problems, for bisection.\n",
      "\n",
      "********************************************************************************\n",
      "Preparing to bisect problem\n",
      "\n",
      "minimize 0.0\n",
      "subject to 50.0 @ var1 + 5.0 @ var2 == 5000.0\n",
      "           -param20 @ power(var66, -1.0) <= var30\n",
      "           SOC(reshape(1.0 + var31, (1,), F), Vstack(reshape(1.0 + -var31, (1, 1), F), reshape(2.0 @ var30, (1, 1), F)))\n",
      "           SOC(reshape(var30 + var43, (1,), F), Vstack(reshape(var30 + -var43, (1, 1), F), reshape(2.0 @ var31, (1, 1), F)))\n",
      "           SOC(reshape(var1 + var30, (1,), F), Vstack(reshape(var1 + -var30, (1, 1), F), reshape(2.0 @ var43, (1, 1), F)))\n",
      "           SOC(reshape(var67 + var68, (1,), F), Vstack(reshape(var67 + -var68, (1, 1), F), reshape(2.0 @ var66, (1, 1), F)))\n",
      "           SOC(reshape(var2 + 1.0, (1,), F), Vstack(reshape(var2 + -1.0, (1, 1), F), reshape(2.0 @ var67, (1, 1), F)))\n",
      "           SOC(reshape(var66 + var91, (1,), F), Vstack(reshape(var66 + -var91, (1, 1), F), reshape(2.0 @ var68, (1, 1), F)))\n",
      "           SOC(reshape(1.0 + var66, (1,), F), Vstack(reshape(1.0 + -var66, (1, 1), F), reshape(2.0 @ var91, (1, 1), F)))\n",
      "\n",
      "Finding interval for bisection ...\n",
      "initial lower bound: -64.000000\n",
      "initial upper bound: -32.000000\n",
      "\n",
      "(iteration 0) lower bound: -64.000000\n",
      "(iteration 0) upper bound: -32.000000\n",
      "(iteration 0) query point: -48.000000 \n",
      "(iteration 0) query was infeasible.\n",
      "\n",
      "(iteration 5) lower bound: -34.000000\n",
      "(iteration 5) upper bound: -33.000000\n",
      "(iteration 5) query point: -33.500000 \n",
      "(iteration 5) query was infeasible.\n",
      "\n",
      "(iteration 10) lower bound: -33.312500\n",
      "(iteration 10) upper bound: -33.281250\n",
      "(iteration 10) query point: -33.296875 \n",
      "(iteration 10) query was infeasible.\n",
      "\n",
      "(iteration 15) lower bound: -33.284180\n",
      "(iteration 15) upper bound: -33.283203\n",
      "(iteration 15) query point: -33.283691 \n",
      "(iteration 15) query was infeasible.\n",
      "\n",
      "(iteration 20) lower bound: -33.283295\n",
      "(iteration 20) upper bound: -33.283264\n",
      "(iteration 20) query point: -33.283279 \n",
      "(iteration 20) query was infeasible.\n",
      "\n",
      "Bisection completed, with lower bound -33.283269 and upper bound -33.2832680\n",
      "********************************************************************************\n",
      "\n"
     ]
    },
    {
     "data": {
      "text/plain": [
       "25.3837602784383"
      ]
     },
     "execution_count": 3,
     "metadata": {},
     "output_type": "execute_result"
    }
   ],
   "source": [
    "warnings.filterwarnings(\"ignore\") \n",
    "\n",
    "P, S = cp.Variable(nonneg=True), cp.Variable(nonneg=True)\n",
    "\n",
    "# Create objective function\n",
    "objective = cp.Maximize(P**0.2 * S**0.4)\n",
    "\n",
    "# Initialize constraints (must be a list)\n",
    "constraints = [50*P + 5*S == 5000]\n",
    "\n",
    "# Create the problem\n",
    "problem = cp.Problem(objective, constraints)\n",
    "\n",
    "# Solve the problem\n",
    "problem.solve(qcp=True, solver=cp.SCS, verbose=True)"
   ]
  },
  {
   "cell_type": "code",
   "execution_count": 4,
   "id": "8b870337-3be4-451c-9e60-21fd1fd73571",
   "metadata": {},
   "outputs": [
    {
     "name": "stdout",
     "output_type": "stream",
     "text": [
      "Valor óptimo de P: 14.37354336912635\n",
      "Valor óptimo de S: 856.2645659188756\n",
      "Calidad de la auditoria: 25.3837602784383\n"
     ]
    }
   ],
   "source": [
    "print(\"Valor óptimo de P:\", P.value)\n",
    "print(\"Valor óptimo de S:\", S.value)\n",
    "print(\"Calidad de la auditoria:\", problem.value)"
   ]
  },
  {
   "cell_type": "code",
   "execution_count": 5,
   "id": "78ff932f-050f-4e4d-bc19-5e717c80e7bc",
   "metadata": {},
   "outputs": [
    {
     "name": "stdout",
     "output_type": "stream",
     "text": [
      "Valor óptimo de P: 33.33346133010564\n",
      "Valor óptimo de S: 666.6653866989435\n",
      "Calidad de la auditoria: 27.173103653470665\n"
     ]
    }
   ],
   "source": [
    "import numpy as np\n",
    "from scipy.optimize import minimize\n",
    "\n",
    "# Definir la función objetivo (cambiada a negativa para maximizar)\n",
    "def objective(x):\n",
    "    P, S = x\n",
    "    return -(P**0.2 * S**0.4)  # Maximizar multiplicando por -1\n",
    "\n",
    "# Definir la restricción\n",
    "def constraint(x):\n",
    "    P, S = x\n",
    "    return 50*P + 5*S - 5000  # Debe ser igual a 10\n",
    "\n",
    "# Valores iniciales para D y M\n",
    "x0 = np.array([5, 5])\n",
    "\n",
    "# Crear el diccionario para las restricciones\n",
    "constraints = {'type': 'eq', 'fun': constraint}\n",
    "\n",
    "# Establecer límites para D y M (nonneg=True significa que deben ser >= 0)\n",
    "bounds = [(0, None), (0, None)]\n",
    "\n",
    "# Resolver el problema\n",
    "solution = minimize(objective, x0, method='SLSQP', bounds=bounds, constraints=constraints)\n",
    "\n",
    "# Resultados\n",
    "P_opt, S_opt = solution.x\n",
    "print(\"Valor óptimo de P:\", P_opt)\n",
    "print(\"Valor óptimo de S:\", S_opt)\n",
    "print(\"Calidad de la auditoria:\", -solution.fun)  # Negativo para obtener el valor de maximización"
   ]
  },
  {
   "cell_type": "markdown",
   "id": "98dd70d2-928d-4751-9ea7-ab9a34338bd3",
   "metadata": {},
   "source": [
    "## Solución de problemas en Parte 1"
   ]
  },
  {
   "cell_type": "markdown",
   "id": "28c38ae7-ff6d-47f9-8ca8-0c05a42b65bf",
   "metadata": {},
   "source": [
    "### Problema 1"
   ]
  },
  {
   "cell_type": "code",
   "execution_count": 8,
   "id": "c19ca057-befc-425c-9170-1491cf926d31",
   "metadata": {},
   "outputs": [
    {
     "name": "stdout",
     "output_type": "stream",
     "text": [
      "Valor óptimo de D: 7.499979233740482\n",
      "Valor óptimo de M: 2.500020766259518\n",
      "Valor de la función objetivo: 794.7384559924221\n"
     ]
    }
   ],
   "source": [
    "# Definir la función objetivo (cambiada a negativa para maximizar)\n",
    "def objective(x):\n",
    "    D, M = x\n",
    "    return -(200 * D**0.6 * M**0.2 - D - M)  # Maximizar multiplicando por -1\n",
    "\n",
    "# Definir la restricción\n",
    "def constraint(x):\n",
    "    D, M = x\n",
    "    return D + M - 10  # Debe ser igual a 10\n",
    "\n",
    "# Valores iniciales para D y M\n",
    "x0 = np.array([5, 5])\n",
    "\n",
    "# Crear el diccionario para las restricciones\n",
    "constraints = {'type': 'eq', 'fun': constraint}\n",
    "\n",
    "# Establecer límites para D y M (nonneg=True significa que deben ser >= 0)\n",
    "bounds = [(0, None), (0, None)]\n",
    "\n",
    "# Resolver el problema\n",
    "solution = minimize(objective, x0, method='SLSQP', bounds=bounds, constraints=constraints)\n",
    "\n",
    "# Resultados\n",
    "D_opt, M_opt = solution.x\n",
    "print(\"Valor óptimo de D:\", D_opt)\n",
    "print(\"Valor óptimo de M:\", M_opt)\n",
    "print(\"Valor de la función objetivo:\", -solution.fun)  # Negativo para obtener el valor de maximización"
   ]
  },
  {
   "cell_type": "markdown",
   "id": "5ac8ca47-eb78-4c80-b7d1-40545bce6e22",
   "metadata": {},
   "source": [
    "### Problema 2"
   ]
  },
  {
   "cell_type": "code",
   "execution_count": 10,
   "id": "3fde2410-8b90-4cac-864b-60b74678acf4",
   "metadata": {},
   "outputs": [
    {
     "name": "stdout",
     "output_type": "stream",
     "text": [
      "===============================================================================\n",
      "                                     CVXPY                                     \n",
      "                                     v1.5.3                                    \n",
      "===============================================================================\n",
      "(CVXPY) Oct 31 03:49:53 PM: Your problem has 2 variables, 1 constraints, and 0 parameters.\n",
      "(CVXPY) Oct 31 03:49:53 PM: It is compliant with the following grammars: DCP, DQCP\n",
      "(CVXPY) Oct 31 03:49:53 PM: (If you need to solve this problem multiple times, but with different data, consider using parameters.)\n",
      "(CVXPY) Oct 31 03:49:53 PM: CVXPY will first compile your problem; then, it will invoke a numerical solver to obtain a solution.\n",
      "(CVXPY) Oct 31 03:49:53 PM: Your problem is compiled with the CPP canonicalization backend.\n",
      "-------------------------------------------------------------------------------\n",
      "                                  Compilation                                  \n",
      "-------------------------------------------------------------------------------\n",
      "(CVXPY) Oct 31 03:49:53 PM: Compiling problem (target solver=SCS).\n",
      "(CVXPY) Oct 31 03:49:53 PM: Reduction chain: FlipObjective -> Dcp2Cone -> CvxAttr2Constr -> ConeMatrixStuffing -> SCS\n",
      "(CVXPY) Oct 31 03:49:53 PM: Applying reduction FlipObjective\n",
      "(CVXPY) Oct 31 03:49:53 PM: Applying reduction Dcp2Cone\n",
      "(CVXPY) Oct 31 03:49:53 PM: Applying reduction CvxAttr2Constr\n",
      "(CVXPY) Oct 31 03:49:53 PM: Applying reduction ConeMatrixStuffing\n",
      "(CVXPY) Oct 31 03:49:53 PM: Applying reduction SCS\n",
      "(CVXPY) Oct 31 03:49:53 PM: Finished problem compilation (took 4.893e-03 seconds).\n",
      "-------------------------------------------------------------------------------\n",
      "                                Numerical solver                               \n",
      "-------------------------------------------------------------------------------\n",
      "(CVXPY) Oct 31 03:49:53 PM: Invoking solver SCS  to obtain a solution.\n",
      "------------------------------------------------------------------\n",
      "\t       SCS v3.2.7 - Splitting Conic Solver\n",
      "\t(c) Brendan O'Donoghue, Stanford University, 2012\n",
      "------------------------------------------------------------------\n",
      "problem:  variables n: 4, constraints m: 9\n",
      "cones: \t  z: primal zero / dual free vars: 1\n",
      "\t  l: linear vars: 2\n",
      "\t  e: exp vars: 6, dual exp vars: 0\n",
      "settings: eps_abs: 1.0e-05, eps_rel: 1.0e-05, eps_infeas: 1.0e-07\n",
      "\t  alpha: 1.50, scale: 1.00e-01, adaptive_scale: 1\n",
      "\t  max_iters: 100000, normalize: 1, rho_x: 1.00e-06\n",
      "\t  acceleration_lookback: 10, acceleration_interval: 10\n",
      "lin-sys:  sparse-direct-amd-qdldl\n",
      "\t  nnz(A): 8, nnz(P): 0\n",
      "------------------------------------------------------------------\n",
      " iter | pri res | dua res |   gap   |   obj   |  scale  | time (s)\n",
      "------------------------------------------------------------------\n",
      "     0| 2.81e+01  4.34e+00  1.29e+02 -5.14e+01  1.00e-01  6.47e-04 \n",
      "   100| 9.63e-06  3.11e-07  5.31e-06 -4.88e+00  1.00e-01  7.33e-04 \n",
      "------------------------------------------------------------------\n",
      "status:  solved\n",
      "timings: total: 7.35e-04s = setup: 3.50e-04s + solve: 3.85e-04s\n",
      "\t lin-sys: 1.14e-05s, cones: 4.43e-05s, accel: 1.53e-06s\n",
      "------------------------------------------------------------------\n",
      "objective = -4.881561\n",
      "------------------------------------------------------------------\n",
      "-------------------------------------------------------------------------------\n",
      "                                    Summary                                    \n",
      "-------------------------------------------------------------------------------\n",
      "(CVXPY) Oct 31 03:49:53 PM: Problem status: optimal\n",
      "(CVXPY) Oct 31 03:49:53 PM: Optimal value: 4.882e+00\n",
      "(CVXPY) Oct 31 03:49:53 PM: Compilation took 4.893e-03 seconds\n",
      "(CVXPY) Oct 31 03:49:53 PM: Solver (including time spent in interface) took 1.320e-03 seconds\n"
     ]
    },
    {
     "data": {
      "text/plain": [
       "4.881558249271597"
      ]
     },
     "execution_count": 10,
     "metadata": {},
     "output_type": "execute_result"
    }
   ],
   "source": [
    "warnings.filterwarnings(\"ignore\") \n",
    "\n",
    "G, T = cp.Variable(nonneg=True), cp.Variable(nonneg=True)\n",
    "\n",
    "# Create objective function\n",
    "objective = cp.Maximize(cp.log(G) + 3*cp.log(T))\n",
    "\n",
    "# Initialize constraints (must be a list)\n",
    "constraints = [G + 2*T == 10]\n",
    "\n",
    "# Create the problem\n",
    "problem = cp.Problem(objective, constraints)\n",
    "\n",
    "# Solve the problem\n",
    "problem.solve(qcp=True, solver=cp.SCS, verbose=True)"
   ]
  },
  {
   "cell_type": "code",
   "execution_count": 11,
   "id": "f1a73b2f-02c1-41b5-8d86-6306d8c5a635",
   "metadata": {},
   "outputs": [
    {
     "name": "stdout",
     "output_type": "stream",
     "text": [
      "Valor óptimo de G: 2.5\n",
      "Valor óptimo de T: 3.75\n",
      "Utilidad: 4.881558249271597\n"
     ]
    }
   ],
   "source": [
    "print(\"Valor óptimo de G:\", np.round(G.value, 2))\n",
    "print(\"Valor óptimo de T:\", np.round(T.value,2))\n",
    "print(\"Utilidad:\", problem.value)"
   ]
  },
  {
   "cell_type": "markdown",
   "id": "d7209285-94d1-4ae4-a968-f680bdfa931f",
   "metadata": {},
   "source": [
    "### Problema 3"
   ]
  },
  {
   "cell_type": "code",
   "execution_count": 13,
   "id": "af7dd480-b359-4532-ad2a-800f2f84e454",
   "metadata": {},
   "outputs": [
    {
     "name": "stdout",
     "output_type": "stream",
     "text": [
      "===============================================================================\n",
      "                                     CVXPY                                     \n",
      "                                     v1.5.3                                    \n",
      "===============================================================================\n",
      "(CVXPY) Oct 31 03:49:53 PM: Your problem has 2 variables, 1 constraints, and 0 parameters.\n",
      "(CVXPY) Oct 31 03:49:53 PM: It is compliant with the following grammars: DQCP\n",
      "(CVXPY) Oct 31 03:49:53 PM: (If you need to solve this problem multiple times, but with different data, consider using parameters.)\n",
      "(CVXPY) Oct 31 03:49:53 PM: CVXPY will first compile your problem; then, it will invoke a numerical solver to obtain a solution.\n",
      "(CVXPY) Oct 31 03:49:53 PM: Your problem is compiled with the CPP canonicalization backend.\n",
      "(CVXPY) Oct 31 03:49:53 PM: Reducing DQCP problem to a one-parameter family of DCP problems, for bisection.\n",
      "\n",
      "********************************************************************************\n",
      "Preparing to bisect problem\n",
      "\n",
      "minimize 0.0\n",
      "subject to 5.0 @ var7718 + 2.0 @ var7719 == 20.0\n",
      "           -param7737 @ power(var7759, -1.0) <= var7747\n",
      "           SOC(reshape(var7718 + 1.0, (1,), F), Vstack(reshape(var7718 + -1.0, (1, 1), F), reshape(2.0 @ var7747, (1, 1), F)))\n",
      "           SOC(reshape(var7719 + 1.0, (1,), F), Vstack(reshape(var7719 + -1.0, (1, 1), F), reshape(2.0 @ var7759, (1, 1), F)))\n",
      "\n",
      "Finding interval for bisection ...\n",
      "initial lower bound: -4.000000\n",
      "initial upper bound: -2.000000\n",
      "\n",
      "(iteration 0) lower bound: -4.000000\n",
      "(iteration 0) upper bound: -2.000000\n",
      "(iteration 0) query point: -3.000000 \n",
      "(iteration 0) query was feasible. Solution(status=optimal_inaccurate, opt_val=0.0, primal_vars={7718: 2.0387987814318977, 7719: 4.903000819283955, 7759: 2.206055997332235, 7747: 1.421587087897382}, dual_vars={7728: 0.002192497705472281, 7776: 0.03135319489485212, 7756: array([ 0.01669018, -0.00572769, -0.0156766 ]), 7768: array([ 0.01299535, -0.00861035, -0.00973349])}, attr={'solve_time': 0.040293375, 'setup_time': 1.7833e-05, 'num_iters': 100000, 'solver_specific_stats': {'x': array([2.03879878, 4.90300082, 2.206056  , 1.42158709, 0.46286546]), 'y': array([ 0.0021925 ,  0.        ,  0.        ,  0.        ,  0.        ,\n",
      "        0.03135319,  0.05676329, -0.0372963 , -0.04279085,  0.01669018,\n",
      "       -0.00572769, -0.0156766 ,  0.01299535, -0.00861035, -0.00973349]), 's': array([0.        , 2.03879878, 4.90300082, 2.206056  , 1.42158709,\n",
      "       0.        , 2.6609894 , 1.74840229, 2.00597956, 3.03290049,\n",
      "       1.04082294, 2.84871427, 5.89684197, 3.9070815 , 4.41672496]), 'info': {'status_val': 2, 'iter': 100000, 'scale_updates': 4, 'scale': 1e-06, 'pobj': 0.0, 'dobj': -0.0022918322050594865, 'res_pri': 0.03299070700912795, 'res_dual': 1.0587347947034631e-10, 'gap': 0.0022918322050594865, 'res_infeas': nan, 'res_unbdd_a': nan, 'res_unbdd_p': nan, 'comp_slack': 5.166977956605479e-13, 'solve_time': 40.293375, 'setup_time': 0.017833, 'lin_sys_time': 19.38570900002344, 'cone_time': 8.045304000005757, 'accel_time': 2.6561859999996447, 'rejected_accel_steps': 905, 'accepted_accel_steps': 0, 'status': 'solved (inaccurate - reached max_iters)'}}}))\n",
      "\n",
      "(iteration 5) lower bound: -3.187500\n",
      "(iteration 5) upper bound: -3.125000\n",
      "(iteration 5) query point: -3.156250 \n",
      "(iteration 5) query was feasible. Solution(status=optimal_inaccurate, opt_val=0.0, primal_vars={7718: 2.0013142915291566, 7719: 4.996714186158323, 7759: 2.2348862008835884, 7747: 1.414484161070822}, dual_vars={7728: 0.013813063471627373, 7776: 0.1954175080839343, 7756: array([ 0.1036484 , -0.03458308, -0.09770875]), 7768: array([ 0.08285272, -0.0552266 , -0.06176242])}, attr={'solve_time': 0.041415583, 'setup_time': 9.708e-06, 'num_iters': 100000, 'solver_specific_stats': {'x': array([2.00131429, 4.99671419, 2.2348862 , 1.41448416, 0.44779523]), 'y': array([ 0.01381306,  0.        ,  0.        ,  0.        ,  0.        ,\n",
      "        0.19541751,  0.37015568, -0.24663083, -0.27602257,  0.1036484 ,\n",
      "       -0.03458308, -0.09770875,  0.08285272, -0.0552266 , -0.06176242]), 's': array([0.        , 2.00131429, 4.99671419, 2.2348862 , 1.41448416,\n",
      "       0.        , 2.68239386, 1.7872508 , 2.00024283, 3.00113141,\n",
      "       1.0013504 , 2.82914954, 5.99638101, 3.99696836, 4.46999208]), 'info': {'status_val': 2, 'iter': 100000, 'scale_updates': 3, 'scale': 1e-06, 'pobj': 0.0, 'dobj': -0.0005269275757181745, 'res_pri': 0.0011304615174246198, 'res_dual': 2.554255044564935e-11, 'gap': 0.0005269275757181745, 'res_infeas': nan, 'res_unbdd_a': nan, 'res_unbdd_p': nan, 'comp_slack': 1.0089440394267513e-10, 'solve_time': 41.415583, 'setup_time': 0.009708, 'lin_sys_time': 20.232592000026013, 'cone_time': 8.03547900000604, 'accel_time': 2.9373729999997478, 'rejected_accel_steps': 889, 'accepted_accel_steps': 180, 'status': 'solved (inaccurate - reached max_iters)'}}}))\n",
      "\n",
      "(iteration 10) lower bound: -3.164062\n",
      "(iteration 10) upper bound: -3.162109\n",
      "(iteration 10) query point: -3.163086 \n",
      "(iteration 10) query was infeasible.\n",
      "\n",
      "(iteration 15) lower bound: -3.162292\n",
      "(iteration 15) upper bound: -3.162231\n",
      "(iteration 15) query point: -3.162262 \n",
      "(iteration 15) query was feasible. Solution(status=optimal, opt_val=0.0, primal_vars={7718: 1.99985800118809, 7719: 5.000354985240526, 7759: 2.235945202170255, 7747: 1.414194182456183}, dual_vars={7728: 0.016158205271630942, 7776: 0.22849891801087704, 7756: array([ 0.12117762, -0.0403866 , -0.11424946]), 7768: array([ 0.09696678, -0.06465037, -0.07226954])}, attr={'solve_time': 0.02444725, 'setup_time': 9.207999999999999e-06, 'num_iters': 59100, 'solver_specific_stats': {'x': array([1.999858  , 5.00035499, 2.2359452 , 1.41419418, 0.44724083]), 'y': array([ 1.61582053e-02,  1.36348597e-21,  0.00000000e+00,  0.00000000e+00,\n",
      "        0.00000000e+00,  2.28498918e-01,  4.33556257e-01, -2.89017180e-01,\n",
      "       -3.23171933e-01,  1.21177621e-01, -4.03865951e-02, -1.14249459e-01,\n",
      "        9.69667807e-02, -6.46503701e-02, -7.22695386e-02]), 's': array([0.        , 1.999858  , 5.00035499, 2.2359452 , 1.41419418,\n",
      "       0.        , 2.68322764, 1.78869264, 2.0000723 , 2.99990948,\n",
      "       0.99982264, 2.82839382, 6.00026396, 4.00053794, 4.47200891]), 'info': {'status_val': 1, 'iter': 59100, 'scale_updates': 3, 'scale': 1e-06, 'pobj': 0.0, 'dobj': -1.6077873915366995e-06, 'res_pri': 0.0001829584321270018, 'res_dual': 2.3227562630019674e-10, 'gap': 1.6077873915366995e-06, 'res_infeas': nan, 'res_unbdd_a': nan, 'res_unbdd_p': nan, 'comp_slack': 1.7258372508877073e-10, 'solve_time': 24.44725, 'setup_time': 0.009208, 'lin_sys_time': 12.026890000007002, 'cone_time': 4.756796000002699, 'accel_time': 1.65921499999972, 'rejected_accel_steps': 533, 'accepted_accel_steps': 6, 'status': 'solved'}}}))\n",
      "\n",
      "(iteration 20) lower bound: -3.162281\n",
      "(iteration 20) upper bound: -3.162279\n",
      "(iteration 20) query point: -3.162280 \n",
      "(iteration 20) query was infeasible.\n",
      "\n",
      "Bisection completed, with lower bound -3.162280 and upper bound -3.1622791\n",
      "********************************************************************************\n",
      "\n"
     ]
    },
    {
     "data": {
      "text/plain": [
       "3.1622776519475453"
      ]
     },
     "execution_count": 13,
     "metadata": {},
     "output_type": "execute_result"
    }
   ],
   "source": [
    "warnings.filterwarnings(\"ignore\") \n",
    "\n",
    "B, F = cp.Variable(nonneg=True), cp.Variable(nonneg=True)\n",
    "\n",
    "# Create objective function\n",
    "objective = cp.Maximize(B**0.5 * F**0.5)\n",
    "\n",
    "# Initialize constraints (must be a list)\n",
    "constraints = [5*B + 2*F == 20]\n",
    "\n",
    "# Create the problem\n",
    "problem = cp.Problem(objective, constraints)\n",
    "\n",
    "# Solve the problem\n",
    "problem.solve(qcp=True, solver=cp.SCS, verbose=True)"
   ]
  },
  {
   "cell_type": "code",
   "execution_count": 14,
   "id": "a5ac9966-f72e-42a5-b675-74f0bda27cfa",
   "metadata": {},
   "outputs": [
    {
     "name": "stdout",
     "output_type": "stream",
     "text": [
      "Debe comprar 2.0 hamburguesas\n",
      "Debe comprar 5.0 papas\n",
      "Utilidad: 3.1622776519475453\n"
     ]
    }
   ],
   "source": [
    "print(\"Debe comprar\", np.round(B.value), \"hamburguesas\")\n",
    "print(\"Debe comprar\", np.round(F.value), \"papas\")\n",
    "print(\"Utilidad:\", problem.value)"
   ]
  },
  {
   "cell_type": "markdown",
   "id": "a0f2a15d-c85d-45c9-b243-138e7b58b62e",
   "metadata": {},
   "source": [
    "### Problema 4"
   ]
  },
  {
   "cell_type": "code",
   "execution_count": 16,
   "id": "4d8c33c9-0f18-42d9-9890-89d0a9d2cc35",
   "metadata": {},
   "outputs": [
    {
     "name": "stdout",
     "output_type": "stream",
     "text": [
      "===============================================================================\n",
      "                                     CVXPY                                     \n",
      "                                     v1.5.3                                    \n",
      "===============================================================================\n",
      "(CVXPY) Oct 31 03:49:53 PM: Your problem has 2 variables, 1 constraints, and 0 parameters.\n",
      "(CVXPY) Oct 31 03:49:53 PM: It is compliant with the following grammars: DCP, DQCP\n",
      "(CVXPY) Oct 31 03:49:53 PM: (If you need to solve this problem multiple times, but with different data, consider using parameters.)\n",
      "(CVXPY) Oct 31 03:49:53 PM: CVXPY will first compile your problem; then, it will invoke a numerical solver to obtain a solution.\n",
      "(CVXPY) Oct 31 03:49:53 PM: Your problem is compiled with the CPP canonicalization backend.\n",
      "-------------------------------------------------------------------------------\n",
      "                                  Compilation                                  \n",
      "-------------------------------------------------------------------------------\n",
      "(CVXPY) Oct 31 03:49:53 PM: Compiling problem (target solver=SCS).\n",
      "(CVXPY) Oct 31 03:49:53 PM: Reduction chain: FlipObjective -> Dcp2Cone -> CvxAttr2Constr -> ConeMatrixStuffing -> SCS\n",
      "(CVXPY) Oct 31 03:49:53 PM: Applying reduction FlipObjective\n",
      "(CVXPY) Oct 31 03:49:53 PM: Applying reduction Dcp2Cone\n",
      "(CVXPY) Oct 31 03:49:53 PM: Applying reduction CvxAttr2Constr\n",
      "(CVXPY) Oct 31 03:49:53 PM: Applying reduction ConeMatrixStuffing\n",
      "(CVXPY) Oct 31 03:49:53 PM: Applying reduction SCS\n",
      "(CVXPY) Oct 31 03:49:53 PM: Finished problem compilation (took 3.878e-03 seconds).\n",
      "-------------------------------------------------------------------------------\n",
      "                                Numerical solver                               \n",
      "-------------------------------------------------------------------------------\n",
      "(CVXPY) Oct 31 03:49:53 PM: Invoking solver SCS  to obtain a solution.\n",
      "------------------------------------------------------------------\n",
      "\t       SCS v3.2.7 - Splitting Conic Solver\n",
      "\t(c) Brendan O'Donoghue, Stanford University, 2012\n",
      "------------------------------------------------------------------\n",
      "problem:  variables n: 4, constraints m: 9\n",
      "cones: \t  z: primal zero / dual free vars: 1\n",
      "\t  l: linear vars: 2\n",
      "\t  e: exp vars: 6, dual exp vars: 0\n",
      "settings: eps_abs: 1.0e-05, eps_rel: 1.0e-05, eps_infeas: 1.0e-07\n",
      "\t  alpha: 1.50, scale: 1.00e-01, adaptive_scale: 1\n",
      "\t  max_iters: 100000, normalize: 1, rho_x: 1.00e-06\n",
      "\t  acceleration_lookback: 10, acceleration_interval: 10\n",
      "lin-sys:  sparse-direct-amd-qdldl\n",
      "\t  nnz(A): 8, nnz(P): 0\n",
      "------------------------------------------------------------------\n",
      " iter | pri res | dua res |   gap   |   obj   |  scale  | time (s)\n",
      "------------------------------------------------------------------\n",
      "     0| 1.99e+01  4.29e+00  2.19e+01  5.45e+00  1.00e-01  6.85e-04 \n",
      "    50| 2.25e-06  5.92e-07  2.84e-06 -1.15e+00  1.00e-01  7.34e-04 \n",
      "------------------------------------------------------------------\n",
      "status:  solved\n",
      "timings: total: 7.36e-04s = setup: 3.58e-04s + solve: 3.78e-04s\n",
      "\t lin-sys: 5.87e-06s, cones: 2.59e-05s, accel: 5.38e-07s\n",
      "------------------------------------------------------------------\n",
      "objective = -1.151293\n",
      "------------------------------------------------------------------\n",
      "-------------------------------------------------------------------------------\n",
      "                                    Summary                                    \n",
      "-------------------------------------------------------------------------------\n",
      "(CVXPY) Oct 31 03:49:53 PM: Problem status: optimal\n",
      "(CVXPY) Oct 31 03:49:53 PM: Optimal value: 1.151e+00\n",
      "(CVXPY) Oct 31 03:49:53 PM: Compilation took 3.878e-03 seconds\n",
      "(CVXPY) Oct 31 03:49:53 PM: Solver (including time spent in interface) took 1.304e-03 seconds\n"
     ]
    },
    {
     "data": {
      "text/plain": [
       "1.1512925464528938"
      ]
     },
     "execution_count": 16,
     "metadata": {},
     "output_type": "execute_result"
    }
   ],
   "source": [
    "warnings.filterwarnings(\"ignore\") \n",
    "\n",
    "B, F = cp.Variable(nonneg=True), cp.Variable(nonneg=True)\n",
    "\n",
    "# Create objective function\n",
    "objective = cp.Maximize(1/2*cp.log(B) + 1/2*cp.log(F))\n",
    "\n",
    "# Initialize constraints (must be a list)\n",
    "constraints = [5*B + 2*F == 20]\n",
    "\n",
    "# Create the problem\n",
    "problem = cp.Problem(objective, constraints)\n",
    "\n",
    "# Solve the problem\n",
    "problem.solve(qcp=True, solver=cp.SCS, verbose=True)"
   ]
  },
  {
   "cell_type": "code",
   "execution_count": 17,
   "id": "eb37fe22-5fda-49f8-a0d0-f60168bcc537",
   "metadata": {},
   "outputs": [
    {
     "name": "stdout",
     "output_type": "stream",
     "text": [
      "Debe comprar 2.0 hamburguesas\n",
      "Debe comprar 5.0 papas\n",
      "Utilidad: 1.1512925464528938\n"
     ]
    }
   ],
   "source": [
    "print(\"Debe comprar\", np.round(B.value), \"hamburguesas\")\n",
    "print(\"Debe comprar\", np.round(F.value), \"papas\")\n",
    "print(\"Utilidad:\", problem.value)"
   ]
  },
  {
   "cell_type": "markdown",
   "id": "8ab6d79e-24f5-4059-820d-f2d67676cc97",
   "metadata": {},
   "source": [
    "### Problema 5"
   ]
  },
  {
   "cell_type": "code",
   "execution_count": 19,
   "id": "738c9cde-5576-493c-9e5c-7ced037dc650",
   "metadata": {},
   "outputs": [
    {
     "name": "stdout",
     "output_type": "stream",
     "text": [
      "Deben fabricar 25.0 del producto x\n",
      "Debe fabricar 17.0 del producto y\n",
      "Costo: 8043.0000004569765\n"
     ]
    }
   ],
   "source": [
    "# Definir la función objetivo (cambiada a negativa para maximizar)\n",
    "def objective(x):\n",
    "    x, y = x\n",
    "    return (8*x**2 - x*y + 12*y**2)  # Maximizar multiplicando por -1\n",
    "\n",
    "# Definir la restricción\n",
    "def constraint(x):\n",
    "    x, y = x\n",
    "    return x + y - 42  # Debe ser igual a 10\n",
    "\n",
    "# Valores iniciales para D y M\n",
    "x0 = np.array([5, 5])\n",
    "\n",
    "# Crear el diccionario para las restricciones\n",
    "constraints = {'type': 'eq', 'fun': constraint}\n",
    "\n",
    "# Establecer límites para D y M (nonneg=True significa que deben ser >= 0)\n",
    "bounds = [(0, None), (0, None)]\n",
    "\n",
    "# Resolver el problema\n",
    "solution = minimize(objective, x0, method='SLSQP', bounds=bounds, constraints=constraints)\n",
    "\n",
    "# Resultados\n",
    "x_opt, y_opt = solution.x\n",
    "print(\"Deben fabricar\", np.round(x_opt), \"del producto x\")\n",
    "print(\"Debe fabricar\", np.round(y_opt), \"del producto y\")\n",
    "print(\"Costo:\", solution.fun)  # Negativo para obtener el valor de maximización"
   ]
  }
 ],
 "metadata": {
  "kernelspec": {
   "display_name": "Python 3 (ipykernel)",
   "language": "python",
   "name": "python3"
  },
  "language_info": {
   "codemirror_mode": {
    "name": "ipython",
    "version": 3
   },
   "file_extension": ".py",
   "mimetype": "text/x-python",
   "name": "python",
   "nbconvert_exporter": "python",
   "pygments_lexer": "ipython3",
   "version": "3.12.3"
  }
 },
 "nbformat": 4,
 "nbformat_minor": 5
}
