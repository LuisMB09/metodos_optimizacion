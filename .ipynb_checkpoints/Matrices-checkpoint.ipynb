{
 "cells": [
  {
   "cell_type": "code",
   "execution_count": 1,
   "id": "6406eb60-f496-4b14-a4cb-77b19d4f9752",
   "metadata": {},
   "outputs": [],
   "source": [
    "import numpy as np\n",
    "import pandas as pd\n",
    "import matplotlib.pyplot as plt\n",
    "import random\n",
    "from IPython.display import display, Markdown"
   ]
  },
  {
   "cell_type": "markdown",
   "id": "40b47618-2a63-4fca-b819-0184bffd8134",
   "metadata": {},
   "source": [
    "## Preparación y lectura de datos"
   ]
  },
  {
   "cell_type": "code",
   "execution_count": 3,
   "id": "d50bdf73-9a21-4ccb-b12e-1914da89f1b6",
   "metadata": {},
   "outputs": [
    {
     "data": {
      "text/html": [
       "<div>\n",
       "<style scoped>\n",
       "    .dataframe tbody tr th:only-of-type {\n",
       "        vertical-align: middle;\n",
       "    }\n",
       "\n",
       "    .dataframe tbody tr th {\n",
       "        vertical-align: top;\n",
       "    }\n",
       "\n",
       "    .dataframe thead th {\n",
       "        text-align: right;\n",
       "    }\n",
       "</style>\n",
       "<table border=\"1\" class=\"dataframe\">\n",
       "  <thead>\n",
       "    <tr style=\"text-align: right;\">\n",
       "      <th></th>\n",
       "      <th>Estatura</th>\n",
       "      <th>Peso</th>\n",
       "      <th>B0</th>\n",
       "      <th>est+e</th>\n",
       "      <th>x^2</th>\n",
       "      <th>x^3</th>\n",
       "      <th>x^4</th>\n",
       "      <th>x^5</th>\n",
       "      <th>x^6</th>\n",
       "      <th>x^7</th>\n",
       "      <th>x^8</th>\n",
       "      <th>x^9</th>\n",
       "      <th>C</th>\n",
       "    </tr>\n",
       "  </thead>\n",
       "  <tbody>\n",
       "    <tr>\n",
       "      <th>0</th>\n",
       "      <td>1.62</td>\n",
       "      <td>63</td>\n",
       "      <td>1</td>\n",
       "      <td>1.623493</td>\n",
       "      <td>2.6244</td>\n",
       "      <td>4.251528</td>\n",
       "      <td>6.887475</td>\n",
       "      <td>11.157710</td>\n",
       "      <td>18.075490</td>\n",
       "      <td>29.282294</td>\n",
       "      <td>47.437317</td>\n",
       "      <td>76.848453</td>\n",
       "      <td>4</td>\n",
       "    </tr>\n",
       "    <tr>\n",
       "      <th>1</th>\n",
       "      <td>1.83</td>\n",
       "      <td>71</td>\n",
       "      <td>1</td>\n",
       "      <td>1.836797</td>\n",
       "      <td>3.3489</td>\n",
       "      <td>6.128487</td>\n",
       "      <td>11.215131</td>\n",
       "      <td>20.523690</td>\n",
       "      <td>37.558353</td>\n",
       "      <td>68.731786</td>\n",
       "      <td>125.779168</td>\n",
       "      <td>230.175878</td>\n",
       "      <td>4</td>\n",
       "    </tr>\n",
       "    <tr>\n",
       "      <th>2</th>\n",
       "      <td>1.72</td>\n",
       "      <td>64</td>\n",
       "      <td>1</td>\n",
       "      <td>1.716168</td>\n",
       "      <td>2.9584</td>\n",
       "      <td>5.088448</td>\n",
       "      <td>8.752131</td>\n",
       "      <td>15.053665</td>\n",
       "      <td>25.892303</td>\n",
       "      <td>44.534761</td>\n",
       "      <td>76.599789</td>\n",
       "      <td>131.751638</td>\n",
       "      <td>4</td>\n",
       "    </tr>\n",
       "    <tr>\n",
       "      <th>3</th>\n",
       "      <td>1.71</td>\n",
       "      <td>67</td>\n",
       "      <td>1</td>\n",
       "      <td>1.713505</td>\n",
       "      <td>2.9241</td>\n",
       "      <td>5.000211</td>\n",
       "      <td>8.550361</td>\n",
       "      <td>14.621117</td>\n",
       "      <td>25.002110</td>\n",
       "      <td>42.753608</td>\n",
       "      <td>73.108670</td>\n",
       "      <td>125.015826</td>\n",
       "      <td>4</td>\n",
       "    </tr>\n",
       "    <tr>\n",
       "      <th>4</th>\n",
       "      <td>1.84</td>\n",
       "      <td>85</td>\n",
       "      <td>1</td>\n",
       "      <td>1.838548</td>\n",
       "      <td>3.3856</td>\n",
       "      <td>6.229504</td>\n",
       "      <td>11.462287</td>\n",
       "      <td>21.090609</td>\n",
       "      <td>38.806720</td>\n",
       "      <td>71.404365</td>\n",
       "      <td>131.384032</td>\n",
       "      <td>241.746618</td>\n",
       "      <td>4</td>\n",
       "    </tr>\n",
       "  </tbody>\n",
       "</table>\n",
       "</div>"
      ],
      "text/plain": [
       "   Estatura  Peso  B0     est+e     x^2       x^3        x^4        x^5  \\\n",
       "0      1.62    63   1  1.623493  2.6244  4.251528   6.887475  11.157710   \n",
       "1      1.83    71   1  1.836797  3.3489  6.128487  11.215131  20.523690   \n",
       "2      1.72    64   1  1.716168  2.9584  5.088448   8.752131  15.053665   \n",
       "3      1.71    67   1  1.713505  2.9241  5.000211   8.550361  14.621117   \n",
       "4      1.84    85   1  1.838548  3.3856  6.229504  11.462287  21.090609   \n",
       "\n",
       "         x^6        x^7         x^8         x^9  C  \n",
       "0  18.075490  29.282294   47.437317   76.848453  4  \n",
       "1  37.558353  68.731786  125.779168  230.175878  4  \n",
       "2  25.892303  44.534761   76.599789  131.751638  4  \n",
       "3  25.002110  42.753608   73.108670  125.015826  4  \n",
       "4  38.806720  71.404365  131.384032  241.746618  4  "
      ]
     },
     "execution_count": 3,
     "metadata": {},
     "output_type": "execute_result"
    }
   ],
   "source": [
    "df = pd.read_excel('Regresión Lineal.xlsx', sheet_name = 1)\n",
    "df['B0'] = 1\n",
    "df['est+e'] = df['Estatura'] + np.random.normal(0,0.01,size = len(df['Estatura']))\n",
    "for i in range(2, 10):\n",
    "    df[f'x^{i}'] = df['Estatura'] ** i\n",
    "df['C'] = 4\n",
    "df.head()"
   ]
  },
  {
   "cell_type": "markdown",
   "id": "78ebec98-dd35-4762-aa86-80ca0cbbcda3",
   "metadata": {
    "jp-MarkdownHeadingCollapsed": true
   },
   "source": [
    "## Explicación de matrices"
   ]
  },
  {
   "cell_type": "markdown",
   "id": "4f1b4e4b-9e49-4437-a916-a5d4ec935165",
   "metadata": {},
   "source": [
    "- $ \\beta = (X^TX)^{-1}X^TY $\n",
    "- $ c = X^TX $\n",
    "- $ d = X^TY $\n",
    "- $ c_{inv} = (X^TX)^{-1} $\n",
    "- $ beta = c_{inv}d $\n",
    "\n",
    "Para que esto funcione $X^TX$ tiene que ser invertible.\n",
    "\n",
    "Si c ($X^TT$) tiene un valor propio que es 0, no se puede invertir y su determinante no puede ser 0."
   ]
  },
  {
   "cell_type": "markdown",
   "id": "f16c174a-0896-484b-9d1b-a617aa996898",
   "metadata": {
    "jp-MarkdownHeadingCollapsed": true
   },
   "source": [
    "## Calculo de betas"
   ]
  },
  {
   "cell_type": "code",
   "execution_count": 7,
   "id": "9599e10f-f42a-4501-94e7-c599df7b74b5",
   "metadata": {},
   "outputs": [],
   "source": [
    "variables = ['B0', 'Estatura','x^2','x^3','x^4']\n",
    "def regresion(df):\n",
    "    x = np.array(df[variables])\n",
    "    y = np.array(df[['Peso']])\n",
    "\n",
    "    c = np.dot(x.T,x) # X^T X\n",
    "    d = np.dot(x.T, y) # X^T y\n",
    "    valores_propios, vectores_propios = np.linalg.eig(c)\n",
    "    det = np.linalg.det(c)\n",
    "    \n",
    "    if det > 0:\n",
    "        c_inv = np.linalg.inv(c) # (X^T X)^-1\n",
    "        beta = np.dot(c_inv, d)\n",
    "        betas = []\n",
    "        for i in range(len(beta)):\n",
    "            betas.append(beta[i][0])\n",
    "        for i, b in enumerate(betas):\n",
    "            print(f\"B{i} = {b}\")\n",
    "    else:\n",
    "        print('X^T T no es invertible')"
   ]
  },
  {
   "cell_type": "code",
   "execution_count": 8,
   "id": "39acc445-f3a8-4c71-8e1d-44ff9ea21ec1",
   "metadata": {},
   "outputs": [
    {
     "name": "stdout",
     "output_type": "stream",
     "text": [
      "B0 = -482881.4871146482\n",
      "B1 = 1159755.177067822\n",
      "B2 = -1042813.5571411513\n",
      "B3 = 416076.12811319623\n",
      "B4 = -62150.97092024267\n"
     ]
    }
   ],
   "source": [
    "regresion(df)"
   ]
  },
  {
   "cell_type": "markdown",
   "id": "60ac3646-4bd8-4a78-a00a-b5452127ba72",
   "metadata": {
    "jp-MarkdownHeadingCollapsed": true
   },
   "source": [
    "## Análisis de ruido"
   ]
  },
  {
   "cell_type": "code",
   "execution_count": 10,
   "id": "98beeb3a-137e-4dbf-b094-7846836d949f",
   "metadata": {},
   "outputs": [
    {
     "data": {
      "text/markdown": [
       "**Matriz de Covarianza**"
      ],
      "text/plain": [
       "<IPython.core.display.Markdown object>"
      ]
     },
     "metadata": {},
     "output_type": "display_data"
    },
    {
     "data": {
      "text/html": [
       "<div>\n",
       "<style scoped>\n",
       "    .dataframe tbody tr th:only-of-type {\n",
       "        vertical-align: middle;\n",
       "    }\n",
       "\n",
       "    .dataframe tbody tr th {\n",
       "        vertical-align: top;\n",
       "    }\n",
       "\n",
       "    .dataframe thead th {\n",
       "        text-align: right;\n",
       "    }\n",
       "</style>\n",
       "<table border=\"1\" class=\"dataframe\">\n",
       "  <thead>\n",
       "    <tr style=\"text-align: right;\">\n",
       "      <th></th>\n",
       "      <th>Estatura</th>\n",
       "      <th>est+e</th>\n",
       "    </tr>\n",
       "  </thead>\n",
       "  <tbody>\n",
       "    <tr>\n",
       "      <th>Estatura</th>\n",
       "      <td>0.009135</td>\n",
       "      <td>0.009326</td>\n",
       "    </tr>\n",
       "    <tr>\n",
       "      <th>est+e</th>\n",
       "      <td>0.009326</td>\n",
       "      <td>0.009566</td>\n",
       "    </tr>\n",
       "  </tbody>\n",
       "</table>\n",
       "</div>"
      ],
      "text/plain": [
       "          Estatura     est+e\n",
       "Estatura  0.009135  0.009326\n",
       "est+e     0.009326  0.009566"
      ]
     },
     "metadata": {},
     "output_type": "display_data"
    },
    {
     "data": {
      "text/markdown": [
       "**Matriz de Correlación**"
      ],
      "text/plain": [
       "<IPython.core.display.Markdown object>"
      ]
     },
     "metadata": {},
     "output_type": "display_data"
    },
    {
     "data": {
      "text/html": [
       "<div>\n",
       "<style scoped>\n",
       "    .dataframe tbody tr th:only-of-type {\n",
       "        vertical-align: middle;\n",
       "    }\n",
       "\n",
       "    .dataframe tbody tr th {\n",
       "        vertical-align: top;\n",
       "    }\n",
       "\n",
       "    .dataframe thead th {\n",
       "        text-align: right;\n",
       "    }\n",
       "</style>\n",
       "<table border=\"1\" class=\"dataframe\">\n",
       "  <thead>\n",
       "    <tr style=\"text-align: right;\">\n",
       "      <th></th>\n",
       "      <th>Estatura</th>\n",
       "      <th>est+e</th>\n",
       "    </tr>\n",
       "  </thead>\n",
       "  <tbody>\n",
       "    <tr>\n",
       "      <th>Estatura</th>\n",
       "      <td>1.000000</td>\n",
       "      <td>0.997717</td>\n",
       "    </tr>\n",
       "    <tr>\n",
       "      <th>est+e</th>\n",
       "      <td>0.997717</td>\n",
       "      <td>1.000000</td>\n",
       "    </tr>\n",
       "  </tbody>\n",
       "</table>\n",
       "</div>"
      ],
      "text/plain": [
       "          Estatura     est+e\n",
       "Estatura  1.000000  0.997717\n",
       "est+e     0.997717  1.000000"
      ]
     },
     "metadata": {},
     "output_type": "display_data"
    }
   ],
   "source": [
    "x_new = df[['Estatura','est+e']]\n",
    "display(Markdown(\"**Matriz de Covarianza**\"))\n",
    "display(x_new.cov())\n",
    "display(Markdown(\"**Matriz de Correlación**\"))\n",
    "display(x_new.corr())"
   ]
  },
  {
   "cell_type": "code",
   "execution_count": 11,
   "id": "47a980ab-21f9-48dd-86be-4da68f0bb54c",
   "metadata": {},
   "outputs": [
    {
     "data": {
      "text/plain": [
       "3.985434229222063e-07"
      ]
     },
     "execution_count": 11,
     "metadata": {},
     "output_type": "execute_result"
    }
   ],
   "source": [
    "np.linalg.det(x_new.cov())"
   ]
  },
  {
   "cell_type": "markdown",
   "id": "a347a715-10e1-4f84-b60d-980a6f0bc7ff",
   "metadata": {},
   "source": [
    "## Uso de $\\lambda I$"
   ]
  },
  {
   "cell_type": "code",
   "execution_count": 13,
   "id": "c5dec87f-4d88-4d93-b911-e25c013ea35d",
   "metadata": {},
   "outputs": [],
   "source": [
    "variables = ['B0', 'Estatura','C']\n",
    "\n",
    "x = np.array(df[variables])\n",
    "y = np.array(df[['Peso']])\n",
    "\n",
    "c = np.dot(x.T,x) # X^T X\n",
    "d = np.dot(x.T, y) # X^T y\n",
    "#valores_propios, vectores_propios = np.linalg.eig(c)\n",
    "#det = np.linalg.det(c)"
   ]
  },
  {
   "cell_type": "markdown",
   "id": "9d21b11b-b606-4e4b-8861-642c9e17f3a7",
   "metadata": {},
   "source": [
    "### $X^TX$ y valores propios"
   ]
  },
  {
   "cell_type": "code",
   "execution_count": 15,
   "id": "6eaf9576-c3a3-4c0c-bcd9-7599a70c3bb1",
   "metadata": {},
   "outputs": [
    {
     "data": {
      "text/plain": [
       "array([[ 21.    ,  35.83  ,  84.    ],\n",
       "       [ 35.83  ,  61.3155, 143.32  ],\n",
       "       [ 84.    , 143.32  , 336.    ]])"
      ]
     },
     "execution_count": 15,
     "metadata": {},
     "output_type": "execute_result"
    }
   ],
   "source": [
    "c"
   ]
  },
  {
   "cell_type": "code",
   "execution_count": 16,
   "id": "1786630b-d687-4682-9b63-a6474c67301e",
   "metadata": {},
   "outputs": [
    {
     "data": {
      "text/plain": [
       "array([ 4.18159526e+02, -8.07683128e-15,  1.55974445e-01])"
      ]
     },
     "execution_count": 16,
     "metadata": {},
     "output_type": "execute_result"
    }
   ],
   "source": [
    "valores_propios, vectores_propios = np.linalg.eig(c)\n",
    "valores_propios"
   ]
  },
  {
   "cell_type": "markdown",
   "id": "0fffe453-d86d-4ab3-b789-54386fbe1d6f",
   "metadata": {},
   "source": [
    "### $X^TX + \\lambda I$ y valores propios"
   ]
  },
  {
   "cell_type": "code",
   "execution_count": 18,
   "id": "3b1faacf-2e62-49ca-99d1-a721a2aaf7f3",
   "metadata": {},
   "outputs": [
    {
     "data": {
      "text/plain": [
       "array([[ 22.    ,  35.83  ,  84.    ],\n",
       "       [ 35.83  ,  62.3155, 143.32  ],\n",
       "       [ 84.    , 143.32  , 337.    ]])"
      ]
     },
     "execution_count": 18,
     "metadata": {},
     "output_type": "execute_result"
    }
   ],
   "source": [
    "lambda_I = 1 * np.identity(3)\n",
    "c_i = c+lambda_I\n",
    "c_i"
   ]
  },
  {
   "cell_type": "code",
   "execution_count": 19,
   "id": "a8172b11-f829-4574-b3ea-7c17afafc7d3",
   "metadata": {},
   "outputs": [
    {
     "data": {
      "text/plain": [
       "array([419.15952555,   1.        ,   1.15597445])"
      ]
     },
     "execution_count": 19,
     "metadata": {},
     "output_type": "execute_result"
    }
   ],
   "source": [
    "valores_propios, vectores_propios = np.linalg.eig(c_i)\n",
    "valores_propios"
   ]
  },
  {
   "cell_type": "markdown",
   "id": "30468229-e118-4995-af1f-1ac2bd8bca40",
   "metadata": {},
   "source": [
    "### $\\beta 's$ para la regresión"
   ]
  },
  {
   "cell_type": "code",
   "execution_count": 21,
   "id": "5088de84-823a-4565-9074-b6767d5ec649",
   "metadata": {},
   "outputs": [
    {
     "name": "stdout",
     "output_type": "stream",
     "text": [
      "B0 = 2.1100426241337766\n",
      "B1 = 17.432451592518543\n",
      "B2 = 8.440170496537144\n"
     ]
    }
   ],
   "source": [
    "c_inv = np.linalg.inv(c_i) # (X^T X)^-1 + lambda I\n",
    "beta = np.dot(c_inv, d)\n",
    "betas = []\n",
    "\n",
    "for i in range(len(beta)):\n",
    "    betas.append(beta[i][0])\n",
    "for i, b in enumerate(betas):\n",
    "    print(f\"B{i} = {b}\")"
   ]
  }
 ],
 "metadata": {
  "kernelspec": {
   "display_name": "Python 3 (ipykernel)",
   "language": "python",
   "name": "python3"
  },
  "language_info": {
   "codemirror_mode": {
    "name": "ipython",
    "version": 3
   },
   "file_extension": ".py",
   "mimetype": "text/x-python",
   "name": "python",
   "nbconvert_exporter": "python",
   "pygments_lexer": "ipython3",
   "version": "3.12.3"
  }
 },
 "nbformat": 4,
 "nbformat_minor": 5
}
