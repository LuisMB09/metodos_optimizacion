{
 "cells": [
  {
   "cell_type": "markdown",
   "metadata": {
    "vscode": {
     "languageId": "plaintext"
    }
   },
   "source": [
    "# Ejemplo"
   ]
  },
  {
   "cell_type": "markdown",
   "metadata": {},
   "source": [
    "d) Select five assets from the market, calculate their returns, and, with this, calculate the expected return and\n",
    "the covariance matrix. Once these parameters are obtained, the optimization problem will be solved, and\n",
    "investment recommendations will be generated. Remember to verify that each of the assets has sufficient\n",
    "liquidity."
   ]
  },
  {
   "cell_type": "markdown",
   "metadata": {
    "vscode": {
     "languageId": "plaintext"
    }
   },
   "source": [
    "## Fórmula para $w$ que optimiza el ratio de Sharpe\n",
    "$$\n",
    "w = \\frac{\\Sigma^{-1} (\\mu - r_f 1)}{1^T \\Sigma^{-1} (\\mu - r_f 1)}\n",
    "$$\n",
    "\n",
    "- $w = [w_1,w_2,...,w_n]$ : vector de pesos de los activos del portafolio\n",
    "- $\\mu = [\\mu_1,\\mu_2,...,\\mu_3]$ : vector del valor esperado de cada uno de los activos\n",
    "- $\\Sigma$: la matriz de covarianza de los rendimientos de los activos\n",
    "- $r_f$: la tasa libre de riesgo\n",
    "- $1$: vector de unos"
   ]
  },
  {
   "cell_type": "markdown",
   "metadata": {
    "vscode": {
     "languageId": "plaintext"
    }
   },
   "source": [
    "## Código"
   ]
  },
  {
   "cell_type": "markdown",
   "metadata": {},
   "source": [
    "### Librerías"
   ]
  },
  {
   "cell_type": "code",
   "execution_count": 38,
   "metadata": {},
   "outputs": [],
   "source": [
    "import numpy as np\n",
    "import pandas as pd\n",
    "import yfinance as yf\n",
    "import matplotlib.pyplot as plt\n",
    "from IPython.display import display, Markdown"
   ]
  },
  {
   "cell_type": "markdown",
   "metadata": {},
   "source": [
    "### Obtención de datos"
   ]
  },
  {
   "cell_type": "code",
   "execution_count": 39,
   "metadata": {},
   "outputs": [
    {
     "name": "stderr",
     "output_type": "stream",
     "text": [
      "[*********************100%***********************]  5 of 5 completed\n"
     ]
    }
   ],
   "source": [
    "tickers=['AMZN','WMT','GOOGL','AAPL','JPM']\n",
    "\n",
    "f_inicial='2020-01-01'\n",
    "f_final='2024-11-10'\n",
    "\n",
    "datos1=yf.download(tickers,f_inicial,f_final)['Adj Close']\n",
    "\n",
    "rt = datos1.pct_change().dropna()"
   ]
  },
  {
   "cell_type": "markdown",
   "metadata": {},
   "source": [
    "### Cálculo de variables importantes"
   ]
  },
  {
   "cell_type": "code",
   "execution_count": 40,
   "metadata": {},
   "outputs": [],
   "source": [
    "mu = (rt.mean() * 252).values  # Rendimientos esperados\n",
    "sigma = rt.cov().values  # Matriz de covarianza\n",
    "sigma_inv = np.linalg.inv(sigma)  # Matriz de covarianza inversa\n",
    "rf = 0.04413  # Tasa libre de riesgo\n",
    "unos = np.ones(len(mu)) # Vector de unos\n",
    "mu_rf = mu - np.dot(rf,unos) # Rendimientos esperados en exceso"
   ]
  },
  {
   "cell_type": "markdown",
   "metadata": {},
   "source": [
    "### Uso de fórmula para $w$"
   ]
  },
  {
   "cell_type": "code",
   "execution_count": 41,
   "metadata": {},
   "outputs": [],
   "source": [
    "w = np.dot(sigma_inv,mu_rf)/ np.dot(unos.T,np.dot(sigma_inv,mu_rf))"
   ]
  },
  {
   "cell_type": "markdown",
   "metadata": {},
   "source": [
    "### Cálculo del retorno, volatilidad y Sharpe Ratio del portafolio\n",
    "\n",
    "- $\\mu_p = w^{^T}\\mu$\n",
    "- $\\sigma_p = \\sqrt{ w^{T} \\Sigma w}$\n",
    "- $sr = \\frac{\\mu_p - r_f}{\\sigma_p}$"
   ]
  },
  {
   "cell_type": "code",
   "execution_count": 42,
   "metadata": {},
   "outputs": [],
   "source": [
    "ret = np.dot(w.T, mu) # Rendimiento esperado del portafolio\n",
    "risk = np.sqrt(np.dot(w.T, np.dot(sigma, w))) * np.sqrt(252) # Volatilidad del portafolio\n",
    "sharpe = (ret - rf) / risk # Sharpe ratio"
   ]
  },
  {
   "cell_type": "markdown",
   "metadata": {},
   "source": [
    "### Resultados"
   ]
  },
  {
   "cell_type": "code",
   "execution_count": 43,
   "metadata": {},
   "outputs": [
    {
     "name": "stdout",
     "output_type": "stream",
     "text": [
      "Rendimiento esperado: 23.459517%\n",
      "Volatilidad: 21.499181%\n",
      "Ratio de sharpe: 0.885918\n"
     ]
    },
    {
     "data": {
      "text/markdown": [
       "### Valores del vector $w$:"
      ],
      "text/plain": [
       "<IPython.core.display.Markdown object>"
      ]
     },
     "metadata": {},
     "output_type": "display_data"
    },
    {
     "data": {
      "text/html": [
       "<div>\n",
       "<style scoped>\n",
       "    .dataframe tbody tr th:only-of-type {\n",
       "        vertical-align: middle;\n",
       "    }\n",
       "\n",
       "    .dataframe tbody tr th {\n",
       "        vertical-align: top;\n",
       "    }\n",
       "\n",
       "    .dataframe thead th {\n",
       "        text-align: right;\n",
       "    }\n",
       "</style>\n",
       "<table border=\"1\" class=\"dataframe\">\n",
       "  <thead>\n",
       "    <tr style=\"text-align: right;\">\n",
       "      <th></th>\n",
       "      <th>AMZN</th>\n",
       "      <th>WMT</th>\n",
       "      <th>GOOGL</th>\n",
       "      <th>AAPL</th>\n",
       "      <th>JPM</th>\n",
       "    </tr>\n",
       "  </thead>\n",
       "  <tbody>\n",
       "    <tr>\n",
       "      <th>w</th>\n",
       "      <td>0.342612</td>\n",
       "      <td>-0.031619</td>\n",
       "      <td>0.153063</td>\n",
       "      <td>0.059</td>\n",
       "      <td>0.476943</td>\n",
       "    </tr>\n",
       "  </tbody>\n",
       "</table>\n",
       "</div>"
      ],
      "text/plain": [
       "       AMZN       WMT     GOOGL   AAPL       JPM\n",
       "w  0.342612 -0.031619  0.153063  0.059  0.476943"
      ]
     },
     "metadata": {},
     "output_type": "display_data"
    }
   ],
   "source": [
    "w_df = pd.DataFrame(w, index=tickers, columns=['w'])\n",
    "\n",
    "print(f'Rendimiento esperado: {ret:.6%}')\n",
    "print(f'Volatilidad: {risk:.6%}')\n",
    "print(f'Ratio de sharpe: {sharpe:.6f}')\n",
    "\n",
    "\n",
    "\n",
    "display(Markdown('### Valores del vector $w$:'))\n",
    "display(w_df.T)"
   ]
  },
  {
   "cell_type": "markdown",
   "metadata": {},
   "source": [
    "### Gráfia con los pesos óptimos"
   ]
  },
  {
   "cell_type": "code",
   "execution_count": 44,
   "metadata": {},
   "outputs": [
    {
     "name": "stdout",
     "output_type": "stream",
     "text": [
      "Return: 0.234595\n",
      "Risk: 0.214992\n",
      "Sharpe ratio: 0.885918\n",
      "\n"
     ]
    },
    {
     "data": {
      "text/html": [
       "<div>\n",
       "<style scoped>\n",
       "    .dataframe tbody tr th:only-of-type {\n",
       "        vertical-align: middle;\n",
       "    }\n",
       "\n",
       "    .dataframe tbody tr th {\n",
       "        vertical-align: top;\n",
       "    }\n",
       "\n",
       "    .dataframe thead th {\n",
       "        text-align: right;\n",
       "    }\n",
       "</style>\n",
       "<table border=\"1\" class=\"dataframe\">\n",
       "  <thead>\n",
       "    <tr style=\"text-align: right;\">\n",
       "      <th></th>\n",
       "      <th>AMZN</th>\n",
       "      <th>WMT</th>\n",
       "      <th>GOOGL</th>\n",
       "      <th>AAPL</th>\n",
       "      <th>JPM</th>\n",
       "    </tr>\n",
       "  </thead>\n",
       "  <tbody>\n",
       "    <tr>\n",
       "      <th>w</th>\n",
       "      <td>0.342612</td>\n",
       "      <td>-0.031619</td>\n",
       "      <td>0.153063</td>\n",
       "      <td>0.059</td>\n",
       "      <td>0.476943</td>\n",
       "    </tr>\n",
       "  </tbody>\n",
       "</table>\n",
       "</div>"
      ],
      "text/plain": [
       "       AMZN       WMT     GOOGL   AAPL       JPM\n",
       "w  0.342612 -0.031619  0.153063  0.059  0.476943"
      ]
     },
     "metadata": {},
     "output_type": "display_data"
    },
    {
     "data": {
      "image/png": "[encoded data removed]",
      "text/plain": [
       "<Figure size 1000x600 with 1 Axes>"
      ]
     },
     "metadata": {},
     "output_type": "display_data"
    }
   ],
   "source": [
    "# Crear gráfica de barras\n",
    "plt.figure(figsize=(10, 6))\n",
    "plt.bar(tickers, w, color='skyblue')\n",
    "\n",
    "# Línea en y = 0\n",
    "plt.axhline(0, color='red', linestyle=':')\n",
    "\n",
    "# Etiquetas\n",
    "plt.xlabel('Tickers')\n",
    "plt.ylabel('Pesos')\n",
    "plt.title('Pesos óptimos por activo')\n",
    "\n",
    "# Mostrar métricas y gráfica\n",
    "print(f'Return: {ret:.6f}')\n",
    "print(f'Risk: {risk:.6f}')\n",
    "print(f'Sharpe ratio: {sharpe:.6f}')\n",
    "print()\n",
    "display(w_df.T)"
   ]
  }
 ],
 "metadata": {
  "kernelspec": {
   "display_name": "base",
   "language": "python",
   "name": "python3"
  },
  "language_info": {
   "codemirror_mode": {
    "name": "ipython",
    "version": 3
   },
   "file_extension": ".py",
   "mimetype": "text/x-python",
   "name": "python",
   "nbconvert_exporter": "python",
   "pygments_lexer": "ipython3",
   "version": "3.12.3"
  }
 },
 "nbformat": 4,
 "nbformat_minor": 2
}
