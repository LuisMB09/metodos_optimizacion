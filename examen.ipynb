{
 "cells": [
  {
   "cell_type": "markdown",
   "metadata": {
    "vscode": {
     "languageId": "plaintext"
    }
   },
   "source": [
    "# Ejemplo"
   ]
  },
  {
   "cell_type": "markdown",
   "metadata": {},
   "source": [
    "d) Select five assets from the market, calculate their returns, and, with this, calculate the expected return and\n",
    "the covariance matrix. Once these parameters are obtained, the optimization problem will be solved, and\n",
    "investment recommendations will be generated. Remember to verify that each of the assets has sufficient\n",
    "liquidity."
   ]
  },
  {
   "cell_type": "markdown",
   "metadata": {
    "vscode": {
     "languageId": "plaintext"
    }
   },
   "source": [
    "## Fórmula para $w$ que optimiza el ratio de Sharpe\n",
    "$$\n",
    "w = \\frac{\\Sigma^{-1} (\\mu - r_f 1)}{1^T \\Sigma^{-1} (\\mu - r_f 1)}\n",
    "$$\n",
    "\n",
    "- $w = [w_1,w_2,...,w_n]$ : vector de pesos de los activos del portafolio\n",
    "- $\\mu = [\\mu_1,\\mu_2,...,\\mu_3]$ : vector del valor esperado de cada uno de los activos\n",
    "- $\\Sigma$: la matriz de covarianza de los rendimientos de los activos\n",
    "- $r_f$: la tasa libre de riesgo\n",
    "- $1$: vector de unos"
   ]
  },
  {
   "cell_type": "markdown",
   "metadata": {
    "vscode": {
     "languageId": "plaintext"
    }
   },
   "source": [
    "## Código"
   ]
  },
  {
   "cell_type": "markdown",
   "metadata": {},
   "source": [
    "### Librerías"
   ]
  },
  {
   "cell_type": "code",
   "execution_count": 2,
   "metadata": {},
   "outputs": [],
   "source": [
    "import numpy as np\n",
    "import pandas as pd\n",
    "import yfinance as yf\n",
    "import matplotlib.pyplot as plt\n",
    "from scipy.optimize import minimize\n",
    "from IPython.display import display, Markdown\n",
    "from ipywidgets import interact, FloatSlider"
   ]
  },
  {
   "cell_type": "markdown",
   "metadata": {},
   "source": [
    "### Obtención de datos"
   ]
  },
  {
   "cell_type": "code",
   "execution_count": 3,
   "metadata": {},
   "outputs": [
    {
     "name": "stderr",
     "output_type": "stream",
     "text": [
      "[*********************100%***********************]  5 of 5 completed\n"
     ]
    }
   ],
   "source": [
    "tickers=['AMZN','WMT','GOOGL','AAPL','JPM']\n",
    "\n",
    "f_inicial='2020-01-01'\n",
    "f_final='2024-11-10'\n",
    "\n",
    "datos1=yf.download(tickers,f_inicial,f_final)['Adj Close']\n",
    "\n",
    "rt = datos1.pct_change().dropna()"
   ]
  },
  {
   "cell_type": "code",
   "execution_count": null,
   "metadata": {},
   "outputs": [],
   "source": []
  },
  {
   "cell_type": "code",
   "execution_count": null,
   "metadata": {},
   "outputs": [],
   "source": []
  },
  {
   "cell_type": "code",
   "execution_count": null,
   "metadata": {},
   "outputs": [],
   "source": []
  }
 ],
 "metadata": {
  "kernelspec": {
   "display_name": "base",
   "language": "python",
   "name": "python3"
  },
  "language_info": {
   "codemirror_mode": {
    "name": "ipython",
    "version": 3
   },
   "file_extension": ".py",
   "mimetype": "text/x-python",
   "name": "python",
   "nbconvert_exporter": "python",
   "pygments_lexer": "ipython3",
   "version": "3.12.3"
  }
 },
 "nbformat": 4,
 "nbformat_minor": 2
}
