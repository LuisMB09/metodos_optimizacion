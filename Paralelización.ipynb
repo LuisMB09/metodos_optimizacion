{
 "cells": [
  {
   "cell_type": "markdown",
   "metadata": {
    "vscode": {
     "languageId": "plaintext"
    }
   },
   "source": [
    "## Paralelización"
   ]
  },
  {
   "cell_type": "code",
   "execution_count": 22,
   "metadata": {},
   "outputs": [],
   "source": [
    "import random\n",
    "import numpy as np\n",
    "import pandas as pd\n",
    "import yfinance as yf\n",
    "import scipy.optimize as opt\n",
    "import matplotlib.pyplot as plt\n",
    "from scipy.optimize import minimize\n",
    "from joblib import Parallel, delayed \n",
    "from IPython.display import display, Markdown"
   ]
  },
  {
   "cell_type": "markdown",
   "metadata": {},
   "source": [
    "### Simulación de portafolios"
   ]
  },
  {
   "cell_type": "code",
   "execution_count": 23,
   "metadata": {},
   "outputs": [],
   "source": [
    "tickers = ['AAPL', 'NVDA', 'MSFT', 'GOOGL', 'AMZN', 'TSLA', 'META', 'SPOT', 'SBUX', 'JPM', 'AXP', 'MCD', 'KO', \n",
    "           'NFLX', 'CMG', 'CP', 'WMT', 'V', 'GLD', 'BLK', 'PG', 'JNJ', 'TMUS', 'MA', 'BX', 'LULU', 'DPZ', 'BAC', \n",
    "           'FDX', 'DIS', 'GE', 'HSY', 'HP', 'COST', 'HD', 'K', 'ADBE', 'CSCO', 'T', 'F', 'NKE', 'CVX', 'XOM', 'PYPL', \n",
    "           'PEP', 'PFE', 'MRNA', 'RL', 'AZN', 'BABA', 'VZ', 'WBD', 'HSBC', 'UBER']\n",
    "\n",
    "rf = 0.04413\n",
    "f_inicial='2020-01-01'\n",
    "f_final='2024-11-24'"
   ]
  },
  {
   "cell_type": "code",
   "execution_count": null,
   "metadata": {},
   "outputs": [
    {
     "name": "stderr",
     "output_type": "stream",
     "text": [
      "[*********************100%***********************]  5 of 5 completedd\n",
      "[*********************100%***********************]  6 of 6 completedd\n",
      "[*********************100%***********************]  8 of 8 completedd\n",
      "[*********************100%***********************]  7 of 7 completedd\n",
      "[*********************100%***********************]  12 of 12 completed\n",
      "[*********************100%***********************]  11 of 11 completed\n",
      "[*********************100%***********************]  14 of 14 completed\n",
      "[*********************100%***********************]  15 of 15 completed\n",
      "[*********************100%***********************]  9 of 9 completeded\n",
      "[*********************100%***********************]  14 of 14 completed\n",
      "[*********************100%***********************]  15 of 15 completed\n",
      "[*********************100%***********************]  11 of 11 completed\n",
      "[*********************100%***********************]  13 of 13 completed\n",
      "[*********************100%***********************]  8 of 8 completedd\n",
      "[*********************100%***********************]  11 of 11 completed\n",
      "[*********************100%***********************]  6 of 6 completed\n",
      "[*********************100%***********************]  8 of 8 completed\n",
      "[*********************100%***********************]  13 of 13 completed\n",
      "[*********************100%***********************]  7 of 7 completed\n",
      "[*********************100%***********************]  7 of 7 completedd\n",
      "[*********************100%***********************]  9 of 9 completedd\n",
      "[*********************100%***********************]  5 of 5 completedd\n",
      "[*********************100%***********************]  6 of 6 completed\n",
      "[*********************100%***********************]  8 of 8 completedd\n",
      "[*********************100%***********************]  13 of 13 completed\n",
      "[*********************100%***********************]  6 of 6 completedd\n",
      "[*********************100%***********************]  15 of 15 completed\n",
      "[*********************100%***********************]  15 of 15 completed\n",
      "[*********************100%***********************]  6 of 6 completeddd\n",
      "[*********************100%***********************]  14 of 14 completed\n",
      "[*********************100%***********************]  11 of 11 completed\n",
      "[*********************100%***********************]  13 of 13 completed\n",
      "[*********************100%***********************]  14 of 14 completed\n",
      "[*********************100%***********************]  9 of 9 completedd\n",
      "[*********************100%***********************]  6 of 6 completed\n",
      "[*********************100%***********************]  6 of 6 completeded\n",
      "[*********************100%***********************]  5 of 5 completed\n",
      "[*********************100%***********************]  5 of 5 completeded\n",
      "[*********************100%***********************]  15 of 15 completed\n",
      "[*********************100%***********************]  7 of 7 completed\n",
      "[*********************100%***********************]  5 of 5 completed\n",
      "[*********************100%***********************]  5 of 5 completedd\n",
      "[*********************100%***********************]  5 of 5 completedd\n",
      "[*********************100%***********************]  6 of 6 completed\n",
      "[*********************100%***********************]  11 of 11 completed\n",
      "[*********************100%***********************]  9 of 9 completeddd\n",
      "[*********************100%***********************]  14 of 14 completed\n",
      "[*********************100%***********************]  6 of 6 completed\n",
      "[**********************70%*********              ]  7 of 10 completed\n",
      "[*********************100%***********************]  10 of 10 completed\n",
      "[*********************100%***********************]  13 of 13 completed\n",
      "[*********************100%***********************]  6 of 6 completedd\n",
      "[*********************100%***********************]  8 of 8 completedd\n",
      "[*********************100%***********************]  6 of 6 completedd\n",
      "[*********************100%***********************]  5 of 5 completed\n",
      "[*********************100%***********************]  6 of 6 completedd\n",
      "[*********************100%***********************]  12 of 12 completed\n",
      "[*********************100%***********************]  15 of 15 completed\n",
      "[*********************100%***********************]  8 of 8 completedd\n",
      "[*********************100%***********************]  8 of 8 completed\n",
      "[*********************100%***********************]  11 of 11 completed\n",
      "[*********************100%***********************]  7 of 7 completedd\n",
      "[*********************100%***********************]  8 of 8 completedd\n",
      "[*********************100%***********************]  12 of 12 completed\n",
      "[*********************100%***********************]  13 of 13 completed\n",
      "[*********************100%***********************]  10 of 10 completed\n",
      "[*********************100%***********************]  11 of 11 completed\n",
      "[*********************100%***********************]  8 of 8 completedd\n",
      "[*********************100%***********************]  11 of 11 completed\n",
      "[*********************100%***********************]  11 of 11 completed\n",
      "[                       0%                       ]  5 of 5 completedd\n",
      "[*********************100%***********************]  9 of 9 completedd\n",
      "[*********************100%***********************]  9 of 9 completedd\n",
      "[*********************100%***********************]  6 of 6 completedd\n",
      "[*********************100%***********************]  8 of 8 completeded\n",
      "[*********************100%***********************]  12 of 12 completed\n",
      "[*********************100%***********************]  10 of 10 completed\n",
      "[*********************100%***********************]  11 of 11 completed\n",
      "[*********************100%***********************]  13 of 13 completed\n",
      "[*********************100%***********************]  13 of 13 completed\n",
      "[*********************100%***********************]  10 of 10 completed\n",
      "[*********************100%***********************]  14 of 14 completed\n",
      "[*********************100%***********************]  10 of 10 completed\n",
      "[*********************100%***********************]  12 of 12 completed\n",
      "[*********************100%***********************]  13 of 13 completed\n",
      "[*********************100%***********************]  11 of 11 completed\n",
      "[*********************100%***********************]  5 of 5 completedd\n",
      "[*********************100%***********************]  11 of 11 completed\n",
      "[*********************100%***********************]  10 of 10 completed\n",
      "[*********************100%***********************]  11 of 11 completed\n",
      "[*********************100%***********************]  15 of 15 completed\n",
      "[*********************100%***********************]  13 of 13 completed\n",
      "[*********************100%***********************]  13 of 13 completed\n",
      "[*********************100%***********************]  13 of 13 completed\n",
      "[*********************100%***********************]  15 of 15 completed\n",
      "[*********************100%***********************]  12 of 12 completed\n",
      "[*********************100%***********************]  9 of 9 completeded\n",
      "[*********************100%***********************]  13 of 13 completed\n",
      "[*********************100%***********************]  11 of 11 completed\n",
      "[*********************100%***********************]  10 of 10 completed\n"
     ]
    }
   ],
   "source": [
    "def simulate_portfolio_opt(i, tickers, rf):\n",
    "    # Selección aleatoria del tamaño de la muestra y de los tickers\n",
    "    sample_size = random.randint(5, 15)\n",
    "    random_tickers = random.sample(tickers, sample_size)\n",
    "\n",
    "    # Descarga de datos\n",
    "    datos1 = yf.download(random_tickers, f_inicial, f_final)['Adj Close']\n",
    "    rt = datos1.pct_change().dropna()\n",
    "\n",
    "    # Calcular retornos y matriz de covarianza\n",
    "    mu = (rt.mean() * 252).values  # retornos esperados\n",
    "    sigma = rt.cov().values  # Matriz de covarianza\n",
    "    n_assets = len(mu)\n",
    "\n",
    "    # Función para minimizar (-Sharpe Ratio)\n",
    "    def neg_sharpe_ratio(w, mu, sigma, rf):\n",
    "        port_return = np.dot(w.T, mu)  # Rendimiento esperado del portafolio\n",
    "        port_vol = np.sqrt(np.dot(w.T, np.dot(sigma, w))) * np.sqrt(252)  # Volatilidad del portafolio\n",
    "        sharpe_ratio = (port_return - rf) / port_vol\n",
    "        return -sharpe_ratio  # Negativo porque queremos maximizar\n",
    "\n",
    "    # Restricciones: Suma de pesos = 1\n",
    "    constraints = ({\n",
    "        'type': 'eq',\n",
    "        'fun': lambda w: np.sum(w) - 1\n",
    "    })\n",
    "\n",
    "    # Límites: Pesos entre 0 y 1 (no posiciones cortas)\n",
    "    bounds = tuple((0, 1) for _ in range(n_assets))\n",
    "\n",
    "    # Pesos iniciales (distribuidos uniformemente)\n",
    "    w0 = np.array([1 / n_assets] * n_assets)\n",
    "\n",
    "    # Optimización\n",
    "    result = opt.minimize(neg_sharpe_ratio, w0, args=(mu, sigma, rf), method='SLSQP', bounds=bounds, constraints=constraints)\n",
    "\n",
    "    # Resultados\n",
    "    optimal_weights = result.x\n",
    "    optimal_weights[optimal_weights < 0.000001] = 0  # Eliminar pesos numéricamente cercanos a cero\n",
    "\n",
    "    # Cálculo del retorno, volatilidad y sharpe del portafolio\n",
    "    ret = np.dot(optimal_weights.T, mu)  # Retorno esperado del portafolio\n",
    "    risk = np.sqrt(np.dot(optimal_weights.T, np.dot(sigma, optimal_weights))) * np.sqrt(252)  # Volatilidad del portafolio\n",
    "    sharpe = (ret - rf) / risk  # Sharpe ratio\n",
    "\n",
    "    return ret, risk, sharpe, optimal_weights, random_tickers\n",
    "\n",
    "# Número de simulaciones\n",
    "n_simulations = 100\n",
    "\n",
    "# Ejecutar simulaciones en paralelo\n",
    "results = Parallel(n_jobs=-1)(delayed(simulate_portfolio_opt)(i, tickers, rf) for i in range(n_simulations))\n",
    "\n",
    "# Extraer resultados\n",
    "retornos_sci = [result[0] for result in results]\n",
    "volatilidades_sci = [result[1] for result in results]\n",
    "sharpe_ratios_sci = [result[2] for result in results]\n",
    "pesos_sci = [result[3] for result in results]\n",
    "selected_tickers = [result[4] for result in results]  # Guardar los tickers seleccionados"
   ]
  },
  {
   "cell_type": "markdown",
   "metadata": {},
   "source": [
    "### Guardar métricas en un DataFrame"
   ]
  },
  {
   "cell_type": "code",
   "execution_count": 25,
   "metadata": {},
   "outputs": [
    {
     "data": {
      "text/html": [
       "<div>\n",
       "<style scoped>\n",
       "    .dataframe tbody tr th:only-of-type {\n",
       "        vertical-align: middle;\n",
       "    }\n",
       "\n",
       "    .dataframe tbody tr th {\n",
       "        vertical-align: top;\n",
       "    }\n",
       "\n",
       "    .dataframe thead th {\n",
       "        text-align: right;\n",
       "    }\n",
       "</style>\n",
       "<table border=\"1\" class=\"dataframe\">\n",
       "  <thead>\n",
       "    <tr style=\"text-align: right;\">\n",
       "      <th></th>\n",
       "      <th>rendimiento</th>\n",
       "      <th>volatilidad</th>\n",
       "      <th>sharpe</th>\n",
       "    </tr>\n",
       "  </thead>\n",
       "  <tbody>\n",
       "    <tr>\n",
       "      <th>0</th>\n",
       "      <td>0.287332</td>\n",
       "      <td>0.282758</td>\n",
       "      <td>0.860108</td>\n",
       "    </tr>\n",
       "    <tr>\n",
       "      <th>1</th>\n",
       "      <td>0.475979</td>\n",
       "      <td>0.289837</td>\n",
       "      <td>1.489973</td>\n",
       "    </tr>\n",
       "    <tr>\n",
       "      <th>2</th>\n",
       "      <td>0.232482</td>\n",
       "      <td>0.274887</td>\n",
       "      <td>0.685200</td>\n",
       "    </tr>\n",
       "    <tr>\n",
       "      <th>3</th>\n",
       "      <td>0.311913</td>\n",
       "      <td>0.267954</td>\n",
       "      <td>0.999359</td>\n",
       "    </tr>\n",
       "    <tr>\n",
       "      <th>4</th>\n",
       "      <td>0.241334</td>\n",
       "      <td>0.340518</td>\n",
       "      <td>0.579130</td>\n",
       "    </tr>\n",
       "  </tbody>\n",
       "</table>\n",
       "</div>"
      ],
      "text/plain": [
       "   rendimiento  volatilidad    sharpe\n",
       "0     0.287332     0.282758  0.860108\n",
       "1     0.475979     0.289837  1.489973\n",
       "2     0.232482     0.274887  0.685200\n",
       "3     0.311913     0.267954  0.999359\n",
       "4     0.241334     0.340518  0.579130"
      ]
     },
     "execution_count": 25,
     "metadata": {},
     "output_type": "execute_result"
    }
   ],
   "source": [
    "metricas_df_scipy = pd.DataFrame({\n",
    "    'rendimiento': retornos_sci,\n",
    "    'volatilidad': volatilidades_sci,\n",
    "    'sharpe': sharpe_ratios_sci\n",
    "})\n",
    "metricas_df_scipy.head()"
   ]
  },
  {
   "cell_type": "markdown",
   "metadata": {},
   "source": [
    "### Guardar los pesos y acciones en un DataFrame"
   ]
  },
  {
   "cell_type": "code",
   "execution_count": 26,
   "metadata": {},
   "outputs": [],
   "source": [
    "dataframes_dict = {}\n",
    "for i in range(n_simulations):\n",
    "    dataframes_dict[f\"Simulación {i+1}\"] = pd.DataFrame(pesos_sci[i], index=selected_tickers[i], columns=['w']).T"
   ]
  },
  {
   "cell_type": "markdown",
   "metadata": {},
   "source": [
    "### Mostrar los pesos de cada activo en una simulación"
   ]
  },
  {
   "cell_type": "code",
   "execution_count": 27,
   "metadata": {},
   "outputs": [
    {
     "data": {
      "text/html": [
       "<div>\n",
       "<style scoped>\n",
       "    .dataframe tbody tr th:only-of-type {\n",
       "        vertical-align: middle;\n",
       "    }\n",
       "\n",
       "    .dataframe tbody tr th {\n",
       "        vertical-align: top;\n",
       "    }\n",
       "\n",
       "    .dataframe thead th {\n",
       "        text-align: right;\n",
       "    }\n",
       "</style>\n",
       "<table border=\"1\" class=\"dataframe\">\n",
       "  <thead>\n",
       "    <tr style=\"text-align: right;\">\n",
       "      <th></th>\n",
       "      <th>CVX</th>\n",
       "      <th>GOOGL</th>\n",
       "      <th>JNJ</th>\n",
       "      <th>NKE</th>\n",
       "      <th>HSBC</th>\n",
       "      <th>F</th>\n",
       "      <th>AZN</th>\n",
       "      <th>CMG</th>\n",
       "      <th>BAC</th>\n",
       "      <th>DPZ</th>\n",
       "      <th>NFLX</th>\n",
       "      <th>BABA</th>\n",
       "    </tr>\n",
       "  </thead>\n",
       "  <tbody>\n",
       "    <tr>\n",
       "      <th>w</th>\n",
       "      <td>0.005246</td>\n",
       "      <td>0.0</td>\n",
       "      <td>0.0</td>\n",
       "      <td>0.522963</td>\n",
       "      <td>0.077273</td>\n",
       "      <td>0.0</td>\n",
       "      <td>0.0</td>\n",
       "      <td>0.123058</td>\n",
       "      <td>0.062769</td>\n",
       "      <td>0.0</td>\n",
       "      <td>0.208691</td>\n",
       "      <td>0.0</td>\n",
       "    </tr>\n",
       "  </tbody>\n",
       "</table>\n",
       "</div>"
      ],
      "text/plain": [
       "        CVX  GOOGL  JNJ       NKE      HSBC    F  AZN       CMG       BAC  \\\n",
       "w  0.005246    0.0  0.0  0.522963  0.077273  0.0  0.0  0.123058  0.062769   \n",
       "\n",
       "   DPZ      NFLX  BABA  \n",
       "w  0.0  0.208691   0.0  "
      ]
     },
     "execution_count": 27,
     "metadata": {},
     "output_type": "execute_result"
    }
   ],
   "source": [
    "# Elegir el número de simulación cambiando el número\n",
    "dataframes_dict['Simulación 1']"
   ]
  },
  {
   "cell_type": "markdown",
   "metadata": {},
   "source": [
    "### Mostrar todos los resultados"
   ]
  },
  {
   "cell_type": "code",
   "execution_count": 28,
   "metadata": {},
   "outputs": [
    {
     "data": {
      "text/markdown": [
       "### Simulación 1"
      ],
      "text/plain": [
       "<IPython.core.display.Markdown object>"
      ]
     },
     "metadata": {},
     "output_type": "display_data"
    },
    {
     "data": {
      "text/html": [
       "<div>\n",
       "<style scoped>\n",
       "    .dataframe tbody tr th:only-of-type {\n",
       "        vertical-align: middle;\n",
       "    }\n",
       "\n",
       "    .dataframe tbody tr th {\n",
       "        vertical-align: top;\n",
       "    }\n",
       "\n",
       "    .dataframe thead th {\n",
       "        text-align: right;\n",
       "    }\n",
       "</style>\n",
       "<table border=\"1\" class=\"dataframe\">\n",
       "  <thead>\n",
       "    <tr style=\"text-align: right;\">\n",
       "      <th></th>\n",
       "      <th>CVX</th>\n",
       "      <th>GOOGL</th>\n",
       "      <th>JNJ</th>\n",
       "      <th>NKE</th>\n",
       "      <th>HSBC</th>\n",
       "      <th>F</th>\n",
       "      <th>AZN</th>\n",
       "      <th>CMG</th>\n",
       "      <th>BAC</th>\n",
       "      <th>DPZ</th>\n",
       "      <th>NFLX</th>\n",
       "      <th>BABA</th>\n",
       "    </tr>\n",
       "  </thead>\n",
       "  <tbody>\n",
       "    <tr>\n",
       "      <th>w</th>\n",
       "      <td>0.005246</td>\n",
       "      <td>0.0</td>\n",
       "      <td>0.0</td>\n",
       "      <td>0.522963</td>\n",
       "      <td>0.077273</td>\n",
       "      <td>0.0</td>\n",
       "      <td>0.0</td>\n",
       "      <td>0.123058</td>\n",
       "      <td>0.062769</td>\n",
       "      <td>0.0</td>\n",
       "      <td>0.208691</td>\n",
       "      <td>0.0</td>\n",
       "    </tr>\n",
       "  </tbody>\n",
       "</table>\n",
       "</div>"
      ],
      "text/plain": [
       "        CVX  GOOGL  JNJ       NKE      HSBC    F  AZN       CMG       BAC  \\\n",
       "w  0.005246    0.0  0.0  0.522963  0.077273  0.0  0.0  0.123058  0.062769   \n",
       "\n",
       "   DPZ      NFLX  BABA  \n",
       "w  0.0  0.208691   0.0  "
      ]
     },
     "metadata": {},
     "output_type": "display_data"
    },
    {
     "data": {
      "text/markdown": [
       "### Simulación 2"
      ],
      "text/plain": [
       "<IPython.core.display.Markdown object>"
      ]
     },
     "metadata": {},
     "output_type": "display_data"
    },
    {
     "data": {
      "text/html": [
       "<div>\n",
       "<style scoped>\n",
       "    .dataframe tbody tr th:only-of-type {\n",
       "        vertical-align: middle;\n",
       "    }\n",
       "\n",
       "    .dataframe tbody tr th {\n",
       "        vertical-align: top;\n",
       "    }\n",
       "\n",
       "    .dataframe thead th {\n",
       "        text-align: right;\n",
       "    }\n",
       "</style>\n",
       "<table border=\"1\" class=\"dataframe\">\n",
       "  <thead>\n",
       "    <tr style=\"text-align: right;\">\n",
       "      <th></th>\n",
       "      <th>MA</th>\n",
       "      <th>NVDA</th>\n",
       "      <th>HSBC</th>\n",
       "      <th>XOM</th>\n",
       "      <th>COST</th>\n",
       "      <th>WMT</th>\n",
       "      <th>FDX</th>\n",
       "      <th>META</th>\n",
       "      <th>JNJ</th>\n",
       "      <th>CP</th>\n",
       "      <th>VZ</th>\n",
       "      <th>V</th>\n",
       "      <th>RL</th>\n",
       "      <th>MRNA</th>\n",
       "    </tr>\n",
       "  </thead>\n",
       "  <tbody>\n",
       "    <tr>\n",
       "      <th>w</th>\n",
       "      <td>0.215651</td>\n",
       "      <td>0.0</td>\n",
       "      <td>0.0</td>\n",
       "      <td>0.0</td>\n",
       "      <td>0.0</td>\n",
       "      <td>0.0</td>\n",
       "      <td>0.0</td>\n",
       "      <td>0.065091</td>\n",
       "      <td>0.39833</td>\n",
       "      <td>0.0</td>\n",
       "      <td>0.0</td>\n",
       "      <td>0.0</td>\n",
       "      <td>0.197685</td>\n",
       "      <td>0.123243</td>\n",
       "    </tr>\n",
       "  </tbody>\n",
       "</table>\n",
       "</div>"
      ],
      "text/plain": [
       "         MA  NVDA  HSBC  XOM  COST  WMT  FDX      META      JNJ   CP   VZ  \\\n",
       "w  0.215651   0.0   0.0  0.0   0.0  0.0  0.0  0.065091  0.39833  0.0  0.0   \n",
       "\n",
       "     V        RL      MRNA  \n",
       "w  0.0  0.197685  0.123243  "
      ]
     },
     "metadata": {},
     "output_type": "display_data"
    },
    {
     "data": {
      "text/markdown": [
       "### Simulación 3"
      ],
      "text/plain": [
       "<IPython.core.display.Markdown object>"
      ]
     },
     "metadata": {},
     "output_type": "display_data"
    },
    {
     "data": {
      "text/html": [
       "<div>\n",
       "<style scoped>\n",
       "    .dataframe tbody tr th:only-of-type {\n",
       "        vertical-align: middle;\n",
       "    }\n",
       "\n",
       "    .dataframe tbody tr th {\n",
       "        vertical-align: top;\n",
       "    }\n",
       "\n",
       "    .dataframe thead th {\n",
       "        text-align: right;\n",
       "    }\n",
       "</style>\n",
       "<table border=\"1\" class=\"dataframe\">\n",
       "  <thead>\n",
       "    <tr style=\"text-align: right;\">\n",
       "      <th></th>\n",
       "      <th>MSFT</th>\n",
       "      <th>HSBC</th>\n",
       "      <th>F</th>\n",
       "      <th>DIS</th>\n",
       "      <th>JNJ</th>\n",
       "    </tr>\n",
       "  </thead>\n",
       "  <tbody>\n",
       "    <tr>\n",
       "      <th>w</th>\n",
       "      <td>0.0</td>\n",
       "      <td>0.030375</td>\n",
       "      <td>0.140395</td>\n",
       "      <td>0.0</td>\n",
       "      <td>0.82923</td>\n",
       "    </tr>\n",
       "  </tbody>\n",
       "</table>\n",
       "</div>"
      ],
      "text/plain": [
       "   MSFT      HSBC         F  DIS      JNJ\n",
       "w   0.0  0.030375  0.140395  0.0  0.82923"
      ]
     },
     "metadata": {},
     "output_type": "display_data"
    },
    {
     "data": {
      "text/markdown": [
       "### Simulación 4"
      ],
      "text/plain": [
       "<IPython.core.display.Markdown object>"
      ]
     },
     "metadata": {},
     "output_type": "display_data"
    },
    {
     "data": {
      "text/html": [
       "<div>\n",
       "<style scoped>\n",
       "    .dataframe tbody tr th:only-of-type {\n",
       "        vertical-align: middle;\n",
       "    }\n",
       "\n",
       "    .dataframe tbody tr th {\n",
       "        vertical-align: top;\n",
       "    }\n",
       "\n",
       "    .dataframe thead th {\n",
       "        text-align: right;\n",
       "    }\n",
       "</style>\n",
       "<table border=\"1\" class=\"dataframe\">\n",
       "  <thead>\n",
       "    <tr style=\"text-align: right;\">\n",
       "      <th></th>\n",
       "      <th>VZ</th>\n",
       "      <th>JNJ</th>\n",
       "      <th>AZN</th>\n",
       "      <th>TMUS</th>\n",
       "      <th>BX</th>\n",
       "      <th>NFLX</th>\n",
       "      <th>HSY</th>\n",
       "      <th>AMZN</th>\n",
       "    </tr>\n",
       "  </thead>\n",
       "  <tbody>\n",
       "    <tr>\n",
       "      <th>w</th>\n",
       "      <td>0.0</td>\n",
       "      <td>0.0</td>\n",
       "      <td>0.326261</td>\n",
       "      <td>0.0</td>\n",
       "      <td>0.0</td>\n",
       "      <td>0.147936</td>\n",
       "      <td>0.525803</td>\n",
       "      <td>0.0</td>\n",
       "    </tr>\n",
       "  </tbody>\n",
       "</table>\n",
       "</div>"
      ],
      "text/plain": [
       "    VZ  JNJ       AZN  TMUS   BX      NFLX       HSY  AMZN\n",
       "w  0.0  0.0  0.326261   0.0  0.0  0.147936  0.525803   0.0"
      ]
     },
     "metadata": {},
     "output_type": "display_data"
    },
    {
     "data": {
      "text/markdown": [
       "### Simulación 5"
      ],
      "text/plain": [
       "<IPython.core.display.Markdown object>"
      ]
     },
     "metadata": {},
     "output_type": "display_data"
    },
    {
     "data": {
      "text/html": [
       "<div>\n",
       "<style scoped>\n",
       "    .dataframe tbody tr th:only-of-type {\n",
       "        vertical-align: middle;\n",
       "    }\n",
       "\n",
       "    .dataframe tbody tr th {\n",
       "        vertical-align: top;\n",
       "    }\n",
       "\n",
       "    .dataframe thead th {\n",
       "        text-align: right;\n",
       "    }\n",
       "</style>\n",
       "<table border=\"1\" class=\"dataframe\">\n",
       "  <thead>\n",
       "    <tr style=\"text-align: right;\">\n",
       "      <th></th>\n",
       "      <th>F</th>\n",
       "      <th>UBER</th>\n",
       "      <th>NKE</th>\n",
       "      <th>SBUX</th>\n",
       "      <th>HSY</th>\n",
       "      <th>RL</th>\n",
       "    </tr>\n",
       "  </thead>\n",
       "  <tbody>\n",
       "    <tr>\n",
       "      <th>w</th>\n",
       "      <td>0.0</td>\n",
       "      <td>0.180474</td>\n",
       "      <td>0.0</td>\n",
       "      <td>0.396855</td>\n",
       "      <td>0.0</td>\n",
       "      <td>0.422672</td>\n",
       "    </tr>\n",
       "  </tbody>\n",
       "</table>\n",
       "</div>"
      ],
      "text/plain": [
       "     F      UBER  NKE      SBUX  HSY        RL\n",
       "w  0.0  0.180474  0.0  0.396855  0.0  0.422672"
      ]
     },
     "metadata": {},
     "output_type": "display_data"
    },
    {
     "data": {
      "text/markdown": [
       "### Simulación 6"
      ],
      "text/plain": [
       "<IPython.core.display.Markdown object>"
      ]
     },
     "metadata": {},
     "output_type": "display_data"
    },
    {
     "data": {
      "text/html": [
       "<div>\n",
       "<style scoped>\n",
       "    .dataframe tbody tr th:only-of-type {\n",
       "        vertical-align: middle;\n",
       "    }\n",
       "\n",
       "    .dataframe tbody tr th {\n",
       "        vertical-align: top;\n",
       "    }\n",
       "\n",
       "    .dataframe thead th {\n",
       "        text-align: right;\n",
       "    }\n",
       "</style>\n",
       "<table border=\"1\" class=\"dataframe\">\n",
       "  <thead>\n",
       "    <tr style=\"text-align: right;\">\n",
       "      <th></th>\n",
       "      <th>NKE</th>\n",
       "      <th>UBER</th>\n",
       "      <th>NFLX</th>\n",
       "      <th>TSLA</th>\n",
       "      <th>F</th>\n",
       "      <th>PEP</th>\n",
       "      <th>LULU</th>\n",
       "      <th>ADBE</th>\n",
       "      <th>AMZN</th>\n",
       "      <th>AZN</th>\n",
       "      <th>HSBC</th>\n",
       "      <th>WBD</th>\n",
       "      <th>MA</th>\n",
       "      <th>AAPL</th>\n",
       "      <th>KO</th>\n",
       "    </tr>\n",
       "  </thead>\n",
       "  <tbody>\n",
       "    <tr>\n",
       "      <th>w</th>\n",
       "      <td>0.325251</td>\n",
       "      <td>0.0</td>\n",
       "      <td>0.0</td>\n",
       "      <td>0.010548</td>\n",
       "      <td>0.0</td>\n",
       "      <td>0.029735</td>\n",
       "      <td>0.0</td>\n",
       "      <td>0.0</td>\n",
       "      <td>0.0</td>\n",
       "      <td>0.129389</td>\n",
       "      <td>0.0</td>\n",
       "      <td>0.0</td>\n",
       "      <td>0.484479</td>\n",
       "      <td>0.020598</td>\n",
       "      <td>0.0</td>\n",
       "    </tr>\n",
       "  </tbody>\n",
       "</table>\n",
       "</div>"
      ],
      "text/plain": [
       "        NKE  UBER  NFLX      TSLA    F       PEP  LULU  ADBE  AMZN       AZN  \\\n",
       "w  0.325251   0.0   0.0  0.010548  0.0  0.029735   0.0   0.0   0.0  0.129389   \n",
       "\n",
       "   HSBC  WBD        MA      AAPL   KO  \n",
       "w   0.0  0.0  0.484479  0.020598  0.0  "
      ]
     },
     "metadata": {},
     "output_type": "display_data"
    },
    {
     "data": {
      "text/markdown": [
       "### Simulación 7"
      ],
      "text/plain": [
       "<IPython.core.display.Markdown object>"
      ]
     },
     "metadata": {},
     "output_type": "display_data"
    },
    {
     "data": {
      "text/html": [
       "<div>\n",
       "<style scoped>\n",
       "    .dataframe tbody tr th:only-of-type {\n",
       "        vertical-align: middle;\n",
       "    }\n",
       "\n",
       "    .dataframe tbody tr th {\n",
       "        vertical-align: top;\n",
       "    }\n",
       "\n",
       "    .dataframe thead th {\n",
       "        text-align: right;\n",
       "    }\n",
       "</style>\n",
       "<table border=\"1\" class=\"dataframe\">\n",
       "  <thead>\n",
       "    <tr style=\"text-align: right;\">\n",
       "      <th></th>\n",
       "      <th>COST</th>\n",
       "      <th>V</th>\n",
       "      <th>HP</th>\n",
       "      <th>AAPL</th>\n",
       "      <th>MA</th>\n",
       "      <th>SPOT</th>\n",
       "      <th>NFLX</th>\n",
       "    </tr>\n",
       "  </thead>\n",
       "  <tbody>\n",
       "    <tr>\n",
       "      <th>w</th>\n",
       "      <td>0.085574</td>\n",
       "      <td>0.744839</td>\n",
       "      <td>0.005816</td>\n",
       "      <td>0.0</td>\n",
       "      <td>0.035248</td>\n",
       "      <td>0.128523</td>\n",
       "      <td>0.0</td>\n",
       "    </tr>\n",
       "  </tbody>\n",
       "</table>\n",
       "</div>"
      ],
      "text/plain": [
       "       COST         V        HP  AAPL        MA      SPOT  NFLX\n",
       "w  0.085574  0.744839  0.005816   0.0  0.035248  0.128523   0.0"
      ]
     },
     "metadata": {},
     "output_type": "display_data"
    },
    {
     "data": {
      "text/markdown": [
       "### Simulación 8"
      ],
      "text/plain": [
       "<IPython.core.display.Markdown object>"
      ]
     },
     "metadata": {},
     "output_type": "display_data"
    },
    {
     "data": {
      "text/html": [
       "<div>\n",
       "<style scoped>\n",
       "    .dataframe tbody tr th:only-of-type {\n",
       "        vertical-align: middle;\n",
       "    }\n",
       "\n",
       "    .dataframe tbody tr th {\n",
       "        vertical-align: top;\n",
       "    }\n",
       "\n",
       "    .dataframe thead th {\n",
       "        text-align: right;\n",
       "    }\n",
       "</style>\n",
       "<table border=\"1\" class=\"dataframe\">\n",
       "  <thead>\n",
       "    <tr style=\"text-align: right;\">\n",
       "      <th></th>\n",
       "      <th>DPZ</th>\n",
       "      <th>MCD</th>\n",
       "      <th>TMUS</th>\n",
       "      <th>META</th>\n",
       "      <th>K</th>\n",
       "      <th>HSY</th>\n",
       "      <th>WBD</th>\n",
       "      <th>T</th>\n",
       "      <th>BLK</th>\n",
       "      <th>MA</th>\n",
       "      <th>BX</th>\n",
       "    </tr>\n",
       "  </thead>\n",
       "  <tbody>\n",
       "    <tr>\n",
       "      <th>w</th>\n",
       "      <td>0.0</td>\n",
       "      <td>0.299584</td>\n",
       "      <td>0.013144</td>\n",
       "      <td>0.0</td>\n",
       "      <td>0.082423</td>\n",
       "      <td>0.0</td>\n",
       "      <td>0.0</td>\n",
       "      <td>0.105097</td>\n",
       "      <td>0.0</td>\n",
       "      <td>0.499752</td>\n",
       "      <td>0.0</td>\n",
       "    </tr>\n",
       "  </tbody>\n",
       "</table>\n",
       "</div>"
      ],
      "text/plain": [
       "   DPZ       MCD      TMUS  META         K  HSY  WBD         T  BLK        MA  \\\n",
       "w  0.0  0.299584  0.013144   0.0  0.082423  0.0  0.0  0.105097  0.0  0.499752   \n",
       "\n",
       "    BX  \n",
       "w  0.0  "
      ]
     },
     "metadata": {},
     "output_type": "display_data"
    },
    {
     "data": {
      "text/markdown": [
       "### Simulación 9"
      ],
      "text/plain": [
       "<IPython.core.display.Markdown object>"
      ]
     },
     "metadata": {},
     "output_type": "display_data"
    },
    {
     "data": {
      "text/html": [
       "<div>\n",
       "<style scoped>\n",
       "    .dataframe tbody tr th:only-of-type {\n",
       "        vertical-align: middle;\n",
       "    }\n",
       "\n",
       "    .dataframe tbody tr th {\n",
       "        vertical-align: top;\n",
       "    }\n",
       "\n",
       "    .dataframe thead th {\n",
       "        text-align: right;\n",
       "    }\n",
       "</style>\n",
       "<table border=\"1\" class=\"dataframe\">\n",
       "  <thead>\n",
       "    <tr style=\"text-align: right;\">\n",
       "      <th></th>\n",
       "      <th>PEP</th>\n",
       "      <th>JNJ</th>\n",
       "      <th>XOM</th>\n",
       "      <th>SPOT</th>\n",
       "      <th>DIS</th>\n",
       "      <th>LULU</th>\n",
       "      <th>GE</th>\n",
       "      <th>FDX</th>\n",
       "      <th>JPM</th>\n",
       "      <th>MRNA</th>\n",
       "      <th>MSFT</th>\n",
       "      <th>UBER</th>\n",
       "      <th>MCD</th>\n",
       "      <th>HSBC</th>\n",
       "    </tr>\n",
       "  </thead>\n",
       "  <tbody>\n",
       "    <tr>\n",
       "      <th>w</th>\n",
       "      <td>0.0</td>\n",
       "      <td>0.0</td>\n",
       "      <td>0.260507</td>\n",
       "      <td>0.0</td>\n",
       "      <td>0.0</td>\n",
       "      <td>0.0</td>\n",
       "      <td>0.0</td>\n",
       "      <td>0.0</td>\n",
       "      <td>0.148509</td>\n",
       "      <td>0.233803</td>\n",
       "      <td>0.0</td>\n",
       "      <td>0.178852</td>\n",
       "      <td>0.013399</td>\n",
       "      <td>0.16493</td>\n",
       "    </tr>\n",
       "  </tbody>\n",
       "</table>\n",
       "</div>"
      ],
      "text/plain": [
       "   PEP  JNJ       XOM  SPOT  DIS  LULU   GE  FDX       JPM      MRNA  MSFT  \\\n",
       "w  0.0  0.0  0.260507   0.0  0.0   0.0  0.0  0.0  0.148509  0.233803   0.0   \n",
       "\n",
       "       UBER       MCD     HSBC  \n",
       "w  0.178852  0.013399  0.16493  "
      ]
     },
     "metadata": {},
     "output_type": "display_data"
    },
    {
     "data": {
      "text/markdown": [
       "### Simulación 10"
      ],
      "text/plain": [
       "<IPython.core.display.Markdown object>"
      ]
     },
     "metadata": {},
     "output_type": "display_data"
    },
    {
     "data": {
      "text/html": [
       "<div>\n",
       "<style scoped>\n",
       "    .dataframe tbody tr th:only-of-type {\n",
       "        vertical-align: middle;\n",
       "    }\n",
       "\n",
       "    .dataframe tbody tr th {\n",
       "        vertical-align: top;\n",
       "    }\n",
       "\n",
       "    .dataframe thead th {\n",
       "        text-align: right;\n",
       "    }\n",
       "</style>\n",
       "<table border=\"1\" class=\"dataframe\">\n",
       "  <thead>\n",
       "    <tr style=\"text-align: right;\">\n",
       "      <th></th>\n",
       "      <th>AZN</th>\n",
       "      <th>MA</th>\n",
       "      <th>JPM</th>\n",
       "      <th>MCD</th>\n",
       "      <th>BLK</th>\n",
       "      <th>CVX</th>\n",
       "      <th>K</th>\n",
       "      <th>HSY</th>\n",
       "      <th>TMUS</th>\n",
       "      <th>DPZ</th>\n",
       "      <th>PYPL</th>\n",
       "      <th>VZ</th>\n",
       "      <th>NKE</th>\n",
       "      <th>LULU</th>\n",
       "      <th>T</th>\n",
       "    </tr>\n",
       "  </thead>\n",
       "  <tbody>\n",
       "    <tr>\n",
       "      <th>w</th>\n",
       "      <td>0.0</td>\n",
       "      <td>0.103395</td>\n",
       "      <td>0.0</td>\n",
       "      <td>0.089417</td>\n",
       "      <td>0.0</td>\n",
       "      <td>0.074426</td>\n",
       "      <td>0.0876</td>\n",
       "      <td>0.0</td>\n",
       "      <td>0.0</td>\n",
       "      <td>0.0</td>\n",
       "      <td>0.0</td>\n",
       "      <td>0.0</td>\n",
       "      <td>0.0</td>\n",
       "      <td>0.645161</td>\n",
       "      <td>0.0</td>\n",
       "    </tr>\n",
       "  </tbody>\n",
       "</table>\n",
       "</div>"
      ],
      "text/plain": [
       "   AZN        MA  JPM       MCD  BLK       CVX       K  HSY  TMUS  DPZ  PYPL  \\\n",
       "w  0.0  0.103395  0.0  0.089417  0.0  0.074426  0.0876  0.0   0.0  0.0   0.0   \n",
       "\n",
       "    VZ  NKE      LULU    T  \n",
       "w  0.0  0.0  0.645161  0.0  "
      ]
     },
     "metadata": {},
     "output_type": "display_data"
    },
    {
     "data": {
      "text/markdown": [
       "### Simulación 11"
      ],
      "text/plain": [
       "<IPython.core.display.Markdown object>"
      ]
     },
     "metadata": {},
     "output_type": "display_data"
    },
    {
     "data": {
      "text/html": [
       "<div>\n",
       "<style scoped>\n",
       "    .dataframe tbody tr th:only-of-type {\n",
       "        vertical-align: middle;\n",
       "    }\n",
       "\n",
       "    .dataframe tbody tr th {\n",
       "        vertical-align: top;\n",
       "    }\n",
       "\n",
       "    .dataframe thead th {\n",
       "        text-align: right;\n",
       "    }\n",
       "</style>\n",
       "<table border=\"1\" class=\"dataframe\">\n",
       "  <thead>\n",
       "    <tr style=\"text-align: right;\">\n",
       "      <th></th>\n",
       "      <th>TMUS</th>\n",
       "      <th>PG</th>\n",
       "      <th>PFE</th>\n",
       "      <th>HD</th>\n",
       "      <th>XOM</th>\n",
       "      <th>JNJ</th>\n",
       "      <th>K</th>\n",
       "      <th>KO</th>\n",
       "      <th>VZ</th>\n",
       "    </tr>\n",
       "  </thead>\n",
       "  <tbody>\n",
       "    <tr>\n",
       "      <th>w</th>\n",
       "      <td>0.115229</td>\n",
       "      <td>0.0</td>\n",
       "      <td>0.067292</td>\n",
       "      <td>0.0</td>\n",
       "      <td>0.0</td>\n",
       "      <td>0.0</td>\n",
       "      <td>0.624409</td>\n",
       "      <td>0.0</td>\n",
       "      <td>0.19307</td>\n",
       "    </tr>\n",
       "  </tbody>\n",
       "</table>\n",
       "</div>"
      ],
      "text/plain": [
       "       TMUS   PG       PFE   HD  XOM  JNJ         K   KO       VZ\n",
       "w  0.115229  0.0  0.067292  0.0  0.0  0.0  0.624409  0.0  0.19307"
      ]
     },
     "metadata": {},
     "output_type": "display_data"
    },
    {
     "data": {
      "text/markdown": [
       "### Simulación 12"
      ],
      "text/plain": [
       "<IPython.core.display.Markdown object>"
      ]
     },
     "metadata": {},
     "output_type": "display_data"
    },
    {
     "data": {
      "text/html": [
       "<div>\n",
       "<style scoped>\n",
       "    .dataframe tbody tr th:only-of-type {\n",
       "        vertical-align: middle;\n",
       "    }\n",
       "\n",
       "    .dataframe tbody tr th {\n",
       "        vertical-align: top;\n",
       "    }\n",
       "\n",
       "    .dataframe thead th {\n",
       "        text-align: right;\n",
       "    }\n",
       "</style>\n",
       "<table border=\"1\" class=\"dataframe\">\n",
       "  <thead>\n",
       "    <tr style=\"text-align: right;\">\n",
       "      <th></th>\n",
       "      <th>AMZN</th>\n",
       "      <th>TSLA</th>\n",
       "      <th>BABA</th>\n",
       "      <th>NKE</th>\n",
       "      <th>GOOGL</th>\n",
       "      <th>PFE</th>\n",
       "      <th>F</th>\n",
       "      <th>SPOT</th>\n",
       "      <th>COST</th>\n",
       "      <th>BX</th>\n",
       "      <th>DIS</th>\n",
       "    </tr>\n",
       "  </thead>\n",
       "  <tbody>\n",
       "    <tr>\n",
       "      <th>w</th>\n",
       "      <td>0.0</td>\n",
       "      <td>0.0</td>\n",
       "      <td>0.100209</td>\n",
       "      <td>0.620835</td>\n",
       "      <td>0.0</td>\n",
       "      <td>0.0</td>\n",
       "      <td>0.0</td>\n",
       "      <td>0.0</td>\n",
       "      <td>0.0</td>\n",
       "      <td>0.044372</td>\n",
       "      <td>0.234583</td>\n",
       "    </tr>\n",
       "  </tbody>\n",
       "</table>\n",
       "</div>"
      ],
      "text/plain": [
       "   AMZN  TSLA      BABA       NKE  GOOGL  PFE    F  SPOT  COST        BX  \\\n",
       "w   0.0   0.0  0.100209  0.620835    0.0  0.0  0.0   0.0   0.0  0.044372   \n",
       "\n",
       "        DIS  \n",
       "w  0.234583  "
      ]
     },
     "metadata": {},
     "output_type": "display_data"
    },
    {
     "data": {
      "text/markdown": [
       "### Simulación 13"
      ],
      "text/plain": [
       "<IPython.core.display.Markdown object>"
      ]
     },
     "metadata": {},
     "output_type": "display_data"
    },
    {
     "data": {
      "text/html": [
       "<div>\n",
       "<style scoped>\n",
       "    .dataframe tbody tr th:only-of-type {\n",
       "        vertical-align: middle;\n",
       "    }\n",
       "\n",
       "    .dataframe tbody tr th {\n",
       "        vertical-align: top;\n",
       "    }\n",
       "\n",
       "    .dataframe thead th {\n",
       "        text-align: right;\n",
       "    }\n",
       "</style>\n",
       "<table border=\"1\" class=\"dataframe\">\n",
       "  <thead>\n",
       "    <tr style=\"text-align: right;\">\n",
       "      <th></th>\n",
       "      <th>NVDA</th>\n",
       "      <th>LULU</th>\n",
       "      <th>VZ</th>\n",
       "      <th>MRNA</th>\n",
       "      <th>XOM</th>\n",
       "      <th>AAPL</th>\n",
       "      <th>ADBE</th>\n",
       "      <th>NKE</th>\n",
       "      <th>T</th>\n",
       "      <th>PFE</th>\n",
       "      <th>BAC</th>\n",
       "      <th>V</th>\n",
       "      <th>UBER</th>\n",
       "    </tr>\n",
       "  </thead>\n",
       "  <tbody>\n",
       "    <tr>\n",
       "      <th>w</th>\n",
       "      <td>0.0</td>\n",
       "      <td>0.0</td>\n",
       "      <td>0.0</td>\n",
       "      <td>0.0</td>\n",
       "      <td>0.104055</td>\n",
       "      <td>0.0</td>\n",
       "      <td>0.669855</td>\n",
       "      <td>0.0</td>\n",
       "      <td>0.0</td>\n",
       "      <td>0.0</td>\n",
       "      <td>0.0</td>\n",
       "      <td>0.0</td>\n",
       "      <td>0.22609</td>\n",
       "    </tr>\n",
       "  </tbody>\n",
       "</table>\n",
       "</div>"
      ],
      "text/plain": [
       "   NVDA  LULU   VZ  MRNA       XOM  AAPL      ADBE  NKE    T  PFE  BAC    V  \\\n",
       "w   0.0   0.0  0.0   0.0  0.104055   0.0  0.669855  0.0  0.0  0.0  0.0  0.0   \n",
       "\n",
       "      UBER  \n",
       "w  0.22609  "
      ]
     },
     "metadata": {},
     "output_type": "display_data"
    },
    {
     "data": {
      "text/markdown": [
       "### Simulación 14"
      ],
      "text/plain": [
       "<IPython.core.display.Markdown object>"
      ]
     },
     "metadata": {},
     "output_type": "display_data"
    },
    {
     "data": {
      "text/html": [
       "<div>\n",
       "<style scoped>\n",
       "    .dataframe tbody tr th:only-of-type {\n",
       "        vertical-align: middle;\n",
       "    }\n",
       "\n",
       "    .dataframe tbody tr th {\n",
       "        vertical-align: top;\n",
       "    }\n",
       "\n",
       "    .dataframe thead th {\n",
       "        text-align: right;\n",
       "    }\n",
       "</style>\n",
       "<table border=\"1\" class=\"dataframe\">\n",
       "  <thead>\n",
       "    <tr style=\"text-align: right;\">\n",
       "      <th></th>\n",
       "      <th>PFE</th>\n",
       "      <th>WBD</th>\n",
       "      <th>PG</th>\n",
       "      <th>MA</th>\n",
       "      <th>DIS</th>\n",
       "      <th>HSBC</th>\n",
       "      <th>K</th>\n",
       "      <th>HD</th>\n",
       "      <th>AMZN</th>\n",
       "      <th>JNJ</th>\n",
       "      <th>CMG</th>\n",
       "    </tr>\n",
       "  </thead>\n",
       "  <tbody>\n",
       "    <tr>\n",
       "      <th>w</th>\n",
       "      <td>0.048001</td>\n",
       "      <td>0.505417</td>\n",
       "      <td>0.0</td>\n",
       "      <td>0.088507</td>\n",
       "      <td>0.046193</td>\n",
       "      <td>0.0</td>\n",
       "      <td>0.311882</td>\n",
       "      <td>0.0</td>\n",
       "      <td>0.0</td>\n",
       "      <td>0.0</td>\n",
       "      <td>0.0</td>\n",
       "    </tr>\n",
       "  </tbody>\n",
       "</table>\n",
       "</div>"
      ],
      "text/plain": [
       "        PFE       WBD   PG        MA       DIS  HSBC         K   HD  AMZN  \\\n",
       "w  0.048001  0.505417  0.0  0.088507  0.046193   0.0  0.311882  0.0   0.0   \n",
       "\n",
       "   JNJ  CMG  \n",
       "w  0.0  0.0  "
      ]
     },
     "metadata": {},
     "output_type": "display_data"
    },
    {
     "data": {
      "text/markdown": [
       "### Simulación 15"
      ],
      "text/plain": [
       "<IPython.core.display.Markdown object>"
      ]
     },
     "metadata": {},
     "output_type": "display_data"
    },
    {
     "data": {
      "text/html": [
       "<div>\n",
       "<style scoped>\n",
       "    .dataframe tbody tr th:only-of-type {\n",
       "        vertical-align: middle;\n",
       "    }\n",
       "\n",
       "    .dataframe tbody tr th {\n",
       "        vertical-align: top;\n",
       "    }\n",
       "\n",
       "    .dataframe thead th {\n",
       "        text-align: right;\n",
       "    }\n",
       "</style>\n",
       "<table border=\"1\" class=\"dataframe\">\n",
       "  <thead>\n",
       "    <tr style=\"text-align: right;\">\n",
       "      <th></th>\n",
       "      <th>WBD</th>\n",
       "      <th>META</th>\n",
       "      <th>FDX</th>\n",
       "      <th>GE</th>\n",
       "      <th>K</th>\n",
       "      <th>MA</th>\n",
       "      <th>NFLX</th>\n",
       "      <th>V</th>\n",
       "      <th>BAC</th>\n",
       "      <th>UBER</th>\n",
       "      <th>JPM</th>\n",
       "      <th>AXP</th>\n",
       "      <th>DIS</th>\n",
       "    </tr>\n",
       "  </thead>\n",
       "  <tbody>\n",
       "    <tr>\n",
       "      <th>w</th>\n",
       "      <td>0.06294</td>\n",
       "      <td>0.0</td>\n",
       "      <td>0.0</td>\n",
       "      <td>0.010649</td>\n",
       "      <td>0.290553</td>\n",
       "      <td>0.0</td>\n",
       "      <td>0.246723</td>\n",
       "      <td>0.0</td>\n",
       "      <td>0.109973</td>\n",
       "      <td>0.209076</td>\n",
       "      <td>0.070086</td>\n",
       "      <td>0.0</td>\n",
       "      <td>0.0</td>\n",
       "    </tr>\n",
       "  </tbody>\n",
       "</table>\n",
       "</div>"
      ],
      "text/plain": [
       "       WBD  META  FDX        GE         K   MA      NFLX    V       BAC  \\\n",
       "w  0.06294   0.0  0.0  0.010649  0.290553  0.0  0.246723  0.0  0.109973   \n",
       "\n",
       "       UBER       JPM  AXP  DIS  \n",
       "w  0.209076  0.070086  0.0  0.0  "
      ]
     },
     "metadata": {},
     "output_type": "display_data"
    },
    {
     "data": {
      "text/markdown": [
       "### Simulación 16"
      ],
      "text/plain": [
       "<IPython.core.display.Markdown object>"
      ]
     },
     "metadata": {},
     "output_type": "display_data"
    },
    {
     "data": {
      "text/html": [
       "<div>\n",
       "<style scoped>\n",
       "    .dataframe tbody tr th:only-of-type {\n",
       "        vertical-align: middle;\n",
       "    }\n",
       "\n",
       "    .dataframe tbody tr th {\n",
       "        vertical-align: top;\n",
       "    }\n",
       "\n",
       "    .dataframe thead th {\n",
       "        text-align: right;\n",
       "    }\n",
       "</style>\n",
       "<table border=\"1\" class=\"dataframe\">\n",
       "  <thead>\n",
       "    <tr style=\"text-align: right;\">\n",
       "      <th></th>\n",
       "      <th>XOM</th>\n",
       "      <th>AAPL</th>\n",
       "      <th>WBD</th>\n",
       "      <th>VZ</th>\n",
       "      <th>BLK</th>\n",
       "      <th>PEP</th>\n",
       "      <th>SBUX</th>\n",
       "      <th>CSCO</th>\n",
       "    </tr>\n",
       "  </thead>\n",
       "  <tbody>\n",
       "    <tr>\n",
       "      <th>w</th>\n",
       "      <td>0.663097</td>\n",
       "      <td>0.046817</td>\n",
       "      <td>0.0</td>\n",
       "      <td>0.0</td>\n",
       "      <td>0.0</td>\n",
       "      <td>0.0</td>\n",
       "      <td>0.0</td>\n",
       "      <td>0.290086</td>\n",
       "    </tr>\n",
       "  </tbody>\n",
       "</table>\n",
       "</div>"
      ],
      "text/plain": [
       "        XOM      AAPL  WBD   VZ  BLK  PEP  SBUX      CSCO\n",
       "w  0.663097  0.046817  0.0  0.0  0.0  0.0   0.0  0.290086"
      ]
     },
     "metadata": {},
     "output_type": "display_data"
    },
    {
     "data": {
      "text/markdown": [
       "### Simulación 17"
      ],
      "text/plain": [
       "<IPython.core.display.Markdown object>"
      ]
     },
     "metadata": {},
     "output_type": "display_data"
    },
    {
     "data": {
      "text/html": [
       "<div>\n",
       "<style scoped>\n",
       "    .dataframe tbody tr th:only-of-type {\n",
       "        vertical-align: middle;\n",
       "    }\n",
       "\n",
       "    .dataframe tbody tr th {\n",
       "        vertical-align: top;\n",
       "    }\n",
       "\n",
       "    .dataframe thead th {\n",
       "        text-align: right;\n",
       "    }\n",
       "</style>\n",
       "<table border=\"1\" class=\"dataframe\">\n",
       "  <thead>\n",
       "    <tr style=\"text-align: right;\">\n",
       "      <th></th>\n",
       "      <th>HSY</th>\n",
       "      <th>LULU</th>\n",
       "      <th>JNJ</th>\n",
       "      <th>GOOGL</th>\n",
       "      <th>FDX</th>\n",
       "      <th>NVDA</th>\n",
       "      <th>PG</th>\n",
       "      <th>HSBC</th>\n",
       "    </tr>\n",
       "  </thead>\n",
       "  <tbody>\n",
       "    <tr>\n",
       "      <th>w</th>\n",
       "      <td>0.0</td>\n",
       "      <td>0.0</td>\n",
       "      <td>0.0</td>\n",
       "      <td>0.0</td>\n",
       "      <td>0.0</td>\n",
       "      <td>0.0</td>\n",
       "      <td>0.936268</td>\n",
       "      <td>0.063732</td>\n",
       "    </tr>\n",
       "  </tbody>\n",
       "</table>\n",
       "</div>"
      ],
      "text/plain": [
       "   HSY  LULU  JNJ  GOOGL  FDX  NVDA        PG      HSBC\n",
       "w  0.0   0.0  0.0    0.0  0.0   0.0  0.936268  0.063732"
      ]
     },
     "metadata": {},
     "output_type": "display_data"
    },
    {
     "data": {
      "text/markdown": [
       "### Simulación 18"
      ],
      "text/plain": [
       "<IPython.core.display.Markdown object>"
      ]
     },
     "metadata": {},
     "output_type": "display_data"
    },
    {
     "data": {
      "text/html": [
       "<div>\n",
       "<style scoped>\n",
       "    .dataframe tbody tr th:only-of-type {\n",
       "        vertical-align: middle;\n",
       "    }\n",
       "\n",
       "    .dataframe tbody tr th {\n",
       "        vertical-align: top;\n",
       "    }\n",
       "\n",
       "    .dataframe thead th {\n",
       "        text-align: right;\n",
       "    }\n",
       "</style>\n",
       "<table border=\"1\" class=\"dataframe\">\n",
       "  <thead>\n",
       "    <tr style=\"text-align: right;\">\n",
       "      <th></th>\n",
       "      <th>AAPL</th>\n",
       "      <th>HP</th>\n",
       "      <th>PFE</th>\n",
       "      <th>HSBC</th>\n",
       "      <th>UBER</th>\n",
       "      <th>WMT</th>\n",
       "    </tr>\n",
       "  </thead>\n",
       "  <tbody>\n",
       "    <tr>\n",
       "      <th>w</th>\n",
       "      <td>0.324718</td>\n",
       "      <td>0.0</td>\n",
       "      <td>0.003682</td>\n",
       "      <td>0.0</td>\n",
       "      <td>0.123958</td>\n",
       "      <td>0.547641</td>\n",
       "    </tr>\n",
       "  </tbody>\n",
       "</table>\n",
       "</div>"
      ],
      "text/plain": [
       "       AAPL   HP       PFE  HSBC      UBER       WMT\n",
       "w  0.324718  0.0  0.003682   0.0  0.123958  0.547641"
      ]
     },
     "metadata": {},
     "output_type": "display_data"
    },
    {
     "data": {
      "text/markdown": [
       "### Simulación 19"
      ],
      "text/plain": [
       "<IPython.core.display.Markdown object>"
      ]
     },
     "metadata": {},
     "output_type": "display_data"
    },
    {
     "data": {
      "text/html": [
       "<div>\n",
       "<style scoped>\n",
       "    .dataframe tbody tr th:only-of-type {\n",
       "        vertical-align: middle;\n",
       "    }\n",
       "\n",
       "    .dataframe tbody tr th {\n",
       "        vertical-align: top;\n",
       "    }\n",
       "\n",
       "    .dataframe thead th {\n",
       "        text-align: right;\n",
       "    }\n",
       "</style>\n",
       "<table border=\"1\" class=\"dataframe\">\n",
       "  <thead>\n",
       "    <tr style=\"text-align: right;\">\n",
       "      <th></th>\n",
       "      <th>GE</th>\n",
       "      <th>GOOGL</th>\n",
       "      <th>MRNA</th>\n",
       "      <th>PFE</th>\n",
       "      <th>AAPL</th>\n",
       "      <th>MA</th>\n",
       "      <th>RL</th>\n",
       "    </tr>\n",
       "  </thead>\n",
       "  <tbody>\n",
       "    <tr>\n",
       "      <th>w</th>\n",
       "      <td>0.458985</td>\n",
       "      <td>0.349094</td>\n",
       "      <td>0.028751</td>\n",
       "      <td>0.0</td>\n",
       "      <td>0.16317</td>\n",
       "      <td>0.0</td>\n",
       "      <td>0.0</td>\n",
       "    </tr>\n",
       "  </tbody>\n",
       "</table>\n",
       "</div>"
      ],
      "text/plain": [
       "         GE     GOOGL      MRNA  PFE     AAPL   MA   RL\n",
       "w  0.458985  0.349094  0.028751  0.0  0.16317  0.0  0.0"
      ]
     },
     "metadata": {},
     "output_type": "display_data"
    },
    {
     "data": {
      "text/markdown": [
       "### Simulación 20"
      ],
      "text/plain": [
       "<IPython.core.display.Markdown object>"
      ]
     },
     "metadata": {},
     "output_type": "display_data"
    },
    {
     "data": {
      "text/html": [
       "<div>\n",
       "<style scoped>\n",
       "    .dataframe tbody tr th:only-of-type {\n",
       "        vertical-align: middle;\n",
       "    }\n",
       "\n",
       "    .dataframe tbody tr th {\n",
       "        vertical-align: top;\n",
       "    }\n",
       "\n",
       "    .dataframe thead th {\n",
       "        text-align: right;\n",
       "    }\n",
       "</style>\n",
       "<table border=\"1\" class=\"dataframe\">\n",
       "  <thead>\n",
       "    <tr style=\"text-align: right;\">\n",
       "      <th></th>\n",
       "      <th>PEP</th>\n",
       "      <th>SPOT</th>\n",
       "      <th>CP</th>\n",
       "      <th>BX</th>\n",
       "      <th>UBER</th>\n",
       "      <th>V</th>\n",
       "      <th>HSY</th>\n",
       "      <th>HP</th>\n",
       "    </tr>\n",
       "  </thead>\n",
       "  <tbody>\n",
       "    <tr>\n",
       "      <th>w</th>\n",
       "      <td>0.656977</td>\n",
       "      <td>0.0</td>\n",
       "      <td>0.0</td>\n",
       "      <td>0.0</td>\n",
       "      <td>0.0</td>\n",
       "      <td>0.287241</td>\n",
       "      <td>0.055782</td>\n",
       "      <td>0.0</td>\n",
       "    </tr>\n",
       "  </tbody>\n",
       "</table>\n",
       "</div>"
      ],
      "text/plain": [
       "        PEP  SPOT   CP   BX  UBER         V       HSY   HP\n",
       "w  0.656977   0.0  0.0  0.0   0.0  0.287241  0.055782  0.0"
      ]
     },
     "metadata": {},
     "output_type": "display_data"
    },
    {
     "data": {
      "text/markdown": [
       "### Simulación 21"
      ],
      "text/plain": [
       "<IPython.core.display.Markdown object>"
      ]
     },
     "metadata": {},
     "output_type": "display_data"
    },
    {
     "data": {
      "text/html": [
       "<div>\n",
       "<style scoped>\n",
       "    .dataframe tbody tr th:only-of-type {\n",
       "        vertical-align: middle;\n",
       "    }\n",
       "\n",
       "    .dataframe tbody tr th {\n",
       "        vertical-align: top;\n",
       "    }\n",
       "\n",
       "    .dataframe thead th {\n",
       "        text-align: right;\n",
       "    }\n",
       "</style>\n",
       "<table border=\"1\" class=\"dataframe\">\n",
       "  <thead>\n",
       "    <tr style=\"text-align: right;\">\n",
       "      <th></th>\n",
       "      <th>CP</th>\n",
       "      <th>UBER</th>\n",
       "      <th>CMG</th>\n",
       "      <th>MRNA</th>\n",
       "      <th>MCD</th>\n",
       "      <th>BLK</th>\n",
       "    </tr>\n",
       "  </thead>\n",
       "  <tbody>\n",
       "    <tr>\n",
       "      <th>w</th>\n",
       "      <td>0.190847</td>\n",
       "      <td>0.575096</td>\n",
       "      <td>0.0</td>\n",
       "      <td>0.0</td>\n",
       "      <td>0.183652</td>\n",
       "      <td>0.050406</td>\n",
       "    </tr>\n",
       "  </tbody>\n",
       "</table>\n",
       "</div>"
      ],
      "text/plain": [
       "         CP      UBER  CMG  MRNA       MCD       BLK\n",
       "w  0.190847  0.575096  0.0   0.0  0.183652  0.050406"
      ]
     },
     "metadata": {},
     "output_type": "display_data"
    },
    {
     "data": {
      "text/markdown": [
       "### Simulación 22"
      ],
      "text/plain": [
       "<IPython.core.display.Markdown object>"
      ]
     },
     "metadata": {},
     "output_type": "display_data"
    },
    {
     "data": {
      "text/html": [
       "<div>\n",
       "<style scoped>\n",
       "    .dataframe tbody tr th:only-of-type {\n",
       "        vertical-align: middle;\n",
       "    }\n",
       "\n",
       "    .dataframe tbody tr th {\n",
       "        vertical-align: top;\n",
       "    }\n",
       "\n",
       "    .dataframe thead th {\n",
       "        text-align: right;\n",
       "    }\n",
       "</style>\n",
       "<table border=\"1\" class=\"dataframe\">\n",
       "  <thead>\n",
       "    <tr style=\"text-align: right;\">\n",
       "      <th></th>\n",
       "      <th>HP</th>\n",
       "      <th>HD</th>\n",
       "      <th>MCD</th>\n",
       "      <th>PG</th>\n",
       "      <th>AXP</th>\n",
       "      <th>CVX</th>\n",
       "      <th>SPOT</th>\n",
       "      <th>NVDA</th>\n",
       "      <th>AZN</th>\n",
       "      <th>HSBC</th>\n",
       "      <th>GE</th>\n",
       "      <th>GLD</th>\n",
       "      <th>LULU</th>\n",
       "      <th>TMUS</th>\n",
       "      <th>UBER</th>\n",
       "    </tr>\n",
       "  </thead>\n",
       "  <tbody>\n",
       "    <tr>\n",
       "      <th>w</th>\n",
       "      <td>0.0</td>\n",
       "      <td>0.0</td>\n",
       "      <td>0.0</td>\n",
       "      <td>0.078062</td>\n",
       "      <td>0.370388</td>\n",
       "      <td>0.0</td>\n",
       "      <td>0.0</td>\n",
       "      <td>0.0</td>\n",
       "      <td>0.0</td>\n",
       "      <td>0.0</td>\n",
       "      <td>0.354117</td>\n",
       "      <td>0.0</td>\n",
       "      <td>0.0</td>\n",
       "      <td>0.197434</td>\n",
       "      <td>0.0</td>\n",
       "    </tr>\n",
       "  </tbody>\n",
       "</table>\n",
       "</div>"
      ],
      "text/plain": [
       "    HP   HD  MCD        PG       AXP  CVX  SPOT  NVDA  AZN  HSBC        GE  \\\n",
       "w  0.0  0.0  0.0  0.078062  0.370388  0.0   0.0   0.0  0.0   0.0  0.354117   \n",
       "\n",
       "   GLD  LULU      TMUS  UBER  \n",
       "w  0.0   0.0  0.197434   0.0  "
      ]
     },
     "metadata": {},
     "output_type": "display_data"
    },
    {
     "data": {
      "text/markdown": [
       "### Simulación 23"
      ],
      "text/plain": [
       "<IPython.core.display.Markdown object>"
      ]
     },
     "metadata": {},
     "output_type": "display_data"
    },
    {
     "data": {
      "text/html": [
       "<div>\n",
       "<style scoped>\n",
       "    .dataframe tbody tr th:only-of-type {\n",
       "        vertical-align: middle;\n",
       "    }\n",
       "\n",
       "    .dataframe tbody tr th {\n",
       "        vertical-align: top;\n",
       "    }\n",
       "\n",
       "    .dataframe thead th {\n",
       "        text-align: right;\n",
       "    }\n",
       "</style>\n",
       "<table border=\"1\" class=\"dataframe\">\n",
       "  <thead>\n",
       "    <tr style=\"text-align: right;\">\n",
       "      <th></th>\n",
       "      <th>CP</th>\n",
       "      <th>JNJ</th>\n",
       "      <th>T</th>\n",
       "      <th>TSLA</th>\n",
       "      <th>NFLX</th>\n",
       "      <th>UBER</th>\n",
       "      <th>DIS</th>\n",
       "      <th>WMT</th>\n",
       "      <th>F</th>\n",
       "    </tr>\n",
       "  </thead>\n",
       "  <tbody>\n",
       "    <tr>\n",
       "      <th>w</th>\n",
       "      <td>0.0</td>\n",
       "      <td>0.0</td>\n",
       "      <td>0.0</td>\n",
       "      <td>0.0</td>\n",
       "      <td>0.058478</td>\n",
       "      <td>0.0</td>\n",
       "      <td>0.308896</td>\n",
       "      <td>0.038459</td>\n",
       "      <td>0.594167</td>\n",
       "    </tr>\n",
       "  </tbody>\n",
       "</table>\n",
       "</div>"
      ],
      "text/plain": [
       "    CP  JNJ    T  TSLA      NFLX  UBER       DIS       WMT         F\n",
       "w  0.0  0.0  0.0   0.0  0.058478   0.0  0.308896  0.038459  0.594167"
      ]
     },
     "metadata": {},
     "output_type": "display_data"
    },
    {
     "data": {
      "text/markdown": [
       "### Simulación 24"
      ],
      "text/plain": [
       "<IPython.core.display.Markdown object>"
      ]
     },
     "metadata": {},
     "output_type": "display_data"
    },
    {
     "data": {
      "text/html": [
       "<div>\n",
       "<style scoped>\n",
       "    .dataframe tbody tr th:only-of-type {\n",
       "        vertical-align: middle;\n",
       "    }\n",
       "\n",
       "    .dataframe tbody tr th {\n",
       "        vertical-align: top;\n",
       "    }\n",
       "\n",
       "    .dataframe thead th {\n",
       "        text-align: right;\n",
       "    }\n",
       "</style>\n",
       "<table border=\"1\" class=\"dataframe\">\n",
       "  <thead>\n",
       "    <tr style=\"text-align: right;\">\n",
       "      <th></th>\n",
       "      <th>HP</th>\n",
       "      <th>WBD</th>\n",
       "      <th>XOM</th>\n",
       "      <th>CP</th>\n",
       "      <th>CSCO</th>\n",
       "      <th>MA</th>\n",
       "      <th>BX</th>\n",
       "      <th>NFLX</th>\n",
       "      <th>NKE</th>\n",
       "      <th>PG</th>\n",
       "      <th>COST</th>\n",
       "      <th>WMT</th>\n",
       "      <th>BLK</th>\n",
       "      <th>LULU</th>\n",
       "    </tr>\n",
       "  </thead>\n",
       "  <tbody>\n",
       "    <tr>\n",
       "      <th>w</th>\n",
       "      <td>0.0</td>\n",
       "      <td>0.145927</td>\n",
       "      <td>0.519633</td>\n",
       "      <td>0.0</td>\n",
       "      <td>0.0</td>\n",
       "      <td>0.0</td>\n",
       "      <td>0.0</td>\n",
       "      <td>0.0</td>\n",
       "      <td>0.067314</td>\n",
       "      <td>0.0</td>\n",
       "      <td>0.0</td>\n",
       "      <td>0.0</td>\n",
       "      <td>0.141429</td>\n",
       "      <td>0.125697</td>\n",
       "    </tr>\n",
       "  </tbody>\n",
       "</table>\n",
       "</div>"
      ],
      "text/plain": [
       "    HP       WBD       XOM   CP  CSCO   MA   BX  NFLX       NKE   PG  COST  \\\n",
       "w  0.0  0.145927  0.519633  0.0   0.0  0.0  0.0   0.0  0.067314  0.0   0.0   \n",
       "\n",
       "   WMT       BLK      LULU  \n",
       "w  0.0  0.141429  0.125697  "
      ]
     },
     "metadata": {},
     "output_type": "display_data"
    },
    {
     "data": {
      "text/markdown": [
       "### Simulación 25"
      ],
      "text/plain": [
       "<IPython.core.display.Markdown object>"
      ]
     },
     "metadata": {},
     "output_type": "display_data"
    },
    {
     "data": {
      "text/html": [
       "<div>\n",
       "<style scoped>\n",
       "    .dataframe tbody tr th:only-of-type {\n",
       "        vertical-align: middle;\n",
       "    }\n",
       "\n",
       "    .dataframe tbody tr th {\n",
       "        vertical-align: top;\n",
       "    }\n",
       "\n",
       "    .dataframe thead th {\n",
       "        text-align: right;\n",
       "    }\n",
       "</style>\n",
       "<table border=\"1\" class=\"dataframe\">\n",
       "  <thead>\n",
       "    <tr style=\"text-align: right;\">\n",
       "      <th></th>\n",
       "      <th>BABA</th>\n",
       "      <th>HSBC</th>\n",
       "      <th>UBER</th>\n",
       "      <th>WMT</th>\n",
       "      <th>PG</th>\n",
       "      <th>DPZ</th>\n",
       "      <th>DIS</th>\n",
       "    </tr>\n",
       "  </thead>\n",
       "  <tbody>\n",
       "    <tr>\n",
       "      <th>w</th>\n",
       "      <td>0.0</td>\n",
       "      <td>0.0</td>\n",
       "      <td>0.050676</td>\n",
       "      <td>0.06111</td>\n",
       "      <td>0.0</td>\n",
       "      <td>0.179762</td>\n",
       "      <td>0.708452</td>\n",
       "    </tr>\n",
       "  </tbody>\n",
       "</table>\n",
       "</div>"
      ],
      "text/plain": [
       "   BABA  HSBC      UBER      WMT   PG       DPZ       DIS\n",
       "w   0.0   0.0  0.050676  0.06111  0.0  0.179762  0.708452"
      ]
     },
     "metadata": {},
     "output_type": "display_data"
    },
    {
     "data": {
      "text/markdown": [
       "### Simulación 26"
      ],
      "text/plain": [
       "<IPython.core.display.Markdown object>"
      ]
     },
     "metadata": {},
     "output_type": "display_data"
    },
    {
     "data": {
      "text/html": [
       "<div>\n",
       "<style scoped>\n",
       "    .dataframe tbody tr th:only-of-type {\n",
       "        vertical-align: middle;\n",
       "    }\n",
       "\n",
       "    .dataframe tbody tr th {\n",
       "        vertical-align: top;\n",
       "    }\n",
       "\n",
       "    .dataframe thead th {\n",
       "        text-align: right;\n",
       "    }\n",
       "</style>\n",
       "<table border=\"1\" class=\"dataframe\">\n",
       "  <thead>\n",
       "    <tr style=\"text-align: right;\">\n",
       "      <th></th>\n",
       "      <th>ADBE</th>\n",
       "      <th>CSCO</th>\n",
       "      <th>HP</th>\n",
       "      <th>GLD</th>\n",
       "      <th>BAC</th>\n",
       "      <th>GOOGL</th>\n",
       "    </tr>\n",
       "  </thead>\n",
       "  <tbody>\n",
       "    <tr>\n",
       "      <th>w</th>\n",
       "      <td>0.0</td>\n",
       "      <td>0.05174</td>\n",
       "      <td>0.0</td>\n",
       "      <td>0.629639</td>\n",
       "      <td>0.318621</td>\n",
       "      <td>0.0</td>\n",
       "    </tr>\n",
       "  </tbody>\n",
       "</table>\n",
       "</div>"
      ],
      "text/plain": [
       "   ADBE     CSCO   HP       GLD       BAC  GOOGL\n",
       "w   0.0  0.05174  0.0  0.629639  0.318621    0.0"
      ]
     },
     "metadata": {},
     "output_type": "display_data"
    },
    {
     "data": {
      "text/markdown": [
       "### Simulación 27"
      ],
      "text/plain": [
       "<IPython.core.display.Markdown object>"
      ]
     },
     "metadata": {},
     "output_type": "display_data"
    },
    {
     "data": {
      "text/html": [
       "<div>\n",
       "<style scoped>\n",
       "    .dataframe tbody tr th:only-of-type {\n",
       "        vertical-align: middle;\n",
       "    }\n",
       "\n",
       "    .dataframe tbody tr th {\n",
       "        vertical-align: top;\n",
       "    }\n",
       "\n",
       "    .dataframe thead th {\n",
       "        text-align: right;\n",
       "    }\n",
       "</style>\n",
       "<table border=\"1\" class=\"dataframe\">\n",
       "  <thead>\n",
       "    <tr style=\"text-align: right;\">\n",
       "      <th></th>\n",
       "      <th>PFE</th>\n",
       "      <th>UBER</th>\n",
       "      <th>FDX</th>\n",
       "      <th>SBUX</th>\n",
       "      <th>SPOT</th>\n",
       "      <th>BAC</th>\n",
       "      <th>KO</th>\n",
       "      <th>MA</th>\n",
       "      <th>GOOGL</th>\n",
       "      <th>HP</th>\n",
       "      <th>JPM</th>\n",
       "      <th>TMUS</th>\n",
       "      <th>V</th>\n",
       "    </tr>\n",
       "  </thead>\n",
       "  <tbody>\n",
       "    <tr>\n",
       "      <th>w</th>\n",
       "      <td>0.0</td>\n",
       "      <td>0.055862</td>\n",
       "      <td>0.052514</td>\n",
       "      <td>0.0</td>\n",
       "      <td>0.040453</td>\n",
       "      <td>0.0</td>\n",
       "      <td>0.0</td>\n",
       "      <td>0.0</td>\n",
       "      <td>0.0</td>\n",
       "      <td>0.209479</td>\n",
       "      <td>0.608144</td>\n",
       "      <td>0.033548</td>\n",
       "      <td>0.0</td>\n",
       "    </tr>\n",
       "  </tbody>\n",
       "</table>\n",
       "</div>"
      ],
      "text/plain": [
       "   PFE      UBER       FDX  SBUX      SPOT  BAC   KO   MA  GOOGL        HP  \\\n",
       "w  0.0  0.055862  0.052514   0.0  0.040453  0.0  0.0  0.0    0.0  0.209479   \n",
       "\n",
       "        JPM      TMUS    V  \n",
       "w  0.608144  0.033548  0.0  "
      ]
     },
     "metadata": {},
     "output_type": "display_data"
    },
    {
     "data": {
      "text/markdown": [
       "### Simulación 28"
      ],
      "text/plain": [
       "<IPython.core.display.Markdown object>"
      ]
     },
     "metadata": {},
     "output_type": "display_data"
    },
    {
     "data": {
      "text/html": [
       "<div>\n",
       "<style scoped>\n",
       "    .dataframe tbody tr th:only-of-type {\n",
       "        vertical-align: middle;\n",
       "    }\n",
       "\n",
       "    .dataframe tbody tr th {\n",
       "        vertical-align: top;\n",
       "    }\n",
       "\n",
       "    .dataframe thead th {\n",
       "        text-align: right;\n",
       "    }\n",
       "</style>\n",
       "<table border=\"1\" class=\"dataframe\">\n",
       "  <thead>\n",
       "    <tr style=\"text-align: right;\">\n",
       "      <th></th>\n",
       "      <th>BLK</th>\n",
       "      <th>AAPL</th>\n",
       "      <th>V</th>\n",
       "      <th>UBER</th>\n",
       "      <th>T</th>\n",
       "      <th>HP</th>\n",
       "      <th>HSBC</th>\n",
       "      <th>F</th>\n",
       "      <th>WMT</th>\n",
       "      <th>GLD</th>\n",
       "      <th>AZN</th>\n",
       "      <th>LULU</th>\n",
       "      <th>FDX</th>\n",
       "      <th>CMG</th>\n",
       "      <th>SBUX</th>\n",
       "    </tr>\n",
       "  </thead>\n",
       "  <tbody>\n",
       "    <tr>\n",
       "      <th>w</th>\n",
       "      <td>0.120756</td>\n",
       "      <td>0.0</td>\n",
       "      <td>0.0</td>\n",
       "      <td>0.185501</td>\n",
       "      <td>0.0</td>\n",
       "      <td>0.016878</td>\n",
       "      <td>0.339383</td>\n",
       "      <td>0.0</td>\n",
       "      <td>0.0</td>\n",
       "      <td>0.0</td>\n",
       "      <td>0.0</td>\n",
       "      <td>0.0</td>\n",
       "      <td>0.026281</td>\n",
       "      <td>0.0</td>\n",
       "      <td>0.3112</td>\n",
       "    </tr>\n",
       "  </tbody>\n",
       "</table>\n",
       "</div>"
      ],
      "text/plain": [
       "        BLK  AAPL    V      UBER    T        HP      HSBC    F  WMT  GLD  AZN  \\\n",
       "w  0.120756   0.0  0.0  0.185501  0.0  0.016878  0.339383  0.0  0.0  0.0  0.0   \n",
       "\n",
       "   LULU       FDX  CMG    SBUX  \n",
       "w   0.0  0.026281  0.0  0.3112  "
      ]
     },
     "metadata": {},
     "output_type": "display_data"
    },
    {
     "data": {
      "text/markdown": [
       "### Simulación 29"
      ],
      "text/plain": [
       "<IPython.core.display.Markdown object>"
      ]
     },
     "metadata": {},
     "output_type": "display_data"
    },
    {
     "data": {
      "text/html": [
       "<div>\n",
       "<style scoped>\n",
       "    .dataframe tbody tr th:only-of-type {\n",
       "        vertical-align: middle;\n",
       "    }\n",
       "\n",
       "    .dataframe tbody tr th {\n",
       "        vertical-align: top;\n",
       "    }\n",
       "\n",
       "    .dataframe thead th {\n",
       "        text-align: right;\n",
       "    }\n",
       "</style>\n",
       "<table border=\"1\" class=\"dataframe\">\n",
       "  <thead>\n",
       "    <tr style=\"text-align: right;\">\n",
       "      <th></th>\n",
       "      <th>NKE</th>\n",
       "      <th>AMZN</th>\n",
       "      <th>TMUS</th>\n",
       "      <th>MRNA</th>\n",
       "      <th>HSBC</th>\n",
       "      <th>BLK</th>\n",
       "      <th>HP</th>\n",
       "      <th>COST</th>\n",
       "      <th>RL</th>\n",
       "      <th>BABA</th>\n",
       "      <th>HD</th>\n",
       "      <th>XOM</th>\n",
       "      <th>JNJ</th>\n",
       "      <th>GE</th>\n",
       "      <th>F</th>\n",
       "    </tr>\n",
       "  </thead>\n",
       "  <tbody>\n",
       "    <tr>\n",
       "      <th>w</th>\n",
       "      <td>0.0</td>\n",
       "      <td>0.0</td>\n",
       "      <td>0.0</td>\n",
       "      <td>0.49915</td>\n",
       "      <td>0.0</td>\n",
       "      <td>0.127989</td>\n",
       "      <td>0.0</td>\n",
       "      <td>0.0</td>\n",
       "      <td>0.0</td>\n",
       "      <td>0.0</td>\n",
       "      <td>0.088267</td>\n",
       "      <td>0.0</td>\n",
       "      <td>0.0</td>\n",
       "      <td>0.225163</td>\n",
       "      <td>0.059431</td>\n",
       "    </tr>\n",
       "  </tbody>\n",
       "</table>\n",
       "</div>"
      ],
      "text/plain": [
       "   NKE  AMZN  TMUS     MRNA  HSBC       BLK   HP  COST   RL  BABA        HD  \\\n",
       "w  0.0   0.0   0.0  0.49915   0.0  0.127989  0.0   0.0  0.0   0.0  0.088267   \n",
       "\n",
       "   XOM  JNJ        GE         F  \n",
       "w  0.0  0.0  0.225163  0.059431  "
      ]
     },
     "metadata": {},
     "output_type": "display_data"
    },
    {
     "data": {
      "text/markdown": [
       "### Simulación 30"
      ],
      "text/plain": [
       "<IPython.core.display.Markdown object>"
      ]
     },
     "metadata": {},
     "output_type": "display_data"
    },
    {
     "data": {
      "text/html": [
       "<div>\n",
       "<style scoped>\n",
       "    .dataframe tbody tr th:only-of-type {\n",
       "        vertical-align: middle;\n",
       "    }\n",
       "\n",
       "    .dataframe tbody tr th {\n",
       "        vertical-align: top;\n",
       "    }\n",
       "\n",
       "    .dataframe thead th {\n",
       "        text-align: right;\n",
       "    }\n",
       "</style>\n",
       "<table border=\"1\" class=\"dataframe\">\n",
       "  <thead>\n",
       "    <tr style=\"text-align: right;\">\n",
       "      <th></th>\n",
       "      <th>KO</th>\n",
       "      <th>MA</th>\n",
       "      <th>HSBC</th>\n",
       "      <th>BABA</th>\n",
       "      <th>BX</th>\n",
       "      <th>NKE</th>\n",
       "      <th>TMUS</th>\n",
       "      <th>HSY</th>\n",
       "      <th>VZ</th>\n",
       "    </tr>\n",
       "  </thead>\n",
       "  <tbody>\n",
       "    <tr>\n",
       "      <th>w</th>\n",
       "      <td>0.0</td>\n",
       "      <td>0.39852</td>\n",
       "      <td>0.0</td>\n",
       "      <td>0.0</td>\n",
       "      <td>0.0</td>\n",
       "      <td>0.0</td>\n",
       "      <td>0.0</td>\n",
       "      <td>0.60148</td>\n",
       "      <td>0.0</td>\n",
       "    </tr>\n",
       "  </tbody>\n",
       "</table>\n",
       "</div>"
      ],
      "text/plain": [
       "    KO       MA  HSBC  BABA   BX  NKE  TMUS      HSY   VZ\n",
       "w  0.0  0.39852   0.0   0.0  0.0  0.0   0.0  0.60148  0.0"
      ]
     },
     "metadata": {},
     "output_type": "display_data"
    },
    {
     "data": {
      "text/markdown": [
       "### Simulación 31"
      ],
      "text/plain": [
       "<IPython.core.display.Markdown object>"
      ]
     },
     "metadata": {},
     "output_type": "display_data"
    },
    {
     "data": {
      "text/html": [
       "<div>\n",
       "<style scoped>\n",
       "    .dataframe tbody tr th:only-of-type {\n",
       "        vertical-align: middle;\n",
       "    }\n",
       "\n",
       "    .dataframe tbody tr th {\n",
       "        vertical-align: top;\n",
       "    }\n",
       "\n",
       "    .dataframe thead th {\n",
       "        text-align: right;\n",
       "    }\n",
       "</style>\n",
       "<table border=\"1\" class=\"dataframe\">\n",
       "  <thead>\n",
       "    <tr style=\"text-align: right;\">\n",
       "      <th></th>\n",
       "      <th>XOM</th>\n",
       "      <th>V</th>\n",
       "      <th>KO</th>\n",
       "      <th>HD</th>\n",
       "      <th>META</th>\n",
       "    </tr>\n",
       "  </thead>\n",
       "  <tbody>\n",
       "    <tr>\n",
       "      <th>w</th>\n",
       "      <td>0.289636</td>\n",
       "      <td>0.0</td>\n",
       "      <td>0.332115</td>\n",
       "      <td>0.0</td>\n",
       "      <td>0.378249</td>\n",
       "    </tr>\n",
       "  </tbody>\n",
       "</table>\n",
       "</div>"
      ],
      "text/plain": [
       "        XOM    V        KO   HD      META\n",
       "w  0.289636  0.0  0.332115  0.0  0.378249"
      ]
     },
     "metadata": {},
     "output_type": "display_data"
    },
    {
     "data": {
      "text/markdown": [
       "### Simulación 32"
      ],
      "text/plain": [
       "<IPython.core.display.Markdown object>"
      ]
     },
     "metadata": {},
     "output_type": "display_data"
    },
    {
     "data": {
      "text/html": [
       "<div>\n",
       "<style scoped>\n",
       "    .dataframe tbody tr th:only-of-type {\n",
       "        vertical-align: middle;\n",
       "    }\n",
       "\n",
       "    .dataframe tbody tr th {\n",
       "        vertical-align: top;\n",
       "    }\n",
       "\n",
       "    .dataframe thead th {\n",
       "        text-align: right;\n",
       "    }\n",
       "</style>\n",
       "<table border=\"1\" class=\"dataframe\">\n",
       "  <thead>\n",
       "    <tr style=\"text-align: right;\">\n",
       "      <th></th>\n",
       "      <th>JNJ</th>\n",
       "      <th>BX</th>\n",
       "      <th>GLD</th>\n",
       "      <th>CVX</th>\n",
       "      <th>GOOGL</th>\n",
       "      <th>SPOT</th>\n",
       "      <th>HSY</th>\n",
       "      <th>F</th>\n",
       "      <th>HP</th>\n",
       "      <th>NVDA</th>\n",
       "      <th>NFLX</th>\n",
       "      <th>MSFT</th>\n",
       "      <th>VZ</th>\n",
       "    </tr>\n",
       "  </thead>\n",
       "  <tbody>\n",
       "    <tr>\n",
       "      <th>w</th>\n",
       "      <td>0.052956</td>\n",
       "      <td>0.0</td>\n",
       "      <td>0.0</td>\n",
       "      <td>0.461521</td>\n",
       "      <td>0.0</td>\n",
       "      <td>0.0</td>\n",
       "      <td>0.0</td>\n",
       "      <td>0.0</td>\n",
       "      <td>0.0</td>\n",
       "      <td>0.0</td>\n",
       "      <td>0.485523</td>\n",
       "      <td>0.0</td>\n",
       "      <td>0.0</td>\n",
       "    </tr>\n",
       "  </tbody>\n",
       "</table>\n",
       "</div>"
      ],
      "text/plain": [
       "        JNJ   BX  GLD       CVX  GOOGL  SPOT  HSY    F   HP  NVDA      NFLX  \\\n",
       "w  0.052956  0.0  0.0  0.461521    0.0   0.0  0.0  0.0  0.0   0.0  0.485523   \n",
       "\n",
       "   MSFT   VZ  \n",
       "w   0.0  0.0  "
      ]
     },
     "metadata": {},
     "output_type": "display_data"
    },
    {
     "data": {
      "text/markdown": [
       "### Simulación 33"
      ],
      "text/plain": [
       "<IPython.core.display.Markdown object>"
      ]
     },
     "metadata": {},
     "output_type": "display_data"
    },
    {
     "data": {
      "text/html": [
       "<div>\n",
       "<style scoped>\n",
       "    .dataframe tbody tr th:only-of-type {\n",
       "        vertical-align: middle;\n",
       "    }\n",
       "\n",
       "    .dataframe tbody tr th {\n",
       "        vertical-align: top;\n",
       "    }\n",
       "\n",
       "    .dataframe thead th {\n",
       "        text-align: right;\n",
       "    }\n",
       "</style>\n",
       "<table border=\"1\" class=\"dataframe\">\n",
       "  <thead>\n",
       "    <tr style=\"text-align: right;\">\n",
       "      <th></th>\n",
       "      <th>WMT</th>\n",
       "      <th>LULU</th>\n",
       "      <th>ADBE</th>\n",
       "      <th>DPZ</th>\n",
       "      <th>BAC</th>\n",
       "      <th>NVDA</th>\n",
       "      <th>UBER</th>\n",
       "      <th>CMG</th>\n",
       "      <th>VZ</th>\n",
       "      <th>BX</th>\n",
       "      <th>JNJ</th>\n",
       "      <th>PEP</th>\n",
       "      <th>CVX</th>\n",
       "      <th>AAPL</th>\n",
       "    </tr>\n",
       "  </thead>\n",
       "  <tbody>\n",
       "    <tr>\n",
       "      <th>w</th>\n",
       "      <td>0.0</td>\n",
       "      <td>0.0</td>\n",
       "      <td>0.0</td>\n",
       "      <td>0.024183</td>\n",
       "      <td>0.028422</td>\n",
       "      <td>0.0</td>\n",
       "      <td>0.0</td>\n",
       "      <td>0.0</td>\n",
       "      <td>0.0</td>\n",
       "      <td>0.531316</td>\n",
       "      <td>0.0</td>\n",
       "      <td>0.0</td>\n",
       "      <td>0.0</td>\n",
       "      <td>0.416078</td>\n",
       "    </tr>\n",
       "  </tbody>\n",
       "</table>\n",
       "</div>"
      ],
      "text/plain": [
       "   WMT  LULU  ADBE       DPZ       BAC  NVDA  UBER  CMG   VZ        BX  JNJ  \\\n",
       "w  0.0   0.0   0.0  0.024183  0.028422   0.0   0.0  0.0  0.0  0.531316  0.0   \n",
       "\n",
       "   PEP  CVX      AAPL  \n",
       "w  0.0  0.0  0.416078  "
      ]
     },
     "metadata": {},
     "output_type": "display_data"
    },
    {
     "data": {
      "text/markdown": [
       "### Simulación 34"
      ],
      "text/plain": [
       "<IPython.core.display.Markdown object>"
      ]
     },
     "metadata": {},
     "output_type": "display_data"
    },
    {
     "data": {
      "text/html": [
       "<div>\n",
       "<style scoped>\n",
       "    .dataframe tbody tr th:only-of-type {\n",
       "        vertical-align: middle;\n",
       "    }\n",
       "\n",
       "    .dataframe tbody tr th {\n",
       "        vertical-align: top;\n",
       "    }\n",
       "\n",
       "    .dataframe thead th {\n",
       "        text-align: right;\n",
       "    }\n",
       "</style>\n",
       "<table border=\"1\" class=\"dataframe\">\n",
       "  <thead>\n",
       "    <tr style=\"text-align: right;\">\n",
       "      <th></th>\n",
       "      <th>PG</th>\n",
       "      <th>GOOGL</th>\n",
       "      <th>MA</th>\n",
       "      <th>TMUS</th>\n",
       "      <th>LULU</th>\n",
       "    </tr>\n",
       "  </thead>\n",
       "  <tbody>\n",
       "    <tr>\n",
       "      <th>w</th>\n",
       "      <td>0.268232</td>\n",
       "      <td>0.0</td>\n",
       "      <td>0.0</td>\n",
       "      <td>0.0</td>\n",
       "      <td>0.731768</td>\n",
       "    </tr>\n",
       "  </tbody>\n",
       "</table>\n",
       "</div>"
      ],
      "text/plain": [
       "         PG  GOOGL   MA  TMUS      LULU\n",
       "w  0.268232    0.0  0.0   0.0  0.731768"
      ]
     },
     "metadata": {},
     "output_type": "display_data"
    },
    {
     "data": {
      "text/markdown": [
       "### Simulación 35"
      ],
      "text/plain": [
       "<IPython.core.display.Markdown object>"
      ]
     },
     "metadata": {},
     "output_type": "display_data"
    },
    {
     "data": {
      "text/html": [
       "<div>\n",
       "<style scoped>\n",
       "    .dataframe tbody tr th:only-of-type {\n",
       "        vertical-align: middle;\n",
       "    }\n",
       "\n",
       "    .dataframe tbody tr th {\n",
       "        vertical-align: top;\n",
       "    }\n",
       "\n",
       "    .dataframe thead th {\n",
       "        text-align: right;\n",
       "    }\n",
       "</style>\n",
       "<table border=\"1\" class=\"dataframe\">\n",
       "  <thead>\n",
       "    <tr style=\"text-align: right;\">\n",
       "      <th></th>\n",
       "      <th>HD</th>\n",
       "      <th>TMUS</th>\n",
       "      <th>TSLA</th>\n",
       "      <th>CSCO</th>\n",
       "      <th>GLD</th>\n",
       "      <th>PEP</th>\n",
       "      <th>WMT</th>\n",
       "      <th>KO</th>\n",
       "      <th>GE</th>\n",
       "      <th>XOM</th>\n",
       "      <th>BX</th>\n",
       "    </tr>\n",
       "  </thead>\n",
       "  <tbody>\n",
       "    <tr>\n",
       "      <th>w</th>\n",
       "      <td>0.038722</td>\n",
       "      <td>0.0</td>\n",
       "      <td>0.086375</td>\n",
       "      <td>0.321398</td>\n",
       "      <td>0.0</td>\n",
       "      <td>0.0</td>\n",
       "      <td>0.0</td>\n",
       "      <td>0.165217</td>\n",
       "      <td>0.149133</td>\n",
       "      <td>0.231069</td>\n",
       "      <td>0.008087</td>\n",
       "    </tr>\n",
       "  </tbody>\n",
       "</table>\n",
       "</div>"
      ],
      "text/plain": [
       "         HD  TMUS      TSLA      CSCO  GLD  PEP  WMT        KO        GE  \\\n",
       "w  0.038722   0.0  0.086375  0.321398  0.0  0.0  0.0  0.165217  0.149133   \n",
       "\n",
       "        XOM        BX  \n",
       "w  0.231069  0.008087  "
      ]
     },
     "metadata": {},
     "output_type": "display_data"
    },
    {
     "data": {
      "text/markdown": [
       "### Simulación 36"
      ],
      "text/plain": [
       "<IPython.core.display.Markdown object>"
      ]
     },
     "metadata": {},
     "output_type": "display_data"
    },
    {
     "data": {
      "text/html": [
       "<div>\n",
       "<style scoped>\n",
       "    .dataframe tbody tr th:only-of-type {\n",
       "        vertical-align: middle;\n",
       "    }\n",
       "\n",
       "    .dataframe tbody tr th {\n",
       "        vertical-align: top;\n",
       "    }\n",
       "\n",
       "    .dataframe thead th {\n",
       "        text-align: right;\n",
       "    }\n",
       "</style>\n",
       "<table border=\"1\" class=\"dataframe\">\n",
       "  <thead>\n",
       "    <tr style=\"text-align: right;\">\n",
       "      <th></th>\n",
       "      <th>PG</th>\n",
       "      <th>DPZ</th>\n",
       "      <th>AXP</th>\n",
       "      <th>WMT</th>\n",
       "      <th>NFLX</th>\n",
       "    </tr>\n",
       "  </thead>\n",
       "  <tbody>\n",
       "    <tr>\n",
       "      <th>w</th>\n",
       "      <td>0.220924</td>\n",
       "      <td>0.033733</td>\n",
       "      <td>0.187291</td>\n",
       "      <td>0.0</td>\n",
       "      <td>0.558052</td>\n",
       "    </tr>\n",
       "  </tbody>\n",
       "</table>\n",
       "</div>"
      ],
      "text/plain": [
       "         PG       DPZ       AXP  WMT      NFLX\n",
       "w  0.220924  0.033733  0.187291  0.0  0.558052"
      ]
     },
     "metadata": {},
     "output_type": "display_data"
    },
    {
     "data": {
      "text/markdown": [
       "### Simulación 37"
      ],
      "text/plain": [
       "<IPython.core.display.Markdown object>"
      ]
     },
     "metadata": {},
     "output_type": "display_data"
    },
    {
     "data": {
      "text/html": [
       "<div>\n",
       "<style scoped>\n",
       "    .dataframe tbody tr th:only-of-type {\n",
       "        vertical-align: middle;\n",
       "    }\n",
       "\n",
       "    .dataframe tbody tr th {\n",
       "        vertical-align: top;\n",
       "    }\n",
       "\n",
       "    .dataframe thead th {\n",
       "        text-align: right;\n",
       "    }\n",
       "</style>\n",
       "<table border=\"1\" class=\"dataframe\">\n",
       "  <thead>\n",
       "    <tr style=\"text-align: right;\">\n",
       "      <th></th>\n",
       "      <th>BAC</th>\n",
       "      <th>MCD</th>\n",
       "      <th>AXP</th>\n",
       "      <th>GE</th>\n",
       "      <th>LULU</th>\n",
       "      <th>CP</th>\n",
       "    </tr>\n",
       "  </thead>\n",
       "  <tbody>\n",
       "    <tr>\n",
       "      <th>w</th>\n",
       "      <td>0.333568</td>\n",
       "      <td>0.0</td>\n",
       "      <td>0.0</td>\n",
       "      <td>0.666432</td>\n",
       "      <td>0.0</td>\n",
       "      <td>0.0</td>\n",
       "    </tr>\n",
       "  </tbody>\n",
       "</table>\n",
       "</div>"
      ],
      "text/plain": [
       "        BAC  MCD  AXP        GE  LULU   CP\n",
       "w  0.333568  0.0  0.0  0.666432   0.0  0.0"
      ]
     },
     "metadata": {},
     "output_type": "display_data"
    },
    {
     "data": {
      "text/markdown": [
       "### Simulación 38"
      ],
      "text/plain": [
       "<IPython.core.display.Markdown object>"
      ]
     },
     "metadata": {},
     "output_type": "display_data"
    },
    {
     "data": {
      "text/html": [
       "<div>\n",
       "<style scoped>\n",
       "    .dataframe tbody tr th:only-of-type {\n",
       "        vertical-align: middle;\n",
       "    }\n",
       "\n",
       "    .dataframe tbody tr th {\n",
       "        vertical-align: top;\n",
       "    }\n",
       "\n",
       "    .dataframe thead th {\n",
       "        text-align: right;\n",
       "    }\n",
       "</style>\n",
       "<table border=\"1\" class=\"dataframe\">\n",
       "  <thead>\n",
       "    <tr style=\"text-align: right;\">\n",
       "      <th></th>\n",
       "      <th>BLK</th>\n",
       "      <th>CP</th>\n",
       "      <th>SPOT</th>\n",
       "      <th>NVDA</th>\n",
       "      <th>MA</th>\n",
       "      <th>HD</th>\n",
       "    </tr>\n",
       "  </thead>\n",
       "  <tbody>\n",
       "    <tr>\n",
       "      <th>w</th>\n",
       "      <td>0.0</td>\n",
       "      <td>0.0</td>\n",
       "      <td>0.0</td>\n",
       "      <td>0.0</td>\n",
       "      <td>1.0</td>\n",
       "      <td>0.0</td>\n",
       "    </tr>\n",
       "  </tbody>\n",
       "</table>\n",
       "</div>"
      ],
      "text/plain": [
       "   BLK   CP  SPOT  NVDA   MA   HD\n",
       "w  0.0  0.0   0.0   0.0  1.0  0.0"
      ]
     },
     "metadata": {},
     "output_type": "display_data"
    },
    {
     "data": {
      "text/markdown": [
       "### Simulación 39"
      ],
      "text/plain": [
       "<IPython.core.display.Markdown object>"
      ]
     },
     "metadata": {},
     "output_type": "display_data"
    },
    {
     "data": {
      "text/html": [
       "<div>\n",
       "<style scoped>\n",
       "    .dataframe tbody tr th:only-of-type {\n",
       "        vertical-align: middle;\n",
       "    }\n",
       "\n",
       "    .dataframe tbody tr th {\n",
       "        vertical-align: top;\n",
       "    }\n",
       "\n",
       "    .dataframe thead th {\n",
       "        text-align: right;\n",
       "    }\n",
       "</style>\n",
       "<table border=\"1\" class=\"dataframe\">\n",
       "  <thead>\n",
       "    <tr style=\"text-align: right;\">\n",
       "      <th></th>\n",
       "      <th>BX</th>\n",
       "      <th>JPM</th>\n",
       "      <th>HSBC</th>\n",
       "      <th>VZ</th>\n",
       "      <th>AMZN</th>\n",
       "      <th>DPZ</th>\n",
       "      <th>HD</th>\n",
       "      <th>PG</th>\n",
       "      <th>MA</th>\n",
       "      <th>LULU</th>\n",
       "      <th>AXP</th>\n",
       "    </tr>\n",
       "  </thead>\n",
       "  <tbody>\n",
       "    <tr>\n",
       "      <th>w</th>\n",
       "      <td>0.065008</td>\n",
       "      <td>0.121268</td>\n",
       "      <td>0.617443</td>\n",
       "      <td>0.106466</td>\n",
       "      <td>0.0</td>\n",
       "      <td>0.0</td>\n",
       "      <td>0.0</td>\n",
       "      <td>0.0</td>\n",
       "      <td>0.0</td>\n",
       "      <td>0.089815</td>\n",
       "      <td>0.0</td>\n",
       "    </tr>\n",
       "  </tbody>\n",
       "</table>\n",
       "</div>"
      ],
      "text/plain": [
       "         BX       JPM      HSBC        VZ  AMZN  DPZ   HD   PG   MA      LULU  \\\n",
       "w  0.065008  0.121268  0.617443  0.106466   0.0  0.0  0.0  0.0  0.0  0.089815   \n",
       "\n",
       "   AXP  \n",
       "w  0.0  "
      ]
     },
     "metadata": {},
     "output_type": "display_data"
    },
    {
     "data": {
      "text/markdown": [
       "### Simulación 40"
      ],
      "text/plain": [
       "<IPython.core.display.Markdown object>"
      ]
     },
     "metadata": {},
     "output_type": "display_data"
    },
    {
     "data": {
      "text/html": [
       "<div>\n",
       "<style scoped>\n",
       "    .dataframe tbody tr th:only-of-type {\n",
       "        vertical-align: middle;\n",
       "    }\n",
       "\n",
       "    .dataframe tbody tr th {\n",
       "        vertical-align: top;\n",
       "    }\n",
       "\n",
       "    .dataframe thead th {\n",
       "        text-align: right;\n",
       "    }\n",
       "</style>\n",
       "<table border=\"1\" class=\"dataframe\">\n",
       "  <thead>\n",
       "    <tr style=\"text-align: right;\">\n",
       "      <th></th>\n",
       "      <th>MA</th>\n",
       "      <th>GE</th>\n",
       "      <th>HSBC</th>\n",
       "      <th>LULU</th>\n",
       "      <th>TMUS</th>\n",
       "      <th>COST</th>\n",
       "      <th>NVDA</th>\n",
       "      <th>AXP</th>\n",
       "    </tr>\n",
       "  </thead>\n",
       "  <tbody>\n",
       "    <tr>\n",
       "      <th>w</th>\n",
       "      <td>0.0</td>\n",
       "      <td>0.305778</td>\n",
       "      <td>0.078879</td>\n",
       "      <td>0.0</td>\n",
       "      <td>0.0</td>\n",
       "      <td>0.0</td>\n",
       "      <td>0.419926</td>\n",
       "      <td>0.195417</td>\n",
       "    </tr>\n",
       "  </tbody>\n",
       "</table>\n",
       "</div>"
      ],
      "text/plain": [
       "    MA        GE      HSBC  LULU  TMUS  COST      NVDA       AXP\n",
       "w  0.0  0.305778  0.078879   0.0   0.0   0.0  0.419926  0.195417"
      ]
     },
     "metadata": {},
     "output_type": "display_data"
    },
    {
     "data": {
      "text/markdown": [
       "### Simulación 41"
      ],
      "text/plain": [
       "<IPython.core.display.Markdown object>"
      ]
     },
     "metadata": {},
     "output_type": "display_data"
    },
    {
     "data": {
      "text/html": [
       "<div>\n",
       "<style scoped>\n",
       "    .dataframe tbody tr th:only-of-type {\n",
       "        vertical-align: middle;\n",
       "    }\n",
       "\n",
       "    .dataframe tbody tr th {\n",
       "        vertical-align: top;\n",
       "    }\n",
       "\n",
       "    .dataframe thead th {\n",
       "        text-align: right;\n",
       "    }\n",
       "</style>\n",
       "<table border=\"1\" class=\"dataframe\">\n",
       "  <thead>\n",
       "    <tr style=\"text-align: right;\">\n",
       "      <th></th>\n",
       "      <th>BABA</th>\n",
       "      <th>SBUX</th>\n",
       "      <th>ADBE</th>\n",
       "      <th>HP</th>\n",
       "      <th>V</th>\n",
       "      <th>META</th>\n",
       "    </tr>\n",
       "  </thead>\n",
       "  <tbody>\n",
       "    <tr>\n",
       "      <th>w</th>\n",
       "      <td>0.0</td>\n",
       "      <td>0.0</td>\n",
       "      <td>0.110586</td>\n",
       "      <td>0.696665</td>\n",
       "      <td>0.0</td>\n",
       "      <td>0.192749</td>\n",
       "    </tr>\n",
       "  </tbody>\n",
       "</table>\n",
       "</div>"
      ],
      "text/plain": [
       "   BABA  SBUX      ADBE        HP    V      META\n",
       "w   0.0   0.0  0.110586  0.696665  0.0  0.192749"
      ]
     },
     "metadata": {},
     "output_type": "display_data"
    },
    {
     "data": {
      "text/markdown": [
       "### Simulación 42"
      ],
      "text/plain": [
       "<IPython.core.display.Markdown object>"
      ]
     },
     "metadata": {},
     "output_type": "display_data"
    },
    {
     "data": {
      "text/html": [
       "<div>\n",
       "<style scoped>\n",
       "    .dataframe tbody tr th:only-of-type {\n",
       "        vertical-align: middle;\n",
       "    }\n",
       "\n",
       "    .dataframe tbody tr th {\n",
       "        vertical-align: top;\n",
       "    }\n",
       "\n",
       "    .dataframe thead th {\n",
       "        text-align: right;\n",
       "    }\n",
       "</style>\n",
       "<table border=\"1\" class=\"dataframe\">\n",
       "  <thead>\n",
       "    <tr style=\"text-align: right;\">\n",
       "      <th></th>\n",
       "      <th>NKE</th>\n",
       "      <th>DIS</th>\n",
       "      <th>CP</th>\n",
       "      <th>GE</th>\n",
       "      <th>FDX</th>\n",
       "      <th>PG</th>\n",
       "    </tr>\n",
       "  </thead>\n",
       "  <tbody>\n",
       "    <tr>\n",
       "      <th>w</th>\n",
       "      <td>0.0</td>\n",
       "      <td>0.0</td>\n",
       "      <td>0.186271</td>\n",
       "      <td>0.530851</td>\n",
       "      <td>0.0</td>\n",
       "      <td>0.282878</td>\n",
       "    </tr>\n",
       "  </tbody>\n",
       "</table>\n",
       "</div>"
      ],
      "text/plain": [
       "   NKE  DIS        CP        GE  FDX        PG\n",
       "w  0.0  0.0  0.186271  0.530851  0.0  0.282878"
      ]
     },
     "metadata": {},
     "output_type": "display_data"
    },
    {
     "data": {
      "text/markdown": [
       "### Simulación 43"
      ],
      "text/plain": [
       "<IPython.core.display.Markdown object>"
      ]
     },
     "metadata": {},
     "output_type": "display_data"
    },
    {
     "data": {
      "text/html": [
       "<div>\n",
       "<style scoped>\n",
       "    .dataframe tbody tr th:only-of-type {\n",
       "        vertical-align: middle;\n",
       "    }\n",
       "\n",
       "    .dataframe tbody tr th {\n",
       "        vertical-align: top;\n",
       "    }\n",
       "\n",
       "    .dataframe thead th {\n",
       "        text-align: right;\n",
       "    }\n",
       "</style>\n",
       "<table border=\"1\" class=\"dataframe\">\n",
       "  <thead>\n",
       "    <tr style=\"text-align: right;\">\n",
       "      <th></th>\n",
       "      <th>PFE</th>\n",
       "      <th>META</th>\n",
       "      <th>GE</th>\n",
       "      <th>AAPL</th>\n",
       "      <th>MRNA</th>\n",
       "      <th>CP</th>\n",
       "      <th>XOM</th>\n",
       "    </tr>\n",
       "  </thead>\n",
       "  <tbody>\n",
       "    <tr>\n",
       "      <th>w</th>\n",
       "      <td>0.362016</td>\n",
       "      <td>0.0</td>\n",
       "      <td>0.260423</td>\n",
       "      <td>0.086892</td>\n",
       "      <td>0.152382</td>\n",
       "      <td>0.0</td>\n",
       "      <td>0.138287</td>\n",
       "    </tr>\n",
       "  </tbody>\n",
       "</table>\n",
       "</div>"
      ],
      "text/plain": [
       "        PFE  META        GE      AAPL      MRNA   CP       XOM\n",
       "w  0.362016   0.0  0.260423  0.086892  0.152382  0.0  0.138287"
      ]
     },
     "metadata": {},
     "output_type": "display_data"
    },
    {
     "data": {
      "text/markdown": [
       "### Simulación 44"
      ],
      "text/plain": [
       "<IPython.core.display.Markdown object>"
      ]
     },
     "metadata": {},
     "output_type": "display_data"
    },
    {
     "data": {
      "text/html": [
       "<div>\n",
       "<style scoped>\n",
       "    .dataframe tbody tr th:only-of-type {\n",
       "        vertical-align: middle;\n",
       "    }\n",
       "\n",
       "    .dataframe tbody tr th {\n",
       "        vertical-align: top;\n",
       "    }\n",
       "\n",
       "    .dataframe thead th {\n",
       "        text-align: right;\n",
       "    }\n",
       "</style>\n",
       "<table border=\"1\" class=\"dataframe\">\n",
       "  <thead>\n",
       "    <tr style=\"text-align: right;\">\n",
       "      <th></th>\n",
       "      <th>F</th>\n",
       "      <th>FDX</th>\n",
       "      <th>BABA</th>\n",
       "      <th>VZ</th>\n",
       "      <th>GLD</th>\n",
       "      <th>NVDA</th>\n",
       "      <th>KO</th>\n",
       "      <th>PFE</th>\n",
       "      <th>PYPL</th>\n",
       "      <th>NKE</th>\n",
       "      <th>META</th>\n",
       "      <th>WBD</th>\n",
       "      <th>TMUS</th>\n",
       "    </tr>\n",
       "  </thead>\n",
       "  <tbody>\n",
       "    <tr>\n",
       "      <th>w</th>\n",
       "      <td>0.0</td>\n",
       "      <td>0.0</td>\n",
       "      <td>0.0</td>\n",
       "      <td>0.378555</td>\n",
       "      <td>0.0</td>\n",
       "      <td>0.0</td>\n",
       "      <td>0.0</td>\n",
       "      <td>0.38793</td>\n",
       "      <td>0.0</td>\n",
       "      <td>0.0</td>\n",
       "      <td>0.233515</td>\n",
       "      <td>0.0</td>\n",
       "      <td>0.0</td>\n",
       "    </tr>\n",
       "  </tbody>\n",
       "</table>\n",
       "</div>"
      ],
      "text/plain": [
       "     F  FDX  BABA        VZ  GLD  NVDA   KO      PFE  PYPL  NKE      META  \\\n",
       "w  0.0  0.0   0.0  0.378555  0.0   0.0  0.0  0.38793   0.0  0.0  0.233515   \n",
       "\n",
       "   WBD  TMUS  \n",
       "w  0.0   0.0  "
      ]
     },
     "metadata": {},
     "output_type": "display_data"
    },
    {
     "data": {
      "text/markdown": [
       "### Simulación 45"
      ],
      "text/plain": [
       "<IPython.core.display.Markdown object>"
      ]
     },
     "metadata": {},
     "output_type": "display_data"
    },
    {
     "data": {
      "text/html": [
       "<div>\n",
       "<style scoped>\n",
       "    .dataframe tbody tr th:only-of-type {\n",
       "        vertical-align: middle;\n",
       "    }\n",
       "\n",
       "    .dataframe tbody tr th {\n",
       "        vertical-align: top;\n",
       "    }\n",
       "\n",
       "    .dataframe thead th {\n",
       "        text-align: right;\n",
       "    }\n",
       "</style>\n",
       "<table border=\"1\" class=\"dataframe\">\n",
       "  <thead>\n",
       "    <tr style=\"text-align: right;\">\n",
       "      <th></th>\n",
       "      <th>HP</th>\n",
       "      <th>HSY</th>\n",
       "      <th>MSFT</th>\n",
       "      <th>MRNA</th>\n",
       "      <th>NVDA</th>\n",
       "    </tr>\n",
       "  </thead>\n",
       "  <tbody>\n",
       "    <tr>\n",
       "      <th>w</th>\n",
       "      <td>0.0</td>\n",
       "      <td>0.0</td>\n",
       "      <td>0.125692</td>\n",
       "      <td>0.0</td>\n",
       "      <td>0.874308</td>\n",
       "    </tr>\n",
       "  </tbody>\n",
       "</table>\n",
       "</div>"
      ],
      "text/plain": [
       "    HP  HSY      MSFT  MRNA      NVDA\n",
       "w  0.0  0.0  0.125692   0.0  0.874308"
      ]
     },
     "metadata": {},
     "output_type": "display_data"
    },
    {
     "data": {
      "text/markdown": [
       "### Simulación 46"
      ],
      "text/plain": [
       "<IPython.core.display.Markdown object>"
      ]
     },
     "metadata": {},
     "output_type": "display_data"
    },
    {
     "data": {
      "text/html": [
       "<div>\n",
       "<style scoped>\n",
       "    .dataframe tbody tr th:only-of-type {\n",
       "        vertical-align: middle;\n",
       "    }\n",
       "\n",
       "    .dataframe tbody tr th {\n",
       "        vertical-align: top;\n",
       "    }\n",
       "\n",
       "    .dataframe thead th {\n",
       "        text-align: right;\n",
       "    }\n",
       "</style>\n",
       "<table border=\"1\" class=\"dataframe\">\n",
       "  <thead>\n",
       "    <tr style=\"text-align: right;\">\n",
       "      <th></th>\n",
       "      <th>COST</th>\n",
       "      <th>GLD</th>\n",
       "      <th>MSFT</th>\n",
       "      <th>GOOGL</th>\n",
       "      <th>AMZN</th>\n",
       "      <th>JNJ</th>\n",
       "      <th>T</th>\n",
       "      <th>KO</th>\n",
       "      <th>VZ</th>\n",
       "      <th>MRNA</th>\n",
       "    </tr>\n",
       "  </thead>\n",
       "  <tbody>\n",
       "    <tr>\n",
       "      <th>w</th>\n",
       "      <td>0.0</td>\n",
       "      <td>0.534931</td>\n",
       "      <td>0.364826</td>\n",
       "      <td>0.01594</td>\n",
       "      <td>0.0</td>\n",
       "      <td>0.0</td>\n",
       "      <td>0.075059</td>\n",
       "      <td>0.009244</td>\n",
       "      <td>0.0</td>\n",
       "      <td>0.0</td>\n",
       "    </tr>\n",
       "  </tbody>\n",
       "</table>\n",
       "</div>"
      ],
      "text/plain": [
       "   COST       GLD      MSFT    GOOGL  AMZN  JNJ         T        KO   VZ  MRNA\n",
       "w   0.0  0.534931  0.364826  0.01594   0.0  0.0  0.075059  0.009244  0.0   0.0"
      ]
     },
     "metadata": {},
     "output_type": "display_data"
    },
    {
     "data": {
      "text/markdown": [
       "### Simulación 47"
      ],
      "text/plain": [
       "<IPython.core.display.Markdown object>"
      ]
     },
     "metadata": {},
     "output_type": "display_data"
    },
    {
     "data": {
      "text/html": [
       "<div>\n",
       "<style scoped>\n",
       "    .dataframe tbody tr th:only-of-type {\n",
       "        vertical-align: middle;\n",
       "    }\n",
       "\n",
       "    .dataframe tbody tr th {\n",
       "        vertical-align: top;\n",
       "    }\n",
       "\n",
       "    .dataframe thead th {\n",
       "        text-align: right;\n",
       "    }\n",
       "</style>\n",
       "<table border=\"1\" class=\"dataframe\">\n",
       "  <thead>\n",
       "    <tr style=\"text-align: right;\">\n",
       "      <th></th>\n",
       "      <th>PFE</th>\n",
       "      <th>UBER</th>\n",
       "      <th>RL</th>\n",
       "      <th>AXP</th>\n",
       "      <th>GLD</th>\n",
       "      <th>TMUS</th>\n",
       "      <th>SPOT</th>\n",
       "      <th>HSY</th>\n",
       "      <th>GE</th>\n",
       "      <th>JNJ</th>\n",
       "      <th>GOOGL</th>\n",
       "      <th>WBD</th>\n",
       "      <th>WMT</th>\n",
       "      <th>XOM</th>\n",
       "    </tr>\n",
       "  </thead>\n",
       "  <tbody>\n",
       "    <tr>\n",
       "      <th>w</th>\n",
       "      <td>0.0</td>\n",
       "      <td>0.117975</td>\n",
       "      <td>0.326518</td>\n",
       "      <td>0.0</td>\n",
       "      <td>0.0</td>\n",
       "      <td>0.0</td>\n",
       "      <td>0.0</td>\n",
       "      <td>0.0</td>\n",
       "      <td>0.088539</td>\n",
       "      <td>0.212996</td>\n",
       "      <td>0.001313</td>\n",
       "      <td>0.0</td>\n",
       "      <td>0.23922</td>\n",
       "      <td>0.013439</td>\n",
       "    </tr>\n",
       "  </tbody>\n",
       "</table>\n",
       "</div>"
      ],
      "text/plain": [
       "   PFE      UBER        RL  AXP  GLD  TMUS  SPOT  HSY        GE       JNJ  \\\n",
       "w  0.0  0.117975  0.326518  0.0  0.0   0.0   0.0  0.0  0.088539  0.212996   \n",
       "\n",
       "      GOOGL  WBD      WMT       XOM  \n",
       "w  0.001313  0.0  0.23922  0.013439  "
      ]
     },
     "metadata": {},
     "output_type": "display_data"
    },
    {
     "data": {
      "text/markdown": [
       "### Simulación 48"
      ],
      "text/plain": [
       "<IPython.core.display.Markdown object>"
      ]
     },
     "metadata": {},
     "output_type": "display_data"
    },
    {
     "data": {
      "text/html": [
       "<div>\n",
       "<style scoped>\n",
       "    .dataframe tbody tr th:only-of-type {\n",
       "        vertical-align: middle;\n",
       "    }\n",
       "\n",
       "    .dataframe tbody tr th {\n",
       "        vertical-align: top;\n",
       "    }\n",
       "\n",
       "    .dataframe thead th {\n",
       "        text-align: right;\n",
       "    }\n",
       "</style>\n",
       "<table border=\"1\" class=\"dataframe\">\n",
       "  <thead>\n",
       "    <tr style=\"text-align: right;\">\n",
       "      <th></th>\n",
       "      <th>WBD</th>\n",
       "      <th>DPZ</th>\n",
       "      <th>PYPL</th>\n",
       "      <th>ADBE</th>\n",
       "      <th>CVX</th>\n",
       "      <th>K</th>\n",
       "    </tr>\n",
       "  </thead>\n",
       "  <tbody>\n",
       "    <tr>\n",
       "      <th>w</th>\n",
       "      <td>0.143679</td>\n",
       "      <td>0.254603</td>\n",
       "      <td>0.263036</td>\n",
       "      <td>0.338682</td>\n",
       "      <td>0.0</td>\n",
       "      <td>0.0</td>\n",
       "    </tr>\n",
       "  </tbody>\n",
       "</table>\n",
       "</div>"
      ],
      "text/plain": [
       "        WBD       DPZ      PYPL      ADBE  CVX    K\n",
       "w  0.143679  0.254603  0.263036  0.338682  0.0  0.0"
      ]
     },
     "metadata": {},
     "output_type": "display_data"
    },
    {
     "data": {
      "text/markdown": [
       "### Simulación 49"
      ],
      "text/plain": [
       "<IPython.core.display.Markdown object>"
      ]
     },
     "metadata": {},
     "output_type": "display_data"
    },
    {
     "data": {
      "text/html": [
       "<div>\n",
       "<style scoped>\n",
       "    .dataframe tbody tr th:only-of-type {\n",
       "        vertical-align: middle;\n",
       "    }\n",
       "\n",
       "    .dataframe tbody tr th {\n",
       "        vertical-align: top;\n",
       "    }\n",
       "\n",
       "    .dataframe thead th {\n",
       "        text-align: right;\n",
       "    }\n",
       "</style>\n",
       "<table border=\"1\" class=\"dataframe\">\n",
       "  <thead>\n",
       "    <tr style=\"text-align: right;\">\n",
       "      <th></th>\n",
       "      <th>MCD</th>\n",
       "      <th>XOM</th>\n",
       "      <th>CSCO</th>\n",
       "      <th>KO</th>\n",
       "      <th>JNJ</th>\n",
       "      <th>WBD</th>\n",
       "      <th>CP</th>\n",
       "      <th>NKE</th>\n",
       "      <th>CMG</th>\n",
       "    </tr>\n",
       "  </thead>\n",
       "  <tbody>\n",
       "    <tr>\n",
       "      <th>w</th>\n",
       "      <td>0.648391</td>\n",
       "      <td>0.0</td>\n",
       "      <td>0.0</td>\n",
       "      <td>0.0</td>\n",
       "      <td>0.0</td>\n",
       "      <td>0.0</td>\n",
       "      <td>0.0</td>\n",
       "      <td>0.0</td>\n",
       "      <td>0.351609</td>\n",
       "    </tr>\n",
       "  </tbody>\n",
       "</table>\n",
       "</div>"
      ],
      "text/plain": [
       "        MCD  XOM  CSCO   KO  JNJ  WBD   CP  NKE       CMG\n",
       "w  0.648391  0.0   0.0  0.0  0.0  0.0  0.0  0.0  0.351609"
      ]
     },
     "metadata": {},
     "output_type": "display_data"
    },
    {
     "data": {
      "text/markdown": [
       "### Simulación 50"
      ],
      "text/plain": [
       "<IPython.core.display.Markdown object>"
      ]
     },
     "metadata": {},
     "output_type": "display_data"
    },
    {
     "data": {
      "text/html": [
       "<div>\n",
       "<style scoped>\n",
       "    .dataframe tbody tr th:only-of-type {\n",
       "        vertical-align: middle;\n",
       "    }\n",
       "\n",
       "    .dataframe tbody tr th {\n",
       "        vertical-align: top;\n",
       "    }\n",
       "\n",
       "    .dataframe thead th {\n",
       "        text-align: right;\n",
       "    }\n",
       "</style>\n",
       "<table border=\"1\" class=\"dataframe\">\n",
       "  <thead>\n",
       "    <tr style=\"text-align: right;\">\n",
       "      <th></th>\n",
       "      <th>DPZ</th>\n",
       "      <th>ADBE</th>\n",
       "      <th>AAPL</th>\n",
       "      <th>COST</th>\n",
       "      <th>RL</th>\n",
       "      <th>CMG</th>\n",
       "      <th>PFE</th>\n",
       "      <th>CP</th>\n",
       "      <th>BABA</th>\n",
       "      <th>HP</th>\n",
       "      <th>UBER</th>\n",
       "      <th>MRNA</th>\n",
       "    </tr>\n",
       "  </thead>\n",
       "  <tbody>\n",
       "    <tr>\n",
       "      <th>w</th>\n",
       "      <td>0.012221</td>\n",
       "      <td>0.0</td>\n",
       "      <td>0.0</td>\n",
       "      <td>0.210135</td>\n",
       "      <td>0.632226</td>\n",
       "      <td>0.0</td>\n",
       "      <td>0.0</td>\n",
       "      <td>0.0</td>\n",
       "      <td>0.093808</td>\n",
       "      <td>0.0</td>\n",
       "      <td>0.022667</td>\n",
       "      <td>0.028943</td>\n",
       "    </tr>\n",
       "  </tbody>\n",
       "</table>\n",
       "</div>"
      ],
      "text/plain": [
       "        DPZ  ADBE  AAPL      COST        RL  CMG  PFE   CP      BABA   HP  \\\n",
       "w  0.012221   0.0   0.0  0.210135  0.632226  0.0  0.0  0.0  0.093808  0.0   \n",
       "\n",
       "       UBER      MRNA  \n",
       "w  0.022667  0.028943  "
      ]
     },
     "metadata": {},
     "output_type": "display_data"
    },
    {
     "data": {
      "text/markdown": [
       "### Simulación 51"
      ],
      "text/plain": [
       "<IPython.core.display.Markdown object>"
      ]
     },
     "metadata": {},
     "output_type": "display_data"
    },
    {
     "data": {
      "text/html": [
       "<div>\n",
       "<style scoped>\n",
       "    .dataframe tbody tr th:only-of-type {\n",
       "        vertical-align: middle;\n",
       "    }\n",
       "\n",
       "    .dataframe tbody tr th {\n",
       "        vertical-align: top;\n",
       "    }\n",
       "\n",
       "    .dataframe thead th {\n",
       "        text-align: right;\n",
       "    }\n",
       "</style>\n",
       "<table border=\"1\" class=\"dataframe\">\n",
       "  <thead>\n",
       "    <tr style=\"text-align: right;\">\n",
       "      <th></th>\n",
       "      <th>GE</th>\n",
       "      <th>XOM</th>\n",
       "      <th>UBER</th>\n",
       "      <th>PG</th>\n",
       "      <th>T</th>\n",
       "    </tr>\n",
       "  </thead>\n",
       "  <tbody>\n",
       "    <tr>\n",
       "      <th>w</th>\n",
       "      <td>0.368141</td>\n",
       "      <td>0.290865</td>\n",
       "      <td>0.0</td>\n",
       "      <td>0.174845</td>\n",
       "      <td>0.16615</td>\n",
       "    </tr>\n",
       "  </tbody>\n",
       "</table>\n",
       "</div>"
      ],
      "text/plain": [
       "         GE       XOM  UBER        PG        T\n",
       "w  0.368141  0.290865   0.0  0.174845  0.16615"
      ]
     },
     "metadata": {},
     "output_type": "display_data"
    },
    {
     "data": {
      "text/markdown": [
       "### Simulación 52"
      ],
      "text/plain": [
       "<IPython.core.display.Markdown object>"
      ]
     },
     "metadata": {},
     "output_type": "display_data"
    },
    {
     "data": {
      "text/html": [
       "<div>\n",
       "<style scoped>\n",
       "    .dataframe tbody tr th:only-of-type {\n",
       "        vertical-align: middle;\n",
       "    }\n",
       "\n",
       "    .dataframe tbody tr th {\n",
       "        vertical-align: top;\n",
       "    }\n",
       "\n",
       "    .dataframe thead th {\n",
       "        text-align: right;\n",
       "    }\n",
       "</style>\n",
       "<table border=\"1\" class=\"dataframe\">\n",
       "  <thead>\n",
       "    <tr style=\"text-align: right;\">\n",
       "      <th></th>\n",
       "      <th>CP</th>\n",
       "      <th>COST</th>\n",
       "      <th>AAPL</th>\n",
       "      <th>NFLX</th>\n",
       "      <th>TSLA</th>\n",
       "      <th>BAC</th>\n",
       "      <th>HSY</th>\n",
       "      <th>CMG</th>\n",
       "      <th>RL</th>\n",
       "      <th>KO</th>\n",
       "      <th>MSFT</th>\n",
       "      <th>GOOGL</th>\n",
       "      <th>K</th>\n",
       "      <th>NVDA</th>\n",
       "      <th>HP</th>\n",
       "    </tr>\n",
       "  </thead>\n",
       "  <tbody>\n",
       "    <tr>\n",
       "      <th>w</th>\n",
       "      <td>0.0</td>\n",
       "      <td>0.0</td>\n",
       "      <td>0.0</td>\n",
       "      <td>0.28368</td>\n",
       "      <td>0.0</td>\n",
       "      <td>0.0</td>\n",
       "      <td>0.0</td>\n",
       "      <td>0.0</td>\n",
       "      <td>0.179507</td>\n",
       "      <td>0.0</td>\n",
       "      <td>0.0</td>\n",
       "      <td>0.0</td>\n",
       "      <td>0.395669</td>\n",
       "      <td>0.0</td>\n",
       "      <td>0.141144</td>\n",
       "    </tr>\n",
       "  </tbody>\n",
       "</table>\n",
       "</div>"
      ],
      "text/plain": [
       "    CP  COST  AAPL     NFLX  TSLA  BAC  HSY  CMG        RL   KO  MSFT  GOOGL  \\\n",
       "w  0.0   0.0   0.0  0.28368   0.0  0.0  0.0  0.0  0.179507  0.0   0.0    0.0   \n",
       "\n",
       "          K  NVDA        HP  \n",
       "w  0.395669   0.0  0.141144  "
      ]
     },
     "metadata": {},
     "output_type": "display_data"
    },
    {
     "data": {
      "text/markdown": [
       "### Simulación 53"
      ],
      "text/plain": [
       "<IPython.core.display.Markdown object>"
      ]
     },
     "metadata": {},
     "output_type": "display_data"
    },
    {
     "data": {
      "text/html": [
       "<div>\n",
       "<style scoped>\n",
       "    .dataframe tbody tr th:only-of-type {\n",
       "        vertical-align: middle;\n",
       "    }\n",
       "\n",
       "    .dataframe tbody tr th {\n",
       "        vertical-align: top;\n",
       "    }\n",
       "\n",
       "    .dataframe thead th {\n",
       "        text-align: right;\n",
       "    }\n",
       "</style>\n",
       "<table border=\"1\" class=\"dataframe\">\n",
       "  <thead>\n",
       "    <tr style=\"text-align: right;\">\n",
       "      <th></th>\n",
       "      <th>CP</th>\n",
       "      <th>CSCO</th>\n",
       "      <th>LULU</th>\n",
       "      <th>MRNA</th>\n",
       "      <th>CMG</th>\n",
       "    </tr>\n",
       "  </thead>\n",
       "  <tbody>\n",
       "    <tr>\n",
       "      <th>w</th>\n",
       "      <td>0.777879</td>\n",
       "      <td>0.001285</td>\n",
       "      <td>0.0</td>\n",
       "      <td>0.0</td>\n",
       "      <td>0.220837</td>\n",
       "    </tr>\n",
       "  </tbody>\n",
       "</table>\n",
       "</div>"
      ],
      "text/plain": [
       "         CP      CSCO  LULU  MRNA       CMG\n",
       "w  0.777879  0.001285   0.0   0.0  0.220837"
      ]
     },
     "metadata": {},
     "output_type": "display_data"
    },
    {
     "data": {
      "text/markdown": [
       "### Simulación 54"
      ],
      "text/plain": [
       "<IPython.core.display.Markdown object>"
      ]
     },
     "metadata": {},
     "output_type": "display_data"
    },
    {
     "data": {
      "text/html": [
       "<div>\n",
       "<style scoped>\n",
       "    .dataframe tbody tr th:only-of-type {\n",
       "        vertical-align: middle;\n",
       "    }\n",
       "\n",
       "    .dataframe tbody tr th {\n",
       "        vertical-align: top;\n",
       "    }\n",
       "\n",
       "    .dataframe thead th {\n",
       "        text-align: right;\n",
       "    }\n",
       "</style>\n",
       "<table border=\"1\" class=\"dataframe\">\n",
       "  <thead>\n",
       "    <tr style=\"text-align: right;\">\n",
       "      <th></th>\n",
       "      <th>COST</th>\n",
       "      <th>GOOGL</th>\n",
       "      <th>CP</th>\n",
       "      <th>RL</th>\n",
       "      <th>PYPL</th>\n",
       "      <th>WBD</th>\n",
       "    </tr>\n",
       "  </thead>\n",
       "  <tbody>\n",
       "    <tr>\n",
       "      <th>w</th>\n",
       "      <td>0.870139</td>\n",
       "      <td>0.0</td>\n",
       "      <td>0.055688</td>\n",
       "      <td>0.0</td>\n",
       "      <td>0.074173</td>\n",
       "      <td>0.0</td>\n",
       "    </tr>\n",
       "  </tbody>\n",
       "</table>\n",
       "</div>"
      ],
      "text/plain": [
       "       COST  GOOGL        CP   RL      PYPL  WBD\n",
       "w  0.870139    0.0  0.055688  0.0  0.074173  0.0"
      ]
     },
     "metadata": {},
     "output_type": "display_data"
    },
    {
     "data": {
      "text/markdown": [
       "### Simulación 55"
      ],
      "text/plain": [
       "<IPython.core.display.Markdown object>"
      ]
     },
     "metadata": {},
     "output_type": "display_data"
    },
    {
     "data": {
      "text/html": [
       "<div>\n",
       "<style scoped>\n",
       "    .dataframe tbody tr th:only-of-type {\n",
       "        vertical-align: middle;\n",
       "    }\n",
       "\n",
       "    .dataframe tbody tr th {\n",
       "        vertical-align: top;\n",
       "    }\n",
       "\n",
       "    .dataframe thead th {\n",
       "        text-align: right;\n",
       "    }\n",
       "</style>\n",
       "<table border=\"1\" class=\"dataframe\">\n",
       "  <thead>\n",
       "    <tr style=\"text-align: right;\">\n",
       "      <th></th>\n",
       "      <th>SPOT</th>\n",
       "      <th>COST</th>\n",
       "      <th>BABA</th>\n",
       "      <th>MRNA</th>\n",
       "      <th>MSFT</th>\n",
       "      <th>V</th>\n",
       "    </tr>\n",
       "  </thead>\n",
       "  <tbody>\n",
       "    <tr>\n",
       "      <th>w</th>\n",
       "      <td>0.0</td>\n",
       "      <td>0.767095</td>\n",
       "      <td>0.099604</td>\n",
       "      <td>0.0</td>\n",
       "      <td>0.133301</td>\n",
       "      <td>0.0</td>\n",
       "    </tr>\n",
       "  </tbody>\n",
       "</table>\n",
       "</div>"
      ],
      "text/plain": [
       "   SPOT      COST      BABA  MRNA      MSFT    V\n",
       "w   0.0  0.767095  0.099604   0.0  0.133301  0.0"
      ]
     },
     "metadata": {},
     "output_type": "display_data"
    },
    {
     "data": {
      "text/markdown": [
       "### Simulación 56"
      ],
      "text/plain": [
       "<IPython.core.display.Markdown object>"
      ]
     },
     "metadata": {},
     "output_type": "display_data"
    },
    {
     "data": {
      "text/html": [
       "<div>\n",
       "<style scoped>\n",
       "    .dataframe tbody tr th:only-of-type {\n",
       "        vertical-align: middle;\n",
       "    }\n",
       "\n",
       "    .dataframe tbody tr th {\n",
       "        vertical-align: top;\n",
       "    }\n",
       "\n",
       "    .dataframe thead th {\n",
       "        text-align: right;\n",
       "    }\n",
       "</style>\n",
       "<table border=\"1\" class=\"dataframe\">\n",
       "  <thead>\n",
       "    <tr style=\"text-align: right;\">\n",
       "      <th></th>\n",
       "      <th>HSBC</th>\n",
       "      <th>DIS</th>\n",
       "      <th>WMT</th>\n",
       "      <th>AMZN</th>\n",
       "      <th>LULU</th>\n",
       "      <th>F</th>\n",
       "    </tr>\n",
       "  </thead>\n",
       "  <tbody>\n",
       "    <tr>\n",
       "      <th>w</th>\n",
       "      <td>0.168609</td>\n",
       "      <td>0.0</td>\n",
       "      <td>0.04127</td>\n",
       "      <td>0.09794</td>\n",
       "      <td>0.0</td>\n",
       "      <td>0.692181</td>\n",
       "    </tr>\n",
       "  </tbody>\n",
       "</table>\n",
       "</div>"
      ],
      "text/plain": [
       "       HSBC  DIS      WMT     AMZN  LULU         F\n",
       "w  0.168609  0.0  0.04127  0.09794   0.0  0.692181"
      ]
     },
     "metadata": {},
     "output_type": "display_data"
    },
    {
     "data": {
      "text/markdown": [
       "### Simulación 57"
      ],
      "text/plain": [
       "<IPython.core.display.Markdown object>"
      ]
     },
     "metadata": {},
     "output_type": "display_data"
    },
    {
     "data": {
      "text/html": [
       "<div>\n",
       "<style scoped>\n",
       "    .dataframe tbody tr th:only-of-type {\n",
       "        vertical-align: middle;\n",
       "    }\n",
       "\n",
       "    .dataframe tbody tr th {\n",
       "        vertical-align: top;\n",
       "    }\n",
       "\n",
       "    .dataframe thead th {\n",
       "        text-align: right;\n",
       "    }\n",
       "</style>\n",
       "<table border=\"1\" class=\"dataframe\">\n",
       "  <thead>\n",
       "    <tr style=\"text-align: right;\">\n",
       "      <th></th>\n",
       "      <th>GE</th>\n",
       "      <th>MCD</th>\n",
       "      <th>BLK</th>\n",
       "      <th>ADBE</th>\n",
       "      <th>DIS</th>\n",
       "    </tr>\n",
       "  </thead>\n",
       "  <tbody>\n",
       "    <tr>\n",
       "      <th>w</th>\n",
       "      <td>0.02228</td>\n",
       "      <td>0.371775</td>\n",
       "      <td>0.0</td>\n",
       "      <td>0.605945</td>\n",
       "      <td>0.0</td>\n",
       "    </tr>\n",
       "  </tbody>\n",
       "</table>\n",
       "</div>"
      ],
      "text/plain": [
       "        GE       MCD  BLK      ADBE  DIS\n",
       "w  0.02228  0.371775  0.0  0.605945  0.0"
      ]
     },
     "metadata": {},
     "output_type": "display_data"
    },
    {
     "data": {
      "text/markdown": [
       "### Simulación 58"
      ],
      "text/plain": [
       "<IPython.core.display.Markdown object>"
      ]
     },
     "metadata": {},
     "output_type": "display_data"
    },
    {
     "data": {
      "text/html": [
       "<div>\n",
       "<style scoped>\n",
       "    .dataframe tbody tr th:only-of-type {\n",
       "        vertical-align: middle;\n",
       "    }\n",
       "\n",
       "    .dataframe tbody tr th {\n",
       "        vertical-align: top;\n",
       "    }\n",
       "\n",
       "    .dataframe thead th {\n",
       "        text-align: right;\n",
       "    }\n",
       "</style>\n",
       "<table border=\"1\" class=\"dataframe\">\n",
       "  <thead>\n",
       "    <tr style=\"text-align: right;\">\n",
       "      <th></th>\n",
       "      <th>JNJ</th>\n",
       "      <th>AXP</th>\n",
       "      <th>DIS</th>\n",
       "      <th>XOM</th>\n",
       "      <th>WMT</th>\n",
       "      <th>CP</th>\n",
       "      <th>ADBE</th>\n",
       "      <th>JPM</th>\n",
       "      <th>SPOT</th>\n",
       "      <th>CSCO</th>\n",
       "      <th>GLD</th>\n",
       "      <th>HD</th>\n",
       "    </tr>\n",
       "  </thead>\n",
       "  <tbody>\n",
       "    <tr>\n",
       "      <th>w</th>\n",
       "      <td>0.0</td>\n",
       "      <td>0.086251</td>\n",
       "      <td>0.0</td>\n",
       "      <td>0.0</td>\n",
       "      <td>0.0</td>\n",
       "      <td>0.360081</td>\n",
       "      <td>0.0</td>\n",
       "      <td>0.0</td>\n",
       "      <td>0.0</td>\n",
       "      <td>0.127519</td>\n",
       "      <td>0.342887</td>\n",
       "      <td>0.083262</td>\n",
       "    </tr>\n",
       "  </tbody>\n",
       "</table>\n",
       "</div>"
      ],
      "text/plain": [
       "   JNJ       AXP  DIS  XOM  WMT        CP  ADBE  JPM  SPOT      CSCO  \\\n",
       "w  0.0  0.086251  0.0  0.0  0.0  0.360081   0.0  0.0   0.0  0.127519   \n",
       "\n",
       "        GLD        HD  \n",
       "w  0.342887  0.083262  "
      ]
     },
     "metadata": {},
     "output_type": "display_data"
    },
    {
     "data": {
      "text/markdown": [
       "### Simulación 59"
      ],
      "text/plain": [
       "<IPython.core.display.Markdown object>"
      ]
     },
     "metadata": {},
     "output_type": "display_data"
    },
    {
     "data": {
      "text/html": [
       "<div>\n",
       "<style scoped>\n",
       "    .dataframe tbody tr th:only-of-type {\n",
       "        vertical-align: middle;\n",
       "    }\n",
       "\n",
       "    .dataframe tbody tr th {\n",
       "        vertical-align: top;\n",
       "    }\n",
       "\n",
       "    .dataframe thead th {\n",
       "        text-align: right;\n",
       "    }\n",
       "</style>\n",
       "<table border=\"1\" class=\"dataframe\">\n",
       "  <thead>\n",
       "    <tr style=\"text-align: right;\">\n",
       "      <th></th>\n",
       "      <th>HSY</th>\n",
       "      <th>NFLX</th>\n",
       "      <th>DIS</th>\n",
       "      <th>F</th>\n",
       "      <th>BLK</th>\n",
       "      <th>GLD</th>\n",
       "    </tr>\n",
       "  </thead>\n",
       "  <tbody>\n",
       "    <tr>\n",
       "      <th>w</th>\n",
       "      <td>0.230884</td>\n",
       "      <td>0.0</td>\n",
       "      <td>0.009497</td>\n",
       "      <td>0.574243</td>\n",
       "      <td>0.0</td>\n",
       "      <td>0.185375</td>\n",
       "    </tr>\n",
       "  </tbody>\n",
       "</table>\n",
       "</div>"
      ],
      "text/plain": [
       "        HSY  NFLX       DIS         F  BLK       GLD\n",
       "w  0.230884   0.0  0.009497  0.574243  0.0  0.185375"
      ]
     },
     "metadata": {},
     "output_type": "display_data"
    },
    {
     "data": {
      "text/markdown": [
       "### Simulación 60"
      ],
      "text/plain": [
       "<IPython.core.display.Markdown object>"
      ]
     },
     "metadata": {},
     "output_type": "display_data"
    },
    {
     "data": {
      "text/html": [
       "<div>\n",
       "<style scoped>\n",
       "    .dataframe tbody tr th:only-of-type {\n",
       "        vertical-align: middle;\n",
       "    }\n",
       "\n",
       "    .dataframe tbody tr th {\n",
       "        vertical-align: top;\n",
       "    }\n",
       "\n",
       "    .dataframe thead th {\n",
       "        text-align: right;\n",
       "    }\n",
       "</style>\n",
       "<table border=\"1\" class=\"dataframe\">\n",
       "  <thead>\n",
       "    <tr style=\"text-align: right;\">\n",
       "      <th></th>\n",
       "      <th>XOM</th>\n",
       "      <th>AAPL</th>\n",
       "      <th>FDX</th>\n",
       "      <th>CVX</th>\n",
       "      <th>BX</th>\n",
       "      <th>META</th>\n",
       "      <th>SBUX</th>\n",
       "    </tr>\n",
       "  </thead>\n",
       "  <tbody>\n",
       "    <tr>\n",
       "      <th>w</th>\n",
       "      <td>0.366429</td>\n",
       "      <td>0.367481</td>\n",
       "      <td>0.0</td>\n",
       "      <td>0.0</td>\n",
       "      <td>0.07454</td>\n",
       "      <td>0.0</td>\n",
       "      <td>0.19155</td>\n",
       "    </tr>\n",
       "  </tbody>\n",
       "</table>\n",
       "</div>"
      ],
      "text/plain": [
       "        XOM      AAPL  FDX  CVX       BX  META     SBUX\n",
       "w  0.366429  0.367481  0.0  0.0  0.07454   0.0  0.19155"
      ]
     },
     "metadata": {},
     "output_type": "display_data"
    },
    {
     "data": {
      "text/markdown": [
       "### Simulación 61"
      ],
      "text/plain": [
       "<IPython.core.display.Markdown object>"
      ]
     },
     "metadata": {},
     "output_type": "display_data"
    },
    {
     "data": {
      "text/html": [
       "<div>\n",
       "<style scoped>\n",
       "    .dataframe tbody tr th:only-of-type {\n",
       "        vertical-align: middle;\n",
       "    }\n",
       "\n",
       "    .dataframe tbody tr th {\n",
       "        vertical-align: top;\n",
       "    }\n",
       "\n",
       "    .dataframe thead th {\n",
       "        text-align: right;\n",
       "    }\n",
       "</style>\n",
       "<table border=\"1\" class=\"dataframe\">\n",
       "  <thead>\n",
       "    <tr style=\"text-align: right;\">\n",
       "      <th></th>\n",
       "      <th>ADBE</th>\n",
       "      <th>PFE</th>\n",
       "      <th>DIS</th>\n",
       "      <th>V</th>\n",
       "      <th>COST</th>\n",
       "      <th>CP</th>\n",
       "      <th>SPOT</th>\n",
       "      <th>F</th>\n",
       "    </tr>\n",
       "  </thead>\n",
       "  <tbody>\n",
       "    <tr>\n",
       "      <th>w</th>\n",
       "      <td>0.0</td>\n",
       "      <td>0.838512</td>\n",
       "      <td>0.0</td>\n",
       "      <td>0.0</td>\n",
       "      <td>0.0</td>\n",
       "      <td>0.0</td>\n",
       "      <td>0.161488</td>\n",
       "      <td>0.0</td>\n",
       "    </tr>\n",
       "  </tbody>\n",
       "</table>\n",
       "</div>"
      ],
      "text/plain": [
       "   ADBE       PFE  DIS    V  COST   CP      SPOT    F\n",
       "w   0.0  0.838512  0.0  0.0   0.0  0.0  0.161488  0.0"
      ]
     },
     "metadata": {},
     "output_type": "display_data"
    },
    {
     "data": {
      "text/markdown": [
       "### Simulación 62"
      ],
      "text/plain": [
       "<IPython.core.display.Markdown object>"
      ]
     },
     "metadata": {},
     "output_type": "display_data"
    },
    {
     "data": {
      "text/html": [
       "<div>\n",
       "<style scoped>\n",
       "    .dataframe tbody tr th:only-of-type {\n",
       "        vertical-align: middle;\n",
       "    }\n",
       "\n",
       "    .dataframe tbody tr th {\n",
       "        vertical-align: top;\n",
       "    }\n",
       "\n",
       "    .dataframe thead th {\n",
       "        text-align: right;\n",
       "    }\n",
       "</style>\n",
       "<table border=\"1\" class=\"dataframe\">\n",
       "  <thead>\n",
       "    <tr style=\"text-align: right;\">\n",
       "      <th></th>\n",
       "      <th>JNJ</th>\n",
       "      <th>PYPL</th>\n",
       "      <th>K</th>\n",
       "      <th>PFE</th>\n",
       "      <th>BX</th>\n",
       "      <th>AAPL</th>\n",
       "      <th>GLD</th>\n",
       "      <th>LULU</th>\n",
       "      <th>PG</th>\n",
       "      <th>F</th>\n",
       "    </tr>\n",
       "  </thead>\n",
       "  <tbody>\n",
       "    <tr>\n",
       "      <th>w</th>\n",
       "      <td>0.214453</td>\n",
       "      <td>0.235141</td>\n",
       "      <td>0.0</td>\n",
       "      <td>0.471932</td>\n",
       "      <td>0.0</td>\n",
       "      <td>0.078475</td>\n",
       "      <td>0.0</td>\n",
       "      <td>0.0</td>\n",
       "      <td>0.0</td>\n",
       "      <td>0.0</td>\n",
       "    </tr>\n",
       "  </tbody>\n",
       "</table>\n",
       "</div>"
      ],
      "text/plain": [
       "        JNJ      PYPL    K       PFE   BX      AAPL  GLD  LULU   PG    F\n",
       "w  0.214453  0.235141  0.0  0.471932  0.0  0.078475  0.0   0.0  0.0  0.0"
      ]
     },
     "metadata": {},
     "output_type": "display_data"
    },
    {
     "data": {
      "text/markdown": [
       "### Simulación 63"
      ],
      "text/plain": [
       "<IPython.core.display.Markdown object>"
      ]
     },
     "metadata": {},
     "output_type": "display_data"
    },
    {
     "data": {
      "text/html": [
       "<div>\n",
       "<style scoped>\n",
       "    .dataframe tbody tr th:only-of-type {\n",
       "        vertical-align: middle;\n",
       "    }\n",
       "\n",
       "    .dataframe tbody tr th {\n",
       "        vertical-align: top;\n",
       "    }\n",
       "\n",
       "    .dataframe thead th {\n",
       "        text-align: right;\n",
       "    }\n",
       "</style>\n",
       "<table border=\"1\" class=\"dataframe\">\n",
       "  <thead>\n",
       "    <tr style=\"text-align: right;\">\n",
       "      <th></th>\n",
       "      <th>FDX</th>\n",
       "      <th>T</th>\n",
       "      <th>NKE</th>\n",
       "      <th>HP</th>\n",
       "      <th>SBUX</th>\n",
       "      <th>CP</th>\n",
       "      <th>HSBC</th>\n",
       "      <th>NFLX</th>\n",
       "    </tr>\n",
       "  </thead>\n",
       "  <tbody>\n",
       "    <tr>\n",
       "      <th>w</th>\n",
       "      <td>0.0</td>\n",
       "      <td>0.335755</td>\n",
       "      <td>0.013054</td>\n",
       "      <td>0.189134</td>\n",
       "      <td>0.462056</td>\n",
       "      <td>0.0</td>\n",
       "      <td>0.0</td>\n",
       "      <td>0.0</td>\n",
       "    </tr>\n",
       "  </tbody>\n",
       "</table>\n",
       "</div>"
      ],
      "text/plain": [
       "   FDX         T       NKE        HP      SBUX   CP  HSBC  NFLX\n",
       "w  0.0  0.335755  0.013054  0.189134  0.462056  0.0   0.0   0.0"
      ]
     },
     "metadata": {},
     "output_type": "display_data"
    },
    {
     "data": {
      "text/markdown": [
       "### Simulación 64"
      ],
      "text/plain": [
       "<IPython.core.display.Markdown object>"
      ]
     },
     "metadata": {},
     "output_type": "display_data"
    },
    {
     "data": {
      "text/html": [
       "<div>\n",
       "<style scoped>\n",
       "    .dataframe tbody tr th:only-of-type {\n",
       "        vertical-align: middle;\n",
       "    }\n",
       "\n",
       "    .dataframe tbody tr th {\n",
       "        vertical-align: top;\n",
       "    }\n",
       "\n",
       "    .dataframe thead th {\n",
       "        text-align: right;\n",
       "    }\n",
       "</style>\n",
       "<table border=\"1\" class=\"dataframe\">\n",
       "  <thead>\n",
       "    <tr style=\"text-align: right;\">\n",
       "      <th></th>\n",
       "      <th>UBER</th>\n",
       "      <th>MCD</th>\n",
       "      <th>HD</th>\n",
       "      <th>AAPL</th>\n",
       "      <th>WMT</th>\n",
       "      <th>CSCO</th>\n",
       "      <th>HSBC</th>\n",
       "      <th>BLK</th>\n",
       "      <th>ADBE</th>\n",
       "      <th>CP</th>\n",
       "      <th>PEP</th>\n",
       "    </tr>\n",
       "  </thead>\n",
       "  <tbody>\n",
       "    <tr>\n",
       "      <th>w</th>\n",
       "      <td>0.324559</td>\n",
       "      <td>0.0</td>\n",
       "      <td>0.0</td>\n",
       "      <td>0.0</td>\n",
       "      <td>0.0</td>\n",
       "      <td>0.0</td>\n",
       "      <td>0.003754</td>\n",
       "      <td>0.0</td>\n",
       "      <td>0.0</td>\n",
       "      <td>0.123917</td>\n",
       "      <td>0.54777</td>\n",
       "    </tr>\n",
       "  </tbody>\n",
       "</table>\n",
       "</div>"
      ],
      "text/plain": [
       "       UBER  MCD   HD  AAPL  WMT  CSCO      HSBC  BLK  ADBE        CP      PEP\n",
       "w  0.324559  0.0  0.0   0.0  0.0   0.0  0.003754  0.0   0.0  0.123917  0.54777"
      ]
     },
     "metadata": {},
     "output_type": "display_data"
    },
    {
     "data": {
      "text/markdown": [
       "### Simulación 65"
      ],
      "text/plain": [
       "<IPython.core.display.Markdown object>"
      ]
     },
     "metadata": {},
     "output_type": "display_data"
    },
    {
     "data": {
      "text/html": [
       "<div>\n",
       "<style scoped>\n",
       "    .dataframe tbody tr th:only-of-type {\n",
       "        vertical-align: middle;\n",
       "    }\n",
       "\n",
       "    .dataframe tbody tr th {\n",
       "        vertical-align: top;\n",
       "    }\n",
       "\n",
       "    .dataframe thead th {\n",
       "        text-align: right;\n",
       "    }\n",
       "</style>\n",
       "<table border=\"1\" class=\"dataframe\">\n",
       "  <thead>\n",
       "    <tr style=\"text-align: right;\">\n",
       "      <th></th>\n",
       "      <th>NKE</th>\n",
       "      <th>TMUS</th>\n",
       "      <th>ADBE</th>\n",
       "      <th>AMZN</th>\n",
       "      <th>HSBC</th>\n",
       "      <th>GE</th>\n",
       "      <th>PG</th>\n",
       "      <th>LULU</th>\n",
       "      <th>VZ</th>\n",
       "      <th>BAC</th>\n",
       "      <th>T</th>\n",
       "      <th>DPZ</th>\n",
       "      <th>CVX</th>\n",
       "    </tr>\n",
       "  </thead>\n",
       "  <tbody>\n",
       "    <tr>\n",
       "      <th>w</th>\n",
       "      <td>0.0</td>\n",
       "      <td>0.077679</td>\n",
       "      <td>0.0</td>\n",
       "      <td>0.0</td>\n",
       "      <td>0.072667</td>\n",
       "      <td>0.283263</td>\n",
       "      <td>0.0</td>\n",
       "      <td>0.0</td>\n",
       "      <td>0.0</td>\n",
       "      <td>0.0</td>\n",
       "      <td>0.0</td>\n",
       "      <td>0.566391</td>\n",
       "      <td>0.0</td>\n",
       "    </tr>\n",
       "  </tbody>\n",
       "</table>\n",
       "</div>"
      ],
      "text/plain": [
       "   NKE      TMUS  ADBE  AMZN      HSBC        GE   PG  LULU   VZ  BAC    T  \\\n",
       "w  0.0  0.077679   0.0   0.0  0.072667  0.283263  0.0   0.0  0.0  0.0  0.0   \n",
       "\n",
       "        DPZ  CVX  \n",
       "w  0.566391  0.0  "
      ]
     },
     "metadata": {},
     "output_type": "display_data"
    },
    {
     "data": {
      "text/markdown": [
       "### Simulación 66"
      ],
      "text/plain": [
       "<IPython.core.display.Markdown object>"
      ]
     },
     "metadata": {},
     "output_type": "display_data"
    },
    {
     "data": {
      "text/html": [
       "<div>\n",
       "<style scoped>\n",
       "    .dataframe tbody tr th:only-of-type {\n",
       "        vertical-align: middle;\n",
       "    }\n",
       "\n",
       "    .dataframe tbody tr th {\n",
       "        vertical-align: top;\n",
       "    }\n",
       "\n",
       "    .dataframe thead th {\n",
       "        text-align: right;\n",
       "    }\n",
       "</style>\n",
       "<table border=\"1\" class=\"dataframe\">\n",
       "  <thead>\n",
       "    <tr style=\"text-align: right;\">\n",
       "      <th></th>\n",
       "      <th>CVX</th>\n",
       "      <th>K</th>\n",
       "      <th>PFE</th>\n",
       "      <th>PG</th>\n",
       "      <th>CP</th>\n",
       "      <th>PYPL</th>\n",
       "      <th>FDX</th>\n",
       "      <th>HSBC</th>\n",
       "      <th>BLK</th>\n",
       "      <th>NKE</th>\n",
       "      <th>HP</th>\n",
       "      <th>WMT</th>\n",
       "      <th>ADBE</th>\n",
       "    </tr>\n",
       "  </thead>\n",
       "  <tbody>\n",
       "    <tr>\n",
       "      <th>w</th>\n",
       "      <td>0.0</td>\n",
       "      <td>0.183088</td>\n",
       "      <td>0.0</td>\n",
       "      <td>0.034973</td>\n",
       "      <td>0.118639</td>\n",
       "      <td>0.0</td>\n",
       "      <td>0.010853</td>\n",
       "      <td>0.008245</td>\n",
       "      <td>0.0</td>\n",
       "      <td>0.0</td>\n",
       "      <td>0.0</td>\n",
       "      <td>0.0</td>\n",
       "      <td>0.644201</td>\n",
       "    </tr>\n",
       "  </tbody>\n",
       "</table>\n",
       "</div>"
      ],
      "text/plain": [
       "   CVX         K  PFE        PG        CP  PYPL       FDX      HSBC  BLK  NKE  \\\n",
       "w  0.0  0.183088  0.0  0.034973  0.118639   0.0  0.010853  0.008245  0.0  0.0   \n",
       "\n",
       "    HP  WMT      ADBE  \n",
       "w  0.0  0.0  0.644201  "
      ]
     },
     "metadata": {},
     "output_type": "display_data"
    },
    {
     "data": {
      "text/markdown": [
       "### Simulación 67"
      ],
      "text/plain": [
       "<IPython.core.display.Markdown object>"
      ]
     },
     "metadata": {},
     "output_type": "display_data"
    },
    {
     "data": {
      "text/html": [
       "<div>\n",
       "<style scoped>\n",
       "    .dataframe tbody tr th:only-of-type {\n",
       "        vertical-align: middle;\n",
       "    }\n",
       "\n",
       "    .dataframe tbody tr th {\n",
       "        vertical-align: top;\n",
       "    }\n",
       "\n",
       "    .dataframe thead th {\n",
       "        text-align: right;\n",
       "    }\n",
       "</style>\n",
       "<table border=\"1\" class=\"dataframe\">\n",
       "  <thead>\n",
       "    <tr style=\"text-align: right;\">\n",
       "      <th></th>\n",
       "      <th>CP</th>\n",
       "      <th>TSLA</th>\n",
       "      <th>JNJ</th>\n",
       "      <th>ADBE</th>\n",
       "      <th>META</th>\n",
       "      <th>PEP</th>\n",
       "      <th>AZN</th>\n",
       "      <th>AMZN</th>\n",
       "      <th>BLK</th>\n",
       "      <th>FDX</th>\n",
       "      <th>WBD</th>\n",
       "    </tr>\n",
       "  </thead>\n",
       "  <tbody>\n",
       "    <tr>\n",
       "      <th>w</th>\n",
       "      <td>0.0</td>\n",
       "      <td>0.0</td>\n",
       "      <td>0.047039</td>\n",
       "      <td>0.080418</td>\n",
       "      <td>0.0</td>\n",
       "      <td>0.130666</td>\n",
       "      <td>0.0</td>\n",
       "      <td>0.182915</td>\n",
       "      <td>0.0</td>\n",
       "      <td>0.558962</td>\n",
       "      <td>0.0</td>\n",
       "    </tr>\n",
       "  </tbody>\n",
       "</table>\n",
       "</div>"
      ],
      "text/plain": [
       "    CP  TSLA       JNJ      ADBE  META       PEP  AZN      AMZN  BLK  \\\n",
       "w  0.0   0.0  0.047039  0.080418   0.0  0.130666  0.0  0.182915  0.0   \n",
       "\n",
       "        FDX  WBD  \n",
       "w  0.558962  0.0  "
      ]
     },
     "metadata": {},
     "output_type": "display_data"
    },
    {
     "data": {
      "text/markdown": [
       "### Simulación 68"
      ],
      "text/plain": [
       "<IPython.core.display.Markdown object>"
      ]
     },
     "metadata": {},
     "output_type": "display_data"
    },
    {
     "data": {
      "text/html": [
       "<div>\n",
       "<style scoped>\n",
       "    .dataframe tbody tr th:only-of-type {\n",
       "        vertical-align: middle;\n",
       "    }\n",
       "\n",
       "    .dataframe tbody tr th {\n",
       "        vertical-align: top;\n",
       "    }\n",
       "\n",
       "    .dataframe thead th {\n",
       "        text-align: right;\n",
       "    }\n",
       "</style>\n",
       "<table border=\"1\" class=\"dataframe\">\n",
       "  <thead>\n",
       "    <tr style=\"text-align: right;\">\n",
       "      <th></th>\n",
       "      <th>HSY</th>\n",
       "      <th>MCD</th>\n",
       "      <th>TMUS</th>\n",
       "      <th>HSBC</th>\n",
       "      <th>META</th>\n",
       "      <th>WBD</th>\n",
       "      <th>GOOGL</th>\n",
       "      <th>PYPL</th>\n",
       "    </tr>\n",
       "  </thead>\n",
       "  <tbody>\n",
       "    <tr>\n",
       "      <th>w</th>\n",
       "      <td>0.079476</td>\n",
       "      <td>0.021894</td>\n",
       "      <td>0.0</td>\n",
       "      <td>0.0</td>\n",
       "      <td>0.199844</td>\n",
       "      <td>0.0</td>\n",
       "      <td>0.698787</td>\n",
       "      <td>0.0</td>\n",
       "    </tr>\n",
       "  </tbody>\n",
       "</table>\n",
       "</div>"
      ],
      "text/plain": [
       "        HSY       MCD  TMUS  HSBC      META  WBD     GOOGL  PYPL\n",
       "w  0.079476  0.021894   0.0   0.0  0.199844  0.0  0.698787   0.0"
      ]
     },
     "metadata": {},
     "output_type": "display_data"
    },
    {
     "data": {
      "text/markdown": [
       "### Simulación 69"
      ],
      "text/plain": [
       "<IPython.core.display.Markdown object>"
      ]
     },
     "metadata": {},
     "output_type": "display_data"
    },
    {
     "data": {
      "text/html": [
       "<div>\n",
       "<style scoped>\n",
       "    .dataframe tbody tr th:only-of-type {\n",
       "        vertical-align: middle;\n",
       "    }\n",
       "\n",
       "    .dataframe tbody tr th {\n",
       "        vertical-align: top;\n",
       "    }\n",
       "\n",
       "    .dataframe thead th {\n",
       "        text-align: right;\n",
       "    }\n",
       "</style>\n",
       "<table border=\"1\" class=\"dataframe\">\n",
       "  <thead>\n",
       "    <tr style=\"text-align: right;\">\n",
       "      <th></th>\n",
       "      <th>CP</th>\n",
       "      <th>SPOT</th>\n",
       "      <th>RL</th>\n",
       "      <th>FDX</th>\n",
       "      <th>HSY</th>\n",
       "      <th>BABA</th>\n",
       "      <th>ADBE</th>\n",
       "      <th>BLK</th>\n",
       "    </tr>\n",
       "  </thead>\n",
       "  <tbody>\n",
       "    <tr>\n",
       "      <th>w</th>\n",
       "      <td>0.0</td>\n",
       "      <td>0.0</td>\n",
       "      <td>0.263886</td>\n",
       "      <td>0.0</td>\n",
       "      <td>0.203274</td>\n",
       "      <td>0.027942</td>\n",
       "      <td>0.126059</td>\n",
       "      <td>0.37884</td>\n",
       "    </tr>\n",
       "  </tbody>\n",
       "</table>\n",
       "</div>"
      ],
      "text/plain": [
       "    CP  SPOT        RL  FDX       HSY      BABA      ADBE      BLK\n",
       "w  0.0   0.0  0.263886  0.0  0.203274  0.027942  0.126059  0.37884"
      ]
     },
     "metadata": {},
     "output_type": "display_data"
    },
    {
     "data": {
      "text/markdown": [
       "### Simulación 70"
      ],
      "text/plain": [
       "<IPython.core.display.Markdown object>"
      ]
     },
     "metadata": {},
     "output_type": "display_data"
    },
    {
     "data": {
      "text/html": [
       "<div>\n",
       "<style scoped>\n",
       "    .dataframe tbody tr th:only-of-type {\n",
       "        vertical-align: middle;\n",
       "    }\n",
       "\n",
       "    .dataframe tbody tr th {\n",
       "        vertical-align: top;\n",
       "    }\n",
       "\n",
       "    .dataframe thead th {\n",
       "        text-align: right;\n",
       "    }\n",
       "</style>\n",
       "<table border=\"1\" class=\"dataframe\">\n",
       "  <thead>\n",
       "    <tr style=\"text-align: right;\">\n",
       "      <th></th>\n",
       "      <th>BX</th>\n",
       "      <th>GLD</th>\n",
       "      <th>HSY</th>\n",
       "      <th>AZN</th>\n",
       "      <th>PG</th>\n",
       "      <th>JNJ</th>\n",
       "      <th>NFLX</th>\n",
       "      <th>FDX</th>\n",
       "      <th>PYPL</th>\n",
       "    </tr>\n",
       "  </thead>\n",
       "  <tbody>\n",
       "    <tr>\n",
       "      <th>w</th>\n",
       "      <td>0.0</td>\n",
       "      <td>0.300196</td>\n",
       "      <td>0.036651</td>\n",
       "      <td>0.529034</td>\n",
       "      <td>0.0</td>\n",
       "      <td>0.0</td>\n",
       "      <td>0.120237</td>\n",
       "      <td>0.013883</td>\n",
       "      <td>0.0</td>\n",
       "    </tr>\n",
       "  </tbody>\n",
       "</table>\n",
       "</div>"
      ],
      "text/plain": [
       "    BX       GLD       HSY       AZN   PG  JNJ      NFLX       FDX  PYPL\n",
       "w  0.0  0.300196  0.036651  0.529034  0.0  0.0  0.120237  0.013883   0.0"
      ]
     },
     "metadata": {},
     "output_type": "display_data"
    },
    {
     "data": {
      "text/markdown": [
       "### Simulación 71"
      ],
      "text/plain": [
       "<IPython.core.display.Markdown object>"
      ]
     },
     "metadata": {},
     "output_type": "display_data"
    },
    {
     "data": {
      "text/html": [
       "<div>\n",
       "<style scoped>\n",
       "    .dataframe tbody tr th:only-of-type {\n",
       "        vertical-align: middle;\n",
       "    }\n",
       "\n",
       "    .dataframe tbody tr th {\n",
       "        vertical-align: top;\n",
       "    }\n",
       "\n",
       "    .dataframe thead th {\n",
       "        text-align: right;\n",
       "    }\n",
       "</style>\n",
       "<table border=\"1\" class=\"dataframe\">\n",
       "  <thead>\n",
       "    <tr style=\"text-align: right;\">\n",
       "      <th></th>\n",
       "      <th>DIS</th>\n",
       "      <th>JNJ</th>\n",
       "      <th>T</th>\n",
       "      <th>VZ</th>\n",
       "      <th>RL</th>\n",
       "      <th>PYPL</th>\n",
       "      <th>SPOT</th>\n",
       "      <th>XOM</th>\n",
       "      <th>CSCO</th>\n",
       "      <th>FDX</th>\n",
       "      <th>NKE</th>\n",
       "    </tr>\n",
       "  </thead>\n",
       "  <tbody>\n",
       "    <tr>\n",
       "      <th>w</th>\n",
       "      <td>0.0</td>\n",
       "      <td>0.0</td>\n",
       "      <td>0.178189</td>\n",
       "      <td>0.0</td>\n",
       "      <td>0.0</td>\n",
       "      <td>0.0</td>\n",
       "      <td>0.067445</td>\n",
       "      <td>0.383009</td>\n",
       "      <td>0.0</td>\n",
       "      <td>0.0</td>\n",
       "      <td>0.371358</td>\n",
       "    </tr>\n",
       "  </tbody>\n",
       "</table>\n",
       "</div>"
      ],
      "text/plain": [
       "   DIS  JNJ         T   VZ   RL  PYPL      SPOT       XOM  CSCO  FDX       NKE\n",
       "w  0.0  0.0  0.178189  0.0  0.0   0.0  0.067445  0.383009   0.0  0.0  0.371358"
      ]
     },
     "metadata": {},
     "output_type": "display_data"
    },
    {
     "data": {
      "text/markdown": [
       "### Simulación 72"
      ],
      "text/plain": [
       "<IPython.core.display.Markdown object>"
      ]
     },
     "metadata": {},
     "output_type": "display_data"
    },
    {
     "data": {
      "text/html": [
       "<div>\n",
       "<style scoped>\n",
       "    .dataframe tbody tr th:only-of-type {\n",
       "        vertical-align: middle;\n",
       "    }\n",
       "\n",
       "    .dataframe tbody tr th {\n",
       "        vertical-align: top;\n",
       "    }\n",
       "\n",
       "    .dataframe thead th {\n",
       "        text-align: right;\n",
       "    }\n",
       "</style>\n",
       "<table border=\"1\" class=\"dataframe\">\n",
       "  <thead>\n",
       "    <tr style=\"text-align: right;\">\n",
       "      <th></th>\n",
       "      <th>T</th>\n",
       "      <th>NFLX</th>\n",
       "      <th>SBUX</th>\n",
       "      <th>DPZ</th>\n",
       "      <th>HSBC</th>\n",
       "      <th>CVX</th>\n",
       "      <th>NVDA</th>\n",
       "      <th>AXP</th>\n",
       "      <th>UBER</th>\n",
       "      <th>CP</th>\n",
       "      <th>COST</th>\n",
       "      <th>HP</th>\n",
       "    </tr>\n",
       "  </thead>\n",
       "  <tbody>\n",
       "    <tr>\n",
       "      <th>w</th>\n",
       "      <td>0.0</td>\n",
       "      <td>0.46487</td>\n",
       "      <td>0.0</td>\n",
       "      <td>0.0</td>\n",
       "      <td>0.0</td>\n",
       "      <td>0.0</td>\n",
       "      <td>0.0</td>\n",
       "      <td>0.0</td>\n",
       "      <td>0.53513</td>\n",
       "      <td>0.0</td>\n",
       "      <td>0.0</td>\n",
       "      <td>0.0</td>\n",
       "    </tr>\n",
       "  </tbody>\n",
       "</table>\n",
       "</div>"
      ],
      "text/plain": [
       "     T     NFLX  SBUX  DPZ  HSBC  CVX  NVDA  AXP     UBER   CP  COST   HP\n",
       "w  0.0  0.46487   0.0  0.0   0.0  0.0   0.0  0.0  0.53513  0.0   0.0  0.0"
      ]
     },
     "metadata": {},
     "output_type": "display_data"
    },
    {
     "data": {
      "text/markdown": [
       "### Simulación 73"
      ],
      "text/plain": [
       "<IPython.core.display.Markdown object>"
      ]
     },
     "metadata": {},
     "output_type": "display_data"
    },
    {
     "data": {
      "text/html": [
       "<div>\n",
       "<style scoped>\n",
       "    .dataframe tbody tr th:only-of-type {\n",
       "        vertical-align: middle;\n",
       "    }\n",
       "\n",
       "    .dataframe tbody tr th {\n",
       "        vertical-align: top;\n",
       "    }\n",
       "\n",
       "    .dataframe thead th {\n",
       "        text-align: right;\n",
       "    }\n",
       "</style>\n",
       "<table border=\"1\" class=\"dataframe\">\n",
       "  <thead>\n",
       "    <tr style=\"text-align: right;\">\n",
       "      <th></th>\n",
       "      <th>COST</th>\n",
       "      <th>CVX</th>\n",
       "      <th>HSY</th>\n",
       "      <th>HD</th>\n",
       "      <th>BLK</th>\n",
       "      <th>NVDA</th>\n",
       "      <th>SBUX</th>\n",
       "      <th>PEP</th>\n",
       "      <th>BX</th>\n",
       "      <th>PYPL</th>\n",
       "      <th>V</th>\n",
       "    </tr>\n",
       "  </thead>\n",
       "  <tbody>\n",
       "    <tr>\n",
       "      <th>w</th>\n",
       "      <td>0.0</td>\n",
       "      <td>0.0</td>\n",
       "      <td>0.465497</td>\n",
       "      <td>0.0</td>\n",
       "      <td>0.0</td>\n",
       "      <td>0.0</td>\n",
       "      <td>0.534503</td>\n",
       "      <td>0.0</td>\n",
       "      <td>0.0</td>\n",
       "      <td>0.0</td>\n",
       "      <td>0.0</td>\n",
       "    </tr>\n",
       "  </tbody>\n",
       "</table>\n",
       "</div>"
      ],
      "text/plain": [
       "   COST  CVX       HSY   HD  BLK  NVDA      SBUX  PEP   BX  PYPL    V\n",
       "w   0.0  0.0  0.465497  0.0  0.0   0.0  0.534503  0.0  0.0   0.0  0.0"
      ]
     },
     "metadata": {},
     "output_type": "display_data"
    },
    {
     "data": {
      "text/markdown": [
       "### Simulación 74"
      ],
      "text/plain": [
       "<IPython.core.display.Markdown object>"
      ]
     },
     "metadata": {},
     "output_type": "display_data"
    },
    {
     "data": {
      "text/html": [
       "<div>\n",
       "<style scoped>\n",
       "    .dataframe tbody tr th:only-of-type {\n",
       "        vertical-align: middle;\n",
       "    }\n",
       "\n",
       "    .dataframe tbody tr th {\n",
       "        vertical-align: top;\n",
       "    }\n",
       "\n",
       "    .dataframe thead th {\n",
       "        text-align: right;\n",
       "    }\n",
       "</style>\n",
       "<table border=\"1\" class=\"dataframe\">\n",
       "  <thead>\n",
       "    <tr style=\"text-align: right;\">\n",
       "      <th></th>\n",
       "      <th>JPM</th>\n",
       "      <th>FDX</th>\n",
       "      <th>JNJ</th>\n",
       "      <th>CVX</th>\n",
       "      <th>BAC</th>\n",
       "      <th>RL</th>\n",
       "      <th>KO</th>\n",
       "      <th>PEP</th>\n",
       "    </tr>\n",
       "  </thead>\n",
       "  <tbody>\n",
       "    <tr>\n",
       "      <th>w</th>\n",
       "      <td>0.0</td>\n",
       "      <td>0.034628</td>\n",
       "      <td>0.402051</td>\n",
       "      <td>0.0</td>\n",
       "      <td>0.362277</td>\n",
       "      <td>0.0</td>\n",
       "      <td>0.0</td>\n",
       "      <td>0.201044</td>\n",
       "    </tr>\n",
       "  </tbody>\n",
       "</table>\n",
       "</div>"
      ],
      "text/plain": [
       "   JPM       FDX       JNJ  CVX       BAC   RL   KO       PEP\n",
       "w  0.0  0.034628  0.402051  0.0  0.362277  0.0  0.0  0.201044"
      ]
     },
     "metadata": {},
     "output_type": "display_data"
    },
    {
     "data": {
      "text/markdown": [
       "### Simulación 75"
      ],
      "text/plain": [
       "<IPython.core.display.Markdown object>"
      ]
     },
     "metadata": {},
     "output_type": "display_data"
    },
    {
     "data": {
      "text/html": [
       "<div>\n",
       "<style scoped>\n",
       "    .dataframe tbody tr th:only-of-type {\n",
       "        vertical-align: middle;\n",
       "    }\n",
       "\n",
       "    .dataframe tbody tr th {\n",
       "        vertical-align: top;\n",
       "    }\n",
       "\n",
       "    .dataframe thead th {\n",
       "        text-align: right;\n",
       "    }\n",
       "</style>\n",
       "<table border=\"1\" class=\"dataframe\">\n",
       "  <thead>\n",
       "    <tr style=\"text-align: right;\">\n",
       "      <th></th>\n",
       "      <th>CSCO</th>\n",
       "      <th>MSFT</th>\n",
       "      <th>JPM</th>\n",
       "      <th>MA</th>\n",
       "      <th>PFE</th>\n",
       "      <th>GOOGL</th>\n",
       "      <th>AZN</th>\n",
       "      <th>F</th>\n",
       "      <th>PYPL</th>\n",
       "    </tr>\n",
       "  </thead>\n",
       "  <tbody>\n",
       "    <tr>\n",
       "      <th>w</th>\n",
       "      <td>0.020611</td>\n",
       "      <td>0.0</td>\n",
       "      <td>0.0</td>\n",
       "      <td>0.145866</td>\n",
       "      <td>0.242156</td>\n",
       "      <td>0.0</td>\n",
       "      <td>0.591367</td>\n",
       "      <td>0.0</td>\n",
       "      <td>0.0</td>\n",
       "    </tr>\n",
       "  </tbody>\n",
       "</table>\n",
       "</div>"
      ],
      "text/plain": [
       "       CSCO  MSFT  JPM        MA       PFE  GOOGL       AZN    F  PYPL\n",
       "w  0.020611   0.0  0.0  0.145866  0.242156    0.0  0.591367  0.0   0.0"
      ]
     },
     "metadata": {},
     "output_type": "display_data"
    },
    {
     "data": {
      "text/markdown": [
       "### Simulación 76"
      ],
      "text/plain": [
       "<IPython.core.display.Markdown object>"
      ]
     },
     "metadata": {},
     "output_type": "display_data"
    },
    {
     "data": {
      "text/html": [
       "<div>\n",
       "<style scoped>\n",
       "    .dataframe tbody tr th:only-of-type {\n",
       "        vertical-align: middle;\n",
       "    }\n",
       "\n",
       "    .dataframe tbody tr th {\n",
       "        vertical-align: top;\n",
       "    }\n",
       "\n",
       "    .dataframe thead th {\n",
       "        text-align: right;\n",
       "    }\n",
       "</style>\n",
       "<table border=\"1\" class=\"dataframe\">\n",
       "  <thead>\n",
       "    <tr style=\"text-align: right;\">\n",
       "      <th></th>\n",
       "      <th>PYPL</th>\n",
       "      <th>PEP</th>\n",
       "      <th>AAPL</th>\n",
       "      <th>KO</th>\n",
       "      <th>BX</th>\n",
       "      <th>GE</th>\n",
       "      <th>AXP</th>\n",
       "      <th>BAC</th>\n",
       "      <th>MRNA</th>\n",
       "      <th>CSCO</th>\n",
       "      <th>UBER</th>\n",
       "      <th>TSLA</th>\n",
       "      <th>K</th>\n",
       "      <th>NFLX</th>\n",
       "    </tr>\n",
       "  </thead>\n",
       "  <tbody>\n",
       "    <tr>\n",
       "      <th>w</th>\n",
       "      <td>0.001359</td>\n",
       "      <td>0.0</td>\n",
       "      <td>0.0</td>\n",
       "      <td>0.130869</td>\n",
       "      <td>0.0</td>\n",
       "      <td>0.201098</td>\n",
       "      <td>0.207089</td>\n",
       "      <td>0.0</td>\n",
       "      <td>0.107422</td>\n",
       "      <td>0.063975</td>\n",
       "      <td>0.0</td>\n",
       "      <td>0.0</td>\n",
       "      <td>0.288187</td>\n",
       "      <td>0.0</td>\n",
       "    </tr>\n",
       "  </tbody>\n",
       "</table>\n",
       "</div>"
      ],
      "text/plain": [
       "       PYPL  PEP  AAPL        KO   BX        GE       AXP  BAC      MRNA  \\\n",
       "w  0.001359  0.0   0.0  0.130869  0.0  0.201098  0.207089  0.0  0.107422   \n",
       "\n",
       "       CSCO  UBER  TSLA         K  NFLX  \n",
       "w  0.063975   0.0   0.0  0.288187   0.0  "
      ]
     },
     "metadata": {},
     "output_type": "display_data"
    },
    {
     "data": {
      "text/markdown": [
       "### Simulación 77"
      ],
      "text/plain": [
       "<IPython.core.display.Markdown object>"
      ]
     },
     "metadata": {},
     "output_type": "display_data"
    },
    {
     "data": {
      "text/html": [
       "<div>\n",
       "<style scoped>\n",
       "    .dataframe tbody tr th:only-of-type {\n",
       "        vertical-align: middle;\n",
       "    }\n",
       "\n",
       "    .dataframe tbody tr th {\n",
       "        vertical-align: top;\n",
       "    }\n",
       "\n",
       "    .dataframe thead th {\n",
       "        text-align: right;\n",
       "    }\n",
       "</style>\n",
       "<table border=\"1\" class=\"dataframe\">\n",
       "  <thead>\n",
       "    <tr style=\"text-align: right;\">\n",
       "      <th></th>\n",
       "      <th>CSCO</th>\n",
       "      <th>AXP</th>\n",
       "      <th>SBUX</th>\n",
       "      <th>AAPL</th>\n",
       "      <th>GE</th>\n",
       "    </tr>\n",
       "  </thead>\n",
       "  <tbody>\n",
       "    <tr>\n",
       "      <th>w</th>\n",
       "      <td>0.597878</td>\n",
       "      <td>0.04215</td>\n",
       "      <td>0.0</td>\n",
       "      <td>0.359972</td>\n",
       "      <td>0.0</td>\n",
       "    </tr>\n",
       "  </tbody>\n",
       "</table>\n",
       "</div>"
      ],
      "text/plain": [
       "       CSCO      AXP  SBUX      AAPL   GE\n",
       "w  0.597878  0.04215   0.0  0.359972  0.0"
      ]
     },
     "metadata": {},
     "output_type": "display_data"
    },
    {
     "data": {
      "text/markdown": [
       "### Simulación 78"
      ],
      "text/plain": [
       "<IPython.core.display.Markdown object>"
      ]
     },
     "metadata": {},
     "output_type": "display_data"
    },
    {
     "data": {
      "text/html": [
       "<div>\n",
       "<style scoped>\n",
       "    .dataframe tbody tr th:only-of-type {\n",
       "        vertical-align: middle;\n",
       "    }\n",
       "\n",
       "    .dataframe tbody tr th {\n",
       "        vertical-align: top;\n",
       "    }\n",
       "\n",
       "    .dataframe thead th {\n",
       "        text-align: right;\n",
       "    }\n",
       "</style>\n",
       "<table border=\"1\" class=\"dataframe\">\n",
       "  <thead>\n",
       "    <tr style=\"text-align: right;\">\n",
       "      <th></th>\n",
       "      <th>GLD</th>\n",
       "      <th>T</th>\n",
       "      <th>V</th>\n",
       "      <th>CMG</th>\n",
       "      <th>BLK</th>\n",
       "      <th>JNJ</th>\n",
       "    </tr>\n",
       "  </thead>\n",
       "  <tbody>\n",
       "    <tr>\n",
       "      <th>w</th>\n",
       "      <td>0.13614</td>\n",
       "      <td>0.344011</td>\n",
       "      <td>0.519849</td>\n",
       "      <td>0.0</td>\n",
       "      <td>0.0</td>\n",
       "      <td>0.0</td>\n",
       "    </tr>\n",
       "  </tbody>\n",
       "</table>\n",
       "</div>"
      ],
      "text/plain": [
       "       GLD         T         V  CMG  BLK  JNJ\n",
       "w  0.13614  0.344011  0.519849  0.0  0.0  0.0"
      ]
     },
     "metadata": {},
     "output_type": "display_data"
    },
    {
     "data": {
      "text/markdown": [
       "### Simulación 79"
      ],
      "text/plain": [
       "<IPython.core.display.Markdown object>"
      ]
     },
     "metadata": {},
     "output_type": "display_data"
    },
    {
     "data": {
      "text/html": [
       "<div>\n",
       "<style scoped>\n",
       "    .dataframe tbody tr th:only-of-type {\n",
       "        vertical-align: middle;\n",
       "    }\n",
       "\n",
       "    .dataframe tbody tr th {\n",
       "        vertical-align: top;\n",
       "    }\n",
       "\n",
       "    .dataframe thead th {\n",
       "        text-align: right;\n",
       "    }\n",
       "</style>\n",
       "<table border=\"1\" class=\"dataframe\">\n",
       "  <thead>\n",
       "    <tr style=\"text-align: right;\">\n",
       "      <th></th>\n",
       "      <th>XOM</th>\n",
       "      <th>V</th>\n",
       "      <th>META</th>\n",
       "      <th>KO</th>\n",
       "      <th>AMZN</th>\n",
       "      <th>NFLX</th>\n",
       "      <th>WMT</th>\n",
       "      <th>GE</th>\n",
       "      <th>HD</th>\n",
       "      <th>JPM</th>\n",
       "    </tr>\n",
       "  </thead>\n",
       "  <tbody>\n",
       "    <tr>\n",
       "      <th>w</th>\n",
       "      <td>0.0</td>\n",
       "      <td>0.207115</td>\n",
       "      <td>0.0</td>\n",
       "      <td>0.0</td>\n",
       "      <td>0.0</td>\n",
       "      <td>0.081772</td>\n",
       "      <td>0.132847</td>\n",
       "      <td>0.0</td>\n",
       "      <td>0.483722</td>\n",
       "      <td>0.094543</td>\n",
       "    </tr>\n",
       "  </tbody>\n",
       "</table>\n",
       "</div>"
      ],
      "text/plain": [
       "   XOM         V  META   KO  AMZN      NFLX       WMT   GE        HD       JPM\n",
       "w  0.0  0.207115   0.0  0.0   0.0  0.081772  0.132847  0.0  0.483722  0.094543"
      ]
     },
     "metadata": {},
     "output_type": "display_data"
    },
    {
     "data": {
      "text/markdown": [
       "### Simulación 80"
      ],
      "text/plain": [
       "<IPython.core.display.Markdown object>"
      ]
     },
     "metadata": {},
     "output_type": "display_data"
    },
    {
     "data": {
      "text/html": [
       "<div>\n",
       "<style scoped>\n",
       "    .dataframe tbody tr th:only-of-type {\n",
       "        vertical-align: middle;\n",
       "    }\n",
       "\n",
       "    .dataframe tbody tr th {\n",
       "        vertical-align: top;\n",
       "    }\n",
       "\n",
       "    .dataframe thead th {\n",
       "        text-align: right;\n",
       "    }\n",
       "</style>\n",
       "<table border=\"1\" class=\"dataframe\">\n",
       "  <thead>\n",
       "    <tr style=\"text-align: right;\">\n",
       "      <th></th>\n",
       "      <th>PYPL</th>\n",
       "      <th>AZN</th>\n",
       "      <th>XOM</th>\n",
       "      <th>GLD</th>\n",
       "      <th>META</th>\n",
       "      <th>VZ</th>\n",
       "      <th>CVX</th>\n",
       "      <th>DPZ</th>\n",
       "      <th>JPM</th>\n",
       "      <th>AXP</th>\n",
       "    </tr>\n",
       "  </thead>\n",
       "  <tbody>\n",
       "    <tr>\n",
       "      <th>w</th>\n",
       "      <td>0.130628</td>\n",
       "      <td>0.0</td>\n",
       "      <td>0.0</td>\n",
       "      <td>0.071819</td>\n",
       "      <td>0.517394</td>\n",
       "      <td>0.0</td>\n",
       "      <td>0.151431</td>\n",
       "      <td>0.0</td>\n",
       "      <td>0.0</td>\n",
       "      <td>0.128728</td>\n",
       "    </tr>\n",
       "  </tbody>\n",
       "</table>\n",
       "</div>"
      ],
      "text/plain": [
       "       PYPL  AZN  XOM       GLD      META   VZ       CVX  DPZ  JPM       AXP\n",
       "w  0.130628  0.0  0.0  0.071819  0.517394  0.0  0.151431  0.0  0.0  0.128728"
      ]
     },
     "metadata": {},
     "output_type": "display_data"
    },
    {
     "data": {
      "text/markdown": [
       "### Simulación 81"
      ],
      "text/plain": [
       "<IPython.core.display.Markdown object>"
      ]
     },
     "metadata": {},
     "output_type": "display_data"
    },
    {
     "data": {
      "text/html": [
       "<div>\n",
       "<style scoped>\n",
       "    .dataframe tbody tr th:only-of-type {\n",
       "        vertical-align: middle;\n",
       "    }\n",
       "\n",
       "    .dataframe tbody tr th {\n",
       "        vertical-align: top;\n",
       "    }\n",
       "\n",
       "    .dataframe thead th {\n",
       "        text-align: right;\n",
       "    }\n",
       "</style>\n",
       "<table border=\"1\" class=\"dataframe\">\n",
       "  <thead>\n",
       "    <tr style=\"text-align: right;\">\n",
       "      <th></th>\n",
       "      <th>PFE</th>\n",
       "      <th>GOOGL</th>\n",
       "      <th>T</th>\n",
       "      <th>SPOT</th>\n",
       "      <th>PG</th>\n",
       "      <th>NFLX</th>\n",
       "      <th>VZ</th>\n",
       "      <th>HSY</th>\n",
       "      <th>V</th>\n",
       "      <th>RL</th>\n",
       "      <th>AMZN</th>\n",
       "    </tr>\n",
       "  </thead>\n",
       "  <tbody>\n",
       "    <tr>\n",
       "      <th>w</th>\n",
       "      <td>0.0</td>\n",
       "      <td>0.167849</td>\n",
       "      <td>0.0</td>\n",
       "      <td>0.191764</td>\n",
       "      <td>0.0</td>\n",
       "      <td>0.259461</td>\n",
       "      <td>0.150999</td>\n",
       "      <td>0.229927</td>\n",
       "      <td>0.0</td>\n",
       "      <td>0.0</td>\n",
       "      <td>0.0</td>\n",
       "    </tr>\n",
       "  </tbody>\n",
       "</table>\n",
       "</div>"
      ],
      "text/plain": [
       "   PFE     GOOGL    T      SPOT   PG      NFLX        VZ       HSY    V   RL  \\\n",
       "w  0.0  0.167849  0.0  0.191764  0.0  0.259461  0.150999  0.229927  0.0  0.0   \n",
       "\n",
       "   AMZN  \n",
       "w   0.0  "
      ]
     },
     "metadata": {},
     "output_type": "display_data"
    },
    {
     "data": {
      "text/markdown": [
       "### Simulación 82"
      ],
      "text/plain": [
       "<IPython.core.display.Markdown object>"
      ]
     },
     "metadata": {},
     "output_type": "display_data"
    },
    {
     "data": {
      "text/html": [
       "<div>\n",
       "<style scoped>\n",
       "    .dataframe tbody tr th:only-of-type {\n",
       "        vertical-align: middle;\n",
       "    }\n",
       "\n",
       "    .dataframe tbody tr th {\n",
       "        vertical-align: top;\n",
       "    }\n",
       "\n",
       "    .dataframe thead th {\n",
       "        text-align: right;\n",
       "    }\n",
       "</style>\n",
       "<table border=\"1\" class=\"dataframe\">\n",
       "  <thead>\n",
       "    <tr style=\"text-align: right;\">\n",
       "      <th></th>\n",
       "      <th>GOOGL</th>\n",
       "      <th>DIS</th>\n",
       "      <th>SPOT</th>\n",
       "      <th>TMUS</th>\n",
       "      <th>AXP</th>\n",
       "      <th>HD</th>\n",
       "      <th>RL</th>\n",
       "      <th>CSCO</th>\n",
       "      <th>PEP</th>\n",
       "      <th>COST</th>\n",
       "      <th>KO</th>\n",
       "    </tr>\n",
       "  </thead>\n",
       "  <tbody>\n",
       "    <tr>\n",
       "      <th>w</th>\n",
       "      <td>0.05147</td>\n",
       "      <td>0.562946</td>\n",
       "      <td>0.0</td>\n",
       "      <td>0.0</td>\n",
       "      <td>0.0</td>\n",
       "      <td>0.0</td>\n",
       "      <td>0.0</td>\n",
       "      <td>0.0</td>\n",
       "      <td>0.0</td>\n",
       "      <td>0.111592</td>\n",
       "      <td>0.273991</td>\n",
       "    </tr>\n",
       "  </tbody>\n",
       "</table>\n",
       "</div>"
      ],
      "text/plain": [
       "     GOOGL       DIS  SPOT  TMUS  AXP   HD   RL  CSCO  PEP      COST        KO\n",
       "w  0.05147  0.562946   0.0   0.0  0.0  0.0  0.0   0.0  0.0  0.111592  0.273991"
      ]
     },
     "metadata": {},
     "output_type": "display_data"
    },
    {
     "data": {
      "text/markdown": [
       "### Simulación 83"
      ],
      "text/plain": [
       "<IPython.core.display.Markdown object>"
      ]
     },
     "metadata": {},
     "output_type": "display_data"
    },
    {
     "data": {
      "text/html": [
       "<div>\n",
       "<style scoped>\n",
       "    .dataframe tbody tr th:only-of-type {\n",
       "        vertical-align: middle;\n",
       "    }\n",
       "\n",
       "    .dataframe tbody tr th {\n",
       "        vertical-align: top;\n",
       "    }\n",
       "\n",
       "    .dataframe thead th {\n",
       "        text-align: right;\n",
       "    }\n",
       "</style>\n",
       "<table border=\"1\" class=\"dataframe\">\n",
       "  <thead>\n",
       "    <tr style=\"text-align: right;\">\n",
       "      <th></th>\n",
       "      <th>XOM</th>\n",
       "      <th>K</th>\n",
       "      <th>BX</th>\n",
       "      <th>FDX</th>\n",
       "      <th>UBER</th>\n",
       "      <th>CMG</th>\n",
       "      <th>WBD</th>\n",
       "      <th>DPZ</th>\n",
       "      <th>WMT</th>\n",
       "      <th>T</th>\n",
       "      <th>GOOGL</th>\n",
       "      <th>ADBE</th>\n",
       "      <th>BAC</th>\n",
       "    </tr>\n",
       "  </thead>\n",
       "  <tbody>\n",
       "    <tr>\n",
       "      <th>w</th>\n",
       "      <td>0.0</td>\n",
       "      <td>0.0</td>\n",
       "      <td>0.185334</td>\n",
       "      <td>0.246414</td>\n",
       "      <td>0.0</td>\n",
       "      <td>0.0</td>\n",
       "      <td>0.0</td>\n",
       "      <td>0.048454</td>\n",
       "      <td>0.0</td>\n",
       "      <td>0.010923</td>\n",
       "      <td>0.0</td>\n",
       "      <td>0.413254</td>\n",
       "      <td>0.095622</td>\n",
       "    </tr>\n",
       "  </tbody>\n",
       "</table>\n",
       "</div>"
      ],
      "text/plain": [
       "   XOM    K        BX       FDX  UBER  CMG  WBD       DPZ  WMT         T  \\\n",
       "w  0.0  0.0  0.185334  0.246414   0.0  0.0  0.0  0.048454  0.0  0.010923   \n",
       "\n",
       "   GOOGL      ADBE       BAC  \n",
       "w    0.0  0.413254  0.095622  "
      ]
     },
     "metadata": {},
     "output_type": "display_data"
    },
    {
     "data": {
      "text/markdown": [
       "### Simulación 84"
      ],
      "text/plain": [
       "<IPython.core.display.Markdown object>"
      ]
     },
     "metadata": {},
     "output_type": "display_data"
    },
    {
     "data": {
      "text/html": [
       "<div>\n",
       "<style scoped>\n",
       "    .dataframe tbody tr th:only-of-type {\n",
       "        vertical-align: middle;\n",
       "    }\n",
       "\n",
       "    .dataframe tbody tr th {\n",
       "        vertical-align: top;\n",
       "    }\n",
       "\n",
       "    .dataframe thead th {\n",
       "        text-align: right;\n",
       "    }\n",
       "</style>\n",
       "<table border=\"1\" class=\"dataframe\">\n",
       "  <thead>\n",
       "    <tr style=\"text-align: right;\">\n",
       "      <th></th>\n",
       "      <th>LULU</th>\n",
       "      <th>JPM</th>\n",
       "      <th>NKE</th>\n",
       "      <th>XOM</th>\n",
       "      <th>TMUS</th>\n",
       "      <th>PFE</th>\n",
       "      <th>AZN</th>\n",
       "      <th>GLD</th>\n",
       "      <th>CVX</th>\n",
       "      <th>HSBC</th>\n",
       "      <th>K</th>\n",
       "      <th>WMT</th>\n",
       "      <th>HD</th>\n",
       "      <th>F</th>\n",
       "      <th>AAPL</th>\n",
       "    </tr>\n",
       "  </thead>\n",
       "  <tbody>\n",
       "    <tr>\n",
       "      <th>w</th>\n",
       "      <td>0.130016</td>\n",
       "      <td>0.0</td>\n",
       "      <td>0.0</td>\n",
       "      <td>0.0</td>\n",
       "      <td>0.331066</td>\n",
       "      <td>0.0</td>\n",
       "      <td>0.0</td>\n",
       "      <td>0.0</td>\n",
       "      <td>0.0</td>\n",
       "      <td>0.0</td>\n",
       "      <td>0.0</td>\n",
       "      <td>0.0</td>\n",
       "      <td>0.235438</td>\n",
       "      <td>0.234966</td>\n",
       "      <td>0.068513</td>\n",
       "    </tr>\n",
       "  </tbody>\n",
       "</table>\n",
       "</div>"
      ],
      "text/plain": [
       "       LULU  JPM  NKE  XOM      TMUS  PFE  AZN  GLD  CVX  HSBC    K  WMT  \\\n",
       "w  0.130016  0.0  0.0  0.0  0.331066  0.0  0.0  0.0  0.0   0.0  0.0  0.0   \n",
       "\n",
       "         HD         F      AAPL  \n",
       "w  0.235438  0.234966  0.068513  "
      ]
     },
     "metadata": {},
     "output_type": "display_data"
    },
    {
     "data": {
      "text/markdown": [
       "### Simulación 85"
      ],
      "text/plain": [
       "<IPython.core.display.Markdown object>"
      ]
     },
     "metadata": {},
     "output_type": "display_data"
    },
    {
     "data": {
      "text/html": [
       "<div>\n",
       "<style scoped>\n",
       "    .dataframe tbody tr th:only-of-type {\n",
       "        vertical-align: middle;\n",
       "    }\n",
       "\n",
       "    .dataframe tbody tr th {\n",
       "        vertical-align: top;\n",
       "    }\n",
       "\n",
       "    .dataframe thead th {\n",
       "        text-align: right;\n",
       "    }\n",
       "</style>\n",
       "<table border=\"1\" class=\"dataframe\">\n",
       "  <thead>\n",
       "    <tr style=\"text-align: right;\">\n",
       "      <th></th>\n",
       "      <th>AXP</th>\n",
       "      <th>V</th>\n",
       "      <th>NKE</th>\n",
       "      <th>CVX</th>\n",
       "      <th>NFLX</th>\n",
       "      <th>F</th>\n",
       "      <th>HSY</th>\n",
       "      <th>WBD</th>\n",
       "      <th>SBUX</th>\n",
       "      <th>BLK</th>\n",
       "    </tr>\n",
       "  </thead>\n",
       "  <tbody>\n",
       "    <tr>\n",
       "      <th>w</th>\n",
       "      <td>0.414524</td>\n",
       "      <td>0.175593</td>\n",
       "      <td>0.0</td>\n",
       "      <td>0.0</td>\n",
       "      <td>0.0</td>\n",
       "      <td>0.409883</td>\n",
       "      <td>0.0</td>\n",
       "      <td>0.0</td>\n",
       "      <td>0.0</td>\n",
       "      <td>0.0</td>\n",
       "    </tr>\n",
       "  </tbody>\n",
       "</table>\n",
       "</div>"
      ],
      "text/plain": [
       "        AXP         V  NKE  CVX  NFLX         F  HSY  WBD  SBUX  BLK\n",
       "w  0.414524  0.175593  0.0  0.0   0.0  0.409883  0.0  0.0   0.0  0.0"
      ]
     },
     "metadata": {},
     "output_type": "display_data"
    },
    {
     "data": {
      "text/markdown": [
       "### Simulación 86"
      ],
      "text/plain": [
       "<IPython.core.display.Markdown object>"
      ]
     },
     "metadata": {},
     "output_type": "display_data"
    },
    {
     "data": {
      "text/html": [
       "<div>\n",
       "<style scoped>\n",
       "    .dataframe tbody tr th:only-of-type {\n",
       "        vertical-align: middle;\n",
       "    }\n",
       "\n",
       "    .dataframe tbody tr th {\n",
       "        vertical-align: top;\n",
       "    }\n",
       "\n",
       "    .dataframe thead th {\n",
       "        text-align: right;\n",
       "    }\n",
       "</style>\n",
       "<table border=\"1\" class=\"dataframe\">\n",
       "  <thead>\n",
       "    <tr style=\"text-align: right;\">\n",
       "      <th></th>\n",
       "      <th>CMG</th>\n",
       "      <th>AAPL</th>\n",
       "      <th>MCD</th>\n",
       "      <th>FDX</th>\n",
       "      <th>MSFT</th>\n",
       "    </tr>\n",
       "  </thead>\n",
       "  <tbody>\n",
       "    <tr>\n",
       "      <th>w</th>\n",
       "      <td>0.448237</td>\n",
       "      <td>0.458035</td>\n",
       "      <td>0.093728</td>\n",
       "      <td>0.0</td>\n",
       "      <td>0.0</td>\n",
       "    </tr>\n",
       "  </tbody>\n",
       "</table>\n",
       "</div>"
      ],
      "text/plain": [
       "        CMG      AAPL       MCD  FDX  MSFT\n",
       "w  0.448237  0.458035  0.093728  0.0   0.0"
      ]
     },
     "metadata": {},
     "output_type": "display_data"
    },
    {
     "data": {
      "text/markdown": [
       "### Simulación 87"
      ],
      "text/plain": [
       "<IPython.core.display.Markdown object>"
      ]
     },
     "metadata": {},
     "output_type": "display_data"
    },
    {
     "data": {
      "text/html": [
       "<div>\n",
       "<style scoped>\n",
       "    .dataframe tbody tr th:only-of-type {\n",
       "        vertical-align: middle;\n",
       "    }\n",
       "\n",
       "    .dataframe tbody tr th {\n",
       "        vertical-align: top;\n",
       "    }\n",
       "\n",
       "    .dataframe thead th {\n",
       "        text-align: right;\n",
       "    }\n",
       "</style>\n",
       "<table border=\"1\" class=\"dataframe\">\n",
       "  <thead>\n",
       "    <tr style=\"text-align: right;\">\n",
       "      <th></th>\n",
       "      <th>MSFT</th>\n",
       "      <th>V</th>\n",
       "      <th>CVX</th>\n",
       "      <th>LULU</th>\n",
       "      <th>JPM</th>\n",
       "      <th>SPOT</th>\n",
       "      <th>ADBE</th>\n",
       "      <th>GE</th>\n",
       "      <th>MA</th>\n",
       "      <th>COST</th>\n",
       "      <th>DPZ</th>\n",
       "      <th>AMZN</th>\n",
       "    </tr>\n",
       "  </thead>\n",
       "  <tbody>\n",
       "    <tr>\n",
       "      <th>w</th>\n",
       "      <td>0.0</td>\n",
       "      <td>0.0</td>\n",
       "      <td>0.683419</td>\n",
       "      <td>0.0</td>\n",
       "      <td>0.0</td>\n",
       "      <td>0.196252</td>\n",
       "      <td>0.0</td>\n",
       "      <td>0.0</td>\n",
       "      <td>0.0</td>\n",
       "      <td>0.0</td>\n",
       "      <td>0.120328</td>\n",
       "      <td>0.0</td>\n",
       "    </tr>\n",
       "  </tbody>\n",
       "</table>\n",
       "</div>"
      ],
      "text/plain": [
       "   MSFT    V       CVX  LULU  JPM      SPOT  ADBE   GE   MA  COST       DPZ  \\\n",
       "w   0.0  0.0  0.683419   0.0  0.0  0.196252   0.0  0.0  0.0   0.0  0.120328   \n",
       "\n",
       "   AMZN  \n",
       "w   0.0  "
      ]
     },
     "metadata": {},
     "output_type": "display_data"
    },
    {
     "data": {
      "text/markdown": [
       "### Simulación 88"
      ],
      "text/plain": [
       "<IPython.core.display.Markdown object>"
      ]
     },
     "metadata": {},
     "output_type": "display_data"
    },
    {
     "data": {
      "text/html": [
       "<div>\n",
       "<style scoped>\n",
       "    .dataframe tbody tr th:only-of-type {\n",
       "        vertical-align: middle;\n",
       "    }\n",
       "\n",
       "    .dataframe tbody tr th {\n",
       "        vertical-align: top;\n",
       "    }\n",
       "\n",
       "    .dataframe thead th {\n",
       "        text-align: right;\n",
       "    }\n",
       "</style>\n",
       "<table border=\"1\" class=\"dataframe\">\n",
       "  <thead>\n",
       "    <tr style=\"text-align: right;\">\n",
       "      <th></th>\n",
       "      <th>BLK</th>\n",
       "      <th>GLD</th>\n",
       "      <th>CP</th>\n",
       "      <th>MRNA</th>\n",
       "      <th>KO</th>\n",
       "      <th>JPM</th>\n",
       "      <th>CVX</th>\n",
       "      <th>SBUX</th>\n",
       "      <th>UBER</th>\n",
       "      <th>V</th>\n",
       "      <th>DPZ</th>\n",
       "    </tr>\n",
       "  </thead>\n",
       "  <tbody>\n",
       "    <tr>\n",
       "      <th>w</th>\n",
       "      <td>0.058375</td>\n",
       "      <td>0.0</td>\n",
       "      <td>0.0</td>\n",
       "      <td>0.047925</td>\n",
       "      <td>0.544303</td>\n",
       "      <td>0.166093</td>\n",
       "      <td>0.0</td>\n",
       "      <td>0.10814</td>\n",
       "      <td>0.0</td>\n",
       "      <td>0.075163</td>\n",
       "      <td>0.0</td>\n",
       "    </tr>\n",
       "  </tbody>\n",
       "</table>\n",
       "</div>"
      ],
      "text/plain": [
       "        BLK  GLD   CP      MRNA        KO       JPM  CVX     SBUX  UBER  \\\n",
       "w  0.058375  0.0  0.0  0.047925  0.544303  0.166093  0.0  0.10814   0.0   \n",
       "\n",
       "          V  DPZ  \n",
       "w  0.075163  0.0  "
      ]
     },
     "metadata": {},
     "output_type": "display_data"
    },
    {
     "data": {
      "text/markdown": [
       "### Simulación 89"
      ],
      "text/plain": [
       "<IPython.core.display.Markdown object>"
      ]
     },
     "metadata": {},
     "output_type": "display_data"
    },
    {
     "data": {
      "text/html": [
       "<div>\n",
       "<style scoped>\n",
       "    .dataframe tbody tr th:only-of-type {\n",
       "        vertical-align: middle;\n",
       "    }\n",
       "\n",
       "    .dataframe tbody tr th {\n",
       "        vertical-align: top;\n",
       "    }\n",
       "\n",
       "    .dataframe thead th {\n",
       "        text-align: right;\n",
       "    }\n",
       "</style>\n",
       "<table border=\"1\" class=\"dataframe\">\n",
       "  <thead>\n",
       "    <tr style=\"text-align: right;\">\n",
       "      <th></th>\n",
       "      <th>MSFT</th>\n",
       "      <th>AAPL</th>\n",
       "      <th>F</th>\n",
       "      <th>GOOGL</th>\n",
       "      <th>K</th>\n",
       "      <th>LULU</th>\n",
       "      <th>DIS</th>\n",
       "      <th>MRNA</th>\n",
       "      <th>HSBC</th>\n",
       "      <th>PG</th>\n",
       "      <th>GLD</th>\n",
       "      <th>HP</th>\n",
       "      <th>VZ</th>\n",
       "    </tr>\n",
       "  </thead>\n",
       "  <tbody>\n",
       "    <tr>\n",
       "      <th>w</th>\n",
       "      <td>0.244579</td>\n",
       "      <td>0.0</td>\n",
       "      <td>0.0</td>\n",
       "      <td>0.448473</td>\n",
       "      <td>0.012358</td>\n",
       "      <td>0.0</td>\n",
       "      <td>0.037594</td>\n",
       "      <td>0.089768</td>\n",
       "      <td>0.0</td>\n",
       "      <td>0.087566</td>\n",
       "      <td>0.079662</td>\n",
       "      <td>0.0</td>\n",
       "      <td>0.0</td>\n",
       "    </tr>\n",
       "  </tbody>\n",
       "</table>\n",
       "</div>"
      ],
      "text/plain": [
       "       MSFT  AAPL    F     GOOGL         K  LULU       DIS      MRNA  HSBC  \\\n",
       "w  0.244579   0.0  0.0  0.448473  0.012358   0.0  0.037594  0.089768   0.0   \n",
       "\n",
       "         PG       GLD   HP   VZ  \n",
       "w  0.087566  0.079662  0.0  0.0  "
      ]
     },
     "metadata": {},
     "output_type": "display_data"
    },
    {
     "data": {
      "text/markdown": [
       "### Simulación 90"
      ],
      "text/plain": [
       "<IPython.core.display.Markdown object>"
      ]
     },
     "metadata": {},
     "output_type": "display_data"
    },
    {
     "data": {
      "text/html": [
       "<div>\n",
       "<style scoped>\n",
       "    .dataframe tbody tr th:only-of-type {\n",
       "        vertical-align: middle;\n",
       "    }\n",
       "\n",
       "    .dataframe tbody tr th {\n",
       "        vertical-align: top;\n",
       "    }\n",
       "\n",
       "    .dataframe thead th {\n",
       "        text-align: right;\n",
       "    }\n",
       "</style>\n",
       "<table border=\"1\" class=\"dataframe\">\n",
       "  <thead>\n",
       "    <tr style=\"text-align: right;\">\n",
       "      <th></th>\n",
       "      <th>XOM</th>\n",
       "      <th>BX</th>\n",
       "      <th>UBER</th>\n",
       "      <th>K</th>\n",
       "      <th>JPM</th>\n",
       "      <th>META</th>\n",
       "      <th>HSBC</th>\n",
       "      <th>MA</th>\n",
       "      <th>RL</th>\n",
       "      <th>AXP</th>\n",
       "      <th>AZN</th>\n",
       "      <th>HSY</th>\n",
       "      <th>HP</th>\n",
       "    </tr>\n",
       "  </thead>\n",
       "  <tbody>\n",
       "    <tr>\n",
       "      <th>w</th>\n",
       "      <td>0.0</td>\n",
       "      <td>0.0</td>\n",
       "      <td>0.389255</td>\n",
       "      <td>0.0</td>\n",
       "      <td>0.0</td>\n",
       "      <td>0.0</td>\n",
       "      <td>0.0</td>\n",
       "      <td>0.213419</td>\n",
       "      <td>0.0</td>\n",
       "      <td>0.145538</td>\n",
       "      <td>0.0</td>\n",
       "      <td>0.071393</td>\n",
       "      <td>0.180395</td>\n",
       "    </tr>\n",
       "  </tbody>\n",
       "</table>\n",
       "</div>"
      ],
      "text/plain": [
       "   XOM   BX      UBER    K  JPM  META  HSBC        MA   RL       AXP  AZN  \\\n",
       "w  0.0  0.0  0.389255  0.0  0.0   0.0   0.0  0.213419  0.0  0.145538  0.0   \n",
       "\n",
       "        HSY        HP  \n",
       "w  0.071393  0.180395  "
      ]
     },
     "metadata": {},
     "output_type": "display_data"
    },
    {
     "data": {
      "text/markdown": [
       "### Simulación 91"
      ],
      "text/plain": [
       "<IPython.core.display.Markdown object>"
      ]
     },
     "metadata": {},
     "output_type": "display_data"
    },
    {
     "data": {
      "text/html": [
       "<div>\n",
       "<style scoped>\n",
       "    .dataframe tbody tr th:only-of-type {\n",
       "        vertical-align: middle;\n",
       "    }\n",
       "\n",
       "    .dataframe tbody tr th {\n",
       "        vertical-align: top;\n",
       "    }\n",
       "\n",
       "    .dataframe thead th {\n",
       "        text-align: right;\n",
       "    }\n",
       "</style>\n",
       "<table border=\"1\" class=\"dataframe\">\n",
       "  <thead>\n",
       "    <tr style=\"text-align: right;\">\n",
       "      <th></th>\n",
       "      <th>RL</th>\n",
       "      <th>META</th>\n",
       "      <th>BLK</th>\n",
       "      <th>GE</th>\n",
       "      <th>JNJ</th>\n",
       "      <th>HSBC</th>\n",
       "      <th>V</th>\n",
       "      <th>DPZ</th>\n",
       "      <th>AAPL</th>\n",
       "      <th>BABA</th>\n",
       "      <th>MA</th>\n",
       "    </tr>\n",
       "  </thead>\n",
       "  <tbody>\n",
       "    <tr>\n",
       "      <th>w</th>\n",
       "      <td>0.461112</td>\n",
       "      <td>0.0</td>\n",
       "      <td>0.0</td>\n",
       "      <td>0.094828</td>\n",
       "      <td>0.340693</td>\n",
       "      <td>0.0</td>\n",
       "      <td>0.0</td>\n",
       "      <td>0.0</td>\n",
       "      <td>0.103366</td>\n",
       "      <td>0.0</td>\n",
       "      <td>0.0</td>\n",
       "    </tr>\n",
       "  </tbody>\n",
       "</table>\n",
       "</div>"
      ],
      "text/plain": [
       "         RL  META  BLK        GE       JNJ  HSBC    V  DPZ      AAPL  BABA  \\\n",
       "w  0.461112   0.0  0.0  0.094828  0.340693   0.0  0.0  0.0  0.103366   0.0   \n",
       "\n",
       "    MA  \n",
       "w  0.0  "
      ]
     },
     "metadata": {},
     "output_type": "display_data"
    },
    {
     "data": {
      "text/markdown": [
       "### Simulación 92"
      ],
      "text/plain": [
       "<IPython.core.display.Markdown object>"
      ]
     },
     "metadata": {},
     "output_type": "display_data"
    },
    {
     "data": {
      "text/html": [
       "<div>\n",
       "<style scoped>\n",
       "    .dataframe tbody tr th:only-of-type {\n",
       "        vertical-align: middle;\n",
       "    }\n",
       "\n",
       "    .dataframe tbody tr th {\n",
       "        vertical-align: top;\n",
       "    }\n",
       "\n",
       "    .dataframe thead th {\n",
       "        text-align: right;\n",
       "    }\n",
       "</style>\n",
       "<table border=\"1\" class=\"dataframe\">\n",
       "  <thead>\n",
       "    <tr style=\"text-align: right;\">\n",
       "      <th></th>\n",
       "      <th>BLK</th>\n",
       "      <th>MRNA</th>\n",
       "      <th>CSCO</th>\n",
       "      <th>TMUS</th>\n",
       "      <th>HSBC</th>\n",
       "      <th>AMZN</th>\n",
       "      <th>XOM</th>\n",
       "      <th>SBUX</th>\n",
       "      <th>PYPL</th>\n",
       "      <th>GE</th>\n",
       "      <th>NFLX</th>\n",
       "      <th>AZN</th>\n",
       "    </tr>\n",
       "  </thead>\n",
       "  <tbody>\n",
       "    <tr>\n",
       "      <th>w</th>\n",
       "      <td>0.0</td>\n",
       "      <td>0.0</td>\n",
       "      <td>0.0</td>\n",
       "      <td>0.0</td>\n",
       "      <td>0.208255</td>\n",
       "      <td>0.0</td>\n",
       "      <td>0.126203</td>\n",
       "      <td>0.139726</td>\n",
       "      <td>0.0</td>\n",
       "      <td>0.0</td>\n",
       "      <td>0.444846</td>\n",
       "      <td>0.080969</td>\n",
       "    </tr>\n",
       "  </tbody>\n",
       "</table>\n",
       "</div>"
      ],
      "text/plain": [
       "   BLK  MRNA  CSCO  TMUS      HSBC  AMZN       XOM      SBUX  PYPL   GE  \\\n",
       "w  0.0   0.0   0.0   0.0  0.208255   0.0  0.126203  0.139726   0.0  0.0   \n",
       "\n",
       "       NFLX       AZN  \n",
       "w  0.444846  0.080969  "
      ]
     },
     "metadata": {},
     "output_type": "display_data"
    },
    {
     "data": {
      "text/markdown": [
       "### Simulación 93"
      ],
      "text/plain": [
       "<IPython.core.display.Markdown object>"
      ]
     },
     "metadata": {},
     "output_type": "display_data"
    },
    {
     "data": {
      "text/html": [
       "<div>\n",
       "<style scoped>\n",
       "    .dataframe tbody tr th:only-of-type {\n",
       "        vertical-align: middle;\n",
       "    }\n",
       "\n",
       "    .dataframe tbody tr th {\n",
       "        vertical-align: top;\n",
       "    }\n",
       "\n",
       "    .dataframe thead th {\n",
       "        text-align: right;\n",
       "    }\n",
       "</style>\n",
       "<table border=\"1\" class=\"dataframe\">\n",
       "  <thead>\n",
       "    <tr style=\"text-align: right;\">\n",
       "      <th></th>\n",
       "      <th>COST</th>\n",
       "      <th>XOM</th>\n",
       "      <th>GOOGL</th>\n",
       "      <th>CSCO</th>\n",
       "      <th>JNJ</th>\n",
       "      <th>PEP</th>\n",
       "      <th>BX</th>\n",
       "      <th>CVX</th>\n",
       "      <th>NKE</th>\n",
       "      <th>UBER</th>\n",
       "    </tr>\n",
       "  </thead>\n",
       "  <tbody>\n",
       "    <tr>\n",
       "      <th>w</th>\n",
       "      <td>0.143739</td>\n",
       "      <td>0.676284</td>\n",
       "      <td>0.0</td>\n",
       "      <td>0.0</td>\n",
       "      <td>0.0</td>\n",
       "      <td>0.0</td>\n",
       "      <td>0.0</td>\n",
       "      <td>0.0</td>\n",
       "      <td>0.049058</td>\n",
       "      <td>0.130919</td>\n",
       "    </tr>\n",
       "  </tbody>\n",
       "</table>\n",
       "</div>"
      ],
      "text/plain": [
       "       COST       XOM  GOOGL  CSCO  JNJ  PEP   BX  CVX       NKE      UBER\n",
       "w  0.143739  0.676284    0.0   0.0  0.0  0.0  0.0  0.0  0.049058  0.130919"
      ]
     },
     "metadata": {},
     "output_type": "display_data"
    },
    {
     "data": {
      "text/markdown": [
       "### Simulación 94"
      ],
      "text/plain": [
       "<IPython.core.display.Markdown object>"
      ]
     },
     "metadata": {},
     "output_type": "display_data"
    },
    {
     "data": {
      "text/html": [
       "<div>\n",
       "<style scoped>\n",
       "    .dataframe tbody tr th:only-of-type {\n",
       "        vertical-align: middle;\n",
       "    }\n",
       "\n",
       "    .dataframe tbody tr th {\n",
       "        vertical-align: top;\n",
       "    }\n",
       "\n",
       "    .dataframe thead th {\n",
       "        text-align: right;\n",
       "    }\n",
       "</style>\n",
       "<table border=\"1\" class=\"dataframe\">\n",
       "  <thead>\n",
       "    <tr style=\"text-align: right;\">\n",
       "      <th></th>\n",
       "      <th>PG</th>\n",
       "      <th>BABA</th>\n",
       "      <th>BX</th>\n",
       "      <th>XOM</th>\n",
       "      <th>UBER</th>\n",
       "      <th>FDX</th>\n",
       "      <th>HP</th>\n",
       "      <th>PEP</th>\n",
       "      <th>CMG</th>\n",
       "      <th>AAPL</th>\n",
       "      <th>LULU</th>\n",
       "      <th>ADBE</th>\n",
       "      <th>JPM</th>\n",
       "    </tr>\n",
       "  </thead>\n",
       "  <tbody>\n",
       "    <tr>\n",
       "      <th>w</th>\n",
       "      <td>0.236738</td>\n",
       "      <td>0.0</td>\n",
       "      <td>0.0</td>\n",
       "      <td>0.263367</td>\n",
       "      <td>0.333619</td>\n",
       "      <td>0.0</td>\n",
       "      <td>0.0</td>\n",
       "      <td>0.0</td>\n",
       "      <td>0.0</td>\n",
       "      <td>0.0</td>\n",
       "      <td>0.0</td>\n",
       "      <td>0.0</td>\n",
       "      <td>0.166276</td>\n",
       "    </tr>\n",
       "  </tbody>\n",
       "</table>\n",
       "</div>"
      ],
      "text/plain": [
       "         PG  BABA   BX       XOM      UBER  FDX   HP  PEP  CMG  AAPL  LULU  \\\n",
       "w  0.236738   0.0  0.0  0.263367  0.333619  0.0  0.0  0.0  0.0   0.0   0.0   \n",
       "\n",
       "   ADBE       JPM  \n",
       "w   0.0  0.166276  "
      ]
     },
     "metadata": {},
     "output_type": "display_data"
    },
    {
     "data": {
      "text/markdown": [
       "### Simulación 95"
      ],
      "text/plain": [
       "<IPython.core.display.Markdown object>"
      ]
     },
     "metadata": {},
     "output_type": "display_data"
    },
    {
     "data": {
      "text/html": [
       "<div>\n",
       "<style scoped>\n",
       "    .dataframe tbody tr th:only-of-type {\n",
       "        vertical-align: middle;\n",
       "    }\n",
       "\n",
       "    .dataframe tbody tr th {\n",
       "        vertical-align: top;\n",
       "    }\n",
       "\n",
       "    .dataframe thead th {\n",
       "        text-align: right;\n",
       "    }\n",
       "</style>\n",
       "<table border=\"1\" class=\"dataframe\">\n",
       "  <thead>\n",
       "    <tr style=\"text-align: right;\">\n",
       "      <th></th>\n",
       "      <th>TSLA</th>\n",
       "      <th>HSBC</th>\n",
       "      <th>HD</th>\n",
       "      <th>AMZN</th>\n",
       "      <th>CP</th>\n",
       "      <th>LULU</th>\n",
       "      <th>MRNA</th>\n",
       "      <th>NFLX</th>\n",
       "      <th>JNJ</th>\n",
       "      <th>CMG</th>\n",
       "      <th>BX</th>\n",
       "      <th>HP</th>\n",
       "      <th>ADBE</th>\n",
       "      <th>BLK</th>\n",
       "      <th>XOM</th>\n",
       "    </tr>\n",
       "  </thead>\n",
       "  <tbody>\n",
       "    <tr>\n",
       "      <th>w</th>\n",
       "      <td>0.0</td>\n",
       "      <td>0.0</td>\n",
       "      <td>0.0</td>\n",
       "      <td>0.149754</td>\n",
       "      <td>0.204809</td>\n",
       "      <td>0.0</td>\n",
       "      <td>0.0</td>\n",
       "      <td>0.0</td>\n",
       "      <td>0.0</td>\n",
       "      <td>0.0</td>\n",
       "      <td>0.0</td>\n",
       "      <td>0.116093</td>\n",
       "      <td>0.040963</td>\n",
       "      <td>0.285608</td>\n",
       "      <td>0.202773</td>\n",
       "    </tr>\n",
       "  </tbody>\n",
       "</table>\n",
       "</div>"
      ],
      "text/plain": [
       "   TSLA  HSBC   HD      AMZN        CP  LULU  MRNA  NFLX  JNJ  CMG   BX  \\\n",
       "w   0.0   0.0  0.0  0.149754  0.204809   0.0   0.0   0.0  0.0  0.0  0.0   \n",
       "\n",
       "         HP      ADBE       BLK       XOM  \n",
       "w  0.116093  0.040963  0.285608  0.202773  "
      ]
     },
     "metadata": {},
     "output_type": "display_data"
    },
    {
     "data": {
      "text/markdown": [
       "### Simulación 96"
      ],
      "text/plain": [
       "<IPython.core.display.Markdown object>"
      ]
     },
     "metadata": {},
     "output_type": "display_data"
    },
    {
     "data": {
      "text/html": [
       "<div>\n",
       "<style scoped>\n",
       "    .dataframe tbody tr th:only-of-type {\n",
       "        vertical-align: middle;\n",
       "    }\n",
       "\n",
       "    .dataframe tbody tr th {\n",
       "        vertical-align: top;\n",
       "    }\n",
       "\n",
       "    .dataframe thead th {\n",
       "        text-align: right;\n",
       "    }\n",
       "</style>\n",
       "<table border=\"1\" class=\"dataframe\">\n",
       "  <thead>\n",
       "    <tr style=\"text-align: right;\">\n",
       "      <th></th>\n",
       "      <th>AAPL</th>\n",
       "      <th>META</th>\n",
       "      <th>PG</th>\n",
       "      <th>GE</th>\n",
       "      <th>MA</th>\n",
       "      <th>DPZ</th>\n",
       "      <th>ADBE</th>\n",
       "      <th>NVDA</th>\n",
       "      <th>BAC</th>\n",
       "      <th>HD</th>\n",
       "    </tr>\n",
       "  </thead>\n",
       "  <tbody>\n",
       "    <tr>\n",
       "      <th>w</th>\n",
       "      <td>0.0</td>\n",
       "      <td>0.0</td>\n",
       "      <td>0.0</td>\n",
       "      <td>0.0</td>\n",
       "      <td>0.203385</td>\n",
       "      <td>0.0</td>\n",
       "      <td>0.0</td>\n",
       "      <td>0.0</td>\n",
       "      <td>0.796615</td>\n",
       "      <td>0.0</td>\n",
       "    </tr>\n",
       "  </tbody>\n",
       "</table>\n",
       "</div>"
      ],
      "text/plain": [
       "   AAPL  META   PG   GE        MA  DPZ  ADBE  NVDA       BAC   HD\n",
       "w   0.0   0.0  0.0  0.0  0.203385  0.0   0.0   0.0  0.796615  0.0"
      ]
     },
     "metadata": {},
     "output_type": "display_data"
    },
    {
     "data": {
      "text/markdown": [
       "### Simulación 97"
      ],
      "text/plain": [
       "<IPython.core.display.Markdown object>"
      ]
     },
     "metadata": {},
     "output_type": "display_data"
    },
    {
     "data": {
      "text/html": [
       "<div>\n",
       "<style scoped>\n",
       "    .dataframe tbody tr th:only-of-type {\n",
       "        vertical-align: middle;\n",
       "    }\n",
       "\n",
       "    .dataframe tbody tr th {\n",
       "        vertical-align: top;\n",
       "    }\n",
       "\n",
       "    .dataframe thead th {\n",
       "        text-align: right;\n",
       "    }\n",
       "</style>\n",
       "<table border=\"1\" class=\"dataframe\">\n",
       "  <thead>\n",
       "    <tr style=\"text-align: right;\">\n",
       "      <th></th>\n",
       "      <th>NFLX</th>\n",
       "      <th>MSFT</th>\n",
       "      <th>BABA</th>\n",
       "      <th>NVDA</th>\n",
       "      <th>CP</th>\n",
       "      <th>COST</th>\n",
       "      <th>ADBE</th>\n",
       "      <th>HP</th>\n",
       "      <th>PFE</th>\n",
       "      <th>KO</th>\n",
       "      <th>META</th>\n",
       "      <th>PEP</th>\n",
       "      <th>AXP</th>\n",
       "    </tr>\n",
       "  </thead>\n",
       "  <tbody>\n",
       "    <tr>\n",
       "      <th>w</th>\n",
       "      <td>0.0</td>\n",
       "      <td>0.0</td>\n",
       "      <td>0.0</td>\n",
       "      <td>0.465641</td>\n",
       "      <td>0.0</td>\n",
       "      <td>0.0</td>\n",
       "      <td>0.0</td>\n",
       "      <td>0.0</td>\n",
       "      <td>0.0</td>\n",
       "      <td>0.0</td>\n",
       "      <td>0.534359</td>\n",
       "      <td>0.0</td>\n",
       "      <td>0.0</td>\n",
       "    </tr>\n",
       "  </tbody>\n",
       "</table>\n",
       "</div>"
      ],
      "text/plain": [
       "   NFLX  MSFT  BABA      NVDA   CP  COST  ADBE   HP  PFE   KO      META  PEP  \\\n",
       "w   0.0   0.0   0.0  0.465641  0.0   0.0   0.0  0.0  0.0  0.0  0.534359  0.0   \n",
       "\n",
       "   AXP  \n",
       "w  0.0  "
      ]
     },
     "metadata": {},
     "output_type": "display_data"
    },
    {
     "data": {
      "text/markdown": [
       "### Simulación 98"
      ],
      "text/plain": [
       "<IPython.core.display.Markdown object>"
      ]
     },
     "metadata": {},
     "output_type": "display_data"
    },
    {
     "data": {
      "text/html": [
       "<div>\n",
       "<style scoped>\n",
       "    .dataframe tbody tr th:only-of-type {\n",
       "        vertical-align: middle;\n",
       "    }\n",
       "\n",
       "    .dataframe tbody tr th {\n",
       "        vertical-align: top;\n",
       "    }\n",
       "\n",
       "    .dataframe thead th {\n",
       "        text-align: right;\n",
       "    }\n",
       "</style>\n",
       "<table border=\"1\" class=\"dataframe\">\n",
       "  <thead>\n",
       "    <tr style=\"text-align: right;\">\n",
       "      <th></th>\n",
       "      <th>DIS</th>\n",
       "      <th>V</th>\n",
       "      <th>FDX</th>\n",
       "      <th>BLK</th>\n",
       "      <th>NFLX</th>\n",
       "      <th>JPM</th>\n",
       "      <th>HD</th>\n",
       "      <th>GOOGL</th>\n",
       "      <th>VZ</th>\n",
       "      <th>AAPL</th>\n",
       "      <th>MRNA</th>\n",
       "      <th>RL</th>\n",
       "      <th>SBUX</th>\n",
       "    </tr>\n",
       "  </thead>\n",
       "  <tbody>\n",
       "    <tr>\n",
       "      <th>w</th>\n",
       "      <td>0.417378</td>\n",
       "      <td>0.0</td>\n",
       "      <td>0.0</td>\n",
       "      <td>0.066349</td>\n",
       "      <td>0.0</td>\n",
       "      <td>0.007457</td>\n",
       "      <td>0.108213</td>\n",
       "      <td>0.154793</td>\n",
       "      <td>0.167699</td>\n",
       "      <td>0.078111</td>\n",
       "      <td>0.0</td>\n",
       "      <td>0.0</td>\n",
       "      <td>0.0</td>\n",
       "    </tr>\n",
       "  </tbody>\n",
       "</table>\n",
       "</div>"
      ],
      "text/plain": [
       "        DIS    V  FDX       BLK  NFLX       JPM        HD     GOOGL        VZ  \\\n",
       "w  0.417378  0.0  0.0  0.066349   0.0  0.007457  0.108213  0.154793  0.167699   \n",
       "\n",
       "       AAPL  MRNA   RL  SBUX  \n",
       "w  0.078111   0.0  0.0   0.0  "
      ]
     },
     "metadata": {},
     "output_type": "display_data"
    },
    {
     "data": {
      "text/markdown": [
       "### Simulación 99"
      ],
      "text/plain": [
       "<IPython.core.display.Markdown object>"
      ]
     },
     "metadata": {},
     "output_type": "display_data"
    },
    {
     "data": {
      "text/html": [
       "<div>\n",
       "<style scoped>\n",
       "    .dataframe tbody tr th:only-of-type {\n",
       "        vertical-align: middle;\n",
       "    }\n",
       "\n",
       "    .dataframe tbody tr th {\n",
       "        vertical-align: top;\n",
       "    }\n",
       "\n",
       "    .dataframe thead th {\n",
       "        text-align: right;\n",
       "    }\n",
       "</style>\n",
       "<table border=\"1\" class=\"dataframe\">\n",
       "  <thead>\n",
       "    <tr style=\"text-align: right;\">\n",
       "      <th></th>\n",
       "      <th>UBER</th>\n",
       "      <th>F</th>\n",
       "      <th>CSCO</th>\n",
       "      <th>KO</th>\n",
       "      <th>BX</th>\n",
       "      <th>JPM</th>\n",
       "      <th>MCD</th>\n",
       "      <th>SBUX</th>\n",
       "      <th>PFE</th>\n",
       "    </tr>\n",
       "  </thead>\n",
       "  <tbody>\n",
       "    <tr>\n",
       "      <th>w</th>\n",
       "      <td>0.847048</td>\n",
       "      <td>0.0</td>\n",
       "      <td>0.0</td>\n",
       "      <td>0.0</td>\n",
       "      <td>0.0</td>\n",
       "      <td>0.0</td>\n",
       "      <td>0.0</td>\n",
       "      <td>0.0</td>\n",
       "      <td>0.152952</td>\n",
       "    </tr>\n",
       "  </tbody>\n",
       "</table>\n",
       "</div>"
      ],
      "text/plain": [
       "       UBER    F  CSCO   KO   BX  JPM  MCD  SBUX       PFE\n",
       "w  0.847048  0.0   0.0  0.0  0.0  0.0  0.0   0.0  0.152952"
      ]
     },
     "metadata": {},
     "output_type": "display_data"
    },
    {
     "data": {
      "text/markdown": [
       "### Simulación 100"
      ],
      "text/plain": [
       "<IPython.core.display.Markdown object>"
      ]
     },
     "metadata": {},
     "output_type": "display_data"
    },
    {
     "data": {
      "text/html": [
       "<div>\n",
       "<style scoped>\n",
       "    .dataframe tbody tr th:only-of-type {\n",
       "        vertical-align: middle;\n",
       "    }\n",
       "\n",
       "    .dataframe tbody tr th {\n",
       "        vertical-align: top;\n",
       "    }\n",
       "\n",
       "    .dataframe thead th {\n",
       "        text-align: right;\n",
       "    }\n",
       "</style>\n",
       "<table border=\"1\" class=\"dataframe\">\n",
       "  <thead>\n",
       "    <tr style=\"text-align: right;\">\n",
       "      <th></th>\n",
       "      <th>VZ</th>\n",
       "      <th>META</th>\n",
       "      <th>MA</th>\n",
       "      <th>HSBC</th>\n",
       "      <th>MRNA</th>\n",
       "      <th>DPZ</th>\n",
       "      <th>GOOGL</th>\n",
       "      <th>SBUX</th>\n",
       "      <th>AZN</th>\n",
       "      <th>AAPL</th>\n",
       "      <th>BAC</th>\n",
       "    </tr>\n",
       "  </thead>\n",
       "  <tbody>\n",
       "    <tr>\n",
       "      <th>w</th>\n",
       "      <td>0.537794</td>\n",
       "      <td>0.0</td>\n",
       "      <td>0.0</td>\n",
       "      <td>0.078936</td>\n",
       "      <td>0.015268</td>\n",
       "      <td>0.079505</td>\n",
       "      <td>0.0</td>\n",
       "      <td>0.122898</td>\n",
       "      <td>0.165599</td>\n",
       "      <td>0.0</td>\n",
       "      <td>0.0</td>\n",
       "    </tr>\n",
       "  </tbody>\n",
       "</table>\n",
       "</div>"
      ],
      "text/plain": [
       "         VZ  META   MA      HSBC      MRNA       DPZ  GOOGL      SBUX  \\\n",
       "w  0.537794   0.0  0.0  0.078936  0.015268  0.079505    0.0  0.122898   \n",
       "\n",
       "        AZN  AAPL  BAC  \n",
       "w  0.165599   0.0  0.0  "
      ]
     },
     "metadata": {},
     "output_type": "display_data"
    }
   ],
   "source": [
    "for i in range(n_simulations):\n",
    "    display(Markdown(f\"### Simulación {i+1}\"))\n",
    "    display(dataframes_dict[f\"Simulación {i+1}\"])"
   ]
  }
 ],
 "metadata": {
  "kernelspec": {
   "display_name": "base",
   "language": "python",
   "name": "python3"
  },
  "language_info": {
   "codemirror_mode": {
    "name": "ipython",
    "version": 3
   },
   "file_extension": ".py",
   "mimetype": "text/x-python",
   "name": "python",
   "nbconvert_exporter": "python",
   "pygments_lexer": "ipython3",
   "version": "3.12.3"
  }
 },
 "nbformat": 4,
 "nbformat_minor": 2
}
