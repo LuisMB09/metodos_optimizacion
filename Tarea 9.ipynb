{
 "cells": [
  {
   "cell_type": "markdown",
   "metadata": {},
   "source": [
    "# Tarea 9"
   ]
  },
  {
   "cell_type": "code",
   "execution_count": 1,
   "metadata": {},
   "outputs": [],
   "source": [
    "import random\n",
    "import numpy as np\n",
    "import cvxpy as cp\n",
    "import pandas as pd\n",
    "import statsmodels.api as sm\n",
    "import matplotlib.pyplot as plt\n",
    "from IPython.display import display, Markdown\n",
    "from sklearn.linear_model import LinearRegression"
   ]
  },
  {
   "cell_type": "markdown",
   "metadata": {},
   "source": [
    "## Problem 1: On matrices"
   ]
  },
  {
   "cell_type": "code",
   "execution_count": 2,
   "metadata": {},
   "outputs": [],
   "source": [
    "x = np.array([\n",
    "    [1, 1.75],\n",
    "    [1, 1.68],\n",
    "    [1, 1.82],\n",
    "    [1, 1.60],\n",
    "    [1, 1.77],\n",
    "    [1, 1.69],\n",
    "    [1, 1.73],\n",
    "    [1, 1.80],\n",
    "    [1, 1.66],\n",
    "    [1, 1.78],\n",
    "    [1, 1.74],\n",
    "    [1, 1.65],\n",
    "    [1, 1.70],\n",
    "    [1, 1.81],\n",
    "    [1, 1.67],\n",
    "    [1, 1.76],\n",
    "    [1, 1.63],\n",
    "    [1, 1.79],\n",
    "    [1, 1.71],\n",
    "    [1, 1.64]\n",
    "])\n",
    "\n",
    "y = np.array([\n",
    "    72, 65, 78, 58, 75, 64, 70, 80, 62, 76,\n",
    "    71, 60, 68, 79, 63, 74, 59, 77, 69, 61\n",
    "])"
   ]
  },
  {
   "cell_type": "markdown",
   "metadata": {},
   "source": [
    "- $ \\beta = (X^TX)^{-1}Y^TX $\n",
    "- $ c = X^TX $\n",
    "- $ d = Y^TX $\n",
    "- $ c_{inv} = (X^TX)^{-1} $\n",
    "- $ beta = c_{inv}d $"
   ]
  },
  {
   "cell_type": "markdown",
   "metadata": {},
   "source": [
    "### 1: Calcular $X^TX$"
   ]
  },
  {
   "cell_type": "code",
   "execution_count": 3,
   "metadata": {},
   "outputs": [
    {
     "data": {
      "text/plain": [
       "array([[20.    , 34.38  ],\n",
       "       [34.38  , 59.1806]])"
      ]
     },
     "execution_count": 3,
     "metadata": {},
     "output_type": "execute_result"
    }
   ],
   "source": [
    "c = np.dot(x.T, x)\n",
    "c"
   ]
  },
  {
   "cell_type": "markdown",
   "metadata": {},
   "source": [
    "### 2: Obtención de $\\sigma (X^TX)$"
   ]
  },
  {
   "cell_type": "code",
   "execution_count": 4,
   "metadata": {},
   "outputs": [
    {
     "data": {
      "text/plain": [
       "(0.020560879176876767, 79.16003912082311)"
      ]
     },
     "execution_count": 4,
     "metadata": {},
     "output_type": "execute_result"
    }
   ],
   "source": [
    "valores_propios, vectores_propio = np.linalg.eig(c)\n",
    "valores_propios[0], valores_propios[1]"
   ]
  },
  {
   "cell_type": "markdown",
   "metadata": {},
   "source": [
    "Es posible invertir la matriz $X^TX$ ya que ninguno de sus valores propios son 0."
   ]
  },
  {
   "cell_type": "markdown",
   "metadata": {},
   "source": [
    "### 3: Calcular $(X^TX)^{-1} Y^T X$"
   ]
  },
  {
   "cell_type": "code",
   "execution_count": 5,
   "metadata": {},
   "outputs": [
    {
     "name": "stdout",
     "output_type": "stream",
     "text": [
      "B0 = -117.69955763084822\n",
      "B1 = 108.63848611451255\n"
     ]
    }
   ],
   "source": [
    "c_inv = np.linalg.inv(c)\n",
    "beta = np.dot(c_inv, np.dot(x.T, y))\n",
    "for i, b in enumerate(beta):\n",
    "    print(f\"B{i} = {b}\")"
   ]
  },
  {
   "cell_type": "markdown",
   "metadata": {},
   "source": [
    "### 4: What problem one has with the $X^TX$ matrix when the matrix $X$ is not of full rank in its columns, i.e., one or more of its columns is a linear combination of other columns.\n"
   ]
  },
  {
   "cell_type": "code",
   "execution_count": null,
   "metadata": {},
   "outputs": [],
   "source": [
    "# pendiente hacer los cálculos a mano"
   ]
  },
  {
   "cell_type": "markdown",
   "metadata": {},
   "source": [
    "## Problem 2: Simple Linear Regression"
   ]
  },
  {
   "cell_type": "markdown",
   "metadata": {},
   "source": [
    "### 1: Use $\\hat{\\beta} = (X^TX)^{-1} Y^T X$, to find $\\beta = [\\beta_0,\\beta_1]^T$"
   ]
  },
  {
   "cell_type": "code",
   "execution_count": 7,
   "metadata": {},
   "outputs": [
    {
     "name": "stdout",
     "output_type": "stream",
     "text": [
      "B0 = -117.69955763084822\n",
      "B1 = 108.63848611451255\n"
     ]
    }
   ],
   "source": [
    "c_inv = np.linalg.inv(c)\n",
    "beta = np.dot(c_inv, np.dot(x.T, y))\n",
    "for i, b in enumerate(beta):\n",
    "    print(f\"B{i} = {b}\")"
   ]
  },
  {
   "cell_type": "markdown",
   "metadata": {},
   "source": [
    "### 2: Calculate the estimate $\\hat\\beta$ using CVXPY"
   ]
  },
  {
   "cell_type": "code",
   "execution_count": 8,
   "metadata": {},
   "outputs": [
    {
     "name": "stdout",
     "output_type": "stream",
     "text": [
      "\n",
      "The optimal value is 22.477144261489215\n",
      "The optimal beta is [-117.69955763  108.63848611]\n",
      "The norm of the residual is  4.741006671740635\n"
     ]
    }
   ],
   "source": [
    "# Define and solve the CVXPY problem for least squares.\n",
    "beta = cp.Variable(2)\n",
    "objective = cp.Minimize(cp.sum_squares(x @ beta - y))\n",
    "prob = cp.Problem(objective)\n",
    "prob.solve()\n",
    "\n",
    "# Print the result.\n",
    "print(\"\\nThe optimal value is\", prob.value)\n",
    "print(\"The optimal beta is\", beta.value)\n",
    "print(\"The norm of the residual is \", cp.norm(x @ beta - y, p=2).value)"
   ]
  },
  {
   "cell_type": "markdown",
   "metadata": {},
   "source": [
    "### 3: Calculate the estimate $\\hat\\beta$ using Scikit-Learn"
   ]
  },
  {
   "cell_type": "code",
   "execution_count": 9,
   "metadata": {},
   "outputs": [],
   "source": [
    "x_sklearn = np.array([\n",
    "    [1.75], [1.68], [1.82], [1.60], [1.77], [1.69], [1.73], [1.80], [1.66], [1.78],\n",
    "    [1.74], [1.65], [1.70], [1.81], [1.67], [1.76], [1.63], [1.79], [1.71], [1.64]\n",
    "])"
   ]
  },
  {
   "cell_type": "code",
   "execution_count": 10,
   "metadata": {},
   "outputs": [
    {
     "data": {
      "text/plain": [
       "(-117.69955763086746, 108.63848611452441)"
      ]
     },
     "execution_count": 10,
     "metadata": {},
     "output_type": "execute_result"
    }
   ],
   "source": [
    "X = x_sklearn\n",
    "y_sklearn = y \n",
    "\n",
    "model = LinearRegression().fit(X, y_sklearn)\n",
    "model.intercept_ ,model.coef_[0]"
   ]
  },
  {
   "cell_type": "code",
   "execution_count": 11,
   "metadata": {},
   "outputs": [
    {
     "data": {
      "text/plain": [
       "array([72.41779307, 64.81309904, 80.0224871 , 56.12202015, 74.59056279,\n",
       "       65.8994839 , 70.24502335, 77.84971738, 62.64032932, 75.67694765,\n",
       "       71.33140821, 61.55394446, 66.98586876, 78.93610224, 63.72671418,\n",
       "       73.50417793, 59.38117474, 76.76333251, 68.07225362, 60.4675596 ])"
      ]
     },
     "execution_count": 11,
     "metadata": {},
     "output_type": "execute_result"
    }
   ],
   "source": [
    "predict = model.predict(X)\n",
    "predict"
   ]
  },
  {
   "cell_type": "markdown",
   "metadata": {},
   "source": [
    "## Problem 3: Multiple linear regression"
   ]
  },
  {
   "cell_type": "code",
   "execution_count": 12,
   "metadata": {},
   "outputs": [
    {
     "data": {
      "text/html": [
       "<div>\n",
       "<style scoped>\n",
       "    .dataframe tbody tr th:only-of-type {\n",
       "        vertical-align: middle;\n",
       "    }\n",
       "\n",
       "    .dataframe tbody tr th {\n",
       "        vertical-align: top;\n",
       "    }\n",
       "\n",
       "    .dataframe thead th {\n",
       "        text-align: right;\n",
       "    }\n",
       "</style>\n",
       "<table border=\"1\" class=\"dataframe\">\n",
       "  <thead>\n",
       "    <tr style=\"text-align: right;\">\n",
       "      <th></th>\n",
       "      <th>Ones</th>\n",
       "      <th>Height</th>\n",
       "      <th>PAL</th>\n",
       "      <th>BMR</th>\n",
       "      <th>Weight</th>\n",
       "    </tr>\n",
       "  </thead>\n",
       "  <tbody>\n",
       "    <tr>\n",
       "      <th>0</th>\n",
       "      <td>1</td>\n",
       "      <td>1.75</td>\n",
       "      <td>1.6</td>\n",
       "      <td>1650</td>\n",
       "      <td>72</td>\n",
       "    </tr>\n",
       "    <tr>\n",
       "      <th>1</th>\n",
       "      <td>1</td>\n",
       "      <td>1.68</td>\n",
       "      <td>1.5</td>\n",
       "      <td>1500</td>\n",
       "      <td>65</td>\n",
       "    </tr>\n",
       "    <tr>\n",
       "      <th>2</th>\n",
       "      <td>1</td>\n",
       "      <td>1.82</td>\n",
       "      <td>1.8</td>\n",
       "      <td>1800</td>\n",
       "      <td>78</td>\n",
       "    </tr>\n",
       "    <tr>\n",
       "      <th>3</th>\n",
       "      <td>1</td>\n",
       "      <td>1.60</td>\n",
       "      <td>1.4</td>\n",
       "      <td>1400</td>\n",
       "      <td>58</td>\n",
       "    </tr>\n",
       "    <tr>\n",
       "      <th>4</th>\n",
       "      <td>1</td>\n",
       "      <td>1.77</td>\n",
       "      <td>1.7</td>\n",
       "      <td>1700</td>\n",
       "      <td>75</td>\n",
       "    </tr>\n",
       "  </tbody>\n",
       "</table>\n",
       "</div>"
      ],
      "text/plain": [
       "   Ones  Height  PAL   BMR  Weight\n",
       "0     1    1.75  1.6  1650      72\n",
       "1     1    1.68  1.5  1500      65\n",
       "2     1    1.82  1.8  1800      78\n",
       "3     1    1.60  1.4  1400      58\n",
       "4     1    1.77  1.7  1700      75"
      ]
     },
     "execution_count": 12,
     "metadata": {},
     "output_type": "execute_result"
    }
   ],
   "source": [
    "df = pd.read_excel('Tarea 9.xlsx')\n",
    "df.head()"
   ]
  },
  {
   "cell_type": "markdown",
   "metadata": {},
   "source": [
    "### 1: Direct formula"
   ]
  },
  {
   "cell_type": "code",
   "execution_count": 13,
   "metadata": {},
   "outputs": [],
   "source": [
    "x_multi = df.iloc[:, :4]\n",
    "y_multi = df['Weight']"
   ]
  },
  {
   "cell_type": "code",
   "execution_count": 14,
   "metadata": {},
   "outputs": [
    {
     "name": "stdout",
     "output_type": "stream",
     "text": [
      "B0 = -57.24022393900668\n",
      "B1 = 46.00789572193753\n",
      "B2 = -3.9696423101995606\n",
      "B3 = 0.03335466085849248\n"
     ]
    }
   ],
   "source": [
    "c = np.dot(x_multi.T, x_multi)\n",
    "c_inv = np.linalg.inv(c)\n",
    "beta = np.dot(c_inv, np.dot(x_multi.T, y_multi))\n",
    "for i, b in enumerate(beta):\n",
    "    print(f\"B{i} = {b}\")"
   ]
  },
  {
   "cell_type": "markdown",
   "metadata": {},
   "source": [
    "### 2: Using CVXPY"
   ]
  },
  {
   "cell_type": "code",
   "execution_count": 15,
   "metadata": {},
   "outputs": [],
   "source": [
    "# Pendiente"
   ]
  },
  {
   "cell_type": "markdown",
   "metadata": {},
   "source": [
    "### 3: Using Scikit-Learn"
   ]
  },
  {
   "cell_type": "code",
   "execution_count": 16,
   "metadata": {},
   "outputs": [],
   "source": [
    "x_multi_sk = df.iloc[:, 1:4]\n",
    "y_multi_sk = df['Weight']"
   ]
  },
  {
   "cell_type": "code",
   "execution_count": 17,
   "metadata": {},
   "outputs": [
    {
     "data": {
      "text/plain": [
       "(-57.24022393900688,\n",
       " 46.00789572201302,\n",
       " -3.9696423101795104,\n",
       " 0.03335466085831953)"
      ]
     },
     "execution_count": 17,
     "metadata": {},
     "output_type": "execute_result"
    }
   ],
   "source": [
    "X = x_multi_sk\n",
    "y_sklearn = y_multi_sk \n",
    "\n",
    "model = LinearRegression().fit(X, y_sklearn)\n",
    "model.intercept_ ,model.coef_[0], model.coef_[1], model.coef_[2]"
   ]
  },
  {
   "cell_type": "code",
   "execution_count": 18,
   "metadata": {},
   "outputs": [
    {
     "name": "stdout",
     "output_type": "stream",
     "text": [
      "                            OLS Regression Results                            \n",
      "==============================================================================\n",
      "Dep. Variable:                 Weight   R-squared:                       0.987\n",
      "Model:                            OLS   Adj. R-squared:                  0.984\n",
      "Method:                 Least Squares   F-statistic:                     401.0\n",
      "Date:                Sun, 10 Nov 2024   Prob (F-statistic):           2.93e-15\n",
      "Time:                        10:57:00   Log-Likelihood:                -23.996\n",
      "No. Observations:                  20   AIC:                             55.99\n",
      "Df Residuals:                      16   BIC:                             59.97\n",
      "Df Model:                           3                                         \n",
      "Covariance Type:            nonrobust                                         \n",
      "==============================================================================\n",
      "                 coef    std err          t      P>|t|      [0.025      0.975]\n",
      "------------------------------------------------------------------------------\n",
      "const        -57.2402     18.374     -3.115      0.007     -96.192     -18.288\n",
      "Height        46.0079     18.472      2.491      0.024       6.850      85.166\n",
      "PAL           -3.9696      5.186     -0.766      0.455     -14.963       7.023\n",
      "BMR            0.0334      0.011      2.977      0.009       0.010       0.057\n",
      "==============================================================================\n",
      "Omnibus:                        3.509   Durbin-Watson:                   2.639\n",
      "Prob(Omnibus):                  0.173   Jarque-Bera (JB):                2.345\n",
      "Skew:                          -0.839   Prob(JB):                        0.310\n",
      "Kurtosis:                       2.999   Cond. No.                     2.09e+05\n",
      "==============================================================================\n",
      "\n",
      "Notes:\n",
      "[1] Standard Errors assume that the covariance matrix of the errors is correctly specified.\n",
      "[2] The condition number is large, 2.09e+05. This might indicate that there are\n",
      "strong multicollinearity or other numerical problems.\n"
     ]
    }
   ],
   "source": [
    "# Add a constant to the model (intercept)\n",
    "X_ols = sm.add_constant(x_multi_sk)\n",
    "\n",
    "# Fit the OLS model\n",
    "model_ols = sm.OLS(y_multi_sk, X_ols).fit()\n",
    "\n",
    "# Print the summary of the regression\n",
    "print(model_ols.summary())"
   ]
  },
  {
   "cell_type": "markdown",
   "metadata": {},
   "source": [
    "## Problem 4_ Polynomial Regression"
   ]
  }
 ],
 "metadata": {
  "kernelspec": {
   "display_name": "base",
   "language": "python",
   "name": "python3"
  },
  "language_info": {
   "codemirror_mode": {
    "name": "ipython",
    "version": 3
   },
   "file_extension": ".py",
   "mimetype": "text/x-python",
   "name": "python",
   "nbconvert_exporter": "python",
   "pygments_lexer": "ipython3",
   "version": "3.12.3"
  }
 },
 "nbformat": 4,
 "nbformat_minor": 2
}
